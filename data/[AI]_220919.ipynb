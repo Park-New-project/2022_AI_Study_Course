{
  "nbformat": 4,
  "nbformat_minor": 0,
  "metadata": {
    "colab": {
      "provenance": [],
      "collapsed_sections": [],
      "authorship_tag": "ABX9TyOaJ6xmgPa4GSCP+Y2uM5Hh",
      "include_colab_link": true
    },
    "kernelspec": {
      "name": "python3",
      "display_name": "Python 3"
    },
    "language_info": {
      "name": "python"
    }
  },
  "cells": [
    {
      "cell_type": "markdown",
      "metadata": {
        "id": "view-in-github",
        "colab_type": "text"
      },
      "source": [
        "<a href=\"https://colab.research.google.com/github/Park-New-project/TIL/blob/main/data/%5BAI%5D_220919.ipynb\" target=\"_parent\"><img src=\"https://colab.research.google.com/assets/colab-badge.svg\" alt=\"Open In Colab\"/></a>"
      ]
    },
    {
      "cell_type": "markdown",
      "source": [
        "# Python \n",
        "- 파이썬 문법\n",
        "- 파이썬 실습\n",
        "\n",
        "# 데이터 분석\n",
        "- Web 스크레이핑\n",
        "- 파일 (Open API)\n",
        "- 시각화\n",
        "\n",
        "# AI\n",
        "- ML 알고리즘\n",
        "- DL 인공신경망 (라이브러리)"
      ],
      "metadata": {
        "id": "SxL02X_UZZlh"
      }
    },
    {
      "cell_type": "markdown",
      "source": [
        "# 컴퓨터 \n",
        "- 하드웨어(장치) + 소프트웨어(프로그램)\n",
        "\n",
        "# 소프트웨어 / 프로그램\n",
        "- 작업의 진행 순서를 나열 \n",
        "- 명령어를 순서대로 나열\n",
        "\n",
        "# 소프트웨어 종류\n",
        "- 시스템 소프트웨어\n",
        "- 응용 소프트웨어\n",
        "\n",
        "# 프로그래밍 언어\n",
        "- 프로그램 작성에 사용하는 언어\n",
        "## 기계어\n",
        "- 0과 1의 조합\n",
        "## 어셈블리어\n",
        "- 어셈블러 통해 기계어로 번역하다.\n",
        "## 고급언어\n",
        "- 인간이 사용하는 언어와 비슷하다.\n",
        "\n",
        "# 고급언어\n",
        "- 기계어로 번역하여 실행\n",
        "## 컴파얼러 언어\n",
        "- 한꺼번에 번역\n",
        "- 장점 : 실행시간이 빠르다.\n",
        "- 단점 : 부분 수정도 전체 다시 번역.\n",
        "## 인터프리터 언어\n",
        "-. 명령어 단위로 한행씩\n",
        "- 장점 : 상대적으로 쉽다.\n",
        "- 단점 : 실행시간이 늦다.\n"
      ],
      "metadata": {
        "id": "HaKmDVrSZZCx"
      }
    },
    {
      "cell_type": "markdown",
      "source": [
        "# 파이썬\n",
        "- 쉽고 생산성이 뛰어나고 라이브러리가 풍부하다.\n",
        "\n",
        "# 응용분야 \n",
        "- Numpy, Pandas, Matplotlib, SciPy\n",
        "- Tensorflow, Keras\n",
        "- Django, Flask\n",
        "- PyGame\n"
      ],
      "metadata": {
        "id": "ofSUXoN2a8gZ"
      }
    },
    {
      "cell_type": "markdown",
      "source": [
        "# 아나콘다 설치\n",
        "- http://repo.anaconda.com/archive\n",
        "### 파이썬 자습서\n",
        "- https://docs.python.org/ko/3/tutorial/index.html\n",
        "### 예제로 배우는 파이썬 프로그래밍\n",
        "- http://pythonstudy.xyz/Python/Basics\n",
        "### 점프 투 파이썬\n",
        "- https://wikidocs.net/book/1"
      ],
      "metadata": {
        "id": "IzMPoQKfc-NZ"
      }
    },
    {
      "cell_type": "code",
      "source": [
        "100"
      ],
      "metadata": {
        "colab": {
          "base_uri": "https://localhost:8080/"
        },
        "id": "bAuGevmFaaHj",
        "outputId": "fc471616-519f-4349-bf94-9133cde3d4de"
      },
      "execution_count": null,
      "outputs": [
        {
          "output_type": "execute_result",
          "data": {
            "text/plain": [
              "100"
            ]
          },
          "metadata": {},
          "execution_count": 3
        }
      ]
    },
    {
      "cell_type": "code",
      "source": [
        "\"안녕하세요\""
      ],
      "metadata": {
        "colab": {
          "base_uri": "https://localhost:8080/",
          "height": 35
        },
        "id": "YGjAtKC8eR9-",
        "outputId": "7bc977fc-d269-467c-a905-ad24bd679378"
      },
      "execution_count": null,
      "outputs": [
        {
          "output_type": "execute_result",
          "data": {
            "text/plain": [
              "'안녕하세요'"
            ],
            "application/vnd.google.colaboratory.intrinsic+json": {
              "type": "string"
            }
          },
          "metadata": {},
          "execution_count": 5
        }
      ]
    },
    {
      "cell_type": "code",
      "source": [
        "100\n",
        "\"hello\" # 마지막만 확인"
      ],
      "metadata": {
        "colab": {
          "base_uri": "https://localhost:8080/",
          "height": 35
        },
        "id": "OMzasOf0eVWD",
        "outputId": "b4ec8d3f-07fc-47a9-fe56-de791dcf8fd8"
      },
      "execution_count": null,
      "outputs": [
        {
          "output_type": "execute_result",
          "data": {
            "text/plain": [
              "'hello'"
            ],
            "application/vnd.google.colaboratory.intrinsic+json": {
              "type": "string"
            }
          },
          "metadata": {},
          "execution_count": 7
        }
      ]
    },
    {
      "cell_type": "markdown",
      "source": [
        "# 연산자\n",
        "- 더하기 +\n",
        "- 빼기 -\n",
        "- 곱하기 *\n",
        "- 나누기 /\n",
        "- 나머지 %\n",
        "- 거듭제곱 **\n",
        "\n",
        "# 등호 (=)\n",
        "- 변수 = 100\n",
        "- 변수 = \"Kim\"\n"
      ],
      "metadata": {
        "id": "xtV1A0TKhCNZ"
      }
    },
    {
      "cell_type": "code",
      "source": [
        "print(100)\n",
        "print(\"hello\")"
      ],
      "metadata": {
        "colab": {
          "base_uri": "https://localhost:8080/"
        },
        "id": "0iaVcSdleYzZ",
        "outputId": "f3f3f979-4059-4a79-e418-ebb2193d3079"
      },
      "execution_count": null,
      "outputs": [
        {
          "output_type": "stream",
          "name": "stdout",
          "text": [
            "100\n",
            "hello\n"
          ]
        }
      ]
    },
    {
      "cell_type": "code",
      "source": [
        "print(2+2)"
      ],
      "metadata": {
        "colab": {
          "base_uri": "https://localhost:8080/"
        },
        "id": "Zcp5zn0KesFp",
        "outputId": "a3d9f201-c62a-4c0e-bcdd-d50fea0da61d"
      },
      "execution_count": null,
      "outputs": [
        {
          "output_type": "stream",
          "name": "stdout",
          "text": [
            "4\n"
          ]
        }
      ]
    },
    {
      "cell_type": "code",
      "source": [
        "50-40+2+1"
      ],
      "metadata": {
        "colab": {
          "base_uri": "https://localhost:8080/"
        },
        "id": "nrLprvvye_E5",
        "outputId": "1afed6d5-0fab-47ee-f595-4bba84f96775"
      },
      "execution_count": null,
      "outputs": [
        {
          "output_type": "execute_result",
          "data": {
            "text/plain": [
              "13"
            ]
          },
          "metadata": {},
          "execution_count": 12
        }
      ]
    },
    {
      "cell_type": "code",
      "source": [
        "# 나이를 구하시오.\n",
        "2022-1998+1\n"
      ],
      "metadata": {
        "colab": {
          "base_uri": "https://localhost:8080/"
        },
        "id": "-sUOWNUBfMvD",
        "outputId": "57a03750-fdbc-4c15-8248-990f76ae9597"
      },
      "execution_count": null,
      "outputs": [
        {
          "output_type": "execute_result",
          "data": {
            "text/plain": [
              "25"
            ]
          },
          "metadata": {},
          "execution_count": 15
        }
      ]
    },
    {
      "cell_type": "markdown",
      "source": [
        "# 데이터 타입\n",
        "- 데이터 종류\n",
        "## PDT (Primitive Data Type)\n",
        "- int, char, float\n",
        "## RDT (Reference Data Type)\n",
        "- list, tuple, set, dic, class\n",
        "\n",
        "# 변수\n",
        "- 정수, 실수, 문자 아무거나 사용 가능하다."
      ],
      "metadata": {
        "id": "j8Qq-Oqsfgqh"
      }
    },
    {
      "cell_type": "code",
      "source": [
        "x, y, z = \"오렌지\", \"바나나\", \"체리\"\n",
        "print(x)\n",
        "print(y)\n",
        "print(z)"
      ],
      "metadata": {
        "colab": {
          "base_uri": "https://localhost:8080/"
        },
        "id": "lcBlLchKfh-G",
        "outputId": "eb00633f-fd0a-4fa0-a60b-b9d4609a9bbc"
      },
      "execution_count": null,
      "outputs": [
        {
          "output_type": "stream",
          "name": "stdout",
          "text": [
            "오렌지\n",
            "바나나\n",
            "체리\n"
          ]
        }
      ]
    },
    {
      "cell_type": "code",
      "source": [
        "year = 1998\n",
        "age = 2022 - year + 1\n",
        "print(age)"
      ],
      "metadata": {
        "colab": {
          "base_uri": "https://localhost:8080/"
        },
        "id": "X0oe5yB3gxxS",
        "outputId": "342c074a-f1d1-447f-99d7-261b6c3a18bd"
      },
      "execution_count": null,
      "outputs": [
        {
          "output_type": "stream",
          "name": "stdout",
          "text": [
            "25\n"
          ]
        }
      ]
    },
    {
      "cell_type": "code",
      "source": [
        "# print\n",
        "x= \"내 이름은 \"\n",
        "name=\"Park\"\n",
        "print(x+name+\" 입니다.\")"
      ],
      "metadata": {
        "colab": {
          "base_uri": "https://localhost:8080/"
        },
        "id": "iTwf7mcSh2o9",
        "outputId": "2a677bb4-a78d-4c84-d754-ac2a58f03de6"
      },
      "execution_count": null,
      "outputs": [
        {
          "output_type": "stream",
          "name": "stdout",
          "text": [
            "내 이름은 Park 입니다.\n"
          ]
        }
      ]
    },
    {
      "cell_type": "code",
      "source": [
        "i=100\n",
        "x= \"입니다.\"\n",
        "print(i,x)"
      ],
      "metadata": {
        "colab": {
          "base_uri": "https://localhost:8080/"
        },
        "id": "rhDVUSkeizLQ",
        "outputId": "18d66592-a2ae-469e-9c24-fc5983c1149a"
      },
      "execution_count": null,
      "outputs": [
        {
          "output_type": "stream",
          "name": "stdout",
          "text": [
            "100 입니다.\n"
          ]
        }
      ]
    },
    {
      "cell_type": "markdown",
      "source": [
        "# 데이터 타입\n",
        "- 문자형 데이터 : str\n",
        "- 숫자형 데이터 : int, float, complex (복소수)\n",
        "- 시퀀스 데이터 : list, tuple, range\n",
        "- 매핑 데이터 : dict\n",
        "- 집합 데이터 : set\n",
        "- 논리형 데이터 : bool\n",
        "- 이진 데이터 : bytes, bytearray\n",
        "\n",
        "# 패키지 / 모듈\n",
        "- 폴더 (data.fruit.apple)\n",
        "\n",
        "# 데이터타입 지정\n",
        "- 형변환\n",
        "- int(), float(), str()\n"
      ],
      "metadata": {
        "id": "Z_FOR0eTjSzB"
      }
    },
    {
      "cell_type": "code",
      "source": [
        "x = int(1)\n",
        "y = int(2.8)\n",
        "z = int(3)\n",
        "print(x, y, z)\n",
        "\n",
        "x = float(1)\n",
        "y = float(2.8)\n",
        "z = float(4.2)\n",
        "print(x, y, z)\n",
        "\n",
        "x = str(\"s1\")\n",
        "y = str(2)\n",
        "z = str(3.0)\n",
        "print(x, y, z)"
      ],
      "metadata": {
        "id": "fD7tsZ_FjRaR",
        "colab": {
          "base_uri": "https://localhost:8080/"
        },
        "outputId": "436fa326-6806-4711-802f-93f0253d2d28"
      },
      "execution_count": 26,
      "outputs": [
        {
          "output_type": "stream",
          "name": "stdout",
          "text": [
            "1 2 3\n",
            "1.0 2.8 4.2\n",
            "s1 2 3.0\n"
          ]
        }
      ]
    },
    {
      "cell_type": "markdown",
      "source": [
        "# 문자열\n"
      ],
      "metadata": {
        "id": "xKLYzBdbmPS5"
      }
    },
    {
      "cell_type": "code",
      "source": [
        "\"아름다운 \" + \"우리나라\""
      ],
      "metadata": {
        "colab": {
          "base_uri": "https://localhost:8080/",
          "height": 35
        },
        "id": "ZJpc4uPPl057",
        "outputId": "12e59c6d-7c5e-4483-ba6f-09970eeeaa70"
      },
      "execution_count": 27,
      "outputs": [
        {
          "output_type": "execute_result",
          "data": {
            "text/plain": [
              "'아름다운 우리나라'"
            ],
            "application/vnd.google.colaboratory.intrinsic+json": {
              "type": "string"
            }
          },
          "metadata": {},
          "execution_count": 27
        }
      ]
    },
    {
      "cell_type": "code",
      "source": [
        "line = \"ㅋ\" * 30\n",
        "line"
      ],
      "metadata": {
        "colab": {
          "base_uri": "https://localhost:8080/",
          "height": 35
        },
        "id": "JrkNUIMxmaiI",
        "outputId": "4e77f3aa-6352-43ab-910f-9aff321478fb"
      },
      "execution_count": 28,
      "outputs": [
        {
          "output_type": "execute_result",
          "data": {
            "text/plain": [
              "'ㅋㅋㅋㅋㅋㅋㅋㅋㅋㅋㅋㅋㅋㅋㅋㅋㅋㅋㅋㅋㅋㅋㅋㅋㅋㅋㅋㅋㅋㅋ'"
            ],
            "application/vnd.google.colaboratory.intrinsic+json": {
              "type": "string"
            }
          },
          "metadata": {},
          "execution_count": 28
        }
      ]
    },
    {
      "cell_type": "code",
      "source": [
        "print(\"제 나이는 %s 세 입니다.\" % age)"
      ],
      "metadata": {
        "colab": {
          "base_uri": "https://localhost:8080/"
        },
        "id": "Lcq06A7hmgau",
        "outputId": "2aa1c364-4767-4b9a-8914-c94ac9880716"
      },
      "execution_count": 30,
      "outputs": [
        {
          "output_type": "stream",
          "name": "stdout",
          "text": [
            "제 나이는 25 세 입니다.\n"
          ]
        }
      ]
    }
  ]
}