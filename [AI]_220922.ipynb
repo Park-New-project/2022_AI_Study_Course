{
  "nbformat": 4,
  "nbformat_minor": 0,
  "metadata": {
    "colab": {
      "provenance": [],
      "collapsed_sections": [],
      "include_colab_link": true
    },
    "kernelspec": {
      "name": "python3",
      "display_name": "Python 3"
    },
    "language_info": {
      "name": "python"
    }
  },
  "cells": [
    {
      "cell_type": "markdown",
      "metadata": {
        "id": "view-in-github",
        "colab_type": "text"
      },
      "source": [
        "<a href=\"https://colab.research.google.com/github/Park-New-project/TIL/blob/main/%5BAI%5D_220922.ipynb\" target=\"_parent\"><img src=\"https://colab.research.google.com/assets/colab-badge.svg\" alt=\"Open In Colab\"/></a>"
      ]
    },
    {
      "cell_type": "markdown",
      "source": [
        "# 중첩 반복문\n",
        "- 반복문 안에 반복문\n",
        "- outer loop\n",
        "- inner loop\n",
        "\n"
      ],
      "metadata": {
        "id": "_S6uKaIQK22a"
      }
    },
    {
      "cell_type": "code",
      "source": [
        "i = 1\n",
        "while i <4:\n",
        "  j = 1\n",
        "  while j < 4:\n",
        "    print(i, \" \",j)\n",
        "    j += 1\n",
        "  i += 1"
      ],
      "metadata": {
        "colab": {
          "base_uri": "https://localhost:8080/"
        },
        "id": "HJ9yoPrULT2k",
        "outputId": "1c866366-83e4-4892-834a-ee84abbff92c"
      },
      "execution_count": null,
      "outputs": [
        {
          "output_type": "stream",
          "name": "stdout",
          "text": [
            "1   1\n",
            "1   2\n",
            "1   3\n",
            "2   1\n",
            "2   2\n",
            "2   3\n",
            "3   1\n",
            "3   2\n",
            "3   3\n"
          ]
        }
      ]
    },
    {
      "cell_type": "code",
      "source": [
        "while True :\n",
        "  num = int(input(\"양의 정수(종료 -1) : \"))\n",
        "  if num == -1:\n",
        "    break\n",
        "  i = fact = 1\n",
        "  while i <= num:\n",
        "    fact = fact * i\n",
        "    i = i + 1\n",
        "    print(\"%s!=%s\"%(i-1, fact))\n",
        "  "
      ],
      "metadata": {
        "colab": {
          "base_uri": "https://localhost:8080/"
        },
        "id": "E0bY9yy1LfBq",
        "outputId": "2f76387b-56d1-4043-d33e-5a6ac5c683e0"
      },
      "execution_count": null,
      "outputs": [
        {
          "name": "stdout",
          "output_type": "stream",
          "text": [
            "양의 정수(종료 -1) : 10\n",
            "1!=1\n",
            "2!=2\n",
            "3!=6\n",
            "4!=24\n",
            "5!=120\n",
            "6!=720\n",
            "7!=5040\n",
            "8!=40320\n",
            "9!=362880\n",
            "10!=3628800\n",
            "양의 정수(종료 -1) : -1\n"
          ]
        }
      ]
    },
    {
      "cell_type": "code",
      "source": [
        "for x in range(2,10):\n",
        "  for y in range(1,10):\n",
        "    print(\"%s*%s=%s\"%(x,y, x*y), end=\"  \")\n",
        "  print()"
      ],
      "metadata": {
        "colab": {
          "base_uri": "https://localhost:8080/"
        },
        "id": "7maBOzTYMDVD",
        "outputId": "2570561f-368f-420a-a1f1-40bd13de6fe2"
      },
      "execution_count": null,
      "outputs": [
        {
          "output_type": "stream",
          "name": "stdout",
          "text": [
            "2*1=2  2*2=4  2*3=6  2*4=8  2*5=10  2*6=12  2*7=14  2*8=16  2*9=18  \n",
            "3*1=3  3*2=6  3*3=9  3*4=12  3*5=15  3*6=18  3*7=21  3*8=24  3*9=27  \n",
            "4*1=4  4*2=8  4*3=12  4*4=16  4*5=20  4*6=24  4*7=28  4*8=32  4*9=36  \n",
            "5*1=5  5*2=10  5*3=15  5*4=20  5*5=25  5*6=30  5*7=35  5*8=40  5*9=45  \n",
            "6*1=6  6*2=12  6*3=18  6*4=24  6*5=30  6*6=36  6*7=42  6*8=48  6*9=54  \n",
            "7*1=7  7*2=14  7*3=21  7*4=28  7*5=35  7*6=42  7*7=49  7*8=56  7*9=63  \n",
            "8*1=8  8*2=16  8*3=24  8*4=32  8*5=40  8*6=48  8*7=56  8*8=64  8*9=72  \n",
            "9*1=9  9*2=18  9*3=27  9*4=36  9*5=45  9*6=54  9*7=63  9*8=72  9*9=81  \n"
          ]
        }
      ]
    },
    {
      "cell_type": "code",
      "source": [
        "for y in range(1,10):\n",
        "  for x in range(2,10):\n",
        "    print(\"%s*%s=%s\"%(x,y, x*y), end=\"  \")\n",
        "  print()"
      ],
      "metadata": {
        "colab": {
          "base_uri": "https://localhost:8080/"
        },
        "id": "M5CXfKV8OMxA",
        "outputId": "5a3e212a-544c-4469-9123-b53fcb09781c"
      },
      "execution_count": null,
      "outputs": [
        {
          "output_type": "stream",
          "name": "stdout",
          "text": [
            "2*1=2  3*1=3  4*1=4  5*1=5  6*1=6  7*1=7  8*1=8  9*1=9  \n",
            "2*2=4  3*2=6  4*2=8  5*2=10  6*2=12  7*2=14  8*2=16  9*2=18  \n",
            "2*3=6  3*3=9  4*3=12  5*3=15  6*3=18  7*3=21  8*3=24  9*3=27  \n",
            "2*4=8  3*4=12  4*4=16  5*4=20  6*4=24  7*4=28  8*4=32  9*4=36  \n",
            "2*5=10  3*5=15  4*5=20  5*5=25  6*5=30  7*5=35  8*5=40  9*5=45  \n",
            "2*6=12  3*6=18  4*6=24  5*6=30  6*6=36  7*6=42  8*6=48  9*6=54  \n",
            "2*7=14  3*7=21  4*7=28  5*7=35  6*7=42  7*7=49  8*7=56  9*7=63  \n",
            "2*8=16  3*8=24  4*8=32  5*8=40  6*8=48  7*8=56  8*8=64  9*8=72  \n",
            "2*9=18  3*9=27  4*9=36  5*9=45  6*9=54  7*9=63  8*9=72  9*9=81  \n"
          ]
        }
      ]
    },
    {
      "cell_type": "code",
      "source": [
        "# 삼각형 그리기 1\n",
        "for x in range(10):\n",
        "  for y in range(x+1):\n",
        "    print(\"*\", end =\" \")\n",
        "  print()"
      ],
      "metadata": {
        "colab": {
          "base_uri": "https://localhost:8080/"
        },
        "id": "F35tcwF5OwFZ",
        "outputId": "92c312fc-ef6f-4abc-965e-2a0f772764d4"
      },
      "execution_count": null,
      "outputs": [
        {
          "output_type": "stream",
          "name": "stdout",
          "text": [
            "* \n",
            "* * \n",
            "* * * \n",
            "* * * * \n",
            "* * * * * \n",
            "* * * * * * \n",
            "* * * * * * * \n",
            "* * * * * * * * \n",
            "* * * * * * * * * \n",
            "* * * * * * * * * * \n"
          ]
        }
      ]
    },
    {
      "cell_type": "code",
      "source": [
        "# 삼각형 그리기 2\n",
        "for x in range(10):\n",
        "  for y in range(10):\n",
        "    if x < 9 - y:\n",
        "      print(\" \", end =\" \")\n",
        "    else :\n",
        "      print(\"*\", end =\" \")\n",
        "  print()"
      ],
      "metadata": {
        "colab": {
          "base_uri": "https://localhost:8080/"
        },
        "id": "okFlXpw6O8ro",
        "outputId": "a78cc70d-f3df-483e-fea3-8d2f36871a96"
      },
      "execution_count": null,
      "outputs": [
        {
          "output_type": "stream",
          "name": "stdout",
          "text": [
            "                  * \n",
            "                * * \n",
            "              * * * \n",
            "            * * * * \n",
            "          * * * * * \n",
            "        * * * * * * \n",
            "      * * * * * * * \n",
            "    * * * * * * * * \n",
            "  * * * * * * * * * \n",
            "* * * * * * * * * * \n"
          ]
        }
      ]
    },
    {
      "cell_type": "code",
      "source": [
        "# 삼각형 그리기 3\n",
        "for x in range(10):\n",
        "  for y in range(10):\n",
        "    if (y < x):\n",
        "      print(\" \", end =\" \")\n",
        "    else:\n",
        "      print(\"*\", end =\" \")\n",
        "  print()"
      ],
      "metadata": {
        "colab": {
          "base_uri": "https://localhost:8080/"
        },
        "id": "qk3_ik4MPjXW",
        "outputId": "752cc45e-fa11-417c-e037-2cbda500901e"
      },
      "execution_count": null,
      "outputs": [
        {
          "output_type": "stream",
          "name": "stdout",
          "text": [
            "* * * * * * * * * * \n",
            "  * * * * * * * * * \n",
            "    * * * * * * * * \n",
            "      * * * * * * * \n",
            "        * * * * * * \n",
            "          * * * * * \n",
            "            * * * * \n",
            "              * * * \n",
            "                * * \n",
            "                  * \n"
          ]
        }
      ]
    },
    {
      "cell_type": "code",
      "source": [
        "d = int(input(\"원하는 단 : \"))\n",
        "\n",
        "for i in range(1,10):\n",
        "  print(\"%s*%s=%s\"%(d,i,d*i))"
      ],
      "metadata": {
        "colab": {
          "base_uri": "https://localhost:8080/"
        },
        "id": "b-eNO84uPsyT",
        "outputId": "efc805f7-1bab-48c2-e637-364b1fbad025"
      },
      "execution_count": null,
      "outputs": [
        {
          "output_type": "stream",
          "name": "stdout",
          "text": [
            "원하는 단 : 5\n",
            "5*1=5\n",
            "5*2=10\n",
            "5*3=15\n",
            "5*4=20\n",
            "5*5=25\n",
            "5*6=30\n",
            "5*7=35\n",
            "5*8=40\n",
            "5*9=45\n"
          ]
        }
      ]
    },
    {
      "cell_type": "markdown",
      "source": [
        "# str.split() 메소드\n",
        "- 문자열에서 단어를 분리할 때 사용한다\n",
        "\n",
        "# .format() 함수\n",
        "- 하나의 값을 주어진 형식의 문자열로 변환\n",
        "\n",
        "# str.format() 메소드\n",
        "- 여러 변수를 출력할 때 사용\n",
        "- 중괄호 {}에 데이터가 채워짐"
      ],
      "metadata": {
        "id": "B05YpPfeRwxT"
      }
    },
    {
      "cell_type": "code",
      "source": [
        "statement = input(\"문장을 입력 : \")\n",
        "\n",
        "for word in statement.split():\n",
        "  print(word)"
      ],
      "metadata": {
        "colab": {
          "base_uri": "https://localhost:8080/"
        },
        "id": "dlFTM2B8QgfJ",
        "outputId": "b2dbc7b7-1659-45b5-8a0b-3d045b308a30"
      },
      "execution_count": null,
      "outputs": [
        {
          "output_type": "stream",
          "name": "stdout",
          "text": [
            "문장을 입력 : 안녕하세요 제 나이는 16세 이고 번호는 010 이고 제 주소는 A 아파트 12동 205호 입니다\n",
            "안녕하세요\n",
            "제\n",
            "나이는\n",
            "16세\n",
            "이고\n",
            "번호는\n",
            "010\n",
            "이고\n",
            "제\n",
            "주소는\n",
            "A\n",
            "아파트\n",
            "12동\n",
            "205호\n",
            "입니다\n"
          ]
        }
      ]
    },
    {
      "cell_type": "code",
      "source": [
        "statement = input(\"문장을 입력 : \")\n",
        "\n",
        "for word in statement.split():  \n",
        "  for digit in \"0123456789\":\n",
        "    if digit in word : \n",
        "      break\n",
        "  else:\n",
        "    print(word, end=\" \")"
      ],
      "metadata": {
        "colab": {
          "base_uri": "https://localhost:8080/"
        },
        "id": "bKm8_FW3SIo1",
        "outputId": "39f28637-aba1-4f86-9ae1-efe1e853cc5b"
      },
      "execution_count": null,
      "outputs": [
        {
          "output_type": "stream",
          "name": "stdout",
          "text": [
            "문장을 입력 : 안녕하세요 제 나이는 16세 이고 번호는 010 이고 제 주소는 A 아파트 12동 205호 입니다\n",
            "안녕하세요 제 나이는 이고 번호는 이고 제 주소는 A 아파트 입니다 "
          ]
        }
      ]
    },
    {
      "cell_type": "code",
      "source": [
        "a = 23\n",
        "b = 2.34567"
      ],
      "metadata": {
        "id": "rFK2m-dXSiVL"
      },
      "execution_count": null,
      "outputs": []
    },
    {
      "cell_type": "code",
      "source": [
        "print(\"%10d %s %.2f\"%(a,\"kim\", b))"
      ],
      "metadata": {
        "colab": {
          "base_uri": "https://localhost:8080/"
        },
        "id": "0CEufYTfUb5J",
        "outputId": "43dac340-df1c-49a8-fcab-ec9b22005101"
      },
      "execution_count": null,
      "outputs": [
        {
          "output_type": "stream",
          "name": "stdout",
          "text": [
            "        23 kim 2.35\n"
          ]
        }
      ]
    },
    {
      "cell_type": "code",
      "source": [
        "print(format(a, \"10d\"), format(b, \".2f\")) # 소수점 둘째자리"
      ],
      "metadata": {
        "colab": {
          "base_uri": "https://localhost:8080/"
        },
        "id": "y4htDs4DXZC-",
        "outputId": "dfd8340f-1d7f-4e1a-913c-9488cb260c6e"
      },
      "execution_count": null,
      "outputs": [
        {
          "output_type": "stream",
          "name": "stdout",
          "text": [
            "        23 2.35\n"
          ]
        }
      ]
    },
    {
      "cell_type": "code",
      "source": [
        "print(format(1234567, \",d\")) # 1000단위 마다 ,추가"
      ],
      "metadata": {
        "colab": {
          "base_uri": "https://localhost:8080/"
        },
        "id": "89S3QqmzXbIc",
        "outputId": "81ccfe97-652d-4674-facc-fc95ee677c04"
      },
      "execution_count": null,
      "outputs": [
        {
          "output_type": "stream",
          "name": "stdout",
          "text": [
            "1,234,567\n"
          ]
        }
      ]
    },
    {
      "cell_type": "code",
      "source": [
        "print(format(1234567.890123, \",.2f\")) # 소수점 둘째자리 + 1000단위 마다 ,추가"
      ],
      "metadata": {
        "colab": {
          "base_uri": "https://localhost:8080/"
        },
        "id": "9dZCrwB-Xcm1",
        "outputId": "748099a8-7d53-43bd-ae98-7d8fe7cd967a"
      },
      "execution_count": null,
      "outputs": [
        {
          "output_type": "stream",
          "name": "stdout",
          "text": [
            "1,234,567.89\n"
          ]
        }
      ]
    },
    {
      "cell_type": "code",
      "source": [
        "print(\"{} {}\".format(23, 1234.567))"
      ],
      "metadata": {
        "colab": {
          "base_uri": "https://localhost:8080/"
        },
        "id": "u3uQGe6uXd7z",
        "outputId": "6ab23b4f-c2b1-4a7d-84a7-ff3d08312147"
      },
      "execution_count": null,
      "outputs": [
        {
          "output_type": "stream",
          "name": "stdout",
          "text": [
            "23 1234.567\n"
          ]
        }
      ]
    },
    {
      "cell_type": "code",
      "source": [
        "\"{} {}\".format(23, 1234.567)"
      ],
      "metadata": {
        "colab": {
          "base_uri": "https://localhost:8080/",
          "height": 35
        },
        "id": "9Cb74z5nXk-l",
        "outputId": "6cf5b881-b815-40a5-8c86-2bd8112db8d4"
      },
      "execution_count": null,
      "outputs": [
        {
          "output_type": "execute_result",
          "data": {
            "text/plain": [
              "'23 1234.567'"
            ],
            "application/vnd.google.colaboratory.intrinsic+json": {
              "type": "string"
            }
          },
          "metadata": {},
          "execution_count": 85
        }
      ]
    },
    {
      "cell_type": "code",
      "source": [
        "list1 = [1,3,5,7,4,5]\n",
        "\n",
        "'최소값:{1}, 최대값: {0}'.format(max(list1), min(list1))"
      ],
      "metadata": {
        "colab": {
          "base_uri": "https://localhost:8080/",
          "height": 35
        },
        "id": "hnjGwAr7Xo43",
        "outputId": "ab9c151e-2250-437c-f9f5-dafb75de1b38"
      },
      "execution_count": null,
      "outputs": [
        {
          "output_type": "execute_result",
          "data": {
            "text/plain": [
              "'최소값:1, 최대값: 7'"
            ],
            "application/vnd.google.colaboratory.intrinsic+json": {
              "type": "string"
            }
          },
          "metadata": {},
          "execution_count": 89
        }
      ]
    },
    {
      "cell_type": "code",
      "source": [
        "'나이 :{age}, 키 :{height}'.format(age = 20, height=170) # str.format() "
      ],
      "metadata": {
        "colab": {
          "base_uri": "https://localhost:8080/",
          "height": 35
        },
        "id": "9ky-4VaDYBsV",
        "outputId": "0adcb04b-e818-4535-ea19-1b673eff1b03"
      },
      "execution_count": null,
      "outputs": [
        {
          "output_type": "execute_result",
          "data": {
            "text/plain": [
              "'나이 :20, 키 :170'"
            ],
            "application/vnd.google.colaboratory.intrinsic+json": {
              "type": "string"
            }
          },
          "metadata": {},
          "execution_count": 91
        }
      ]
    },
    {
      "cell_type": "markdown",
      "source": [
        "# list\n",
        "- 여러가지 값을 순서대로 저장\n",
        "- 대괄호[]\n",
        "- 안의 값을 아이템으로 부름\n",
        "- array + struct (배열 + 구조체)\n",
        "- 값 변경가능\n",
        "- 인덱스로 참조가능\n",
        "- 리스트가 가진 값의 개수 초과하는 인덱스 사용 불가능\n",
        "- -1로 마지막 인덱스 참조 가능하다."
      ],
      "metadata": {
        "id": "2-ZX9023Yw8L"
      }
    },
    {
      "cell_type": "code",
      "source": [
        "testList = [10, 20, '한국', '미국']\n",
        "\n",
        "print(testList)\n",
        "print(type(testList))\n",
        "print()\n",
        "print(testList[0] , \" \", type(testList[0]))\n",
        "print(testList[2] , \" \", type(testList[2]))\n"
      ],
      "metadata": {
        "colab": {
          "base_uri": "https://localhost:8080/"
        },
        "id": "7YXkkMNlYYl1",
        "outputId": "17cea7a3-8d48-47ae-ac37-91fa573643f4"
      },
      "execution_count": null,
      "outputs": [
        {
          "output_type": "stream",
          "name": "stdout",
          "text": [
            "[10, 20, '한국', '미국']\n",
            "<class 'list'>\n",
            "\n",
            "10   <class 'int'>\n",
            "한국   <class 'str'>\n"
          ]
        }
      ]
    },
    {
      "cell_type": "code",
      "source": [
        "testList[0] = '중국'\n",
        "\n",
        "print(testList)"
      ],
      "metadata": {
        "colab": {
          "base_uri": "https://localhost:8080/"
        },
        "id": "vSamNKqOamIk",
        "outputId": "4a8b0b89-567a-40ec-fd0a-53aac1b1cada"
      },
      "execution_count": null,
      "outputs": [
        {
          "output_type": "stream",
          "name": "stdout",
          "text": [
            "['중국', 20, '한국', '미국']\n"
          ]
        }
      ]
    },
    {
      "cell_type": "markdown",
      "source": [
        "# 중첩 리스트\n",
        "- 리스트 안에 다른 리스트를 하나의 아이템으로 가질 수 있다."
      ],
      "metadata": {
        "id": "fRE0NvTtbW9L"
      }
    },
    {
      "cell_type": "code",
      "source": [
        "s= [[100,90,80],[20,30,40],[40,50,60]]\n",
        "\n",
        "print(s)\n",
        "print(s[0])\n",
        "print(s[0][2])"
      ],
      "metadata": {
        "colab": {
          "base_uri": "https://localhost:8080/"
        },
        "id": "IUVylyHZa_1T",
        "outputId": "c4105aa8-ef80-4a6e-e82c-f6ca49801fb8"
      },
      "execution_count": null,
      "outputs": [
        {
          "output_type": "stream",
          "name": "stdout",
          "text": [
            "[[100, 90, 80], [20, 30, 40], [40, 50, 60]]\n",
            "[100, 90, 80]\n",
            "80\n"
          ]
        }
      ]
    },
    {
      "cell_type": "markdown",
      "source": [
        "# 부분 리스트 (슬라이싱)\n",
        "- 리스트 중 일부분\n",
        "- testList[i]\n",
        "- testList[start:]\n",
        "- testList[:stop]\n",
        "- testList[start:stop]\n",
        "- 전체 : testList[:] \n",
        "\n"
      ],
      "metadata": {
        "id": "zFvRKHcycAbD"
      }
    },
    {
      "cell_type": "code",
      "source": [
        "testList = [1,2,3,4,5]\n",
        "\n",
        "print(testList)\n",
        "print(testList[:])\n",
        "print(testList[1:4])\n",
        "print(testList[:4])\n",
        "print(testList[2:])"
      ],
      "metadata": {
        "colab": {
          "base_uri": "https://localhost:8080/"
        },
        "id": "l13kWJFVb-DV",
        "outputId": "2a6a172d-58d3-4480-b704-19d9c2adccb2"
      },
      "execution_count": null,
      "outputs": [
        {
          "output_type": "stream",
          "name": "stdout",
          "text": [
            "[1, 2, 3, 4, 5]\n",
            "[1, 2, 3, 4, 5]\n",
            "[2, 3, 4]\n",
            "[1, 2, 3, 4]\n",
            "[3, 4, 5]\n"
          ]
        }
      ]
    },
    {
      "cell_type": "markdown",
      "source": [
        "# 리스트 값 추가\n",
        "- testList[i] = 10\n",
        "\n",
        "# 리스트 연결\n",
        "- + 리스트 연결 (합집합)\n",
        "- * 리스트 반복 생성\n",
        "\n",
        "# 리스트 값 삭제\n",
        "- del testList[i]\n",
        "- testList.remove(x)\n",
        "\n",
        "# 리스트 - 동적\n",
        "- stack(FILO, PDT)\n",
        "- static(정적 기억장소)\n",
        "- heap(동적 기억장소, RDT)"
      ],
      "metadata": {
        "id": "8P8bNL4yc8cD"
      }
    },
    {
      "cell_type": "code",
      "source": [
        "testList = [10, 2, 50, 6, 9, 7]\n",
        "print(testList)"
      ],
      "metadata": {
        "colab": {
          "base_uri": "https://localhost:8080/"
        },
        "id": "tw64nrdec1E-",
        "outputId": "3292e6f8-e350-444d-8a0d-dd7450f0a02e"
      },
      "execution_count": null,
      "outputs": [
        {
          "output_type": "stream",
          "name": "stdout",
          "text": [
            "[10, 2, 50, 6, 9, 7]\n"
          ]
        }
      ]
    },
    {
      "cell_type": "code",
      "source": [
        "del testList[1]\n",
        "print(testList)"
      ],
      "metadata": {
        "colab": {
          "base_uri": "https://localhost:8080/"
        },
        "id": "RN5lmcXseXR0",
        "outputId": "5a02e722-cf4d-4be7-fddf-ae5ff0aba0aa"
      },
      "execution_count": null,
      "outputs": [
        {
          "output_type": "stream",
          "name": "stdout",
          "text": [
            "[10, 7]\n"
          ]
        }
      ]
    },
    {
      "cell_type": "code",
      "source": [
        "testList = [10, 2, 50, 6, 9, 7]\n",
        "print(testList)"
      ],
      "metadata": {
        "colab": {
          "base_uri": "https://localhost:8080/"
        },
        "id": "V9bAOQhWeaKL",
        "outputId": "95015d01-d7a4-4290-9c15-c09d7f2ec67d"
      },
      "execution_count": null,
      "outputs": [
        {
          "output_type": "stream",
          "name": "stdout",
          "text": [
            "[10, 2, 50, 6, 9, 7]\n"
          ]
        }
      ]
    },
    {
      "cell_type": "code",
      "source": [
        "testList.remove(10)\n",
        "print(testList)"
      ],
      "metadata": {
        "colab": {
          "base_uri": "https://localhost:8080/"
        },
        "id": "XSWXuzVrep-r",
        "outputId": "0fc9dc6b-b361-403f-a79e-2c6cb2871c9a"
      },
      "execution_count": null,
      "outputs": [
        {
          "output_type": "stream",
          "name": "stdout",
          "text": [
            "[2, 50, 6, 9, 7]\n"
          ]
        }
      ]
    },
    {
      "cell_type": "code",
      "source": [
        "testList.remove(10)\n",
        "print(testList) # 값이 없으므로 에러 발생"
      ],
      "metadata": {
        "colab": {
          "base_uri": "https://localhost:8080/",
          "height": 193
        },
        "id": "SyeU1lajev7O",
        "outputId": "6906b89a-2159-4a94-b576-d6291dc463be"
      },
      "execution_count": null,
      "outputs": [
        {
          "output_type": "error",
          "ename": "ValueError",
          "evalue": "ignored",
          "traceback": [
            "\u001b[0;31m---------------------------------------------------------------------------\u001b[0m",
            "\u001b[0;31mValueError\u001b[0m                                Traceback (most recent call last)",
            "\u001b[0;32m<ipython-input-119-829269a3991d>\u001b[0m in \u001b[0;36m<module>\u001b[0;34m\u001b[0m\n\u001b[0;32m----> 1\u001b[0;31m \u001b[0mtestList\u001b[0m\u001b[0;34m.\u001b[0m\u001b[0mremove\u001b[0m\u001b[0;34m(\u001b[0m\u001b[0;36m10\u001b[0m\u001b[0;34m)\u001b[0m\u001b[0;34m\u001b[0m\u001b[0;34m\u001b[0m\u001b[0m\n\u001b[0m\u001b[1;32m      2\u001b[0m \u001b[0mprint\u001b[0m\u001b[0;34m(\u001b[0m\u001b[0mtestList\u001b[0m\u001b[0;34m)\u001b[0m \u001b[0;31m# 값이 없으므로 에러\u001b[0m\u001b[0;34m\u001b[0m\u001b[0;34m\u001b[0m\u001b[0m\n",
            "\u001b[0;31mValueError\u001b[0m: list.remove(x): x not in list"
          ]
        }
      ]
    },
    {
      "cell_type": "code",
      "source": [
        "testList = [5,-1, 3, 2]\n",
        "print(testList)\n",
        "\n",
        "testList.sort()\n",
        "print(testList)"
      ],
      "metadata": {
        "colab": {
          "base_uri": "https://localhost:8080/"
        },
        "id": "ZxlqnVy1e7_T",
        "outputId": "261ce591-b867-4150-f3c3-d4914f290e6e"
      },
      "execution_count": null,
      "outputs": [
        {
          "output_type": "stream",
          "name": "stdout",
          "text": [
            "[5, -1, 3, 2]\n",
            "[-1, 2, 3, 5]\n"
          ]
        }
      ]
    }
  ]
}