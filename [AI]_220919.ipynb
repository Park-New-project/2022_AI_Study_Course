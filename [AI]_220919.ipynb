{
  "nbformat": 4,
  "nbformat_minor": 0,
  "metadata": {
    "colab": {
      "provenance": [],
      "collapsed_sections": [],
      "include_colab_link": true
    },
    "kernelspec": {
      "name": "python3",
      "display_name": "Python 3"
    },
    "language_info": {
      "name": "python"
    }
  },
  "cells": [
    {
      "cell_type": "markdown",
      "metadata": {
        "id": "view-in-github",
        "colab_type": "text"
      },
      "source": [
        "<a href=\"https://colab.research.google.com/github/Park-New-project/TIL/blob/main/%5BAI%5D_220919.ipynb\" target=\"_parent\"><img src=\"https://colab.research.google.com/assets/colab-badge.svg\" alt=\"Open In Colab\"/></a>"
      ]
    },
    {
      "cell_type": "markdown",
      "source": [
        "# Python \n",
        "- 파이썬 문법\n",
        "- 파이썬 실습\n",
        "\n",
        "# 데이터 분석\n",
        "- Web 스크레이핑\n",
        "- 파일 (Open API)\n",
        "- 시각화\n",
        "\n",
        "# AI\n",
        "- ML 알고리즘\n",
        "- DL 인공신경망 (라이브러리)"
      ],
      "metadata": {
        "id": "SxL02X_UZZlh"
      }
    },
    {
      "cell_type": "markdown",
      "source": [
        "# 컴퓨터 \n",
        "- 하드웨어(장치) + 소프트웨어(프로그램)\n",
        "\n",
        "# 소프트웨어 / 프로그램\n",
        "- 작업의 진행 순서를 나열 \n",
        "- 명령어를 순서대로 나열\n",
        "\n",
        "# 소프트웨어 종류\n",
        "- 시스템 소프트웨어\n",
        "- 응용 소프트웨어\n",
        "\n",
        "# 프로그래밍 언어\n",
        "- 프로그램 작성에 사용하는 언어\n",
        "### 기계어\n",
        "- 0과 1의 조합\n",
        "### 어셈블리어\n",
        "- 어셈블러 통해 기계어로 번역하다.\n",
        "### 고급언어\n",
        "- 인간이 사용하는 언어와 비슷하다.\n",
        "\n",
        "# 고급언어\n",
        "- 기계어로 번역하여 실행\n",
        "### 컴파일러 언어\n",
        "- 한꺼번에 번역\n",
        "- 장점 : 실행시간이 빠르다.\n",
        "- 단점 : 부분 수정도 전체 다시 번역.\n",
        "### 인터프리터 언어\n",
        "-. 명령어 단위로 한행씩\n",
        "- 장점 : 상대적으로 쉽다.\n",
        "- 단점 : 실행시간이 늦다.\n"
      ],
      "metadata": {
        "id": "HaKmDVrSZZCx"
      }
    },
    {
      "cell_type": "markdown",
      "source": [
        "# 파이썬\n",
        "- 쉽고 생산성이 뛰어나고 라이브러리가 풍부하다.\n",
        "\n",
        "# 응용분야 \n",
        "- Numpy, Pandas, Matplotlib, SciPy\n",
        "- Tensorflow, Keras\n",
        "- Django, Flask\n",
        "- PyGame\n"
      ],
      "metadata": {
        "id": "ofSUXoN2a8gZ"
      }
    },
    {
      "cell_type": "markdown",
      "source": [
        "# 아나콘다 설치\n",
        "- http://repo.anaconda.com/archive\n",
        "### 파이썬 자습서\n",
        "- https://docs.python.org/ko/3/tutorial/index.html\n",
        "### 예제로 배우는 파이썬 프로그래밍\n",
        "- http://pythonstudy.xyz/Python/Basics\n",
        "### 점프 투 파이썬\n",
        "- https://wikidocs.net/book/1"
      ],
      "metadata": {
        "id": "IzMPoQKfc-NZ"
      }
    },
    {
      "cell_type": "code",
      "source": [
        "100"
      ],
      "metadata": {
        "colab": {
          "base_uri": "https://localhost:8080/"
        },
        "id": "bAuGevmFaaHj",
        "outputId": "09ab2ae4-2812-40d9-a2ce-d434be06581f"
      },
      "execution_count": null,
      "outputs": [
        {
          "output_type": "execute_result",
          "data": {
            "text/plain": [
              "100"
            ]
          },
          "metadata": {},
          "execution_count": 8
        }
      ]
    },
    {
      "cell_type": "code",
      "source": [
        "\"안녕하세요\""
      ],
      "metadata": {
        "colab": {
          "base_uri": "https://localhost:8080/",
          "height": 35
        },
        "id": "YGjAtKC8eR9-",
        "outputId": "a654f09d-6c20-4942-b298-51bb661d81b5"
      },
      "execution_count": null,
      "outputs": [
        {
          "output_type": "execute_result",
          "data": {
            "text/plain": [
              "'안녕하세요'"
            ],
            "application/vnd.google.colaboratory.intrinsic+json": {
              "type": "string"
            }
          },
          "metadata": {},
          "execution_count": 9
        }
      ]
    },
    {
      "cell_type": "code",
      "source": [
        "100\n",
        "\"hello\" # 마지막만 확인"
      ],
      "metadata": {
        "colab": {
          "base_uri": "https://localhost:8080/",
          "height": 35
        },
        "id": "OMzasOf0eVWD",
        "outputId": "fda79251-45c5-4822-f13c-214ca66ed820"
      },
      "execution_count": null,
      "outputs": [
        {
          "output_type": "execute_result",
          "data": {
            "text/plain": [
              "'hello'"
            ],
            "application/vnd.google.colaboratory.intrinsic+json": {
              "type": "string"
            }
          },
          "metadata": {},
          "execution_count": 10
        }
      ]
    },
    {
      "cell_type": "markdown",
      "source": [
        "# 연산자\n",
        "- 더하기 +\n",
        "- 빼기 -\n",
        "- 곱하기 *\n",
        "- 나누기 /\n",
        "- 나머지 %\n",
        "- 거듭제곱 **\n",
        "\n",
        "# 등호 (=)\n",
        "- 변수 = 100\n",
        "- 변수 = \"Kim\"\n"
      ],
      "metadata": {
        "id": "xtV1A0TKhCNZ"
      }
    },
    {
      "cell_type": "code",
      "source": [
        "print(100)\n",
        "print(\"hello\")"
      ],
      "metadata": {
        "colab": {
          "base_uri": "https://localhost:8080/"
        },
        "id": "0iaVcSdleYzZ",
        "outputId": "4b8f3192-da75-47de-b280-cf1db230b22a"
      },
      "execution_count": null,
      "outputs": [
        {
          "output_type": "stream",
          "name": "stdout",
          "text": [
            "100\n",
            "hello\n"
          ]
        }
      ]
    },
    {
      "cell_type": "code",
      "source": [
        "print(2+2)"
      ],
      "metadata": {
        "colab": {
          "base_uri": "https://localhost:8080/"
        },
        "id": "Zcp5zn0KesFp",
        "outputId": "3418c478-a570-443a-b361-b75ae9127f57"
      },
      "execution_count": null,
      "outputs": [
        {
          "output_type": "stream",
          "name": "stdout",
          "text": [
            "4\n"
          ]
        }
      ]
    },
    {
      "cell_type": "code",
      "source": [
        "50-40+2+1"
      ],
      "metadata": {
        "colab": {
          "base_uri": "https://localhost:8080/"
        },
        "id": "nrLprvvye_E5",
        "outputId": "d2f7b39c-bcb4-44c1-9965-83f6e559e716"
      },
      "execution_count": null,
      "outputs": [
        {
          "output_type": "execute_result",
          "data": {
            "text/plain": [
              "13"
            ]
          },
          "metadata": {},
          "execution_count": 13
        }
      ]
    },
    {
      "cell_type": "code",
      "source": [
        "# 나이를 구하시오.\n",
        "2022-1998+1\n"
      ],
      "metadata": {
        "colab": {
          "base_uri": "https://localhost:8080/"
        },
        "id": "-sUOWNUBfMvD",
        "outputId": "0deb5b09-437e-41e6-9ea6-fd890d690dbb"
      },
      "execution_count": null,
      "outputs": [
        {
          "output_type": "execute_result",
          "data": {
            "text/plain": [
              "25"
            ]
          },
          "metadata": {},
          "execution_count": 14
        }
      ]
    },
    {
      "cell_type": "markdown",
      "source": [
        "# 데이터 타입\n",
        "- 데이터 종류\n",
        "### PDT (Primitive Data Type)\n",
        "- int, char, float\n",
        "### RDT (Reference Data Type)\n",
        "- list, tuple, set, dic, class\n",
        "\n",
        "# 변수\n",
        "- 정수, 실수, 문자 아무거나 사용 가능하다."
      ],
      "metadata": {
        "id": "j8Qq-Oqsfgqh"
      }
    },
    {
      "cell_type": "code",
      "source": [
        "x, y, z = \"오렌지\", \"바나나\", \"체리\"\n",
        "print(x)\n",
        "print(y)\n",
        "print(z)"
      ],
      "metadata": {
        "colab": {
          "base_uri": "https://localhost:8080/"
        },
        "id": "lcBlLchKfh-G",
        "outputId": "c4e1fa04-bf0d-4a82-db64-420a5b7ecde5"
      },
      "execution_count": null,
      "outputs": [
        {
          "output_type": "stream",
          "name": "stdout",
          "text": [
            "오렌지\n",
            "바나나\n",
            "체리\n"
          ]
        }
      ]
    },
    {
      "cell_type": "code",
      "source": [
        "year = 1998\n",
        "age = 2022 - year + 1\n",
        "print(age)"
      ],
      "metadata": {
        "colab": {
          "base_uri": "https://localhost:8080/"
        },
        "id": "X0oe5yB3gxxS",
        "outputId": "2e606e08-5b38-4057-f0e8-20b1823dd352"
      },
      "execution_count": null,
      "outputs": [
        {
          "output_type": "stream",
          "name": "stdout",
          "text": [
            "25\n"
          ]
        }
      ]
    },
    {
      "cell_type": "code",
      "source": [
        "# print\n",
        "x= \"내 이름은 \"\n",
        "name=\"Park\"\n",
        "print(x+name+\" 입니다.\")"
      ],
      "metadata": {
        "colab": {
          "base_uri": "https://localhost:8080/"
        },
        "id": "iTwf7mcSh2o9",
        "outputId": "aebbf1eb-d1b9-422a-e04e-ae1579d99bd4"
      },
      "execution_count": null,
      "outputs": [
        {
          "output_type": "stream",
          "name": "stdout",
          "text": [
            "내 이름은 Park 입니다.\n"
          ]
        }
      ]
    },
    {
      "cell_type": "code",
      "source": [
        "i=100\n",
        "x= \"입니다.\"\n",
        "print(i,x)"
      ],
      "metadata": {
        "colab": {
          "base_uri": "https://localhost:8080/"
        },
        "id": "rhDVUSkeizLQ",
        "outputId": "c9095cf5-6033-4a50-9b08-05c5293b490e"
      },
      "execution_count": null,
      "outputs": [
        {
          "output_type": "stream",
          "name": "stdout",
          "text": [
            "100 입니다.\n"
          ]
        }
      ]
    },
    {
      "cell_type": "markdown",
      "source": [
        "# 데이터 타입\n",
        "- 문자형 데이터 : str\n",
        "- 숫자형 데이터 : int, float, complex (복소수)\n",
        "- 시퀀스 데이터 : list, tuple, range\n",
        "- 매핑 데이터 : dict\n",
        "- 집합 데이터 : set\n",
        "- 논리형 데이터 : bool\n",
        "- 이진 데이터 : bytes, bytearray\n",
        "\n",
        "# 패키지 / 모듈\n",
        "- 폴더 (data.fruit.apple)\n",
        "\n",
        "# 데이터타입 지정\n",
        "- 형변환\n",
        "- int(), float(), str()\n"
      ],
      "metadata": {
        "id": "Z_FOR0eTjSzB"
      }
    },
    {
      "cell_type": "code",
      "source": [
        "x = int(1)\n",
        "y = int(2.8)\n",
        "z = int(3)\n",
        "print(x, y, z)\n",
        "\n",
        "x = float(1)\n",
        "y = float(2.8)\n",
        "z = float(4.2)\n",
        "print(x, y, z)\n",
        "\n",
        "x = str(\"s1\")\n",
        "y = str(2)\n",
        "z = str(3.0)\n",
        "print(x, y, z)"
      ],
      "metadata": {
        "id": "fD7tsZ_FjRaR",
        "colab": {
          "base_uri": "https://localhost:8080/"
        },
        "outputId": "8a972f55-f676-420e-9dbf-61dc42081272"
      },
      "execution_count": null,
      "outputs": [
        {
          "output_type": "stream",
          "name": "stdout",
          "text": [
            "1 2 3\n",
            "1.0 2.8 4.2\n",
            "s1 2 3.0\n"
          ]
        }
      ]
    },
    {
      "cell_type": "markdown",
      "source": [
        "# 문자열\n"
      ],
      "metadata": {
        "id": "xKLYzBdbmPS5"
      }
    },
    {
      "cell_type": "code",
      "source": [
        "\"아름다운 \" + \"우리나라\""
      ],
      "metadata": {
        "colab": {
          "base_uri": "https://localhost:8080/",
          "height": 35
        },
        "id": "ZJpc4uPPl057",
        "outputId": "eda5f6f6-f125-4a51-9c49-93a74b0e842b"
      },
      "execution_count": null,
      "outputs": [
        {
          "output_type": "execute_result",
          "data": {
            "text/plain": [
              "'아름다운 우리나라'"
            ],
            "application/vnd.google.colaboratory.intrinsic+json": {
              "type": "string"
            }
          },
          "metadata": {},
          "execution_count": 20
        }
      ]
    },
    {
      "cell_type": "code",
      "source": [
        "line = \"ㅋ\" * 30\n",
        "line"
      ],
      "metadata": {
        "colab": {
          "base_uri": "https://localhost:8080/",
          "height": 35
        },
        "id": "JrkNUIMxmaiI",
        "outputId": "06698c46-e312-43e8-c73e-b749c82ed870"
      },
      "execution_count": null,
      "outputs": [
        {
          "output_type": "execute_result",
          "data": {
            "text/plain": [
              "'ㅋㅋㅋㅋㅋㅋㅋㅋㅋㅋㅋㅋㅋㅋㅋㅋㅋㅋㅋㅋㅋㅋㅋㅋㅋㅋㅋㅋㅋㅋ'"
            ],
            "application/vnd.google.colaboratory.intrinsic+json": {
              "type": "string"
            }
          },
          "metadata": {},
          "execution_count": 21
        }
      ]
    },
    {
      "cell_type": "code",
      "source": [
        "print(\"제 나이는 %s 세 입니다.\" % age)"
      ],
      "metadata": {
        "colab": {
          "base_uri": "https://localhost:8080/"
        },
        "id": "Lcq06A7hmgau",
        "outputId": "fcc2fddf-ba0b-49bb-f41c-9301061197aa"
      },
      "execution_count": null,
      "outputs": [
        {
          "output_type": "stream",
          "name": "stdout",
          "text": [
            "제 나이는 25 세 입니다.\n"
          ]
        }
      ]
    }
  ]
}