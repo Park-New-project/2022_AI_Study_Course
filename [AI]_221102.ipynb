{
  "nbformat": 4,
  "nbformat_minor": 0,
  "metadata": {
    "colab": {
      "provenance": [],
      "authorship_tag": "ABX9TyNwgYBPVDbZrjoGaBcCZCdh",
      "include_colab_link": true
    },
    "kernelspec": {
      "name": "python3",
      "display_name": "Python 3"
    },
    "language_info": {
      "name": "python"
    }
  },
  "cells": [
    {
      "cell_type": "markdown",
      "metadata": {
        "id": "view-in-github",
        "colab_type": "text"
      },
      "source": [
        "<a href=\"https://colab.research.google.com/github/Park-New-project/TIL/blob/main/%5BAI%5D_221102.ipynb\" target=\"_parent\"><img src=\"https://colab.research.google.com/assets/colab-badge.svg\" alt=\"Open In Colab\"/></a>"
      ]
    },
    {
      "cell_type": "markdown",
      "source": [
        "# AWS EC2\n",
        "- 온프레미스 환경의 서버 역할 수행\n",
        "- 안정적인 컴퓨팅 용량 제공\n",
        "- 몇 분 이내 증설 및 감축\n",
        "- 온 디맨드 요금제\n",
        "- 사용한 용량만큼 지불\n",
        "\n",
        "# AWS \n",
        "- 가용 영역 : 인스턴스 EC2 + Root EBS 스토리지\n",
        "- EC2 인스턴스를 만들면 기술적으로 EBS가 자동으로 붙는다.\n",
        "\n",
        "# AMI (Amazon Machine Image)\n",
        "- 루트 볼륨에 설치될 운영체제 템플릿\n",
        "- 블록 디바이스(EBS) 연결 정보\n",
        "- 시작 권한\n",
        "\n",
        "# 전용 호스트\n",
        "- 사용자 전용의 아마존 EC2 인스턴스 용량을 갖춘 인스턴스 서버\n"
      ],
      "metadata": {
        "id": "6ssiD6bYNTzJ"
      }
    },
    {
      "cell_type": "markdown",
      "source": [
        "# 인스턴스 상태\n",
        "- pending : 대기중. 요금 미청구\n",
        "- running : 실행중. 요금 청구\n",
        "- stopping : 중지.  요금 미청구\n",
        "- shutting down : 종료 준비중.  요금 미청구\n",
        "- terminated : 종료.  요금 미청구"
      ],
      "metadata": {
        "id": "3XuaQUraSjuS"
      }
    },
    {
      "cell_type": "markdown",
      "source": [],
      "metadata": {
        "id": "_d2Zg8NyBVIh"
      }
    },
    {
      "cell_type": "markdown",
      "source": [
        "# 연결\n",
        "- 작업 -> 연결 -> RDP 클라이언트 -> 원격 데스크톱 파일 -> 암호키 해석해서 넣기"
      ],
      "metadata": {
        "id": "rjO9hrwolG4u"
      }
    },
    {
      "cell_type": "markdown",
      "source": [
        "# PuTTYgen\n",
        "- pem -> ppk 변환\n",
        "- Conversions -> import key -> Save private key\n",
        "\n",
        "# PuTTY\n",
        "- Connetion -> Session -> Auth -> Credential -> ppk 넣기\n",
        "- Session -> ipv4 주소 입력\n",
        "- login : ec2-user"
      ],
      "metadata": {
        "id": "oHDb1vwflCCu"
      }
    },
    {
      "cell_type": "markdown",
      "source": [
        "# AMI\n",
        "- 작업 -> 이미지 및 템플릿 -> 이미지 생성\n",
        "- EC2 -> 이미지 -> AMI -> 생성된 이미지 확인\n",
        "- 선택 -> 작업 -> AMI 복사 -> Oregon 리전으로 복사 -> 이미지에서 확인"
      ],
      "metadata": {
        "id": "ucJ8fIhUl5mP"
      }
    },
    {
      "cell_type": "code",
      "execution_count": null,
      "metadata": {
        "id": "49et6O3_Ql1O"
      },
      "outputs": [],
      "source": []
    }
  ]
}