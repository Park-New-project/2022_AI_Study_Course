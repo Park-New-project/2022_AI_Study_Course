{
  "nbformat": 4,
  "nbformat_minor": 0,
  "metadata": {
    "colab": {
      "provenance": [],
      "collapsed_sections": [],
      "include_colab_link": true
    },
    "kernelspec": {
      "name": "python3",
      "display_name": "Python 3"
    },
    "language_info": {
      "name": "python"
    }
  },
  "cells": [
    {
      "cell_type": "markdown",
      "metadata": {
        "id": "view-in-github",
        "colab_type": "text"
      },
      "source": [
        "<a href=\"https://colab.research.google.com/github/Park-New-project/TIL/blob/main/%5BAI%5D_220920.ipynb\" target=\"_parent\"><img src=\"https://colab.research.google.com/assets/colab-badge.svg\" alt=\"Open In Colab\"/></a>"
      ]
    },
    {
      "cell_type": "code",
      "execution_count": null,
      "metadata": {
        "id": "fZH3f0C4VqRa",
        "colab": {
          "base_uri": "https://localhost:8080/"
        },
        "outputId": "05bfcff1-7d89-4002-8b5a-4283b3c09e5e"
      },
      "outputs": [
        {
          "output_type": "stream",
          "name": "stdout",
          "text": [
            "/********************************\n",
            "*                               *\n",
            "*         이름 : Park           *\n",
            "*         나이 : 25             *\n",
            "*         주소 : Korea          *\n",
            "*                               *\n",
            "********************************/\n"
          ]
        }
      ],
      "source": [
        "# 실습 1\n",
        "name = \"Park\"\n",
        "age = 25\n",
        "address = \"Korea\"\n",
        "\n",
        "print(\"/\" + \"*\" * 32)\n",
        "print(\"*\" + \" \" * 31 + \"*\")\n",
        "print(\"*         이름 : \" + name + \"           *\")\n",
        "print(\"*         나이 : \" + str(age) + \"             *\")\n",
        "print(\"*         주소 : \" + address + \"          *\")\n",
        "print(\"*\" + \" \" * 31 + \"*\")\n",
        "print(\"*\" * 32 + \"/\")\n"
      ]
    },
    {
      "cell_type": "code",
      "source": [
        "# 실습 2\n",
        "ap = 4.5\n",
        "a = 4\n",
        "bp = 3.5\n",
        "b = 3\n",
        "cp = 2.5\n",
        "c = 2\n",
        "\n",
        "eng = 2 \n",
        "mat = 3 \n",
        "kor = 3\n",
        "count = eng + mat + kor\n",
        "\n",
        "eng = 2 * a\n",
        "mat = 3 * bp\n",
        "kor = 3 * c\n",
        "sum = eng + mat + kor\n",
        "avg = sum / count\n",
        "print(\"철수의 평균 성적 : \", avg)"
      ],
      "metadata": {
        "colab": {
          "base_uri": "https://localhost:8080/"
        },
        "id": "kta3bBXOr5VT",
        "outputId": "b5ce4710-3ac4-4e62-e2fa-9a0d9a70e6b7"
      },
      "execution_count": null,
      "outputs": [
        {
          "output_type": "stream",
          "name": "stdout",
          "text": [
            "철수의 평균 성적 :  3.0625\n"
          ]
        }
      ]
    },
    {
      "cell_type": "markdown",
      "source": [
        "# 인터페이스\n",
        "- CLI(Command)\n",
        "- GUI (Graphical)\n",
        "- WUI (Web)\n",
        "- Touch Interface"
      ],
      "metadata": {
        "id": "YJ-JW1nMtGAp"
      }
    },
    {
      "cell_type": "code",
      "source": [
        "2# 키보드 입력\n",
        "i = input(\"숫자를 입력하세요 : \")\n",
        "print(i)\n",
        "print(\"입력 타입 : \", type(i)) # 입력받는 값은 str"
      ],
      "metadata": {
        "colab": {
          "base_uri": "https://localhost:8080/"
        },
        "id": "Hltu4LQYt6SQ",
        "outputId": "02dada63-e18b-4296-dec0-49fab6be0cbf"
      },
      "execution_count": null,
      "outputs": [
        {
          "output_type": "stream",
          "name": "stdout",
          "text": [
            "숫자를 입력하세요 : 100\n",
            "100\n",
            "입력 타입 :  <class 'str'>\n"
          ]
        }
      ]
    },
    {
      "cell_type": "code",
      "source": [
        "a = input(\"첫번째 수 : \")\n",
        "b = input(\"두번째 수 : \")\n",
        "print(a+b)"
      ],
      "metadata": {
        "colab": {
          "base_uri": "https://localhost:8080/"
        },
        "id": "ua1MwRw9ufNZ",
        "outputId": "d9ab1b47-9696-4b59-c8cb-7d4a79f1f6bd"
      },
      "execution_count": null,
      "outputs": [
        {
          "output_type": "stream",
          "name": "stdout",
          "text": [
            "첫번째 수 : 100\n",
            "두번째 수 : 200\n",
            "100200\n"
          ]
        }
      ]
    },
    {
      "cell_type": "code",
      "source": [
        "a = input(\"첫번째 수 : \")\n",
        "b = input(\"두번째 수 : \")\n",
        "print(int(a)+int(b))"
      ],
      "metadata": {
        "colab": {
          "base_uri": "https://localhost:8080/"
        },
        "id": "6g8fxETIu77R",
        "outputId": "d0d6697d-1312-4431-e002-fa6e8e99b4ea"
      },
      "execution_count": null,
      "outputs": [
        {
          "output_type": "stream",
          "name": "stdout",
          "text": [
            "첫번째 수 : 100\n",
            "두번째 수 : 200\n",
            "300\n"
          ]
        }
      ]
    },
    {
      "cell_type": "code",
      "source": [
        "# 이름과 생년을 입력받아 이름과 나이 출력\n",
        "name = input(\"이름 : \")\n",
        "year = input(\"생년 : \")\n",
        "age = 2022 - int(year) + 1 \n",
        "print(name + \"의 나이는\", age, \"세 입니다.\")"
      ],
      "metadata": {
        "colab": {
          "base_uri": "https://localhost:8080/"
        },
        "id": "YTh4tAACvEo6",
        "outputId": "04d4e873-bc91-4ccc-9971-b7eee20a2100"
      },
      "execution_count": null,
      "outputs": [
        {
          "output_type": "stream",
          "name": "stdout",
          "text": [
            "이름 : Park\n",
            "생년 : 1998\n",
            "Park의 나이는 25 세 입니다.\n"
          ]
        }
      ]
    },
    {
      "cell_type": "markdown",
      "source": [
        "# int(input())\n",
        "int(input(\"입력하세요 : \"))\n",
        "\n",
        "# input.split()\n",
        "input(\"입력하세요 : \").split()"
      ],
      "metadata": {
        "id": "FAXU4EWPue9a"
      }
    },
    {
      "cell_type": "code",
      "source": [
        "x, y = input(\"남학생의 수와 여학생의 수를 입력하세요 : \").split()\n",
        "print(\"남학생의 수 : \", x)\n",
        "print(\"여학생의 수 : \", y)"
      ],
      "metadata": {
        "colab": {
          "base_uri": "https://localhost:8080/"
        },
        "id": "s3iOHLL9wS95",
        "outputId": "fa6b0e63-7e6c-4699-e366-014cec6ce14b"
      },
      "execution_count": null,
      "outputs": [
        {
          "output_type": "stream",
          "name": "stdout",
          "text": [
            "남학생의 수와 여학생의 수를 입력하세요 : 100 200\n",
            "남학생의 수 :  100\n",
            "여학생의 수 :  200\n"
          ]
        }
      ]
    },
    {
      "cell_type": "code",
      "source": [
        "x, y = input(\"남학생의 수와 여학생의 수를 입력하세요 : \").split('$')\n",
        "print(\"남학생의 수 : \", x)\n",
        "print(\"여학생의 수 : \", y)"
      ],
      "metadata": {
        "colab": {
          "base_uri": "https://localhost:8080/"
        },
        "id": "xbbN1nhzwgkB",
        "outputId": "0c4f1d27-3dbe-4c4f-f33b-6a14baac80ae"
      },
      "execution_count": null,
      "outputs": [
        {
          "output_type": "stream",
          "name": "stdout",
          "text": [
            "남학생의 수와 여학생의 수를 입력하세요 : 100$200\n",
            "남학생의 수 :  100\n",
            "여학생의 수 :  200\n"
          ]
        }
      ]
    },
    {
      "cell_type": "code",
      "source": [
        "a = int(input(\"수 입력 : \"))\n",
        "print(a)\n",
        "print(\"입력 타입 : \", type(a)) "
      ],
      "metadata": {
        "colab": {
          "base_uri": "https://localhost:8080/"
        },
        "id": "E3UGyMYRw14Z",
        "outputId": "94de866a-16dc-4df4-90b0-7acdd1349d0d"
      },
      "execution_count": null,
      "outputs": [
        {
          "output_type": "stream",
          "name": "stdout",
          "text": [
            "수 입력 : 100\n",
            "100\n",
            "입력 타입 :  <class 'int'>\n"
          ]
        }
      ]
    },
    {
      "cell_type": "markdown",
      "source": [
        "# 알고리즘\n",
        "- 입력, 출력, 영향성, 유한성, 유효성\n",
        "\n",
        "# 조건문\n",
        "- if (switch X)\n",
        "\n",
        "# 반복문\n",
        "- while (do~while X)\n",
        "- for"
      ],
      "metadata": {
        "id": "NqNvAnFR0dkp"
      }
    },
    {
      "cell_type": "code",
      "source": [
        "# 실습 3\n",
        "r = 3\n",
        "pi = 3.14159\n",
        "\n",
        "area = pi * r**2\n",
        "vol = 4/3 * pi * r**3\n",
        "print(area, vol)"
      ],
      "metadata": {
        "colab": {
          "base_uri": "https://localhost:8080/"
        },
        "id": "3Egb7c38r8Ab",
        "outputId": "6933fdc2-b44f-4354-ecf6-a36df13ba232"
      },
      "execution_count": null,
      "outputs": [
        {
          "output_type": "stream",
          "name": "stdout",
          "text": [
            "28.27431 113.09723999999999\n"
          ]
        }
      ]
    },
    {
      "cell_type": "markdown",
      "source": [
        "# 순차구조\n",
        "- 순차적으로 실행하고 끝남\n",
        "\n",
        "# 조건구조\n",
        "- 조건이 참이면 실행\n",
        "- if 문\n",
        "- 다중 if 문\n",
        "\n",
        "# 반복구조\n",
        "- 조건이 참이면 반복\n",
        "- while 문\n",
        "\n",
        "\n"
      ],
      "metadata": {
        "id": "W-MYxEUq0j1U"
      }
    },
    {
      "cell_type": "code",
      "source": [
        "num = int(input(\"정수를 입력 : \"))\n",
        "\n",
        "if num % 2 == 0:\n",
        "  print(\"짝수\")\n",
        "  \n",
        "else: \n",
        "  print(\"홀수\")\n"
      ],
      "metadata": {
        "colab": {
          "base_uri": "https://localhost:8080/"
        },
        "id": "bBOoeOkz0muD",
        "outputId": "2daa2ab6-a7ae-4a2a-b785-3c929042bc9d"
      },
      "execution_count": 3,
      "outputs": [
        {
          "output_type": "stream",
          "name": "stdout",
          "text": [
            "정수를 입력 : 31\n",
            "홀수\n"
          ]
        }
      ]
    },
    {
      "cell_type": "code",
      "source": [
        "num = int(input(\"정수를 입력 : \"))\n",
        "\n",
        "if num == 1:\n",
        "  print(\"1 입니다\")\n",
        "\n",
        "elif num == 2:\n",
        "    print(\"2 입니다\")\n",
        "  \n",
        "elif num == 3:\n",
        "    print(\"3 입니다\")\n",
        "  \n",
        "else: \n",
        "  print(\"not\")"
      ],
      "metadata": {
        "colab": {
          "base_uri": "https://localhost:8080/"
        },
        "id": "zts2DeMi39RY",
        "outputId": "786e11ef-1321-46b0-c5dd-ab584f3f95b0"
      },
      "execution_count": 5,
      "outputs": [
        {
          "output_type": "stream",
          "name": "stdout",
          "text": [
            "정수를 입력 : 1\n",
            "1 입니다\n"
          ]
        }
      ]
    },
    {
      "cell_type": "code",
      "source": [
        "name = input(\"이름 : \")\n",
        "kor = int(input(\"국어 성적을 입력 : \"))\n",
        "eng = int(input(\"영어 성적을 입력 : \"))\n",
        "mat = int(input(\"수학 성적을 입력 : \"))\n",
        "sum = kor + eng + mat\n",
        "avg = sum/3\n",
        "grade = \"\"\n",
        "\n",
        "if avg == 100:\n",
        "  grade = \"A++\"\n",
        "\n",
        "elif avg > 90:\n",
        "  grade = \"A\"\n",
        "  \n",
        "elif avg > 80:\n",
        "  grade = \"B\"\n",
        "\n",
        "elif avg > 70:\n",
        "  grade = \"C\"\n",
        "\n",
        "elif avg > 60:\n",
        "  grade = \"D\"\n",
        "  \n",
        "else: \n",
        "  grade = \"F\"\n",
        "\n",
        "print(\"=\"*40)\n",
        "print(\"이름   국어    영어    수학    총점    평균    학점\")\n",
        "print(\"=\"*40)\n",
        "print(name, \"   \",kor, \"   \",eng, \"   \",mat, \"   \",sum, \"   \",avg,\"   \",grade)"
      ],
      "metadata": {
        "colab": {
          "base_uri": "https://localhost:8080/"
        },
        "id": "WG5lQrDm4Zmm",
        "outputId": "94f90de8-ea1e-4e07-c64d-98101fe3b808"
      },
      "execution_count": 10,
      "outputs": [
        {
          "output_type": "stream",
          "name": "stdout",
          "text": [
            "이름 : Park\n",
            "국어 성적을 입력 : 92\n",
            "영어 성적을 입력 : 87\n",
            "수학 성적을 입력 : 88\n",
            "========================================\n",
            "이름   국어    영어    수학    총점    평균    학점\n",
            "========================================\n",
            "Park     92     87     88     267     89.0     B\n"
          ]
        }
      ]
    },
    {
      "cell_type": "code",
      "source": [],
      "metadata": {
        "id": "g3AzRqVH49Bj"
      },
      "execution_count": 9,
      "outputs": []
    },
    {
      "cell_type": "markdown",
      "source": [
        "# 관계 연산자\n",
        "- a==b, a!=b, a>b, a<b, a>=b,a<=b\n",
        "\n",
        "# 논리 연산자\n",
        "- a and b, a or b, not a\n",
        "\n",
        "# 들여쓰기\n",
        "- \":\" 조건 아래의 명령은 반드시 들여 쓰기를 해야 하고 동일하게 맞춰야 한다.\n",
        "\n"
      ],
      "metadata": {
        "id": "_Id0fTnA6vqs"
      }
    },
    {
      "cell_type": "code",
      "source": [
        "a = int(input(\"정수 A를 입력 : \"))\n",
        "b = int(input(\"정수 B를 입력 : \"))\n",
        "c = int(input(\"정수 C를 입력 : \"))\n",
        "\n",
        "if a > b :\n",
        "  if a > c:\n",
        "    max = a\n",
        "  else : \n",
        "    max = c\n",
        "else:\n",
        "  if b > c:\n",
        "    max = b\n",
        "  else : \n",
        "    max = c\n",
        "\n",
        "print(\"제일 큰 수는\", max)"
      ],
      "metadata": {
        "colab": {
          "base_uri": "https://localhost:8080/"
        },
        "id": "dS1hmWnq7UCr",
        "outputId": "ab62f210-963e-460e-9cd6-70b2314694ee"
      },
      "execution_count": 18,
      "outputs": [
        {
          "output_type": "stream",
          "name": "stdout",
          "text": [
            "정수 A를 입력 : 6\n",
            "정수 B를 입력 : 3\n",
            "정수 C를 입력 : 11\n",
            "제일 큰 수는 11\n"
          ]
        }
      ]
    },
    {
      "cell_type": "markdown",
      "source": [
        "# 무한 루프\n",
        "- 종료 조건을 만족하지 못하고 무한 실행\n",
        "\n"
      ],
      "metadata": {
        "id": "a44aeFWi97kk"
      }
    },
    {
      "cell_type": "code",
      "source": [
        "cnt = 1\n",
        "\n",
        "while cnt < 5:\n",
        "  print(cnt)\n",
        "  cnt = cnt+1\n",
        "print (\"end\")"
      ],
      "metadata": {
        "colab": {
          "base_uri": "https://localhost:8080/"
        },
        "id": "sPeOUHDA8KQX",
        "outputId": "d85d4f9c-6baa-4a7d-831d-2e1591568e22"
      },
      "execution_count": 20,
      "outputs": [
        {
          "output_type": "stream",
          "name": "stdout",
          "text": [
            "1\n",
            "2\n",
            "3\n",
            "4\n",
            "end\n"
          ]
        }
      ]
    },
    {
      "cell_type": "code",
      "source": [
        "cnt = 1\n",
        "\n",
        "while cnt < 5:\n",
        "  cnt = cnt+1\n",
        "  print(cnt)\n",
        "print (\"end\")"
      ],
      "metadata": {
        "colab": {
          "base_uri": "https://localhost:8080/"
        },
        "id": "WQBH4SQr9gL9",
        "outputId": "6c431ad3-154d-45ad-f91d-5287986d50b6"
      },
      "execution_count": 21,
      "outputs": [
        {
          "output_type": "stream",
          "name": "stdout",
          "text": [
            "2\n",
            "3\n",
            "4\n",
            "5\n",
            "end\n"
          ]
        }
      ]
    }
  ]
}