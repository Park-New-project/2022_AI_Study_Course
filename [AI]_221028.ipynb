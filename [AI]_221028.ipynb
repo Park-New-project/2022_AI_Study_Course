{
  "nbformat": 4,
  "nbformat_minor": 0,
  "metadata": {
    "colab": {
      "provenance": [],
      "collapsed_sections": [],
      "authorship_tag": "ABX9TyNXzuuqan+9sePS/PQwvHFd",
      "include_colab_link": true
    },
    "kernelspec": {
      "name": "python3",
      "display_name": "Python 3"
    },
    "language_info": {
      "name": "python"
    }
  },
  "cells": [
    {
      "cell_type": "markdown",
      "metadata": {
        "id": "view-in-github",
        "colab_type": "text"
      },
      "source": [
        "<a href=\"https://colab.research.google.com/github/Park-New-project/TIL/blob/main/%5BAI%5D_221028.ipynb\" target=\"_parent\"><img src=\"https://colab.research.google.com/assets/colab-badge.svg\" alt=\"Open In Colab\"/></a>"
      ]
    },
    {
      "cell_type": "markdown",
      "source": [
        "# 다중 분류 문제 해결하기"
      ],
      "metadata": {
        "id": "2aIJ-bCjLk6K"
      }
    },
    {
      "cell_type": "code",
      "execution_count": null,
      "metadata": {
        "id": "49et6O3_Ql1O",
        "colab": {
          "base_uri": "https://localhost:8080/"
        },
        "outputId": "df32d897-c72e-40c6-f293-783a99768cb0"
      },
      "outputs": [
        {
          "output_type": "stream",
          "name": "stdout",
          "text": [
            "Mounted at /content/gdrive\n"
          ]
        }
      ],
      "source": [
        "from google.colab import drive\n",
        "drive.mount('/content/gdrive', force_remount=True)"
      ]
    },
    {
      "cell_type": "code",
      "source": [
        "!pip install tensorflow==2.6.1"
      ],
      "metadata": {
        "colab": {
          "base_uri": "https://localhost:8080/"
        },
        "id": "8cWlGkQ4MQyN",
        "outputId": "5ce2a352-9a9f-4a03-f0af-cbf421b5ea1a"
      },
      "execution_count": null,
      "outputs": [
        {
          "output_type": "stream",
          "name": "stdout",
          "text": [
            "Looking in indexes: https://pypi.org/simple, https://us-python.pkg.dev/colab-wheels/public/simple/\n",
            "Requirement already satisfied: tensorflow==2.6.1 in /usr/local/lib/python3.7/dist-packages (2.6.1)\n",
            "Requirement already satisfied: protobuf>=3.9.2 in /usr/local/lib/python3.7/dist-packages (from tensorflow==2.6.1) (3.17.3)\n",
            "Requirement already satisfied: astunparse~=1.6.3 in /usr/local/lib/python3.7/dist-packages (from tensorflow==2.6.1) (1.6.3)\n",
            "Requirement already satisfied: gast==0.4.0 in /usr/local/lib/python3.7/dist-packages (from tensorflow==2.6.1) (0.4.0)\n",
            "Requirement already satisfied: tensorflow-estimator<2.7 in /usr/local/lib/python3.7/dist-packages (from tensorflow==2.6.1) (2.6.0)\n",
            "Requirement already satisfied: six~=1.15.0 in /usr/local/lib/python3.7/dist-packages (from tensorflow==2.6.1) (1.15.0)\n",
            "Requirement already satisfied: clang~=5.0 in /usr/local/lib/python3.7/dist-packages (from tensorflow==2.6.1) (5.0)\n",
            "Requirement already satisfied: flatbuffers~=1.12.0 in /usr/local/lib/python3.7/dist-packages (from tensorflow==2.6.1) (1.12)\n",
            "Requirement already satisfied: google-pasta~=0.2 in /usr/local/lib/python3.7/dist-packages (from tensorflow==2.6.1) (0.2.0)\n",
            "Requirement already satisfied: typing-extensions~=3.7.4 in /usr/local/lib/python3.7/dist-packages (from tensorflow==2.6.1) (3.7.4.3)\n",
            "Requirement already satisfied: wheel~=0.35 in /usr/local/lib/python3.7/dist-packages (from tensorflow==2.6.1) (0.38.1)\n",
            "Requirement already satisfied: h5py~=3.1.0 in /usr/local/lib/python3.7/dist-packages (from tensorflow==2.6.1) (3.1.0)\n",
            "Requirement already satisfied: wrapt~=1.12.1 in /usr/local/lib/python3.7/dist-packages (from tensorflow==2.6.1) (1.12.1)\n",
            "Requirement already satisfied: tensorboard~=2.6 in /usr/local/lib/python3.7/dist-packages (from tensorflow==2.6.1) (2.9.1)\n",
            "Requirement already satisfied: termcolor~=1.1.0 in /usr/local/lib/python3.7/dist-packages (from tensorflow==2.6.1) (1.1.0)\n",
            "Requirement already satisfied: keras~=2.6 in /usr/local/lib/python3.7/dist-packages (from tensorflow==2.6.1) (2.6.0)\n",
            "Requirement already satisfied: grpcio<2.0,>=1.37.0 in /usr/local/lib/python3.7/dist-packages (from tensorflow==2.6.1) (1.50.0)\n",
            "Requirement already satisfied: keras-preprocessing~=1.1.2 in /usr/local/lib/python3.7/dist-packages (from tensorflow==2.6.1) (1.1.2)\n",
            "Requirement already satisfied: absl-py~=0.10 in /usr/local/lib/python3.7/dist-packages (from tensorflow==2.6.1) (0.15.0)\n",
            "Requirement already satisfied: numpy~=1.19.2 in /usr/local/lib/python3.7/dist-packages (from tensorflow==2.6.1) (1.19.5)\n",
            "Requirement already satisfied: opt-einsum~=3.3.0 in /usr/local/lib/python3.7/dist-packages (from tensorflow==2.6.1) (3.3.0)\n",
            "Requirement already satisfied: cached-property in /usr/local/lib/python3.7/dist-packages (from h5py~=3.1.0->tensorflow==2.6.1) (1.5.2)\n",
            "Requirement already satisfied: google-auth<3,>=1.6.3 in /usr/local/lib/python3.7/dist-packages (from tensorboard~=2.6->tensorflow==2.6.1) (1.35.0)\n",
            "Requirement already satisfied: tensorboard-plugin-wit>=1.6.0 in /usr/local/lib/python3.7/dist-packages (from tensorboard~=2.6->tensorflow==2.6.1) (1.8.1)\n",
            "Requirement already satisfied: markdown>=2.6.8 in /usr/local/lib/python3.7/dist-packages (from tensorboard~=2.6->tensorflow==2.6.1) (3.4.1)\n",
            "Requirement already satisfied: requests<3,>=2.21.0 in /usr/local/lib/python3.7/dist-packages (from tensorboard~=2.6->tensorflow==2.6.1) (2.23.0)\n",
            "Requirement already satisfied: werkzeug>=1.0.1 in /usr/local/lib/python3.7/dist-packages (from tensorboard~=2.6->tensorflow==2.6.1) (1.0.1)\n",
            "Requirement already satisfied: setuptools>=41.0.0 in /usr/local/lib/python3.7/dist-packages (from tensorboard~=2.6->tensorflow==2.6.1) (57.4.0)\n",
            "Requirement already satisfied: google-auth-oauthlib<0.5,>=0.4.1 in /usr/local/lib/python3.7/dist-packages (from tensorboard~=2.6->tensorflow==2.6.1) (0.4.6)\n",
            "Requirement already satisfied: tensorboard-data-server<0.7.0,>=0.6.0 in /usr/local/lib/python3.7/dist-packages (from tensorboard~=2.6->tensorflow==2.6.1) (0.6.1)\n",
            "Requirement already satisfied: cachetools<5.0,>=2.0.0 in /usr/local/lib/python3.7/dist-packages (from google-auth<3,>=1.6.3->tensorboard~=2.6->tensorflow==2.6.1) (4.2.4)\n",
            "Requirement already satisfied: pyasn1-modules>=0.2.1 in /usr/local/lib/python3.7/dist-packages (from google-auth<3,>=1.6.3->tensorboard~=2.6->tensorflow==2.6.1) (0.2.8)\n",
            "Requirement already satisfied: rsa<5,>=3.1.4 in /usr/local/lib/python3.7/dist-packages (from google-auth<3,>=1.6.3->tensorboard~=2.6->tensorflow==2.6.1) (4.9)\n",
            "Requirement already satisfied: requests-oauthlib>=0.7.0 in /usr/local/lib/python3.7/dist-packages (from google-auth-oauthlib<0.5,>=0.4.1->tensorboard~=2.6->tensorflow==2.6.1) (1.3.1)\n",
            "Requirement already satisfied: importlib-metadata>=4.4 in /usr/local/lib/python3.7/dist-packages (from markdown>=2.6.8->tensorboard~=2.6->tensorflow==2.6.1) (4.13.0)\n",
            "Requirement already satisfied: zipp>=0.5 in /usr/local/lib/python3.7/dist-packages (from importlib-metadata>=4.4->markdown>=2.6.8->tensorboard~=2.6->tensorflow==2.6.1) (3.10.0)\n",
            "Requirement already satisfied: pyasn1<0.5.0,>=0.4.6 in /usr/local/lib/python3.7/dist-packages (from pyasn1-modules>=0.2.1->google-auth<3,>=1.6.3->tensorboard~=2.6->tensorflow==2.6.1) (0.4.8)\n",
            "Requirement already satisfied: certifi>=2017.4.17 in /usr/local/lib/python3.7/dist-packages (from requests<3,>=2.21.0->tensorboard~=2.6->tensorflow==2.6.1) (2022.9.24)\n",
            "Requirement already satisfied: chardet<4,>=3.0.2 in /usr/local/lib/python3.7/dist-packages (from requests<3,>=2.21.0->tensorboard~=2.6->tensorflow==2.6.1) (3.0.4)\n",
            "Requirement already satisfied: idna<3,>=2.5 in /usr/local/lib/python3.7/dist-packages (from requests<3,>=2.21.0->tensorboard~=2.6->tensorflow==2.6.1) (2.10)\n",
            "Requirement already satisfied: urllib3!=1.25.0,!=1.25.1,<1.26,>=1.21.1 in /usr/local/lib/python3.7/dist-packages (from requests<3,>=2.21.0->tensorboard~=2.6->tensorflow==2.6.1) (1.24.3)\n",
            "Requirement already satisfied: oauthlib>=3.0.0 in /usr/local/lib/python3.7/dist-packages (from requests-oauthlib>=0.7.0->google-auth-oauthlib<0.5,>=0.4.1->tensorboard~=2.6->tensorflow==2.6.1) (3.2.2)\n"
          ]
        }
      ]
    },
    {
      "cell_type": "code",
      "source": [
        "!pip install keras==2.6"
      ],
      "metadata": {
        "colab": {
          "base_uri": "https://localhost:8080/"
        },
        "id": "bNtCXsHbMR5e",
        "outputId": "7ed63932-0ad2-4e01-cb52-3a0604eef0c5"
      },
      "execution_count": null,
      "outputs": [
        {
          "output_type": "stream",
          "name": "stdout",
          "text": [
            "Looking in indexes: https://pypi.org/simple, https://us-python.pkg.dev/colab-wheels/public/simple/\n",
            "Requirement already satisfied: keras==2.6 in /usr/local/lib/python3.7/dist-packages (2.6.0)\n"
          ]
        }
      ]
    },
    {
      "cell_type": "code",
      "source": [
        "import pandas as pd\n",
        "import seaborn as sns\n",
        "import matplotlib.pyplot as plt"
      ],
      "metadata": {
        "id": "W7ac8ax4MWD3"
      },
      "execution_count": null,
      "outputs": []
    },
    {
      "cell_type": "code",
      "source": [
        "df = pd.read_csv(\"/content/gdrive/MyDrive/Colab/data/iris.csv\", names=['sepal_len','sepal_width',\n",
        "                                                                        'petal_length', 'petal_width', 'species'])"
      ],
      "metadata": {
        "id": "GC7UJyKmM1ln"
      },
      "execution_count": null,
      "outputs": []
    },
    {
      "cell_type": "code",
      "source": [
        "# data set에서 쌍대관계를 플로팅\n",
        "sns.pairplot(df, hue=\"species\")\n",
        "plt.show()"
      ],
      "metadata": {
        "colab": {
          "base_uri": "https://localhost:8080/",
          "height": 726
        },
        "id": "cFi8QDT5NPR_",
        "outputId": "7d64c4ec-9486-4263-927a-abdd41dd7f14"
      },
      "execution_count": null,
      "outputs": [
        {
          "output_type": "display_data",
          "data": {
            "text/plain": [
              "<Figure size 823.25x720 with 20 Axes>"
            ],
            "image/png": "[encoded data removed]"
          },
          "metadata": {
            "needs_background": "light"
          }
        }
      ]
    },
    {
      "cell_type": "markdown",
      "source": [
        "# 원 핫 인코딩\n",
        "- 다 10인데 하나만 뜨겁다.\n",
        "- 다중분류에서 정답은 반드시 원 핫 인코딩 이어야한다.\n",
        "- 다중분류에서 문자열에서 숫자로 바꿀때는 레이블 핫 인코딩\n",
        "- ex) \n",
        "- 0(setosa) -> [1,0,0]\n",
        "- 1(versicolor) -> [0,1,0]\n",
        "- 2(verginica) -> [0,0,1]"
      ],
      "metadata": {
        "id": "_Qoz_XJRO27S"
      }
    },
    {
      "cell_type": "code",
      "source": [
        "# 데이터 전처리 \n",
        "\n",
        "df.values"
      ],
      "metadata": {
        "colab": {
          "base_uri": "https://localhost:8080/"
        },
        "id": "jQyUj4WRN50y",
        "outputId": "b59267d7-bd19-4046-ec84-e0454495d3dc"
      },
      "execution_count": null,
      "outputs": [
        {
          "output_type": "execute_result",
          "data": {
            "text/plain": [
              "array([[5.1, 3.5, 1.4, 0.2, 'Iris-setosa'],\n",
              "       [4.9, 3.0, 1.4, 0.2, 'Iris-setosa'],\n",
              "       [4.7, 3.2, 1.3, 0.2, 'Iris-setosa'],\n",
              "       [4.6, 3.1, 1.5, 0.2, 'Iris-setosa'],\n",
              "       [5.0, 3.6, 1.4, 0.2, 'Iris-setosa'],\n",
              "       [5.4, 3.9, 1.7, 0.4, 'Iris-setosa'],\n",
              "       [4.6, 3.4, 1.4, 0.3, 'Iris-setosa'],\n",
              "       [5.0, 3.4, 1.5, 0.2, 'Iris-setosa'],\n",
              "       [4.4, 2.9, 1.4, 0.2, 'Iris-setosa'],\n",
              "       [4.9, 3.1, 1.5, 0.1, 'Iris-setosa'],\n",
              "       [5.4, 3.7, 1.5, 0.2, 'Iris-setosa'],\n",
              "       [4.8, 3.4, 1.6, 0.2, 'Iris-setosa'],\n",
              "       [4.8, 3.0, 1.4, 0.1, 'Iris-setosa'],\n",
              "       [4.3, 3.0, 1.1, 0.1, 'Iris-setosa'],\n",
              "       [5.8, 4.0, 1.2, 0.2, 'Iris-setosa'],\n",
              "       [5.7, 4.4, 1.5, 0.4, 'Iris-setosa'],\n",
              "       [5.4, 3.9, 1.3, 0.4, 'Iris-setosa'],\n",
              "       [5.1, 3.5, 1.4, 0.3, 'Iris-setosa'],\n",
              "       [5.7, 3.8, 1.7, 0.3, 'Iris-setosa'],\n",
              "       [5.1, 3.8, 1.5, 0.3, 'Iris-setosa'],\n",
              "       [5.4, 3.4, 1.7, 0.2, 'Iris-setosa'],\n",
              "       [5.1, 3.7, 1.5, 0.4, 'Iris-setosa'],\n",
              "       [4.6, 3.6, 1.0, 0.2, 'Iris-setosa'],\n",
              "       [5.1, 3.3, 1.7, 0.5, 'Iris-setosa'],\n",
              "       [4.8, 3.4, 1.9, 0.2, 'Iris-setosa'],\n",
              "       [5.0, 3.0, 1.6, 0.2, 'Iris-setosa'],\n",
              "       [5.0, 3.4, 1.6, 0.4, 'Iris-setosa'],\n",
              "       [5.2, 3.5, 1.5, 0.2, 'Iris-setosa'],\n",
              "       [5.2, 3.4, 1.4, 0.2, 'Iris-setosa'],\n",
              "       [4.7, 3.2, 1.6, 0.2, 'Iris-setosa'],\n",
              "       [4.8, 3.1, 1.6, 0.2, 'Iris-setosa'],\n",
              "       [5.4, 3.4, 1.5, 0.4, 'Iris-setosa'],\n",
              "       [5.2, 4.1, 1.5, 0.1, 'Iris-setosa'],\n",
              "       [5.5, 4.2, 1.4, 0.2, 'Iris-setosa'],\n",
              "       [4.9, 3.1, 1.5, 0.1, 'Iris-setosa'],\n",
              "       [5.0, 3.2, 1.2, 0.2, 'Iris-setosa'],\n",
              "       [5.5, 3.5, 1.3, 0.2, 'Iris-setosa'],\n",
              "       [4.9, 3.1, 1.5, 0.1, 'Iris-setosa'],\n",
              "       [4.4, 3.0, 1.3, 0.2, 'Iris-setosa'],\n",
              "       [5.1, 3.4, 1.5, 0.2, 'Iris-setosa'],\n",
              "       [5.0, 3.5, 1.3, 0.3, 'Iris-setosa'],\n",
              "       [4.5, 2.3, 1.3, 0.3, 'Iris-setosa'],\n",
              "       [4.4, 3.2, 1.3, 0.2, 'Iris-setosa'],\n",
              "       [5.0, 3.5, 1.6, 0.6, 'Iris-setosa'],\n",
              "       [5.1, 3.8, 1.9, 0.4, 'Iris-setosa'],\n",
              "       [4.8, 3.0, 1.4, 0.3, 'Iris-setosa'],\n",
              "       [5.1, 3.8, 1.6, 0.2, 'Iris-setosa'],\n",
              "       [4.6, 3.2, 1.4, 0.2, 'Iris-setosa'],\n",
              "       [5.3, 3.7, 1.5, 0.2, 'Iris-setosa'],\n",
              "       [5.0, 3.3, 1.4, 0.2, 'Iris-setosa'],\n",
              "       [7.0, 3.2, 4.7, 1.4, 'Iris-versicolor'],\n",
              "       [6.4, 3.2, 4.5, 1.5, 'Iris-versicolor'],\n",
              "       [6.9, 3.1, 4.9, 1.5, 'Iris-versicolor'],\n",
              "       [5.5, 2.3, 4.0, 1.3, 'Iris-versicolor'],\n",
              "       [6.5, 2.8, 4.6, 1.5, 'Iris-versicolor'],\n",
              "       [5.7, 2.8, 4.5, 1.3, 'Iris-versicolor'],\n",
              "       [6.3, 3.3, 4.7, 1.6, 'Iris-versicolor'],\n",
              "       [4.9, 2.4, 3.3, 1.0, 'Iris-versicolor'],\n",
              "       [6.6, 2.9, 4.6, 1.3, 'Iris-versicolor'],\n",
              "       [5.2, 2.7, 3.9, 1.4, 'Iris-versicolor'],\n",
              "       [5.0, 2.0, 3.5, 1.0, 'Iris-versicolor'],\n",
              "       [5.9, 3.0, 4.2, 1.5, 'Iris-versicolor'],\n",
              "       [6.0, 2.2, 4.0, 1.0, 'Iris-versicolor'],\n",
              "       [6.1, 2.9, 4.7, 1.4, 'Iris-versicolor'],\n",
              "       [5.6, 2.9, 3.6, 1.3, 'Iris-versicolor'],\n",
              "       [6.7, 3.1, 4.4, 1.4, 'Iris-versicolor'],\n",
              "       [5.6, 3.0, 4.5, 1.5, 'Iris-versicolor'],\n",
              "       [5.8, 2.7, 4.1, 1.0, 'Iris-versicolor'],\n",
              "       [6.2, 2.2, 4.5, 1.5, 'Iris-versicolor'],\n",
              "       [5.6, 2.5, 3.9, 1.1, 'Iris-versicolor'],\n",
              "       [5.9, 3.2, 4.8, 1.8, 'Iris-versicolor'],\n",
              "       [6.1, 2.8, 4.0, 1.3, 'Iris-versicolor'],\n",
              "       [6.3, 2.5, 4.9, 1.5, 'Iris-versicolor'],\n",
              "       [6.1, 2.8, 4.7, 1.2, 'Iris-versicolor'],\n",
              "       [6.4, 2.9, 4.3, 1.3, 'Iris-versicolor'],\n",
              "       [6.6, 3.0, 4.4, 1.4, 'Iris-versicolor'],\n",
              "       [6.8, 2.8, 4.8, 1.4, 'Iris-versicolor'],\n",
              "       [6.7, 3.0, 5.0, 1.7, 'Iris-versicolor'],\n",
              "       [6.0, 2.9, 4.5, 1.5, 'Iris-versicolor'],\n",
              "       [5.7, 2.6, 3.5, 1.0, 'Iris-versicolor'],\n",
              "       [5.5, 2.4, 3.8, 1.1, 'Iris-versicolor'],\n",
              "       [5.5, 2.4, 3.7, 1.0, 'Iris-versicolor'],\n",
              "       [5.8, 2.7, 3.9, 1.2, 'Iris-versicolor'],\n",
              "       [6.0, 2.7, 5.1, 1.6, 'Iris-versicolor'],\n",
              "       [5.4, 3.0, 4.5, 1.5, 'Iris-versicolor'],\n",
              "       [6.0, 3.4, 4.5, 1.6, 'Iris-versicolor'],\n",
              "       [6.7, 3.1, 4.7, 1.5, 'Iris-versicolor'],\n",
              "       [6.3, 2.3, 4.4, 1.3, 'Iris-versicolor'],\n",
              "       [5.6, 3.0, 4.1, 1.3, 'Iris-versicolor'],\n",
              "       [5.5, 2.5, 4.0, 1.3, 'Iris-versicolor'],\n",
              "       [5.5, 2.6, 4.4, 1.2, 'Iris-versicolor'],\n",
              "       [6.1, 3.0, 4.6, 1.4, 'Iris-versicolor'],\n",
              "       [5.8, 2.6, 4.0, 1.2, 'Iris-versicolor'],\n",
              "       [5.0, 2.3, 3.3, 1.0, 'Iris-versicolor'],\n",
              "       [5.6, 2.7, 4.2, 1.3, 'Iris-versicolor'],\n",
              "       [5.7, 3.0, 4.2, 1.2, 'Iris-versicolor'],\n",
              "       [5.7, 2.9, 4.2, 1.3, 'Iris-versicolor'],\n",
              "       [6.2, 2.9, 4.3, 1.3, 'Iris-versicolor'],\n",
              "       [5.1, 2.5, 3.0, 1.1, 'Iris-versicolor'],\n",
              "       [5.7, 2.8, 4.1, 1.3, 'Iris-versicolor'],\n",
              "       [6.3, 3.3, 6.0, 2.5, 'Iris-virginica'],\n",
              "       [5.8, 2.7, 5.1, 1.9, 'Iris-virginica'],\n",
              "       [7.1, 3.0, 5.9, 2.1, 'Iris-virginica'],\n",
              "       [6.3, 2.9, 5.6, 1.8, 'Iris-virginica'],\n",
              "       [6.5, 3.0, 5.8, 2.2, 'Iris-virginica'],\n",
              "       [7.6, 3.0, 6.6, 2.1, 'Iris-virginica'],\n",
              "       [4.9, 2.5, 4.5, 1.7, 'Iris-virginica'],\n",
              "       [7.3, 2.9, 6.3, 1.8, 'Iris-virginica'],\n",
              "       [6.7, 2.5, 5.8, 1.8, 'Iris-virginica'],\n",
              "       [7.2, 3.6, 6.1, 2.5, 'Iris-virginica'],\n",
              "       [6.5, 3.2, 5.1, 2.0, 'Iris-virginica'],\n",
              "       [6.4, 2.7, 5.3, 1.9, 'Iris-virginica'],\n",
              "       [6.8, 3.0, 5.5, 2.1, 'Iris-virginica'],\n",
              "       [5.7, 2.5, 5.0, 2.0, 'Iris-virginica'],\n",
              "       [5.8, 2.8, 5.1, 2.4, 'Iris-virginica'],\n",
              "       [6.4, 3.2, 5.3, 2.3, 'Iris-virginica'],\n",
              "       [6.5, 3.0, 5.5, 1.8, 'Iris-virginica'],\n",
              "       [7.7, 3.8, 6.7, 2.2, 'Iris-virginica'],\n",
              "       [7.7, 2.6, 6.9, 2.3, 'Iris-virginica'],\n",
              "       [6.0, 2.2, 5.0, 1.5, 'Iris-virginica'],\n",
              "       [6.9, 3.2, 5.7, 2.3, 'Iris-virginica'],\n",
              "       [5.6, 2.8, 4.9, 2.0, 'Iris-virginica'],\n",
              "       [7.7, 2.8, 6.7, 2.0, 'Iris-virginica'],\n",
              "       [6.3, 2.7, 4.9, 1.8, 'Iris-virginica'],\n",
              "       [6.7, 3.3, 5.7, 2.1, 'Iris-virginica'],\n",
              "       [7.2, 3.2, 6.0, 1.8, 'Iris-virginica'],\n",
              "       [6.2, 2.8, 4.8, 1.8, 'Iris-virginica'],\n",
              "       [6.1, 3.0, 4.9, 1.8, 'Iris-virginica'],\n",
              "       [6.4, 2.8, 5.6, 2.1, 'Iris-virginica'],\n",
              "       [7.2, 3.0, 5.8, 1.6, 'Iris-virginica'],\n",
              "       [7.4, 2.8, 6.1, 1.9, 'Iris-virginica'],\n",
              "       [7.9, 3.8, 6.4, 2.0, 'Iris-virginica'],\n",
              "       [6.4, 2.8, 5.6, 2.2, 'Iris-virginica'],\n",
              "       [6.3, 2.8, 5.1, 1.5, 'Iris-virginica'],\n",
              "       [6.1, 2.6, 5.6, 1.4, 'Iris-virginica'],\n",
              "       [7.7, 3.0, 6.1, 2.3, 'Iris-virginica'],\n",
              "       [6.3, 3.4, 5.6, 2.4, 'Iris-virginica'],\n",
              "       [6.4, 3.1, 5.5, 1.8, 'Iris-virginica'],\n",
              "       [6.0, 3.0, 4.8, 1.8, 'Iris-virginica'],\n",
              "       [6.9, 3.1, 5.4, 2.1, 'Iris-virginica'],\n",
              "       [6.7, 3.1, 5.6, 2.4, 'Iris-virginica'],\n",
              "       [6.9, 3.1, 5.1, 2.3, 'Iris-virginica'],\n",
              "       [5.8, 2.7, 5.1, 1.9, 'Iris-virginica'],\n",
              "       [6.8, 3.2, 5.9, 2.3, 'Iris-virginica'],\n",
              "       [6.7, 3.3, 5.7, 2.5, 'Iris-virginica'],\n",
              "       [6.7, 3.0, 5.2, 2.3, 'Iris-virginica'],\n",
              "       [6.3, 2.5, 5.0, 1.9, 'Iris-virginica'],\n",
              "       [6.5, 3.0, 5.2, 2.0, 'Iris-virginica'],\n",
              "       [6.2, 3.4, 5.4, 2.3, 'Iris-virginica'],\n",
              "       [5.9, 3.0, 5.1, 1.8, 'Iris-virginica']], dtype=object)"
            ]
          },
          "metadata": {},
          "execution_count": 7
        }
      ]
    },
    {
      "cell_type": "code",
      "source": [
        "type(df.values)"
      ],
      "metadata": {
        "colab": {
          "base_uri": "https://localhost:8080/"
        },
        "id": "FhZLdldcPWHz",
        "outputId": "61b20362-b5af-420b-a213-2be91b828bad"
      },
      "execution_count": null,
      "outputs": [
        {
          "output_type": "execute_result",
          "data": {
            "text/plain": [
              "numpy.ndarray"
            ]
          },
          "metadata": {},
          "execution_count": 8
        }
      ]
    },
    {
      "cell_type": "code",
      "source": [
        "dataset = df.values\n",
        "dataset.shape"
      ],
      "metadata": {
        "colab": {
          "base_uri": "https://localhost:8080/"
        },
        "id": "JOlFd6vBPd7U",
        "outputId": "4b478f5c-a54f-4ecd-fda6-c79d26c7a3a0"
      },
      "execution_count": null,
      "outputs": [
        {
          "output_type": "execute_result",
          "data": {
            "text/plain": [
              "(150, 5)"
            ]
          },
          "metadata": {},
          "execution_count": 9
        }
      ]
    },
    {
      "cell_type": "code",
      "source": [
        "x=dataset[:,0:4]\n",
        "x"
      ],
      "metadata": {
        "colab": {
          "base_uri": "https://localhost:8080/"
        },
        "id": "IYkNU6BMPj2K",
        "outputId": "afa407f2-5089-485b-89bc-f5558093bd62"
      },
      "execution_count": null,
      "outputs": [
        {
          "output_type": "execute_result",
          "data": {
            "text/plain": [
              "array([[5.1, 3.5, 1.4, 0.2],\n",
              "       [4.9, 3.0, 1.4, 0.2],\n",
              "       [4.7, 3.2, 1.3, 0.2],\n",
              "       [4.6, 3.1, 1.5, 0.2],\n",
              "       [5.0, 3.6, 1.4, 0.2],\n",
              "       [5.4, 3.9, 1.7, 0.4],\n",
              "       [4.6, 3.4, 1.4, 0.3],\n",
              "       [5.0, 3.4, 1.5, 0.2],\n",
              "       [4.4, 2.9, 1.4, 0.2],\n",
              "       [4.9, 3.1, 1.5, 0.1],\n",
              "       [5.4, 3.7, 1.5, 0.2],\n",
              "       [4.8, 3.4, 1.6, 0.2],\n",
              "       [4.8, 3.0, 1.4, 0.1],\n",
              "       [4.3, 3.0, 1.1, 0.1],\n",
              "       [5.8, 4.0, 1.2, 0.2],\n",
              "       [5.7, 4.4, 1.5, 0.4],\n",
              "       [5.4, 3.9, 1.3, 0.4],\n",
              "       [5.1, 3.5, 1.4, 0.3],\n",
              "       [5.7, 3.8, 1.7, 0.3],\n",
              "       [5.1, 3.8, 1.5, 0.3],\n",
              "       [5.4, 3.4, 1.7, 0.2],\n",
              "       [5.1, 3.7, 1.5, 0.4],\n",
              "       [4.6, 3.6, 1.0, 0.2],\n",
              "       [5.1, 3.3, 1.7, 0.5],\n",
              "       [4.8, 3.4, 1.9, 0.2],\n",
              "       [5.0, 3.0, 1.6, 0.2],\n",
              "       [5.0, 3.4, 1.6, 0.4],\n",
              "       [5.2, 3.5, 1.5, 0.2],\n",
              "       [5.2, 3.4, 1.4, 0.2],\n",
              "       [4.7, 3.2, 1.6, 0.2],\n",
              "       [4.8, 3.1, 1.6, 0.2],\n",
              "       [5.4, 3.4, 1.5, 0.4],\n",
              "       [5.2, 4.1, 1.5, 0.1],\n",
              "       [5.5, 4.2, 1.4, 0.2],\n",
              "       [4.9, 3.1, 1.5, 0.1],\n",
              "       [5.0, 3.2, 1.2, 0.2],\n",
              "       [5.5, 3.5, 1.3, 0.2],\n",
              "       [4.9, 3.1, 1.5, 0.1],\n",
              "       [4.4, 3.0, 1.3, 0.2],\n",
              "       [5.1, 3.4, 1.5, 0.2],\n",
              "       [5.0, 3.5, 1.3, 0.3],\n",
              "       [4.5, 2.3, 1.3, 0.3],\n",
              "       [4.4, 3.2, 1.3, 0.2],\n",
              "       [5.0, 3.5, 1.6, 0.6],\n",
              "       [5.1, 3.8, 1.9, 0.4],\n",
              "       [4.8, 3.0, 1.4, 0.3],\n",
              "       [5.1, 3.8, 1.6, 0.2],\n",
              "       [4.6, 3.2, 1.4, 0.2],\n",
              "       [5.3, 3.7, 1.5, 0.2],\n",
              "       [5.0, 3.3, 1.4, 0.2],\n",
              "       [7.0, 3.2, 4.7, 1.4],\n",
              "       [6.4, 3.2, 4.5, 1.5],\n",
              "       [6.9, 3.1, 4.9, 1.5],\n",
              "       [5.5, 2.3, 4.0, 1.3],\n",
              "       [6.5, 2.8, 4.6, 1.5],\n",
              "       [5.7, 2.8, 4.5, 1.3],\n",
              "       [6.3, 3.3, 4.7, 1.6],\n",
              "       [4.9, 2.4, 3.3, 1.0],\n",
              "       [6.6, 2.9, 4.6, 1.3],\n",
              "       [5.2, 2.7, 3.9, 1.4],\n",
              "       [5.0, 2.0, 3.5, 1.0],\n",
              "       [5.9, 3.0, 4.2, 1.5],\n",
              "       [6.0, 2.2, 4.0, 1.0],\n",
              "       [6.1, 2.9, 4.7, 1.4],\n",
              "       [5.6, 2.9, 3.6, 1.3],\n",
              "       [6.7, 3.1, 4.4, 1.4],\n",
              "       [5.6, 3.0, 4.5, 1.5],\n",
              "       [5.8, 2.7, 4.1, 1.0],\n",
              "       [6.2, 2.2, 4.5, 1.5],\n",
              "       [5.6, 2.5, 3.9, 1.1],\n",
              "       [5.9, 3.2, 4.8, 1.8],\n",
              "       [6.1, 2.8, 4.0, 1.3],\n",
              "       [6.3, 2.5, 4.9, 1.5],\n",
              "       [6.1, 2.8, 4.7, 1.2],\n",
              "       [6.4, 2.9, 4.3, 1.3],\n",
              "       [6.6, 3.0, 4.4, 1.4],\n",
              "       [6.8, 2.8, 4.8, 1.4],\n",
              "       [6.7, 3.0, 5.0, 1.7],\n",
              "       [6.0, 2.9, 4.5, 1.5],\n",
              "       [5.7, 2.6, 3.5, 1.0],\n",
              "       [5.5, 2.4, 3.8, 1.1],\n",
              "       [5.5, 2.4, 3.7, 1.0],\n",
              "       [5.8, 2.7, 3.9, 1.2],\n",
              "       [6.0, 2.7, 5.1, 1.6],\n",
              "       [5.4, 3.0, 4.5, 1.5],\n",
              "       [6.0, 3.4, 4.5, 1.6],\n",
              "       [6.7, 3.1, 4.7, 1.5],\n",
              "       [6.3, 2.3, 4.4, 1.3],\n",
              "       [5.6, 3.0, 4.1, 1.3],\n",
              "       [5.5, 2.5, 4.0, 1.3],\n",
              "       [5.5, 2.6, 4.4, 1.2],\n",
              "       [6.1, 3.0, 4.6, 1.4],\n",
              "       [5.8, 2.6, 4.0, 1.2],\n",
              "       [5.0, 2.3, 3.3, 1.0],\n",
              "       [5.6, 2.7, 4.2, 1.3],\n",
              "       [5.7, 3.0, 4.2, 1.2],\n",
              "       [5.7, 2.9, 4.2, 1.3],\n",
              "       [6.2, 2.9, 4.3, 1.3],\n",
              "       [5.1, 2.5, 3.0, 1.1],\n",
              "       [5.7, 2.8, 4.1, 1.3],\n",
              "       [6.3, 3.3, 6.0, 2.5],\n",
              "       [5.8, 2.7, 5.1, 1.9],\n",
              "       [7.1, 3.0, 5.9, 2.1],\n",
              "       [6.3, 2.9, 5.6, 1.8],\n",
              "       [6.5, 3.0, 5.8, 2.2],\n",
              "       [7.6, 3.0, 6.6, 2.1],\n",
              "       [4.9, 2.5, 4.5, 1.7],\n",
              "       [7.3, 2.9, 6.3, 1.8],\n",
              "       [6.7, 2.5, 5.8, 1.8],\n",
              "       [7.2, 3.6, 6.1, 2.5],\n",
              "       [6.5, 3.2, 5.1, 2.0],\n",
              "       [6.4, 2.7, 5.3, 1.9],\n",
              "       [6.8, 3.0, 5.5, 2.1],\n",
              "       [5.7, 2.5, 5.0, 2.0],\n",
              "       [5.8, 2.8, 5.1, 2.4],\n",
              "       [6.4, 3.2, 5.3, 2.3],\n",
              "       [6.5, 3.0, 5.5, 1.8],\n",
              "       [7.7, 3.8, 6.7, 2.2],\n",
              "       [7.7, 2.6, 6.9, 2.3],\n",
              "       [6.0, 2.2, 5.0, 1.5],\n",
              "       [6.9, 3.2, 5.7, 2.3],\n",
              "       [5.6, 2.8, 4.9, 2.0],\n",
              "       [7.7, 2.8, 6.7, 2.0],\n",
              "       [6.3, 2.7, 4.9, 1.8],\n",
              "       [6.7, 3.3, 5.7, 2.1],\n",
              "       [7.2, 3.2, 6.0, 1.8],\n",
              "       [6.2, 2.8, 4.8, 1.8],\n",
              "       [6.1, 3.0, 4.9, 1.8],\n",
              "       [6.4, 2.8, 5.6, 2.1],\n",
              "       [7.2, 3.0, 5.8, 1.6],\n",
              "       [7.4, 2.8, 6.1, 1.9],\n",
              "       [7.9, 3.8, 6.4, 2.0],\n",
              "       [6.4, 2.8, 5.6, 2.2],\n",
              "       [6.3, 2.8, 5.1, 1.5],\n",
              "       [6.1, 2.6, 5.6, 1.4],\n",
              "       [7.7, 3.0, 6.1, 2.3],\n",
              "       [6.3, 3.4, 5.6, 2.4],\n",
              "       [6.4, 3.1, 5.5, 1.8],\n",
              "       [6.0, 3.0, 4.8, 1.8],\n",
              "       [6.9, 3.1, 5.4, 2.1],\n",
              "       [6.7, 3.1, 5.6, 2.4],\n",
              "       [6.9, 3.1, 5.1, 2.3],\n",
              "       [5.8, 2.7, 5.1, 1.9],\n",
              "       [6.8, 3.2, 5.9, 2.3],\n",
              "       [6.7, 3.3, 5.7, 2.5],\n",
              "       [6.7, 3.0, 5.2, 2.3],\n",
              "       [6.3, 2.5, 5.0, 1.9],\n",
              "       [6.5, 3.0, 5.2, 2.0],\n",
              "       [6.2, 3.4, 5.4, 2.3],\n",
              "       [5.9, 3.0, 5.1, 1.8]], dtype=object)"
            ]
          },
          "metadata": {},
          "execution_count": 10
        }
      ]
    },
    {
      "cell_type": "code",
      "source": [
        "x=dataset[:,0:4].astype(float)\n",
        "x.dtype"
      ],
      "metadata": {
        "colab": {
          "base_uri": "https://localhost:8080/"
        },
        "id": "W7ApNT1vQKQ6",
        "outputId": "95321118-4a94-473a-83ea-a9c8467f8112"
      },
      "execution_count": null,
      "outputs": [
        {
          "output_type": "execute_result",
          "data": {
            "text/plain": [
              "dtype('float64')"
            ]
          },
          "metadata": {},
          "execution_count": 11
        }
      ]
    },
    {
      "cell_type": "code",
      "source": [
        "y_obj=dataset[:,4]\n",
        "y_obj.dtype"
      ],
      "metadata": {
        "colab": {
          "base_uri": "https://localhost:8080/"
        },
        "id": "I9SN05DJPpB3",
        "outputId": "ab0b3eb1-d2c8-4e62-8b94-078cf931135a"
      },
      "execution_count": null,
      "outputs": [
        {
          "output_type": "execute_result",
          "data": {
            "text/plain": [
              "dtype('O')"
            ]
          },
          "metadata": {},
          "execution_count": 12
        }
      ]
    },
    {
      "cell_type": "code",
      "source": [
        "x.shape"
      ],
      "metadata": {
        "colab": {
          "base_uri": "https://localhost:8080/"
        },
        "id": "aqhHjZeEP8nl",
        "outputId": "8442386e-5417-47ae-aca3-0ae0b0af7a8c"
      },
      "execution_count": null,
      "outputs": [
        {
          "output_type": "execute_result",
          "data": {
            "text/plain": [
              "(150, 4)"
            ]
          },
          "metadata": {},
          "execution_count": 13
        }
      ]
    },
    {
      "cell_type": "code",
      "source": [
        "y_obj.shape"
      ],
      "metadata": {
        "colab": {
          "base_uri": "https://localhost:8080/"
        },
        "id": "EzXExxH4QYDa",
        "outputId": "66bb14d5-1847-4d36-ed46-3c5643528364"
      },
      "execution_count": null,
      "outputs": [
        {
          "output_type": "execute_result",
          "data": {
            "text/plain": [
              "(150,)"
            ]
          },
          "metadata": {},
          "execution_count": 14
        }
      ]
    },
    {
      "cell_type": "code",
      "source": [
        "from sklearn.preprocessing import LabelEncoder\n",
        "\n",
        "# string -> int로 인코딩\n",
        "e = LabelEncoder()\n",
        "e.fit(y_obj)\n",
        "y = e.transform(y_obj)"
      ],
      "metadata": {
        "id": "KYfd6ILURDSa"
      },
      "execution_count": null,
      "outputs": []
    },
    {
      "cell_type": "code",
      "source": [
        "import tensorflow as tf\n",
        "from keras.utils import np_utils\n",
        "\n",
        "y_encoded = tf.keras.utils.to_categorical(y)\n",
        "\n",
        "y_encoded\n"
      ],
      "metadata": {
        "colab": {
          "base_uri": "https://localhost:8080/"
        },
        "id": "UCV30ivfRntq",
        "outputId": "095ba5ea-c0b5-414f-cf02-7e6d2773d39e"
      },
      "execution_count": null,
      "outputs": [
        {
          "output_type": "execute_result",
          "data": {
            "text/plain": [
              "array([[1., 0., 0.],\n",
              "       [1., 0., 0.],\n",
              "       [1., 0., 0.],\n",
              "       [1., 0., 0.],\n",
              "       [1., 0., 0.],\n",
              "       [1., 0., 0.],\n",
              "       [1., 0., 0.],\n",
              "       [1., 0., 0.],\n",
              "       [1., 0., 0.],\n",
              "       [1., 0., 0.],\n",
              "       [1., 0., 0.],\n",
              "       [1., 0., 0.],\n",
              "       [1., 0., 0.],\n",
              "       [1., 0., 0.],\n",
              "       [1., 0., 0.],\n",
              "       [1., 0., 0.],\n",
              "       [1., 0., 0.],\n",
              "       [1., 0., 0.],\n",
              "       [1., 0., 0.],\n",
              "       [1., 0., 0.],\n",
              "       [1., 0., 0.],\n",
              "       [1., 0., 0.],\n",
              "       [1., 0., 0.],\n",
              "       [1., 0., 0.],\n",
              "       [1., 0., 0.],\n",
              "       [1., 0., 0.],\n",
              "       [1., 0., 0.],\n",
              "       [1., 0., 0.],\n",
              "       [1., 0., 0.],\n",
              "       [1., 0., 0.],\n",
              "       [1., 0., 0.],\n",
              "       [1., 0., 0.],\n",
              "       [1., 0., 0.],\n",
              "       [1., 0., 0.],\n",
              "       [1., 0., 0.],\n",
              "       [1., 0., 0.],\n",
              "       [1., 0., 0.],\n",
              "       [1., 0., 0.],\n",
              "       [1., 0., 0.],\n",
              "       [1., 0., 0.],\n",
              "       [1., 0., 0.],\n",
              "       [1., 0., 0.],\n",
              "       [1., 0., 0.],\n",
              "       [1., 0., 0.],\n",
              "       [1., 0., 0.],\n",
              "       [1., 0., 0.],\n",
              "       [1., 0., 0.],\n",
              "       [1., 0., 0.],\n",
              "       [1., 0., 0.],\n",
              "       [1., 0., 0.],\n",
              "       [0., 1., 0.],\n",
              "       [0., 1., 0.],\n",
              "       [0., 1., 0.],\n",
              "       [0., 1., 0.],\n",
              "       [0., 1., 0.],\n",
              "       [0., 1., 0.],\n",
              "       [0., 1., 0.],\n",
              "       [0., 1., 0.],\n",
              "       [0., 1., 0.],\n",
              "       [0., 1., 0.],\n",
              "       [0., 1., 0.],\n",
              "       [0., 1., 0.],\n",
              "       [0., 1., 0.],\n",
              "       [0., 1., 0.],\n",
              "       [0., 1., 0.],\n",
              "       [0., 1., 0.],\n",
              "       [0., 1., 0.],\n",
              "       [0., 1., 0.],\n",
              "       [0., 1., 0.],\n",
              "       [0., 1., 0.],\n",
              "       [0., 1., 0.],\n",
              "       [0., 1., 0.],\n",
              "       [0., 1., 0.],\n",
              "       [0., 1., 0.],\n",
              "       [0., 1., 0.],\n",
              "       [0., 1., 0.],\n",
              "       [0., 1., 0.],\n",
              "       [0., 1., 0.],\n",
              "       [0., 1., 0.],\n",
              "       [0., 1., 0.],\n",
              "       [0., 1., 0.],\n",
              "       [0., 1., 0.],\n",
              "       [0., 1., 0.],\n",
              "       [0., 1., 0.],\n",
              "       [0., 1., 0.],\n",
              "       [0., 1., 0.],\n",
              "       [0., 1., 0.],\n",
              "       [0., 1., 0.],\n",
              "       [0., 1., 0.],\n",
              "       [0., 1., 0.],\n",
              "       [0., 1., 0.],\n",
              "       [0., 1., 0.],\n",
              "       [0., 1., 0.],\n",
              "       [0., 1., 0.],\n",
              "       [0., 1., 0.],\n",
              "       [0., 1., 0.],\n",
              "       [0., 1., 0.],\n",
              "       [0., 1., 0.],\n",
              "       [0., 1., 0.],\n",
              "       [0., 1., 0.],\n",
              "       [0., 0., 1.],\n",
              "       [0., 0., 1.],\n",
              "       [0., 0., 1.],\n",
              "       [0., 0., 1.],\n",
              "       [0., 0., 1.],\n",
              "       [0., 0., 1.],\n",
              "       [0., 0., 1.],\n",
              "       [0., 0., 1.],\n",
              "       [0., 0., 1.],\n",
              "       [0., 0., 1.],\n",
              "       [0., 0., 1.],\n",
              "       [0., 0., 1.],\n",
              "       [0., 0., 1.],\n",
              "       [0., 0., 1.],\n",
              "       [0., 0., 1.],\n",
              "       [0., 0., 1.],\n",
              "       [0., 0., 1.],\n",
              "       [0., 0., 1.],\n",
              "       [0., 0., 1.],\n",
              "       [0., 0., 1.],\n",
              "       [0., 0., 1.],\n",
              "       [0., 0., 1.],\n",
              "       [0., 0., 1.],\n",
              "       [0., 0., 1.],\n",
              "       [0., 0., 1.],\n",
              "       [0., 0., 1.],\n",
              "       [0., 0., 1.],\n",
              "       [0., 0., 1.],\n",
              "       [0., 0., 1.],\n",
              "       [0., 0., 1.],\n",
              "       [0., 0., 1.],\n",
              "       [0., 0., 1.],\n",
              "       [0., 0., 1.],\n",
              "       [0., 0., 1.],\n",
              "       [0., 0., 1.],\n",
              "       [0., 0., 1.],\n",
              "       [0., 0., 1.],\n",
              "       [0., 0., 1.],\n",
              "       [0., 0., 1.],\n",
              "       [0., 0., 1.],\n",
              "       [0., 0., 1.],\n",
              "       [0., 0., 1.],\n",
              "       [0., 0., 1.],\n",
              "       [0., 0., 1.],\n",
              "       [0., 0., 1.],\n",
              "       [0., 0., 1.],\n",
              "       [0., 0., 1.],\n",
              "       [0., 0., 1.],\n",
              "       [0., 0., 1.],\n",
              "       [0., 0., 1.]], dtype=float32)"
            ]
          },
          "metadata": {},
          "execution_count": 16
        }
      ]
    },
    {
      "cell_type": "markdown",
      "source": [
        "# 소프트맥스 softmax\n",
        "- 활성화 함수\n",
        "- 다중 분류에서 활용\n",
        "- 노드수와 항목수가 일치해야 한다.\n",
        "- ex)\n",
        "- input (은닉층에서 나온 값) -> ws(가중합) ->\n",
        "- 3.0 1.5 0.3 -> 소프트맥스 ->\n",
        "- 0.7 0.2 0.1 -> 반올림(교차엔트로피) ->\n",
        "- 1 0 0"
      ],
      "metadata": {
        "id": "0yyIVeVgTAti"
      }
    },
    {
      "cell_type": "code",
      "source": [
        "from tensorflow.keras.models import Sequential\n",
        "from tensorflow.keras.layers import Dense"
      ],
      "metadata": {
        "id": "YTwRyTWaS0AR"
      },
      "execution_count": null,
      "outputs": []
    },
    {
      "cell_type": "code",
      "source": [
        "# 깊이가 깊을수록 결과가 좋아지는 것은 아님\n",
        "\n",
        "model = Sequential()\n",
        "\n",
        "model.add(Dense(12, input_dim=4, activation='relu'))\n",
        "model.add(Dense(8, activation='relu'))\n",
        "model.add(Dense(3, activation='softmax'))\n",
        "\n",
        "model.summary()"
      ],
      "metadata": {
        "colab": {
          "base_uri": "https://localhost:8080/"
        },
        "id": "al_KOkcZUpIt",
        "outputId": "019c9122-2fe9-4f58-be3c-365d3e82c633"
      },
      "execution_count": null,
      "outputs": [
        {
          "output_type": "stream",
          "name": "stdout",
          "text": [
            "Model: \"sequential\"\n",
            "_________________________________________________________________\n",
            "Layer (type)                 Output Shape              Param #   \n",
            "=================================================================\n",
            "dense (Dense)                (None, 12)                60        \n",
            "_________________________________________________________________\n",
            "dense_1 (Dense)              (None, 8)                 104       \n",
            "_________________________________________________________________\n",
            "dense_2 (Dense)              (None, 3)                 27        \n",
            "=================================================================\n",
            "Total params: 191\n",
            "Trainable params: 191\n",
            "Non-trainable params: 0\n",
            "_________________________________________________________________\n"
          ]
        }
      ]
    },
    {
      "cell_type": "code",
      "source": [
        "model.compile(loss='categorical_crossentropy', optimizer='adam', metrics=['accuracy'])\n",
        "model.fit(x,y_encoded, epochs=50, batch_size=5)"
      ],
      "metadata": {
        "colab": {
          "base_uri": "https://localhost:8080/"
        },
        "id": "oBp-lnaJU8mA",
        "outputId": "a0073dc6-9861-45d3-a467-5dc7338aa253"
      },
      "execution_count": null,
      "outputs": [
        {
          "output_type": "stream",
          "name": "stdout",
          "text": [
            "Epoch 1/50\n",
            "30/30 [==============================] - 0s 789us/step - loss: 1.3285 - accuracy: 0.3333\n",
            "Epoch 2/50\n",
            "30/30 [==============================] - 0s 730us/step - loss: 1.1517 - accuracy: 0.3333\n",
            "Epoch 3/50\n",
            "30/30 [==============================] - 0s 789us/step - loss: 1.1054 - accuracy: 0.3333\n",
            "Epoch 4/50\n",
            "30/30 [==============================] - 0s 757us/step - loss: 1.0727 - accuracy: 0.3333\n",
            "Epoch 5/50\n",
            "30/30 [==============================] - 0s 768us/step - loss: 1.0324 - accuracy: 0.3333\n",
            "Epoch 6/50\n",
            "30/30 [==============================] - 0s 778us/step - loss: 0.9974 - accuracy: 0.3333\n",
            "Epoch 7/50\n",
            "30/30 [==============================] - 0s 812us/step - loss: 0.9590 - accuracy: 0.4333\n",
            "Epoch 8/50\n",
            "30/30 [==============================] - 0s 833us/step - loss: 0.9246 - accuracy: 0.6600\n",
            "Epoch 9/50\n",
            "30/30 [==============================] - 0s 848us/step - loss: 0.8895 - accuracy: 0.6600\n",
            "Epoch 10/50\n",
            "30/30 [==============================] - 0s 1ms/step - loss: 0.8526 - accuracy: 0.6667\n",
            "Epoch 11/50\n",
            "30/30 [==============================] - 0s 1ms/step - loss: 0.8223 - accuracy: 0.6667\n",
            "Epoch 12/50\n",
            "30/30 [==============================] - 0s 810us/step - loss: 0.7918 - accuracy: 0.6667\n",
            "Epoch 13/50\n",
            "30/30 [==============================] - 0s 976us/step - loss: 0.7622 - accuracy: 0.6667\n",
            "Epoch 14/50\n",
            "30/30 [==============================] - 0s 766us/step - loss: 0.7357 - accuracy: 0.6733\n",
            "Epoch 15/50\n",
            "30/30 [==============================] - 0s 784us/step - loss: 0.7102 - accuracy: 0.6733\n",
            "Epoch 16/50\n",
            "30/30 [==============================] - 0s 804us/step - loss: 0.6816 - accuracy: 0.6800\n",
            "Epoch 17/50\n",
            "30/30 [==============================] - 0s 777us/step - loss: 0.6563 - accuracy: 0.6733\n",
            "Epoch 18/50\n",
            "30/30 [==============================] - 0s 793us/step - loss: 0.6303 - accuracy: 0.7133\n",
            "Epoch 19/50\n",
            "30/30 [==============================] - 0s 1ms/step - loss: 0.6006 - accuracy: 0.7000\n",
            "Epoch 20/50\n",
            "30/30 [==============================] - 0s 785us/step - loss: 0.5739 - accuracy: 0.7000\n",
            "Epoch 21/50\n",
            "30/30 [==============================] - 0s 848us/step - loss: 0.5497 - accuracy: 0.7133\n",
            "Epoch 22/50\n",
            "30/30 [==============================] - 0s 742us/step - loss: 0.5272 - accuracy: 0.8800\n",
            "Epoch 23/50\n",
            "30/30 [==============================] - 0s 739us/step - loss: 0.5067 - accuracy: 0.7267\n",
            "Epoch 24/50\n",
            "30/30 [==============================] - 0s 855us/step - loss: 0.4792 - accuracy: 0.8733\n",
            "Epoch 25/50\n",
            "30/30 [==============================] - 0s 801us/step - loss: 0.4519 - accuracy: 0.8667\n",
            "Epoch 26/50\n",
            "30/30 [==============================] - 0s 735us/step - loss: 0.4315 - accuracy: 0.8600\n",
            "Epoch 27/50\n",
            "30/30 [==============================] - 0s 1ms/step - loss: 0.4092 - accuracy: 0.9000\n",
            "Epoch 28/50\n",
            "30/30 [==============================] - 0s 1ms/step - loss: 0.3883 - accuracy: 0.9000\n",
            "Epoch 29/50\n",
            "30/30 [==============================] - 0s 1ms/step - loss: 0.3750 - accuracy: 0.9400\n",
            "Epoch 30/50\n",
            "30/30 [==============================] - 0s 1ms/step - loss: 0.3605 - accuracy: 0.9467\n",
            "Epoch 31/50\n",
            "30/30 [==============================] - 0s 1ms/step - loss: 0.3419 - accuracy: 0.9200\n",
            "Epoch 32/50\n",
            "30/30 [==============================] - 0s 1ms/step - loss: 0.3305 - accuracy: 0.9533\n",
            "Epoch 33/50\n",
            "30/30 [==============================] - 0s 1ms/step - loss: 0.3099 - accuracy: 0.9667\n",
            "Epoch 34/50\n",
            "30/30 [==============================] - 0s 754us/step - loss: 0.2978 - accuracy: 0.9667\n",
            "Epoch 35/50\n",
            "30/30 [==============================] - 0s 753us/step - loss: 0.2912 - accuracy: 0.9533\n",
            "Epoch 36/50\n",
            "30/30 [==============================] - 0s 918us/step - loss: 0.2729 - accuracy: 0.9733\n",
            "Epoch 37/50\n",
            "30/30 [==============================] - 0s 780us/step - loss: 0.2628 - accuracy: 0.9667\n",
            "Epoch 38/50\n",
            "30/30 [==============================] - 0s 820us/step - loss: 0.2557 - accuracy: 0.9667\n",
            "Epoch 39/50\n",
            "30/30 [==============================] - 0s 809us/step - loss: 0.2452 - accuracy: 0.9800\n",
            "Epoch 40/50\n",
            "30/30 [==============================] - 0s 814us/step - loss: 0.2458 - accuracy: 0.9533\n",
            "Epoch 41/50\n",
            "30/30 [==============================] - 0s 828us/step - loss: 0.2498 - accuracy: 0.9467\n",
            "Epoch 42/50\n",
            "30/30 [==============================] - 0s 1ms/step - loss: 0.2244 - accuracy: 0.9667\n",
            "Epoch 43/50\n",
            "30/30 [==============================] - 0s 837us/step - loss: 0.2113 - accuracy: 0.9733\n",
            "Epoch 44/50\n",
            "30/30 [==============================] - 0s 778us/step - loss: 0.2067 - accuracy: 0.9667\n",
            "Epoch 45/50\n",
            "30/30 [==============================] - 0s 862us/step - loss: 0.1994 - accuracy: 0.9800\n",
            "Epoch 46/50\n",
            "30/30 [==============================] - 0s 741us/step - loss: 0.1920 - accuracy: 0.9800\n",
            "Epoch 47/50\n",
            "30/30 [==============================] - 0s 779us/step - loss: 0.1851 - accuracy: 0.9733\n",
            "Epoch 48/50\n",
            "30/30 [==============================] - 0s 799us/step - loss: 0.1828 - accuracy: 0.9667\n",
            "Epoch 49/50\n",
            "30/30 [==============================] - 0s 779us/step - loss: 0.1754 - accuracy: 0.9867\n",
            "Epoch 50/50\n",
            "30/30 [==============================] - 0s 748us/step - loss: 0.1740 - accuracy: 0.9867\n"
          ]
        },
        {
          "output_type": "execute_result",
          "data": {
            "text/plain": [
              "<keras.callbacks.History at 0x7fcd42012f50>"
            ]
          },
          "metadata": {},
          "execution_count": 19
        }
      ]
    },
    {
      "cell_type": "code",
      "source": [
        "model.evaluate(x,y_encoded)[1]*100"
      ],
      "metadata": {
        "colab": {
          "base_uri": "https://localhost:8080/"
        },
        "id": "fBLOWCDsvqEl",
        "outputId": "093b0c0c-fc6b-44da-9162-bb9bcabd44ad"
      },
      "execution_count": null,
      "outputs": [
        {
          "output_type": "stream",
          "name": "stdout",
          "text": [
            "5/5 [==============================] - 0s 1ms/step - loss: 0.1656 - accuracy: 0.9800\n"
          ]
        },
        {
          "output_type": "execute_result",
          "data": {
            "text/plain": [
              "98.00000190734863"
            ]
          },
          "metadata": {},
          "execution_count": 20
        }
      ]
    },
    {
      "cell_type": "markdown",
      "source": [
        "# 과적합\n",
        "- 학습을 많이 시키면 train_data의 성능은 좋으나 다른 data로 처리 시 성능 하락"
      ],
      "metadata": {
        "id": "NHrQ4qrDwUot"
      }
    },
    {
      "cell_type": "code",
      "source": [
        "import pandas as pd"
      ],
      "metadata": {
        "id": "2GcMS2DOxB9c"
      },
      "execution_count": null,
      "outputs": []
    },
    {
      "cell_type": "code",
      "source": [
        "df = pd.read_csv(\"/content/gdrive/MyDrive/Colab/data/sonar.csv\", header=None)\n",
        "df"
      ],
      "metadata": {
        "colab": {
          "base_uri": "https://localhost:8080/",
          "height": 488
        },
        "id": "k1huDGIowHlG",
        "outputId": "24fc0232-de62-42c0-d27e-ea0e02709b96"
      },
      "execution_count": null,
      "outputs": [
        {
          "output_type": "execute_result",
          "data": {
            "text/plain": [
              "         0       1       2       3       4       5       6       7       8   \\\n",
              "0    0.0200  0.0371  0.0428  0.0207  0.0954  0.0986  0.1539  0.1601  0.3109   \n",
              "1    0.0453  0.0523  0.0843  0.0689  0.1183  0.2583  0.2156  0.3481  0.3337   \n",
              "2    0.0262  0.0582  0.1099  0.1083  0.0974  0.2280  0.2431  0.3771  0.5598   \n",
              "3    0.0100  0.0171  0.0623  0.0205  0.0205  0.0368  0.1098  0.1276  0.0598   \n",
              "4    0.0762  0.0666  0.0481  0.0394  0.0590  0.0649  0.1209  0.2467  0.3564   \n",
              "..      ...     ...     ...     ...     ...     ...     ...     ...     ...   \n",
              "203  0.0187  0.0346  0.0168  0.0177  0.0393  0.1630  0.2028  0.1694  0.2328   \n",
              "204  0.0323  0.0101  0.0298  0.0564  0.0760  0.0958  0.0990  0.1018  0.1030   \n",
              "205  0.0522  0.0437  0.0180  0.0292  0.0351  0.1171  0.1257  0.1178  0.1258   \n",
              "206  0.0303  0.0353  0.0490  0.0608  0.0167  0.1354  0.1465  0.1123  0.1945   \n",
              "207  0.0260  0.0363  0.0136  0.0272  0.0214  0.0338  0.0655  0.1400  0.1843   \n",
              "\n",
              "         9   ...      51      52      53      54      55      56      57  \\\n",
              "0    0.2111  ...  0.0027  0.0065  0.0159  0.0072  0.0167  0.0180  0.0084   \n",
              "1    0.2872  ...  0.0084  0.0089  0.0048  0.0094  0.0191  0.0140  0.0049   \n",
              "2    0.6194  ...  0.0232  0.0166  0.0095  0.0180  0.0244  0.0316  0.0164   \n",
              "3    0.1264  ...  0.0121  0.0036  0.0150  0.0085  0.0073  0.0050  0.0044   \n",
              "4    0.4459  ...  0.0031  0.0054  0.0105  0.0110  0.0015  0.0072  0.0048   \n",
              "..      ...  ...     ...     ...     ...     ...     ...     ...     ...   \n",
              "203  0.2684  ...  0.0116  0.0098  0.0199  0.0033  0.0101  0.0065  0.0115   \n",
              "204  0.2154  ...  0.0061  0.0093  0.0135  0.0063  0.0063  0.0034  0.0032   \n",
              "205  0.2529  ...  0.0160  0.0029  0.0051  0.0062  0.0089  0.0140  0.0138   \n",
              "206  0.2354  ...  0.0086  0.0046  0.0126  0.0036  0.0035  0.0034  0.0079   \n",
              "207  0.2354  ...  0.0146  0.0129  0.0047  0.0039  0.0061  0.0040  0.0036   \n",
              "\n",
              "         58      59  60  \n",
              "0    0.0090  0.0032   R  \n",
              "1    0.0052  0.0044   R  \n",
              "2    0.0095  0.0078   R  \n",
              "3    0.0040  0.0117   R  \n",
              "4    0.0107  0.0094   R  \n",
              "..      ...     ...  ..  \n",
              "203  0.0193  0.0157   M  \n",
              "204  0.0062  0.0067   M  \n",
              "205  0.0077  0.0031   M  \n",
              "206  0.0036  0.0048   M  \n",
              "207  0.0061  0.0115   M  \n",
              "\n",
              "[208 rows x 61 columns]"
            ],
            "text/html": [
              "\n",
              "  <div id=\"df-8d376e10-e4b0-41d7-b18f-13e9bd65cf7f\">\n",
              "    <div class=\"colab-df-container\">\n",
              "      <div>\n",
              "<style scoped>\n",
              "    .dataframe tbody tr th:only-of-type {\n",
              "        vertical-align: middle;\n",
              "    }\n",
              "\n",
              "    .dataframe tbody tr th {\n",
              "        vertical-align: top;\n",
              "    }\n",
              "\n",
              "    .dataframe thead th {\n",
              "        text-align: right;\n",
              "    }\n",
              "</style>\n",
              "<table border=\"1\" class=\"dataframe\">\n",
              "  <thead>\n",
              "    <tr style=\"text-align: right;\">\n",
              "      <th></th>\n",
              "      <th>0</th>\n",
              "      <th>1</th>\n",
              "      <th>2</th>\n",
              "      <th>3</th>\n",
              "      <th>4</th>\n",
              "      <th>5</th>\n",
              "      <th>6</th>\n",
              "      <th>7</th>\n",
              "      <th>8</th>\n",
              "      <th>9</th>\n",
              "      <th>...</th>\n",
              "      <th>51</th>\n",
              "      <th>52</th>\n",
              "      <th>53</th>\n",
              "      <th>54</th>\n",
              "      <th>55</th>\n",
              "      <th>56</th>\n",
              "      <th>57</th>\n",
              "      <th>58</th>\n",
              "      <th>59</th>\n",
              "      <th>60</th>\n",
              "    </tr>\n",
              "  </thead>\n",
              "  <tbody>\n",
              "    <tr>\n",
              "      <th>0</th>\n",
              "      <td>0.0200</td>\n",
              "      <td>0.0371</td>\n",
              "      <td>0.0428</td>\n",
              "      <td>0.0207</td>\n",
              "      <td>0.0954</td>\n",
              "      <td>0.0986</td>\n",
              "      <td>0.1539</td>\n",
              "      <td>0.1601</td>\n",
              "      <td>0.3109</td>\n",
              "      <td>0.2111</td>\n",
              "      <td>...</td>\n",
              "      <td>0.0027</td>\n",
              "      <td>0.0065</td>\n",
              "      <td>0.0159</td>\n",
              "      <td>0.0072</td>\n",
              "      <td>0.0167</td>\n",
              "      <td>0.0180</td>\n",
              "      <td>0.0084</td>\n",
              "      <td>0.0090</td>\n",
              "      <td>0.0032</td>\n",
              "      <td>R</td>\n",
              "    </tr>\n",
              "    <tr>\n",
              "      <th>1</th>\n",
              "      <td>0.0453</td>\n",
              "      <td>0.0523</td>\n",
              "      <td>0.0843</td>\n",
              "      <td>0.0689</td>\n",
              "      <td>0.1183</td>\n",
              "      <td>0.2583</td>\n",
              "      <td>0.2156</td>\n",
              "      <td>0.3481</td>\n",
              "      <td>0.3337</td>\n",
              "      <td>0.2872</td>\n",
              "      <td>...</td>\n",
              "      <td>0.0084</td>\n",
              "      <td>0.0089</td>\n",
              "      <td>0.0048</td>\n",
              "      <td>0.0094</td>\n",
              "      <td>0.0191</td>\n",
              "      <td>0.0140</td>\n",
              "      <td>0.0049</td>\n",
              "      <td>0.0052</td>\n",
              "      <td>0.0044</td>\n",
              "      <td>R</td>\n",
              "    </tr>\n",
              "    <tr>\n",
              "      <th>2</th>\n",
              "      <td>0.0262</td>\n",
              "      <td>0.0582</td>\n",
              "      <td>0.1099</td>\n",
              "      <td>0.1083</td>\n",
              "      <td>0.0974</td>\n",
              "      <td>0.2280</td>\n",
              "      <td>0.2431</td>\n",
              "      <td>0.3771</td>\n",
              "      <td>0.5598</td>\n",
              "      <td>0.6194</td>\n",
              "      <td>...</td>\n",
              "      <td>0.0232</td>\n",
              "      <td>0.0166</td>\n",
              "      <td>0.0095</td>\n",
              "      <td>0.0180</td>\n",
              "      <td>0.0244</td>\n",
              "      <td>0.0316</td>\n",
              "      <td>0.0164</td>\n",
              "      <td>0.0095</td>\n",
              "      <td>0.0078</td>\n",
              "      <td>R</td>\n",
              "    </tr>\n",
              "    <tr>\n",
              "      <th>3</th>\n",
              "      <td>0.0100</td>\n",
              "      <td>0.0171</td>\n",
              "      <td>0.0623</td>\n",
              "      <td>0.0205</td>\n",
              "      <td>0.0205</td>\n",
              "      <td>0.0368</td>\n",
              "      <td>0.1098</td>\n",
              "      <td>0.1276</td>\n",
              "      <td>0.0598</td>\n",
              "      <td>0.1264</td>\n",
              "      <td>...</td>\n",
              "      <td>0.0121</td>\n",
              "      <td>0.0036</td>\n",
              "      <td>0.0150</td>\n",
              "      <td>0.0085</td>\n",
              "      <td>0.0073</td>\n",
              "      <td>0.0050</td>\n",
              "      <td>0.0044</td>\n",
              "      <td>0.0040</td>\n",
              "      <td>0.0117</td>\n",
              "      <td>R</td>\n",
              "    </tr>\n",
              "    <tr>\n",
              "      <th>4</th>\n",
              "      <td>0.0762</td>\n",
              "      <td>0.0666</td>\n",
              "      <td>0.0481</td>\n",
              "      <td>0.0394</td>\n",
              "      <td>0.0590</td>\n",
              "      <td>0.0649</td>\n",
              "      <td>0.1209</td>\n",
              "      <td>0.2467</td>\n",
              "      <td>0.3564</td>\n",
              "      <td>0.4459</td>\n",
              "      <td>...</td>\n",
              "      <td>0.0031</td>\n",
              "      <td>0.0054</td>\n",
              "      <td>0.0105</td>\n",
              "      <td>0.0110</td>\n",
              "      <td>0.0015</td>\n",
              "      <td>0.0072</td>\n",
              "      <td>0.0048</td>\n",
              "      <td>0.0107</td>\n",
              "      <td>0.0094</td>\n",
              "      <td>R</td>\n",
              "    </tr>\n",
              "    <tr>\n",
              "      <th>...</th>\n",
              "      <td>...</td>\n",
              "      <td>...</td>\n",
              "      <td>...</td>\n",
              "      <td>...</td>\n",
              "      <td>...</td>\n",
              "      <td>...</td>\n",
              "      <td>...</td>\n",
              "      <td>...</td>\n",
              "      <td>...</td>\n",
              "      <td>...</td>\n",
              "      <td>...</td>\n",
              "      <td>...</td>\n",
              "      <td>...</td>\n",
              "      <td>...</td>\n",
              "      <td>...</td>\n",
              "      <td>...</td>\n",
              "      <td>...</td>\n",
              "      <td>...</td>\n",
              "      <td>...</td>\n",
              "      <td>...</td>\n",
              "      <td>...</td>\n",
              "    </tr>\n",
              "    <tr>\n",
              "      <th>203</th>\n",
              "      <td>0.0187</td>\n",
              "      <td>0.0346</td>\n",
              "      <td>0.0168</td>\n",
              "      <td>0.0177</td>\n",
              "      <td>0.0393</td>\n",
              "      <td>0.1630</td>\n",
              "      <td>0.2028</td>\n",
              "      <td>0.1694</td>\n",
              "      <td>0.2328</td>\n",
              "      <td>0.2684</td>\n",
              "      <td>...</td>\n",
              "      <td>0.0116</td>\n",
              "      <td>0.0098</td>\n",
              "      <td>0.0199</td>\n",
              "      <td>0.0033</td>\n",
              "      <td>0.0101</td>\n",
              "      <td>0.0065</td>\n",
              "      <td>0.0115</td>\n",
              "      <td>0.0193</td>\n",
              "      <td>0.0157</td>\n",
              "      <td>M</td>\n",
              "    </tr>\n",
              "    <tr>\n",
              "      <th>204</th>\n",
              "      <td>0.0323</td>\n",
              "      <td>0.0101</td>\n",
              "      <td>0.0298</td>\n",
              "      <td>0.0564</td>\n",
              "      <td>0.0760</td>\n",
              "      <td>0.0958</td>\n",
              "      <td>0.0990</td>\n",
              "      <td>0.1018</td>\n",
              "      <td>0.1030</td>\n",
              "      <td>0.2154</td>\n",
              "      <td>...</td>\n",
              "      <td>0.0061</td>\n",
              "      <td>0.0093</td>\n",
              "      <td>0.0135</td>\n",
              "      <td>0.0063</td>\n",
              "      <td>0.0063</td>\n",
              "      <td>0.0034</td>\n",
              "      <td>0.0032</td>\n",
              "      <td>0.0062</td>\n",
              "      <td>0.0067</td>\n",
              "      <td>M</td>\n",
              "    </tr>\n",
              "    <tr>\n",
              "      <th>205</th>\n",
              "      <td>0.0522</td>\n",
              "      <td>0.0437</td>\n",
              "      <td>0.0180</td>\n",
              "      <td>0.0292</td>\n",
              "      <td>0.0351</td>\n",
              "      <td>0.1171</td>\n",
              "      <td>0.1257</td>\n",
              "      <td>0.1178</td>\n",
              "      <td>0.1258</td>\n",
              "      <td>0.2529</td>\n",
              "      <td>...</td>\n",
              "      <td>0.0160</td>\n",
              "      <td>0.0029</td>\n",
              "      <td>0.0051</td>\n",
              "      <td>0.0062</td>\n",
              "      <td>0.0089</td>\n",
              "      <td>0.0140</td>\n",
              "      <td>0.0138</td>\n",
              "      <td>0.0077</td>\n",
              "      <td>0.0031</td>\n",
              "      <td>M</td>\n",
              "    </tr>\n",
              "    <tr>\n",
              "      <th>206</th>\n",
              "      <td>0.0303</td>\n",
              "      <td>0.0353</td>\n",
              "      <td>0.0490</td>\n",
              "      <td>0.0608</td>\n",
              "      <td>0.0167</td>\n",
              "      <td>0.1354</td>\n",
              "      <td>0.1465</td>\n",
              "      <td>0.1123</td>\n",
              "      <td>0.1945</td>\n",
              "      <td>0.2354</td>\n",
              "      <td>...</td>\n",
              "      <td>0.0086</td>\n",
              "      <td>0.0046</td>\n",
              "      <td>0.0126</td>\n",
              "      <td>0.0036</td>\n",
              "      <td>0.0035</td>\n",
              "      <td>0.0034</td>\n",
              "      <td>0.0079</td>\n",
              "      <td>0.0036</td>\n",
              "      <td>0.0048</td>\n",
              "      <td>M</td>\n",
              "    </tr>\n",
              "    <tr>\n",
              "      <th>207</th>\n",
              "      <td>0.0260</td>\n",
              "      <td>0.0363</td>\n",
              "      <td>0.0136</td>\n",
              "      <td>0.0272</td>\n",
              "      <td>0.0214</td>\n",
              "      <td>0.0338</td>\n",
              "      <td>0.0655</td>\n",
              "      <td>0.1400</td>\n",
              "      <td>0.1843</td>\n",
              "      <td>0.2354</td>\n",
              "      <td>...</td>\n",
              "      <td>0.0146</td>\n",
              "      <td>0.0129</td>\n",
              "      <td>0.0047</td>\n",
              "      <td>0.0039</td>\n",
              "      <td>0.0061</td>\n",
              "      <td>0.0040</td>\n",
              "      <td>0.0036</td>\n",
              "      <td>0.0061</td>\n",
              "      <td>0.0115</td>\n",
              "      <td>M</td>\n",
              "    </tr>\n",
              "  </tbody>\n",
              "</table>\n",
              "<p>208 rows × 61 columns</p>\n",
              "</div>\n",
              "      <button class=\"colab-df-convert\" onclick=\"convertToInteractive('df-8d376e10-e4b0-41d7-b18f-13e9bd65cf7f')\"\n",
              "              title=\"Convert this dataframe to an interactive table.\"\n",
              "              style=\"display:none;\">\n",
              "        \n",
              "  <svg xmlns=\"http://www.w3.org/2000/svg\" height=\"24px\"viewBox=\"0 0 24 24\"\n",
              "       width=\"24px\">\n",
              "    <path d=\"M0 0h24v24H0V0z\" fill=\"none\"/>\n",
              "    <path d=\"M18.56 5.44l.94 2.06.94-2.06 2.06-.94-2.06-.94-.94-2.06-.94 2.06-2.06.94zm-11 1L8.5 8.5l.94-2.06 2.06-.94-2.06-.94L8.5 2.5l-.94 2.06-2.06.94zm10 10l.94 2.06.94-2.06 2.06-.94-2.06-.94-.94-2.06-.94 2.06-2.06.94z\"/><path d=\"M17.41 7.96l-1.37-1.37c-.4-.4-.92-.59-1.43-.59-.52 0-1.04.2-1.43.59L10.3 9.45l-7.72 7.72c-.78.78-.78 2.05 0 2.83L4 21.41c.39.39.9.59 1.41.59.51 0 1.02-.2 1.41-.59l7.78-7.78 2.81-2.81c.8-.78.8-2.07 0-2.86zM5.41 20L4 18.59l7.72-7.72 1.47 1.35L5.41 20z\"/>\n",
              "  </svg>\n",
              "      </button>\n",
              "      \n",
              "  <style>\n",
              "    .colab-df-container {\n",
              "      display:flex;\n",
              "      flex-wrap:wrap;\n",
              "      gap: 12px;\n",
              "    }\n",
              "\n",
              "    .colab-df-convert {\n",
              "      background-color: #E8F0FE;\n",
              "      border: none;\n",
              "      border-radius: 50%;\n",
              "      cursor: pointer;\n",
              "      display: none;\n",
              "      fill: #1967D2;\n",
              "      height: 32px;\n",
              "      padding: 0 0 0 0;\n",
              "      width: 32px;\n",
              "    }\n",
              "\n",
              "    .colab-df-convert:hover {\n",
              "      background-color: #E2EBFA;\n",
              "      box-shadow: 0px 1px 2px rgba(60, 64, 67, 0.3), 0px 1px 3px 1px rgba(60, 64, 67, 0.15);\n",
              "      fill: #174EA6;\n",
              "    }\n",
              "\n",
              "    [theme=dark] .colab-df-convert {\n",
              "      background-color: #3B4455;\n",
              "      fill: #D2E3FC;\n",
              "    }\n",
              "\n",
              "    [theme=dark] .colab-df-convert:hover {\n",
              "      background-color: #434B5C;\n",
              "      box-shadow: 0px 1px 3px 1px rgba(0, 0, 0, 0.15);\n",
              "      filter: drop-shadow(0px 1px 2px rgba(0, 0, 0, 0.3));\n",
              "      fill: #FFFFFF;\n",
              "    }\n",
              "  </style>\n",
              "\n",
              "      <script>\n",
              "        const buttonEl =\n",
              "          document.querySelector('#df-8d376e10-e4b0-41d7-b18f-13e9bd65cf7f button.colab-df-convert');\n",
              "        buttonEl.style.display =\n",
              "          google.colab.kernel.accessAllowed ? 'block' : 'none';\n",
              "\n",
              "        async function convertToInteractive(key) {\n",
              "          const element = document.querySelector('#df-8d376e10-e4b0-41d7-b18f-13e9bd65cf7f');\n",
              "          const dataTable =\n",
              "            await google.colab.kernel.invokeFunction('convertToInteractive',\n",
              "                                                     [key], {});\n",
              "          if (!dataTable) return;\n",
              "\n",
              "          const docLinkHtml = 'Like what you see? Visit the ' +\n",
              "            '<a target=\"_blank\" href=https://colab.research.google.com/notebooks/data_table.ipynb>data table notebook</a>'\n",
              "            + ' to learn more about interactive tables.';\n",
              "          element.innerHTML = '';\n",
              "          dataTable['output_type'] = 'display_data';\n",
              "          await google.colab.output.renderOutput(dataTable, element);\n",
              "          const docLink = document.createElement('div');\n",
              "          docLink.innerHTML = docLinkHtml;\n",
              "          element.appendChild(docLink);\n",
              "        }\n",
              "      </script>\n",
              "    </div>\n",
              "  </div>\n",
              "  "
            ]
          },
          "metadata": {},
          "execution_count": 22
        }
      ]
    },
    {
      "cell_type": "code",
      "source": [
        "df.info()"
      ],
      "metadata": {
        "colab": {
          "base_uri": "https://localhost:8080/"
        },
        "id": "vP_puLAgxKXt",
        "outputId": "21975519-4752-46b2-acc4-b81c374d4dfb"
      },
      "execution_count": null,
      "outputs": [
        {
          "output_type": "stream",
          "name": "stdout",
          "text": [
            "<class 'pandas.core.frame.DataFrame'>\n",
            "RangeIndex: 208 entries, 0 to 207\n",
            "Data columns (total 61 columns):\n",
            " #   Column  Non-Null Count  Dtype  \n",
            "---  ------  --------------  -----  \n",
            " 0   0       208 non-null    float64\n",
            " 1   1       208 non-null    float64\n",
            " 2   2       208 non-null    float64\n",
            " 3   3       208 non-null    float64\n",
            " 4   4       208 non-null    float64\n",
            " 5   5       208 non-null    float64\n",
            " 6   6       208 non-null    float64\n",
            " 7   7       208 non-null    float64\n",
            " 8   8       208 non-null    float64\n",
            " 9   9       208 non-null    float64\n",
            " 10  10      208 non-null    float64\n",
            " 11  11      208 non-null    float64\n",
            " 12  12      208 non-null    float64\n",
            " 13  13      208 non-null    float64\n",
            " 14  14      208 non-null    float64\n",
            " 15  15      208 non-null    float64\n",
            " 16  16      208 non-null    float64\n",
            " 17  17      208 non-null    float64\n",
            " 18  18      208 non-null    float64\n",
            " 19  19      208 non-null    float64\n",
            " 20  20      208 non-null    float64\n",
            " 21  21      208 non-null    float64\n",
            " 22  22      208 non-null    float64\n",
            " 23  23      208 non-null    float64\n",
            " 24  24      208 non-null    float64\n",
            " 25  25      208 non-null    float64\n",
            " 26  26      208 non-null    float64\n",
            " 27  27      208 non-null    float64\n",
            " 28  28      208 non-null    float64\n",
            " 29  29      208 non-null    float64\n",
            " 30  30      208 non-null    float64\n",
            " 31  31      208 non-null    float64\n",
            " 32  32      208 non-null    float64\n",
            " 33  33      208 non-null    float64\n",
            " 34  34      208 non-null    float64\n",
            " 35  35      208 non-null    float64\n",
            " 36  36      208 non-null    float64\n",
            " 37  37      208 non-null    float64\n",
            " 38  38      208 non-null    float64\n",
            " 39  39      208 non-null    float64\n",
            " 40  40      208 non-null    float64\n",
            " 41  41      208 non-null    float64\n",
            " 42  42      208 non-null    float64\n",
            " 43  43      208 non-null    float64\n",
            " 44  44      208 non-null    float64\n",
            " 45  45      208 non-null    float64\n",
            " 46  46      208 non-null    float64\n",
            " 47  47      208 non-null    float64\n",
            " 48  48      208 non-null    float64\n",
            " 49  49      208 non-null    float64\n",
            " 50  50      208 non-null    float64\n",
            " 51  51      208 non-null    float64\n",
            " 52  52      208 non-null    float64\n",
            " 53  53      208 non-null    float64\n",
            " 54  54      208 non-null    float64\n",
            " 55  55      208 non-null    float64\n",
            " 56  56      208 non-null    float64\n",
            " 57  57      208 non-null    float64\n",
            " 58  58      208 non-null    float64\n",
            " 59  59      208 non-null    float64\n",
            " 60  60      208 non-null    object \n",
            "dtypes: float64(60), object(1)\n",
            "memory usage: 99.2+ KB\n"
          ]
        }
      ]
    },
    {
      "cell_type": "code",
      "source": [
        "dataset = df.values\n",
        "dataset"
      ],
      "metadata": {
        "colab": {
          "base_uri": "https://localhost:8080/"
        },
        "id": "JQvT6P2QxtRF",
        "outputId": "3c7895ef-734b-45f0-cff2-2e88db4d3bcd"
      },
      "execution_count": null,
      "outputs": [
        {
          "output_type": "execute_result",
          "data": {
            "text/plain": [
              "array([[0.02, 0.0371, 0.0428, ..., 0.009, 0.0032, 'R'],\n",
              "       [0.0453, 0.0523, 0.0843, ..., 0.0052, 0.0044, 'R'],\n",
              "       [0.0262, 0.0582, 0.1099, ..., 0.0095, 0.0078, 'R'],\n",
              "       ...,\n",
              "       [0.0522, 0.0437, 0.018, ..., 0.0077, 0.0031, 'M'],\n",
              "       [0.0303, 0.0353, 0.049, ..., 0.0036, 0.0048, 'M'],\n",
              "       [0.026, 0.0363, 0.0136, ..., 0.0061, 0.0115, 'M']], dtype=object)"
            ]
          },
          "metadata": {},
          "execution_count": 24
        }
      ]
    },
    {
      "cell_type": "code",
      "source": [
        "x = dataset[:,0:60].astype(float)\n",
        "x"
      ],
      "metadata": {
        "colab": {
          "base_uri": "https://localhost:8080/"
        },
        "id": "U7GHIb6ex6FM",
        "outputId": "040f4cfa-328f-4f05-dab5-588b97875c25"
      },
      "execution_count": null,
      "outputs": [
        {
          "output_type": "execute_result",
          "data": {
            "text/plain": [
              "array([[0.02  , 0.0371, 0.0428, ..., 0.0084, 0.009 , 0.0032],\n",
              "       [0.0453, 0.0523, 0.0843, ..., 0.0049, 0.0052, 0.0044],\n",
              "       [0.0262, 0.0582, 0.1099, ..., 0.0164, 0.0095, 0.0078],\n",
              "       ...,\n",
              "       [0.0522, 0.0437, 0.018 , ..., 0.0138, 0.0077, 0.0031],\n",
              "       [0.0303, 0.0353, 0.049 , ..., 0.0079, 0.0036, 0.0048],\n",
              "       [0.026 , 0.0363, 0.0136, ..., 0.0036, 0.0061, 0.0115]])"
            ]
          },
          "metadata": {},
          "execution_count": 25
        }
      ]
    },
    {
      "cell_type": "code",
      "source": [
        "y_obj = dataset[:,60]\n",
        "y_obj"
      ],
      "metadata": {
        "colab": {
          "base_uri": "https://localhost:8080/"
        },
        "id": "loIfWJkMyB3k",
        "outputId": "3f3b6781-6618-4ff5-b741-c10694a6519c"
      },
      "execution_count": null,
      "outputs": [
        {
          "output_type": "execute_result",
          "data": {
            "text/plain": [
              "array(['R', 'R', 'R', 'R', 'R', 'R', 'R', 'R', 'R', 'R', 'R', 'R', 'R',\n",
              "       'R', 'R', 'R', 'R', 'R', 'R', 'R', 'R', 'R', 'R', 'R', 'R', 'R',\n",
              "       'R', 'R', 'R', 'R', 'R', 'R', 'R', 'R', 'R', 'R', 'R', 'R', 'R',\n",
              "       'R', 'R', 'R', 'R', 'R', 'R', 'R', 'R', 'R', 'R', 'R', 'R', 'R',\n",
              "       'R', 'R', 'R', 'R', 'R', 'R', 'R', 'R', 'R', 'R', 'R', 'R', 'R',\n",
              "       'R', 'R', 'R', 'R', 'R', 'R', 'R', 'R', 'R', 'R', 'R', 'R', 'R',\n",
              "       'R', 'R', 'R', 'R', 'R', 'R', 'R', 'R', 'R', 'R', 'R', 'R', 'R',\n",
              "       'R', 'R', 'R', 'R', 'R', 'R', 'M', 'M', 'M', 'M', 'M', 'M', 'M',\n",
              "       'M', 'M', 'M', 'M', 'M', 'M', 'M', 'M', 'M', 'M', 'M', 'M', 'M',\n",
              "       'M', 'M', 'M', 'M', 'M', 'M', 'M', 'M', 'M', 'M', 'M', 'M', 'M',\n",
              "       'M', 'M', 'M', 'M', 'M', 'M', 'M', 'M', 'M', 'M', 'M', 'M', 'M',\n",
              "       'M', 'M', 'M', 'M', 'M', 'M', 'M', 'M', 'M', 'M', 'M', 'M', 'M',\n",
              "       'M', 'M', 'M', 'M', 'M', 'M', 'M', 'M', 'M', 'M', 'M', 'M', 'M',\n",
              "       'M', 'M', 'M', 'M', 'M', 'M', 'M', 'M', 'M', 'M', 'M', 'M', 'M',\n",
              "       'M', 'M', 'M', 'M', 'M', 'M', 'M', 'M', 'M', 'M', 'M', 'M', 'M',\n",
              "       'M', 'M', 'M', 'M', 'M', 'M', 'M', 'M', 'M', 'M', 'M', 'M', 'M'],\n",
              "      dtype=object)"
            ]
          },
          "metadata": {},
          "execution_count": 26
        }
      ]
    },
    {
      "cell_type": "code",
      "source": [
        "# 레이블 인코딩 (str -> int)\n",
        "from sklearn.preprocessing import LabelEncoder\n",
        "\n",
        "e = LabelEncoder()\n",
        "e.fit(y_obj)\n",
        "\n",
        "y = e.transform(y_obj)\n",
        "y"
      ],
      "metadata": {
        "colab": {
          "base_uri": "https://localhost:8080/"
        },
        "id": "IMjZO7K5yOGN",
        "outputId": "52ddbdd0-c713-43aa-d5ce-096dcf1086bf"
      },
      "execution_count": null,
      "outputs": [
        {
          "output_type": "execute_result",
          "data": {
            "text/plain": [
              "array([1, 1, 1, 1, 1, 1, 1, 1, 1, 1, 1, 1, 1, 1, 1, 1, 1, 1, 1, 1, 1, 1,\n",
              "       1, 1, 1, 1, 1, 1, 1, 1, 1, 1, 1, 1, 1, 1, 1, 1, 1, 1, 1, 1, 1, 1,\n",
              "       1, 1, 1, 1, 1, 1, 1, 1, 1, 1, 1, 1, 1, 1, 1, 1, 1, 1, 1, 1, 1, 1,\n",
              "       1, 1, 1, 1, 1, 1, 1, 1, 1, 1, 1, 1, 1, 1, 1, 1, 1, 1, 1, 1, 1, 1,\n",
              "       1, 1, 1, 1, 1, 1, 1, 1, 1, 0, 0, 0, 0, 0, 0, 0, 0, 0, 0, 0, 0, 0,\n",
              "       0, 0, 0, 0, 0, 0, 0, 0, 0, 0, 0, 0, 0, 0, 0, 0, 0, 0, 0, 0, 0, 0,\n",
              "       0, 0, 0, 0, 0, 0, 0, 0, 0, 0, 0, 0, 0, 0, 0, 0, 0, 0, 0, 0, 0, 0,\n",
              "       0, 0, 0, 0, 0, 0, 0, 0, 0, 0, 0, 0, 0, 0, 0, 0, 0, 0, 0, 0, 0, 0,\n",
              "       0, 0, 0, 0, 0, 0, 0, 0, 0, 0, 0, 0, 0, 0, 0, 0, 0, 0, 0, 0, 0, 0,\n",
              "       0, 0, 0, 0, 0, 0, 0, 0, 0, 0])"
            ]
          },
          "metadata": {},
          "execution_count": 27
        }
      ]
    },
    {
      "cell_type": "code",
      "source": [
        "from tensorflow.keras.models import Sequential\n",
        "from tensorflow.keras.layers import Dense"
      ],
      "metadata": {
        "id": "724TzP1ixVhe"
      },
      "execution_count": null,
      "outputs": []
    },
    {
      "cell_type": "code",
      "source": [
        "model=Sequential()\n",
        "\n",
        "model.add(Dense(24, input_dim = 60, activation='relu'))\n",
        "model.add(Dense(10, activation='relu'))\n",
        "model.add(Dense(1, activation='sigmoid'))\n",
        "\n",
        "model.compile(loss='binary_crossentropy',\n",
        "              optimizer='adam', metrics=['accuracy'])\n",
        "\n",
        "model.fit(x,y,epochs=130, batch_size=5)"
      ],
      "metadata": {
        "colab": {
          "base_uri": "https://localhost:8080/"
        },
        "id": "WkY0iE3yxszj",
        "outputId": "ebf72653-8ae2-479a-b9f5-af4189d480e3"
      },
      "execution_count": null,
      "outputs": [
        {
          "output_type": "stream",
          "name": "stdout",
          "text": [
            "Epoch 1/130\n",
            "42/42 [==============================] - 0s 888us/step - loss: 0.7004 - accuracy: 0.4952\n",
            "Epoch 2/130\n",
            "42/42 [==============================] - 0s 1ms/step - loss: 0.6807 - accuracy: 0.5481\n",
            "Epoch 3/130\n",
            "42/42 [==============================] - 0s 1ms/step - loss: 0.6635 - accuracy: 0.6442\n",
            "Epoch 4/130\n",
            "42/42 [==============================] - 0s 848us/step - loss: 0.6416 - accuracy: 0.6635\n",
            "Epoch 5/130\n",
            "42/42 [==============================] - 0s 873us/step - loss: 0.6177 - accuracy: 0.7212\n",
            "Epoch 6/130\n",
            "42/42 [==============================] - 0s 906us/step - loss: 0.5988 - accuracy: 0.7404\n",
            "Epoch 7/130\n",
            "42/42 [==============================] - 0s 1ms/step - loss: 0.5749 - accuracy: 0.7356\n",
            "Epoch 8/130\n",
            "42/42 [==============================] - 0s 848us/step - loss: 0.5486 - accuracy: 0.7740\n",
            "Epoch 9/130\n",
            "42/42 [==============================] - 0s 847us/step - loss: 0.5291 - accuracy: 0.7740\n",
            "Epoch 10/130\n",
            "42/42 [==============================] - 0s 986us/step - loss: 0.5036 - accuracy: 0.7837\n",
            "Epoch 11/130\n",
            "42/42 [==============================] - 0s 854us/step - loss: 0.4783 - accuracy: 0.8125\n",
            "Epoch 12/130\n",
            "42/42 [==============================] - 0s 939us/step - loss: 0.4774 - accuracy: 0.8125\n",
            "Epoch 13/130\n",
            "42/42 [==============================] - 0s 933us/step - loss: 0.4563 - accuracy: 0.7885\n",
            "Epoch 14/130\n",
            "42/42 [==============================] - 0s 940us/step - loss: 0.4381 - accuracy: 0.8173\n",
            "Epoch 15/130\n",
            "42/42 [==============================] - 0s 929us/step - loss: 0.4410 - accuracy: 0.7692\n",
            "Epoch 16/130\n",
            "42/42 [==============================] - 0s 926us/step - loss: 0.4123 - accuracy: 0.8221\n",
            "Epoch 17/130\n",
            "42/42 [==============================] - 0s 843us/step - loss: 0.4208 - accuracy: 0.8077\n",
            "Epoch 18/130\n",
            "42/42 [==============================] - 0s 863us/step - loss: 0.4036 - accuracy: 0.8125\n",
            "Epoch 19/130\n",
            "42/42 [==============================] - 0s 843us/step - loss: 0.3845 - accuracy: 0.8413\n",
            "Epoch 20/130\n",
            "42/42 [==============================] - 0s 875us/step - loss: 0.3680 - accuracy: 0.8846\n",
            "Epoch 21/130\n",
            "42/42 [==============================] - 0s 1ms/step - loss: 0.3698 - accuracy: 0.8462\n",
            "Epoch 22/130\n",
            "42/42 [==============================] - 0s 950us/step - loss: 0.3624 - accuracy: 0.8606\n",
            "Epoch 23/130\n",
            "42/42 [==============================] - 0s 929us/step - loss: 0.3483 - accuracy: 0.8846\n",
            "Epoch 24/130\n",
            "42/42 [==============================] - 0s 1ms/step - loss: 0.3337 - accuracy: 0.8702\n",
            "Epoch 25/130\n",
            "42/42 [==============================] - 0s 900us/step - loss: 0.3265 - accuracy: 0.8654\n",
            "Epoch 26/130\n",
            "42/42 [==============================] - 0s 925us/step - loss: 0.3257 - accuracy: 0.8654\n",
            "Epoch 27/130\n",
            "42/42 [==============================] - 0s 914us/step - loss: 0.3175 - accuracy: 0.8798\n",
            "Epoch 28/130\n",
            "42/42 [==============================] - 0s 935us/step - loss: 0.3259 - accuracy: 0.8798\n",
            "Epoch 29/130\n",
            "42/42 [==============================] - 0s 951us/step - loss: 0.3072 - accuracy: 0.8894\n",
            "Epoch 30/130\n",
            "42/42 [==============================] - 0s 879us/step - loss: 0.3046 - accuracy: 0.8942\n",
            "Epoch 31/130\n",
            "42/42 [==============================] - 0s 860us/step - loss: 0.2930 - accuracy: 0.8942\n",
            "Epoch 32/130\n",
            "42/42 [==============================] - 0s 863us/step - loss: 0.2857 - accuracy: 0.9087\n",
            "Epoch 33/130\n",
            "42/42 [==============================] - 0s 935us/step - loss: 0.2812 - accuracy: 0.8942\n",
            "Epoch 34/130\n",
            "42/42 [==============================] - 0s 866us/step - loss: 0.2774 - accuracy: 0.8990\n",
            "Epoch 35/130\n",
            "42/42 [==============================] - 0s 862us/step - loss: 0.2754 - accuracy: 0.8990\n",
            "Epoch 36/130\n",
            "42/42 [==============================] - 0s 884us/step - loss: 0.2610 - accuracy: 0.9183\n",
            "Epoch 37/130\n",
            "42/42 [==============================] - 0s 945us/step - loss: 0.2646 - accuracy: 0.8894\n",
            "Epoch 38/130\n",
            "42/42 [==============================] - 0s 867us/step - loss: 0.2556 - accuracy: 0.9183\n",
            "Epoch 39/130\n",
            "42/42 [==============================] - 0s 946us/step - loss: 0.2443 - accuracy: 0.9327\n",
            "Epoch 40/130\n",
            "42/42 [==============================] - 0s 856us/step - loss: 0.2360 - accuracy: 0.9183\n",
            "Epoch 41/130\n",
            "42/42 [==============================] - 0s 851us/step - loss: 0.2505 - accuracy: 0.9038\n",
            "Epoch 42/130\n",
            "42/42 [==============================] - 0s 873us/step - loss: 0.2338 - accuracy: 0.9135\n",
            "Epoch 43/130\n",
            "42/42 [==============================] - 0s 954us/step - loss: 0.2199 - accuracy: 0.9327\n",
            "Epoch 44/130\n",
            "42/42 [==============================] - 0s 984us/step - loss: 0.2187 - accuracy: 0.9231\n",
            "Epoch 45/130\n",
            "42/42 [==============================] - 0s 878us/step - loss: 0.2105 - accuracy: 0.9519\n",
            "Epoch 46/130\n",
            "42/42 [==============================] - 0s 972us/step - loss: 0.2061 - accuracy: 0.9231\n",
            "Epoch 47/130\n",
            "42/42 [==============================] - 0s 1ms/step - loss: 0.2065 - accuracy: 0.9279\n",
            "Epoch 48/130\n",
            "42/42 [==============================] - 0s 933us/step - loss: 0.1938 - accuracy: 0.9519\n",
            "Epoch 49/130\n",
            "42/42 [==============================] - 0s 969us/step - loss: 0.2139 - accuracy: 0.9183\n",
            "Epoch 50/130\n",
            "42/42 [==============================] - 0s 876us/step - loss: 0.1975 - accuracy: 0.9279\n",
            "Epoch 51/130\n",
            "42/42 [==============================] - 0s 909us/step - loss: 0.1838 - accuracy: 0.9327\n",
            "Epoch 52/130\n",
            "42/42 [==============================] - 0s 862us/step - loss: 0.1798 - accuracy: 0.9471\n",
            "Epoch 53/130\n",
            "42/42 [==============================] - 0s 992us/step - loss: 0.1719 - accuracy: 0.9471\n",
            "Epoch 54/130\n",
            "42/42 [==============================] - 0s 901us/step - loss: 0.1737 - accuracy: 0.9615\n",
            "Epoch 55/130\n",
            "42/42 [==============================] - 0s 1ms/step - loss: 0.1699 - accuracy: 0.9375\n",
            "Epoch 56/130\n",
            "42/42 [==============================] - 0s 1ms/step - loss: 0.1699 - accuracy: 0.9519\n",
            "Epoch 57/130\n",
            "42/42 [==============================] - 0s 2ms/step - loss: 0.1580 - accuracy: 0.9375\n",
            "Epoch 58/130\n",
            "42/42 [==============================] - 0s 2ms/step - loss: 0.1579 - accuracy: 0.9471\n",
            "Epoch 59/130\n",
            "42/42 [==============================] - 0s 2ms/step - loss: 0.1472 - accuracy: 0.9615\n",
            "Epoch 60/130\n",
            "42/42 [==============================] - 0s 2ms/step - loss: 0.1444 - accuracy: 0.9567\n",
            "Epoch 61/130\n",
            "42/42 [==============================] - 0s 1ms/step - loss: 0.1432 - accuracy: 0.9615\n",
            "Epoch 62/130\n",
            "42/42 [==============================] - 0s 2ms/step - loss: 0.1418 - accuracy: 0.9567\n",
            "Epoch 63/130\n",
            "42/42 [==============================] - 0s 2ms/step - loss: 0.1380 - accuracy: 0.9471\n",
            "Epoch 64/130\n",
            "42/42 [==============================] - 0s 2ms/step - loss: 0.1359 - accuracy: 0.9663\n",
            "Epoch 65/130\n",
            "42/42 [==============================] - 0s 2ms/step - loss: 0.1280 - accuracy: 0.9615\n",
            "Epoch 66/130\n",
            "42/42 [==============================] - 0s 2ms/step - loss: 0.1258 - accuracy: 0.9615\n",
            "Epoch 67/130\n",
            "42/42 [==============================] - 0s 1ms/step - loss: 0.1186 - accuracy: 0.9663\n",
            "Epoch 68/130\n",
            "42/42 [==============================] - 0s 2ms/step - loss: 0.1279 - accuracy: 0.9615\n",
            "Epoch 69/130\n",
            "42/42 [==============================] - 0s 2ms/step - loss: 0.1214 - accuracy: 0.9615\n",
            "Epoch 70/130\n",
            "42/42 [==============================] - 0s 2ms/step - loss: 0.1224 - accuracy: 0.9615\n",
            "Epoch 71/130\n",
            "42/42 [==============================] - 0s 2ms/step - loss: 0.1082 - accuracy: 0.9760\n",
            "Epoch 72/130\n",
            "42/42 [==============================] - 0s 2ms/step - loss: 0.1142 - accuracy: 0.9663\n",
            "Epoch 73/130\n",
            "42/42 [==============================] - 0s 2ms/step - loss: 0.1151 - accuracy: 0.9712\n",
            "Epoch 74/130\n",
            "42/42 [==============================] - 0s 3ms/step - loss: 0.0978 - accuracy: 0.9856\n",
            "Epoch 75/130\n",
            "42/42 [==============================] - 0s 2ms/step - loss: 0.1190 - accuracy: 0.9615\n",
            "Epoch 76/130\n",
            "42/42 [==============================] - 0s 1ms/step - loss: 0.1041 - accuracy: 0.9712\n",
            "Epoch 77/130\n",
            "42/42 [==============================] - 0s 2ms/step - loss: 0.0986 - accuracy: 0.9712\n",
            "Epoch 78/130\n",
            "42/42 [==============================] - 0s 2ms/step - loss: 0.0874 - accuracy: 0.9856\n",
            "Epoch 79/130\n",
            "42/42 [==============================] - 0s 1ms/step - loss: 0.0920 - accuracy: 0.9760\n",
            "Epoch 80/130\n",
            "42/42 [==============================] - 0s 992us/step - loss: 0.0947 - accuracy: 0.9712\n",
            "Epoch 81/130\n",
            "42/42 [==============================] - 0s 2ms/step - loss: 0.0811 - accuracy: 0.9808\n",
            "Epoch 82/130\n",
            "42/42 [==============================] - 0s 2ms/step - loss: 0.0781 - accuracy: 0.9808\n",
            "Epoch 83/130\n",
            "42/42 [==============================] - 0s 3ms/step - loss: 0.0764 - accuracy: 0.9808\n",
            "Epoch 84/130\n",
            "42/42 [==============================] - 0s 2ms/step - loss: 0.0757 - accuracy: 0.9808\n",
            "Epoch 85/130\n",
            "42/42 [==============================] - 0s 2ms/step - loss: 0.0763 - accuracy: 0.9856\n",
            "Epoch 86/130\n",
            "42/42 [==============================] - 0s 2ms/step - loss: 0.0727 - accuracy: 0.9952\n",
            "Epoch 87/130\n",
            "42/42 [==============================] - 0s 3ms/step - loss: 0.0752 - accuracy: 0.9856\n",
            "Epoch 88/130\n",
            "42/42 [==============================] - 0s 2ms/step - loss: 0.0710 - accuracy: 0.9904\n",
            "Epoch 89/130\n",
            "42/42 [==============================] - 0s 2ms/step - loss: 0.0683 - accuracy: 0.9904\n",
            "Epoch 90/130\n",
            "42/42 [==============================] - 0s 2ms/step - loss: 0.0817 - accuracy: 0.9760\n",
            "Epoch 91/130\n",
            "42/42 [==============================] - 0s 2ms/step - loss: 0.0592 - accuracy: 0.9904\n",
            "Epoch 92/130\n",
            "42/42 [==============================] - 0s 3ms/step - loss: 0.0587 - accuracy: 0.9952\n",
            "Epoch 93/130\n",
            "42/42 [==============================] - 0s 2ms/step - loss: 0.0609 - accuracy: 0.9856\n",
            "Epoch 94/130\n",
            "42/42 [==============================] - 0s 2ms/step - loss: 0.0578 - accuracy: 0.9952\n",
            "Epoch 95/130\n",
            "42/42 [==============================] - 0s 2ms/step - loss: 0.0552 - accuracy: 0.9952\n",
            "Epoch 96/130\n",
            "42/42 [==============================] - 0s 3ms/step - loss: 0.0503 - accuracy: 1.0000\n",
            "Epoch 97/130\n",
            "42/42 [==============================] - 0s 4ms/step - loss: 0.0593 - accuracy: 0.9904\n",
            "Epoch 98/130\n",
            "42/42 [==============================] - 0s 2ms/step - loss: 0.0477 - accuracy: 0.9952\n",
            "Epoch 99/130\n",
            "42/42 [==============================] - 0s 3ms/step - loss: 0.0532 - accuracy: 0.9952\n",
            "Epoch 100/130\n",
            "42/42 [==============================] - 0s 3ms/step - loss: 0.0481 - accuracy: 1.0000\n",
            "Epoch 101/130\n",
            "42/42 [==============================] - 0s 2ms/step - loss: 0.0523 - accuracy: 0.9856\n",
            "Epoch 102/130\n",
            "42/42 [==============================] - 0s 1ms/step - loss: 0.0502 - accuracy: 0.9952\n",
            "Epoch 103/130\n",
            "42/42 [==============================] - 0s 3ms/step - loss: 0.0477 - accuracy: 0.9952\n",
            "Epoch 104/130\n",
            "42/42 [==============================] - 0s 3ms/step - loss: 0.0419 - accuracy: 0.9952\n",
            "Epoch 105/130\n",
            "42/42 [==============================] - 0s 2ms/step - loss: 0.0406 - accuracy: 1.0000\n",
            "Epoch 106/130\n",
            "42/42 [==============================] - 0s 2ms/step - loss: 0.0413 - accuracy: 0.9952\n",
            "Epoch 107/130\n",
            "42/42 [==============================] - 0s 2ms/step - loss: 0.0442 - accuracy: 0.9904\n",
            "Epoch 108/130\n",
            "42/42 [==============================] - 0s 3ms/step - loss: 0.0452 - accuracy: 0.9904\n",
            "Epoch 109/130\n",
            "42/42 [==============================] - 0s 2ms/step - loss: 0.0344 - accuracy: 1.0000\n",
            "Epoch 110/130\n",
            "42/42 [==============================] - 0s 2ms/step - loss: 0.0350 - accuracy: 1.0000\n",
            "Epoch 111/130\n",
            "42/42 [==============================] - 0s 2ms/step - loss: 0.0386 - accuracy: 0.9904\n",
            "Epoch 112/130\n",
            "42/42 [==============================] - 0s 2ms/step - loss: 0.0342 - accuracy: 0.9952\n",
            "Epoch 113/130\n",
            "42/42 [==============================] - 0s 3ms/step - loss: 0.0303 - accuracy: 1.0000\n",
            "Epoch 114/130\n",
            "42/42 [==============================] - 0s 2ms/step - loss: 0.0322 - accuracy: 1.0000\n",
            "Epoch 115/130\n",
            "42/42 [==============================] - 0s 3ms/step - loss: 0.0327 - accuracy: 1.0000\n",
            "Epoch 116/130\n",
            "42/42 [==============================] - 0s 3ms/step - loss: 0.0315 - accuracy: 0.9952\n",
            "Epoch 117/130\n",
            "42/42 [==============================] - 0s 2ms/step - loss: 0.0355 - accuracy: 0.9952\n",
            "Epoch 118/130\n",
            "42/42 [==============================] - 0s 2ms/step - loss: 0.0271 - accuracy: 1.0000\n",
            "Epoch 119/130\n",
            "42/42 [==============================] - 0s 2ms/step - loss: 0.0337 - accuracy: 1.0000\n",
            "Epoch 120/130\n",
            "42/42 [==============================] - 0s 4ms/step - loss: 0.0275 - accuracy: 1.0000\n",
            "Epoch 121/130\n",
            "42/42 [==============================] - 0s 2ms/step - loss: 0.0271 - accuracy: 0.9952\n",
            "Epoch 122/130\n",
            "42/42 [==============================] - 0s 2ms/step - loss: 0.0253 - accuracy: 1.0000\n",
            "Epoch 123/130\n",
            "42/42 [==============================] - 0s 2ms/step - loss: 0.0240 - accuracy: 1.0000\n",
            "Epoch 124/130\n",
            "42/42 [==============================] - 0s 2ms/step - loss: 0.0257 - accuracy: 0.9952\n",
            "Epoch 125/130\n",
            "42/42 [==============================] - 0s 2ms/step - loss: 0.0250 - accuracy: 1.0000\n",
            "Epoch 126/130\n",
            "42/42 [==============================] - 0s 2ms/step - loss: 0.0276 - accuracy: 0.9952\n",
            "Epoch 127/130\n",
            "42/42 [==============================] - 0s 2ms/step - loss: 0.0212 - accuracy: 1.0000\n",
            "Epoch 128/130\n",
            "42/42 [==============================] - 0s 2ms/step - loss: 0.0207 - accuracy: 1.0000\n",
            "Epoch 129/130\n",
            "42/42 [==============================] - 0s 3ms/step - loss: 0.0207 - accuracy: 0.9952\n",
            "Epoch 130/130\n",
            "42/42 [==============================] - 0s 2ms/step - loss: 0.0208 - accuracy: 1.0000\n"
          ]
        },
        {
          "output_type": "execute_result",
          "data": {
            "text/plain": [
              "<keras.callbacks.History at 0x7fcd3bf27510>"
            ]
          },
          "metadata": {},
          "execution_count": 29
        }
      ]
    },
    {
      "cell_type": "code",
      "source": [
        "model.evaluate(x,y)[1]*100"
      ],
      "metadata": {
        "colab": {
          "base_uri": "https://localhost:8080/"
        },
        "id": "UcHHbyMD186V",
        "outputId": "1d9313d0-cea6-4389-f35e-117716cc63ea"
      },
      "execution_count": null,
      "outputs": [
        {
          "output_type": "stream",
          "name": "stdout",
          "text": [
            "7/7 [==============================] - 0s 3ms/step - loss: 0.0206 - accuracy: 1.0000\n"
          ]
        },
        {
          "output_type": "execute_result",
          "data": {
            "text/plain": [
              "100.0"
            ]
          },
          "metadata": {},
          "execution_count": 30
        }
      ]
    },
    {
      "cell_type": "code",
      "source": [
        "del model"
      ],
      "metadata": {
        "colab": {
          "base_uri": "https://localhost:8080/",
          "height": 174
        },
        "id": "YkJ0R3NO5U0d",
        "outputId": "a4e7e3e2-cc62-42de-ac4d-4402e8e2ce6d"
      },
      "execution_count": null,
      "outputs": [
        {
          "output_type": "error",
          "ename": "NameError",
          "evalue": "ignored",
          "traceback": [
            "\u001b[0;31m---------------------------------------------------------------------------\u001b[0m",
            "\u001b[0;31mNameError\u001b[0m                                 Traceback (most recent call last)",
            "\u001b[0;32m<ipython-input-71-a7ab210f85a1>\u001b[0m in \u001b[0;36m<module>\u001b[0;34m\u001b[0m\n\u001b[0;32m----> 1\u001b[0;31m \u001b[0;32mdel\u001b[0m \u001b[0mmodel\u001b[0m\u001b[0;34m\u001b[0m\u001b[0;34m\u001b[0m\u001b[0m\n\u001b[0m",
            "\u001b[0;31mNameError\u001b[0m: name 'model' is not defined"
          ]
        }
      ]
    },
    {
      "cell_type": "markdown",
      "source": [
        "# 과적합 요인 \n",
        "- 은닉층의 수 (은닉층의 깊이가 깊을수록)\n",
        "- epochs : 반복 학습량이 많을수록\n",
        "\n",
        "# 과적합 방지\n",
        "- 학습 셋과 테스트 셋을 명확히 구분\n",
        "- 학습과 동시에 테스트 병행\n",
        "\n"
      ],
      "metadata": {
        "id": "bLY-YmqCznnu"
      }
    },
    {
      "cell_type": "code",
      "source": [
        "from sklearn.model_selection import train_test_split\n",
        "\n",
        "x_train, x_test, y_train, y_test = train_test_split(x,y,test_size=0.3, shuffle=True) "
      ],
      "metadata": {
        "id": "kMHI6I81y14q"
      },
      "execution_count": null,
      "outputs": []
    },
    {
      "cell_type": "code",
      "source": [
        "print(x_train.shape)\n",
        "print(x_test.shape)"
      ],
      "metadata": {
        "colab": {
          "base_uri": "https://localhost:8080/"
        },
        "id": "jEY7dVA51mXW",
        "outputId": "c3291d00-acb6-4a60-dbdf-2d7e1c3e98be"
      },
      "execution_count": null,
      "outputs": [
        {
          "output_type": "stream",
          "name": "stdout",
          "text": [
            "(145, 60)\n",
            "(63, 60)\n"
          ]
        }
      ]
    },
    {
      "cell_type": "code",
      "source": [
        "print(y_train.shape)\n",
        "print(y_test.shape)"
      ],
      "metadata": {
        "colab": {
          "base_uri": "https://localhost:8080/"
        },
        "id": "0OJacvSY1uF7",
        "outputId": "fed9d6a8-dbdc-4d8b-e618-e252e5435f05"
      },
      "execution_count": null,
      "outputs": [
        {
          "output_type": "stream",
          "name": "stdout",
          "text": [
            "(145,)\n",
            "(63,)\n"
          ]
        }
      ]
    },
    {
      "cell_type": "code",
      "source": [
        "from tensorflow.keras.models import Sequential\n",
        "from tensorflow.keras.layers import Dense"
      ],
      "metadata": {
        "id": "SB7hpiZE4FDd"
      },
      "execution_count": null,
      "outputs": []
    },
    {
      "cell_type": "code",
      "source": [
        "model=Sequential()\n",
        "\n",
        "model.add(Dense(24, input_dim = 60, activation='relu'))\n",
        "model.add(Dense(10, activation='relu'))\n",
        "model.add(Dense(1, activation='sigmoid'))\n",
        "\n",
        "model.compile(loss='binary_crossentropy',\n",
        "              optimizer='adam', metrics=['accuracy'])\n",
        "\n",
        "model.fit(x_train,y_train,epochs=100, batch_size=5)"
      ],
      "metadata": {
        "colab": {
          "base_uri": "https://localhost:8080/"
        },
        "id": "GGDXdvmd1wbj",
        "outputId": "c77b1fb8-9d94-449b-9f3a-407166d48d66"
      },
      "execution_count": null,
      "outputs": [
        {
          "output_type": "stream",
          "name": "stdout",
          "text": [
            "Epoch 1/100\n",
            "29/29 [==============================] - 0s 940us/step - loss: 0.6923 - accuracy: 0.5103\n",
            "Epoch 2/100\n",
            "29/29 [==============================] - 0s 940us/step - loss: 0.6667 - accuracy: 0.6414\n",
            "Epoch 3/100\n",
            "29/29 [==============================] - 0s 1ms/step - loss: 0.6528 - accuracy: 0.6483\n",
            "Epoch 4/100\n",
            "29/29 [==============================] - 0s 1ms/step - loss: 0.6371 - accuracy: 0.6828\n",
            "Epoch 5/100\n",
            "29/29 [==============================] - 0s 1ms/step - loss: 0.6187 - accuracy: 0.7172\n",
            "Epoch 6/100\n",
            "29/29 [==============================] - 0s 1ms/step - loss: 0.6017 - accuracy: 0.7379\n",
            "Epoch 7/100\n",
            "29/29 [==============================] - 0s 921us/step - loss: 0.5866 - accuracy: 0.7586\n",
            "Epoch 8/100\n",
            "29/29 [==============================] - 0s 1ms/step - loss: 0.5658 - accuracy: 0.7793\n",
            "Epoch 9/100\n",
            "29/29 [==============================] - 0s 904us/step - loss: 0.5537 - accuracy: 0.7448\n",
            "Epoch 10/100\n",
            "29/29 [==============================] - 0s 1ms/step - loss: 0.5314 - accuracy: 0.8069\n",
            "Epoch 11/100\n",
            "29/29 [==============================] - 0s 960us/step - loss: 0.5176 - accuracy: 0.7310\n",
            "Epoch 12/100\n",
            "29/29 [==============================] - 0s 974us/step - loss: 0.5106 - accuracy: 0.8000\n",
            "Epoch 13/100\n",
            "29/29 [==============================] - 0s 945us/step - loss: 0.4986 - accuracy: 0.7862\n",
            "Epoch 14/100\n",
            "29/29 [==============================] - 0s 1ms/step - loss: 0.4741 - accuracy: 0.8483\n",
            "Epoch 15/100\n",
            "29/29 [==============================] - 0s 1ms/step - loss: 0.4641 - accuracy: 0.8069\n",
            "Epoch 16/100\n",
            "29/29 [==============================] - 0s 1ms/step - loss: 0.4573 - accuracy: 0.8345\n",
            "Epoch 17/100\n",
            "29/29 [==============================] - 0s 1ms/step - loss: 0.4601 - accuracy: 0.7931\n",
            "Epoch 18/100\n",
            "29/29 [==============================] - 0s 919us/step - loss: 0.4321 - accuracy: 0.8621\n",
            "Epoch 19/100\n",
            "29/29 [==============================] - 0s 1ms/step - loss: 0.4270 - accuracy: 0.8414\n",
            "Epoch 20/100\n",
            "29/29 [==============================] - 0s 1ms/step - loss: 0.4156 - accuracy: 0.8621\n",
            "Epoch 21/100\n",
            "29/29 [==============================] - 0s 962us/step - loss: 0.4073 - accuracy: 0.8345\n",
            "Epoch 22/100\n",
            "29/29 [==============================] - 0s 1ms/step - loss: 0.4010 - accuracy: 0.8621\n",
            "Epoch 23/100\n",
            "29/29 [==============================] - 0s 954us/step - loss: 0.3937 - accuracy: 0.8690\n",
            "Epoch 24/100\n",
            "29/29 [==============================] - 0s 975us/step - loss: 0.3884 - accuracy: 0.8690\n",
            "Epoch 25/100\n",
            "29/29 [==============================] - 0s 1ms/step - loss: 0.3821 - accuracy: 0.8690\n",
            "Epoch 26/100\n",
            "29/29 [==============================] - 0s 980us/step - loss: 0.3792 - accuracy: 0.8621\n",
            "Epoch 27/100\n",
            "29/29 [==============================] - 0s 1ms/step - loss: 0.3755 - accuracy: 0.8552\n",
            "Epoch 28/100\n",
            "29/29 [==============================] - 0s 956us/step - loss: 0.3657 - accuracy: 0.8690\n",
            "Epoch 29/100\n",
            "29/29 [==============================] - 0s 998us/step - loss: 0.3601 - accuracy: 0.8759\n",
            "Epoch 30/100\n",
            "29/29 [==============================] - 0s 977us/step - loss: 0.3693 - accuracy: 0.8621\n",
            "Epoch 31/100\n",
            "29/29 [==============================] - 0s 1ms/step - loss: 0.3480 - accuracy: 0.8897\n",
            "Epoch 32/100\n",
            "29/29 [==============================] - 0s 961us/step - loss: 0.3463 - accuracy: 0.8759\n",
            "Epoch 33/100\n",
            "29/29 [==============================] - 0s 1ms/step - loss: 0.3437 - accuracy: 0.8621\n",
            "Epoch 34/100\n",
            "29/29 [==============================] - 0s 1ms/step - loss: 0.3330 - accuracy: 0.8690\n",
            "Epoch 35/100\n",
            "29/29 [==============================] - 0s 906us/step - loss: 0.3309 - accuracy: 0.8552\n",
            "Epoch 36/100\n",
            "29/29 [==============================] - 0s 997us/step - loss: 0.3258 - accuracy: 0.8759\n",
            "Epoch 37/100\n",
            "29/29 [==============================] - 0s 939us/step - loss: 0.3159 - accuracy: 0.8690\n",
            "Epoch 38/100\n",
            "29/29 [==============================] - 0s 1ms/step - loss: 0.3126 - accuracy: 0.8897\n",
            "Epoch 39/100\n",
            "29/29 [==============================] - 0s 976us/step - loss: 0.3100 - accuracy: 0.8897\n",
            "Epoch 40/100\n",
            "29/29 [==============================] - 0s 986us/step - loss: 0.3207 - accuracy: 0.8690\n",
            "Epoch 41/100\n",
            "29/29 [==============================] - 0s 963us/step - loss: 0.3053 - accuracy: 0.9103\n",
            "Epoch 42/100\n",
            "29/29 [==============================] - 0s 980us/step - loss: 0.3018 - accuracy: 0.8759\n",
            "Epoch 43/100\n",
            "29/29 [==============================] - 0s 1ms/step - loss: 0.3034 - accuracy: 0.8759\n",
            "Epoch 44/100\n",
            "29/29 [==============================] - 0s 988us/step - loss: 0.2885 - accuracy: 0.8759\n",
            "Epoch 45/100\n",
            "29/29 [==============================] - 0s 1ms/step - loss: 0.2947 - accuracy: 0.8759\n",
            "Epoch 46/100\n",
            "29/29 [==============================] - 0s 922us/step - loss: 0.2808 - accuracy: 0.8828\n",
            "Epoch 47/100\n",
            "29/29 [==============================] - 0s 1ms/step - loss: 0.2763 - accuracy: 0.9103\n",
            "Epoch 48/100\n",
            "29/29 [==============================] - 0s 1ms/step - loss: 0.2671 - accuracy: 0.8966\n",
            "Epoch 49/100\n",
            "29/29 [==============================] - 0s 1ms/step - loss: 0.2666 - accuracy: 0.8897\n",
            "Epoch 50/100\n",
            "29/29 [==============================] - 0s 956us/step - loss: 0.2604 - accuracy: 0.8966\n",
            "Epoch 51/100\n",
            "29/29 [==============================] - 0s 2ms/step - loss: 0.2771 - accuracy: 0.8828\n",
            "Epoch 52/100\n",
            "29/29 [==============================] - 0s 1ms/step - loss: 0.2704 - accuracy: 0.9034\n",
            "Epoch 53/100\n",
            "29/29 [==============================] - 0s 993us/step - loss: 0.2814 - accuracy: 0.8828\n",
            "Epoch 54/100\n",
            "29/29 [==============================] - 0s 1ms/step - loss: 0.2489 - accuracy: 0.9034\n",
            "Epoch 55/100\n",
            "29/29 [==============================] - 0s 1ms/step - loss: 0.2702 - accuracy: 0.8759\n",
            "Epoch 56/100\n",
            "29/29 [==============================] - 0s 1ms/step - loss: 0.2428 - accuracy: 0.9034\n",
            "Epoch 57/100\n",
            "29/29 [==============================] - 0s 1ms/step - loss: 0.2418 - accuracy: 0.8897\n",
            "Epoch 58/100\n",
            "29/29 [==============================] - 0s 917us/step - loss: 0.2319 - accuracy: 0.9172\n",
            "Epoch 59/100\n",
            "29/29 [==============================] - 0s 913us/step - loss: 0.2377 - accuracy: 0.9172\n",
            "Epoch 60/100\n",
            "29/29 [==============================] - 0s 1ms/step - loss: 0.2286 - accuracy: 0.9103\n",
            "Epoch 61/100\n",
            "29/29 [==============================] - 0s 908us/step - loss: 0.2337 - accuracy: 0.8966\n",
            "Epoch 62/100\n",
            "29/29 [==============================] - 0s 927us/step - loss: 0.2262 - accuracy: 0.9034\n",
            "Epoch 63/100\n",
            "29/29 [==============================] - 0s 979us/step - loss: 0.2218 - accuracy: 0.9103\n",
            "Epoch 64/100\n",
            "29/29 [==============================] - 0s 1ms/step - loss: 0.2130 - accuracy: 0.9241\n",
            "Epoch 65/100\n",
            "29/29 [==============================] - 0s 1ms/step - loss: 0.2133 - accuracy: 0.9241\n",
            "Epoch 66/100\n",
            "29/29 [==============================] - 0s 966us/step - loss: 0.2137 - accuracy: 0.9241\n",
            "Epoch 67/100\n",
            "29/29 [==============================] - 0s 1ms/step - loss: 0.2117 - accuracy: 0.9172\n",
            "Epoch 68/100\n",
            "29/29 [==============================] - 0s 1ms/step - loss: 0.2083 - accuracy: 0.9241\n",
            "Epoch 69/100\n",
            "29/29 [==============================] - 0s 917us/step - loss: 0.2015 - accuracy: 0.9310\n",
            "Epoch 70/100\n",
            "29/29 [==============================] - 0s 1ms/step - loss: 0.1974 - accuracy: 0.9379\n",
            "Epoch 71/100\n",
            "29/29 [==============================] - 0s 946us/step - loss: 0.1941 - accuracy: 0.9241\n",
            "Epoch 72/100\n",
            "29/29 [==============================] - 0s 898us/step - loss: 0.1914 - accuracy: 0.9310\n",
            "Epoch 73/100\n",
            "29/29 [==============================] - 0s 1ms/step - loss: 0.1952 - accuracy: 0.9241\n",
            "Epoch 74/100\n",
            "29/29 [==============================] - 0s 1ms/step - loss: 0.1841 - accuracy: 0.9241\n",
            "Epoch 75/100\n",
            "29/29 [==============================] - 0s 979us/step - loss: 0.1921 - accuracy: 0.9310\n",
            "Epoch 76/100\n",
            "29/29 [==============================] - 0s 953us/step - loss: 0.1907 - accuracy: 0.9241\n",
            "Epoch 77/100\n",
            "29/29 [==============================] - 0s 1ms/step - loss: 0.1832 - accuracy: 0.9448\n",
            "Epoch 78/100\n",
            "29/29 [==============================] - 0s 1ms/step - loss: 0.1757 - accuracy: 0.9310\n",
            "Epoch 79/100\n",
            "29/29 [==============================] - 0s 979us/step - loss: 0.1768 - accuracy: 0.9310\n",
            "Epoch 80/100\n",
            "29/29 [==============================] - 0s 932us/step - loss: 0.1706 - accuracy: 0.9379\n",
            "Epoch 81/100\n",
            "29/29 [==============================] - 0s 1ms/step - loss: 0.1718 - accuracy: 0.9310\n",
            "Epoch 82/100\n",
            "29/29 [==============================] - 0s 1ms/step - loss: 0.1673 - accuracy: 0.9379\n",
            "Epoch 83/100\n",
            "29/29 [==============================] - 0s 1ms/step - loss: 0.1631 - accuracy: 0.9448\n",
            "Epoch 84/100\n",
            "29/29 [==============================] - 0s 1ms/step - loss: 0.1568 - accuracy: 0.9448\n",
            "Epoch 85/100\n",
            "29/29 [==============================] - 0s 957us/step - loss: 0.1576 - accuracy: 0.9379\n",
            "Epoch 86/100\n",
            "29/29 [==============================] - 0s 962us/step - loss: 0.1560 - accuracy: 0.9310\n",
            "Epoch 87/100\n",
            "29/29 [==============================] - 0s 1ms/step - loss: 0.1491 - accuracy: 0.9448\n",
            "Epoch 88/100\n",
            "29/29 [==============================] - 0s 1ms/step - loss: 0.1503 - accuracy: 0.9379\n",
            "Epoch 89/100\n",
            "29/29 [==============================] - 0s 955us/step - loss: 0.1583 - accuracy: 0.9310\n",
            "Epoch 90/100\n",
            "29/29 [==============================] - 0s 955us/step - loss: 0.1544 - accuracy: 0.9310\n",
            "Epoch 91/100\n",
            "29/29 [==============================] - 0s 885us/step - loss: 0.1433 - accuracy: 0.9310\n",
            "Epoch 92/100\n",
            "29/29 [==============================] - 0s 960us/step - loss: 0.1431 - accuracy: 0.9448\n",
            "Epoch 93/100\n",
            "29/29 [==============================] - 0s 1ms/step - loss: 0.1447 - accuracy: 0.9586\n",
            "Epoch 94/100\n",
            "29/29 [==============================] - 0s 985us/step - loss: 0.1358 - accuracy: 0.9517\n",
            "Epoch 95/100\n",
            "29/29 [==============================] - 0s 1ms/step - loss: 0.1309 - accuracy: 0.9586\n",
            "Epoch 96/100\n",
            "29/29 [==============================] - 0s 1ms/step - loss: 0.1357 - accuracy: 0.9448\n",
            "Epoch 97/100\n",
            "29/29 [==============================] - 0s 1ms/step - loss: 0.1381 - accuracy: 0.9517\n",
            "Epoch 98/100\n",
            "29/29 [==============================] - 0s 1ms/step - loss: 0.1202 - accuracy: 0.9517\n",
            "Epoch 99/100\n",
            "29/29 [==============================] - 0s 1ms/step - loss: 0.1216 - accuracy: 0.9586\n",
            "Epoch 100/100\n",
            "29/29 [==============================] - 0s 1ms/step - loss: 0.1183 - accuracy: 0.9655\n"
          ]
        },
        {
          "output_type": "execute_result",
          "data": {
            "text/plain": [
              "<keras.callbacks.History at 0x7fcd363c4710>"
            ]
          },
          "metadata": {},
          "execution_count": 74
        }
      ]
    },
    {
      "cell_type": "code",
      "source": [
        "print(\"train 정확도 : %.2f\"%(model.evaluate(x_train,y_train)[1]*100))"
      ],
      "metadata": {
        "colab": {
          "base_uri": "https://localhost:8080/"
        },
        "id": "6FA65nxQ6BDF",
        "outputId": "f67e8ed9-a55f-46a6-9960-6c0b5fdf4724"
      },
      "execution_count": null,
      "outputs": [
        {
          "output_type": "stream",
          "name": "stdout",
          "text": [
            "5/5 [==============================] - 0s 2ms/step - loss: 0.1110 - accuracy: 0.9724\n",
            "train 정확도 : 97.24\n"
          ]
        }
      ]
    },
    {
      "cell_type": "code",
      "source": [
        "print(\"정확도 : %.2f\"%(model.evaluate(x_test,y_test)[1]*100))"
      ],
      "metadata": {
        "id": "KpkFht5H3Mid",
        "colab": {
          "base_uri": "https://localhost:8080/"
        },
        "outputId": "c51437a9-d077-45e5-ebc3-6993abcd159e"
      },
      "execution_count": null,
      "outputs": [
        {
          "output_type": "stream",
          "name": "stdout",
          "text": [
            "2/2 [==============================] - 0s 3ms/step - loss: 0.4221 - accuracy: 0.8571\n",
            "정확도 : 85.71\n"
          ]
        }
      ]
    },
    {
      "cell_type": "code",
      "source": [
        "# 모델 저장 및 재사용\n",
        "model.save(\"/content/gdrive/MyDrive/Colab/data//model/model_1.hdf5\")"
      ],
      "metadata": {
        "id": "qh4Jg5Fc4tz1"
      },
      "execution_count": null,
      "outputs": []
    },
    {
      "cell_type": "code",
      "source": [
        "del model # 메모리에 있는 모델 삭제"
      ],
      "metadata": {
        "id": "EgSWb5Aq6q1l"
      },
      "execution_count": null,
      "outputs": []
    },
    {
      "cell_type": "code",
      "source": [
        "print(\"test 정확도 : %.2f\"%(model.evaluate(x_test,y_test)[1]*100))"
      ],
      "metadata": {
        "colab": {
          "base_uri": "https://localhost:8080/",
          "height": 174
        },
        "id": "Z5aELRDD6tUd",
        "outputId": "e52312d1-65df-4019-e8ed-13cb79c8cf8a"
      },
      "execution_count": null,
      "outputs": [
        {
          "output_type": "error",
          "ename": "NameError",
          "evalue": "ignored",
          "traceback": [
            "\u001b[0;31m---------------------------------------------------------------------------\u001b[0m",
            "\u001b[0;31mNameError\u001b[0m                                 Traceback (most recent call last)",
            "\u001b[0;32m<ipython-input-79-2901fff739a2>\u001b[0m in \u001b[0;36m<module>\u001b[0;34m\u001b[0m\n\u001b[0;32m----> 1\u001b[0;31m \u001b[0mprint\u001b[0m\u001b[0;34m(\u001b[0m\u001b[0;34m\"test 정확도 : %.2f\"\u001b[0m\u001b[0;34m%\u001b[0m\u001b[0;34m(\u001b[0m\u001b[0mmodel\u001b[0m\u001b[0;34m.\u001b[0m\u001b[0mevaluate\u001b[0m\u001b[0;34m(\u001b[0m\u001b[0mx_test\u001b[0m\u001b[0;34m,\u001b[0m\u001b[0my_test\u001b[0m\u001b[0;34m)\u001b[0m\u001b[0;34m[\u001b[0m\u001b[0;36m1\u001b[0m\u001b[0;34m]\u001b[0m\u001b[0;34m*\u001b[0m\u001b[0;36m100\u001b[0m\u001b[0;34m)\u001b[0m\u001b[0;34m)\u001b[0m\u001b[0;34m\u001b[0m\u001b[0;34m\u001b[0m\u001b[0m\n\u001b[0m",
            "\u001b[0;31mNameError\u001b[0m: name 'model' is not defined"
          ]
        }
      ]
    },
    {
      "cell_type": "code",
      "source": [
        "from tensorflow.keras.models import load_model\n",
        "\n",
        "model2=load_model(\"/content/gdrive/MyDrive/Colab/data//model/model_1.hdf5\")\n",
        "print(\"정확도 : %.2f\"%(model2.evaluate(x_test,y_test)[1]*100))"
      ],
      "metadata": {
        "colab": {
          "base_uri": "https://localhost:8080/"
        },
        "id": "HwmFPIRO6r-d",
        "outputId": "9e585a7c-a0cc-4b93-865a-f9b596b1d6ff"
      },
      "execution_count": null,
      "outputs": [
        {
          "output_type": "stream",
          "name": "stdout",
          "text": [
            "2/2 [==============================] - 0s 8ms/step - loss: 0.4221 - accuracy: 0.8571\n",
            "정확도 : 85.71\n"
          ]
        }
      ]
    },
    {
      "cell_type": "markdown",
      "source": [
        "# k겹 교차 검증\n",
        "- 샘플 수가 적을 때 사용\n"
      ],
      "metadata": {
        "id": "4MGLg1c37ptN"
      }
    }
  ]
}