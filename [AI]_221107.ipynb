{
  "nbformat": 4,
  "nbformat_minor": 0,
  "metadata": {
    "colab": {
      "provenance": [],
      "authorship_tag": "ABX9TyN4TsWxIgY9nGA+AH8IRUvL",
      "include_colab_link": true
    },
    "kernelspec": {
      "name": "python3",
      "display_name": "Python 3"
    },
    "language_info": {
      "name": "python"
    }
  },
  "cells": [
    {
      "cell_type": "markdown",
      "metadata": {
        "id": "view-in-github",
        "colab_type": "text"
      },
      "source": [
        "<a href=\"https://colab.research.google.com/github/Park-New-project/2022_AI_Study_Course/blob/main/%5BAI%5D_221107.ipynb\" target=\"_parent\"><img src=\"https://colab.research.google.com/assets/colab-badge.svg\" alt=\"Open In Colab\"/></a>"
      ]
    },
    {
      "cell_type": "markdown",
      "source": [
        "# S3 : 정적 웹 호스팅\n",
        "- 버킷 -> 속성 -> 정적 웹사이트 호스팅 -> 활성화\n",
        "- 버킷 웹사이트 엔드포인트\n",
        "- http://test-website-pmj-20221107.s3-website.ap-northeast-2.amazonaws.com"
      ],
      "metadata": {
        "id": "bynDVvvZZl1b"
      }
    },
    {
      "cell_type": "markdown",
      "source": [
        "# CloudFront\n",
        "- CDN (Content Delivery Network)\n",
        "- HTTP/HTTPS를 이용하여 S3, EC2, ELB 등에 대해 캐시하고 빠른 속도로 컨텐츠를 전달하는 캐시서버\n",
        "- Edge Location에 캐싱해 Edge Location간 공유를 통해 컨텐츠 전달\n",
        "- Distribution의 집합을 의미\n",
        "- AWS 백본 네트워크를 통해 빠른 전달 가능\n",
        "- AWS 외 외부의 서버도 캐싱 가능\n",
        "- TTL (time to live, 생존시간) 조정 가능\n",
        "\n",
        "# OAI\n",
        "- S3를 오리진 서버로 사용시 CloudFront외 다른 경로로 S3로 접근하는 것을 막는 방법\n",
        "- Distribution이  별도의 identity를 갖는다.\n",
        "\n",
        "# Presigned URL\n",
        "- 인증된 사용자만 사용하도록 제어\n",
        "- CloudFront 설정 시 보안자격 증명에서 생성\n",
        "\n",
        "# S3 : CloudFront\n",
        "- 특정 지점에 Edge Location (캐시 서버) 만들기\n",
        "- CloudFront -> 배포 -> 배포 만들기\n",
        "- 기본값 루트 객체 -> index.html\n",
        "- 상파울루  -> CF -> 서울 region "
      ],
      "metadata": {
        "id": "X3H81xbKZrM6"
      }
    },
    {
      "cell_type": "markdown",
      "source": [
        "# RDS\n",
        "- EC2 인스턴스에 RDB(관계형) 올려놓은 것\n",
        "- 관계형 데이터베이스를 더 쉽게 설치, 운영, 확장\n",
        "- 시간 소모적인 관리 작업 자동화\n",
        "- 비용 효율적이고 크기 조정가능한 용량 제공\n",
        "\n",
        "# SQL & NoSQL\n",
        "- 관계형(SQL) : 테이블 (행과 열), 엄격한 스키마, SQL, 수직 확장\n",
        "- 비관계형(NoSQL) : Key-Value, Document, 동적, 문서 수집 집중, 수평 확장\n",
        "\n",
        "# 관계형 데이터베이스\n",
        "- 열과 행으로 이루어짐\n",
        "\n",
        "# 비관리형 데이터베이스\n",
        "- 온프레미스와 달리 EC2에서 어느정도 관리해줌\n",
        "\n",
        "# Aurora\n",
        "- 속도 빠름\n",
        "- 높은 가용성과 안정성\n",
        "- 완벽 호환\n"
      ],
      "metadata": {
        "id": "POtBIz1qZuF6"
      }
    },
    {
      "cell_type": "markdown",
      "source": [
        "# RDS 실습\n",
        "- 데이터베이스 생성 -> 보안 그룹 새로\n",
        "\n",
        "# MySQL 워크벤치\n",
        "- My SQL Conncetions +\n",
        "- Host Name: 엔드포인트"
      ],
      "metadata": {
        "id": "KasThjzxfsf8"
      }
    },
    {
      "cell_type": "code",
      "source": [],
      "metadata": {
        "id": "3x1NRa-NcKz7"
      },
      "execution_count": null,
      "outputs": []
    }
  ]
}