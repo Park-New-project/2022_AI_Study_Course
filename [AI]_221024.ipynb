{
  "nbformat": 4,
  "nbformat_minor": 0,
  "metadata": {
    "colab": {
      "provenance": [],
      "authorship_tag": "ABX9TyPFcyd5m9Hs0/vTSFB60vMX",
      "include_colab_link": true
    },
    "kernelspec": {
      "name": "python3",
      "display_name": "Python 3"
    },
    "language_info": {
      "name": "python"
    }
  },
  "cells": [
    {
      "cell_type": "markdown",
      "metadata": {
        "id": "view-in-github",
        "colab_type": "text"
      },
      "source": [
        "<a href=\"https://colab.research.google.com/github/Park-New-project/2022_AI_Study_Course/blob/main/%5BAI%5D_221024.ipynb\" target=\"_parent\"><img src=\"https://colab.research.google.com/assets/colab-badge.svg\" alt=\"Open In Colab\"/></a>"
      ]
    },
    {
      "cell_type": "markdown",
      "source": [
        "# 로지스틱 회귀\n",
        "- 공부한 시간에 따른 합격 여부 (합격, 불합격)\n",
        "- 참과 거짓을 시그모이드 처럼 S형태로 그림\n",
        "\n",
        "# 오차 함수\n",
        "- 경사하강법은 오차를 구한후 오차가 작은 쪽으로 이동\n",
        "- 이번에는 예측값과 실제 값의 차이, 즉 오차를 구해야 함\n",
        "- 평균제곱오차 : 0, 1 로 나오므로 적합하지 않음\n",
        "- 실제값 1 : 예측값 0에 가까워질수록 오차가 커짐\n",
        "- 실제값 0 : 예측값 1에 가까워질수록 오차가 커짐\n",
        "- 로그 함수로 처리\n",
        "\n",
        "# 로그함수\n",
        "- 교차 엔트로피 오차 (A+B 에서 A에 가까우면 B만 실행, B에 가까우면 A만 실행...)\n",
        "- 손실함수 : 오차 함수\n",
        "- sigmoid, relu ..."
      ],
      "metadata": {
        "id": "Cxc-jR1tO4mV"
      }
    },
    {
      "cell_type": "code",
      "source": [
        "from google.colab import drive\n",
        "drive.mount('/content/gdrive', force_remount=True)"
      ],
      "metadata": {
        "colab": {
          "base_uri": "https://localhost:8080/"
        },
        "id": "_UAlq89eOS81",
        "outputId": "b373c64a-39de-4e3c-b77a-1537a312d39b"
      },
      "execution_count": null,
      "outputs": [
        {
          "output_type": "stream",
          "name": "stdout",
          "text": [
            "Mounted at /content/gdrive\n"
          ]
        }
      ]
    },
    {
      "cell_type": "code",
      "execution_count": null,
      "metadata": {
        "id": "49et6O3_Ql1O"
      },
      "outputs": [],
      "source": [
        "import numpy as np\n",
        "import matplotlib.pyplot as plt"
      ]
    },
    {
      "cell_type": "code",
      "source": [
        "data = [[2,0],[4,0],[6,0],[8,1],[10,1],[12,1],[14,1]]\n",
        "data"
      ],
      "metadata": {
        "colab": {
          "base_uri": "https://localhost:8080/"
        },
        "id": "b3_WVXpBOcYo",
        "outputId": "a4be619a-99dd-4886-8a38-780a48d63aa4"
      },
      "execution_count": null,
      "outputs": [
        {
          "output_type": "execute_result",
          "data": {
            "text/plain": [
              "[[2, 0], [4, 0], [6, 0], [8, 1], [10, 1], [12, 1], [14, 1]]"
            ]
          },
          "metadata": {},
          "execution_count": 3
        }
      ]
    },
    {
      "cell_type": "code",
      "source": [
        "x=[x_y[0] for x_y in data]\n",
        "y=[x_y[1] for x_y in data]\n",
        "\n",
        "plt.scatter(x,y)\n",
        "plt.show()"
      ],
      "metadata": {
        "colab": {
          "base_uri": "https://localhost:8080/",
          "height": 265
        },
        "id": "zgsDaMdUOnYE",
        "outputId": "446a3e00-ebfa-4e35-ae4d-4985afda01b3"
      },
      "execution_count": null,
      "outputs": [
        {
          "output_type": "display_data",
          "data": {
            "text/plain": [
              "<Figure size 432x288 with 1 Axes>"
            ],
            "image/png": "[encoded data removed]"
          },
          "metadata": {
            "needs_background": "light"
          }
        }
      ]
    },
    {
      "cell_type": "code",
      "source": [
        "a=b=0\n",
        "lr= 0.05 # 학습률 보폭 > 최적화\n",
        "\n",
        "epochs = 2001\n",
        "\n",
        "# 시그모이드 함수\n",
        "# 사용자 정의 함수\n",
        "def sigmoid(x):\n",
        "    return 1/(1 + np.e**(-x))# 경사하강법\n",
        "\n",
        "for i in range(epochs):\n",
        "    for x, y in data:\n",
        "        # 오차 함수 : 시그모이드\n",
        "        # 예측값 : y_pred = ax+b\n",
        "        # sigmoid( a*x+b )\n",
        "        a_diff = x * (sigmoid(a*x+b) -y) # 오차\n",
        "        b_diff = sigmoid(a*x+b) -y # -오차\n",
        "\n",
        "        a = a - lr * a_diff\n",
        "        b = b - lr * b_diff\n",
        "\n",
        "        if i % 100 == 0:\n",
        "            print(\"epochs=%4d, a: %.2f, b: %.2f\"%(i,a,b))\n",
        "\n"
      ],
      "metadata": {
        "colab": {
          "base_uri": "https://localhost:8080/"
        },
        "id": "CaHO2etdPnZx",
        "outputId": "f51bc5ff-708f-478c-f3de-0447737c34c0"
      },
      "execution_count": null,
      "outputs": [
        {
          "output_type": "stream",
          "name": "stdout",
          "text": [
            "epochs=   0, a: -0.05, b: -0.03\n",
            "epochs=   0, a: -0.14, b: -0.05\n",
            "epochs=   0, a: -0.23, b: -0.06\n",
            "epochs=   0, a: 0.12, b: -0.02\n",
            "epochs=   0, a: 0.24, b: -0.01\n",
            "epochs=   0, a: 0.27, b: -0.00\n",
            "epochs=   0, a: 0.29, b: -0.00\n",
            "epochs= 100, a: 0.63, b: -3.23\n",
            "epochs= 100, a: 0.56, b: -3.25\n",
            "epochs= 100, a: 0.40, b: -3.28\n",
            "epochs= 100, a: 0.61, b: -3.25\n",
            "epochs= 100, a: 0.64, b: -3.25\n",
            "epochs= 100, a: 0.64, b: -3.25\n",
            "epochs= 100, a: 0.65, b: -3.25\n",
            "epochs= 200, a: 0.83, b: -4.82\n",
            "epochs= 200, a: 0.79, b: -4.83\n",
            "epochs= 200, a: 0.65, b: -4.85\n",
            "epochs= 200, a: 0.82, b: -4.83\n",
            "epochs= 200, a: 0.83, b: -4.83\n",
            "epochs= 200, a: 0.84, b: -4.83\n",
            "epochs= 200, a: 0.84, b: -4.83\n",
            "epochs= 300, a: 0.97, b: -5.90\n",
            "epochs= 300, a: 0.95, b: -5.91\n",
            "epochs= 300, a: 0.81, b: -5.93\n",
            "epochs= 300, a: 0.96, b: -5.91\n",
            "epochs= 300, a: 0.97, b: -5.91\n",
            "epochs= 300, a: 0.97, b: -5.91\n",
            "epochs= 300, a: 0.97, b: -5.91\n",
            "epochs= 400, a: 1.08, b: -6.74\n",
            "epochs= 400, a: 1.06, b: -6.75\n",
            "epochs= 400, a: 0.94, b: -6.77\n",
            "epochs= 400, a: 1.07, b: -6.75\n",
            "epochs= 400, a: 1.08, b: -6.75\n",
            "epochs= 400, a: 1.08, b: -6.75\n",
            "epochs= 400, a: 1.08, b: -6.75\n",
            "epochs= 500, a: 1.17, b: -7.45\n",
            "epochs= 500, a: 1.16, b: -7.45\n",
            "epochs= 500, a: 1.04, b: -7.47\n",
            "epochs= 500, a: 1.16, b: -7.46\n",
            "epochs= 500, a: 1.17, b: -7.45\n",
            "epochs= 500, a: 1.17, b: -7.45\n",
            "epochs= 500, a: 1.17, b: -7.45\n",
            "epochs= 600, a: 1.25, b: -8.06\n",
            "epochs= 600, a: 1.24, b: -8.06\n",
            "epochs= 600, a: 1.13, b: -8.08\n",
            "epochs= 600, a: 1.24, b: -8.06\n",
            "epochs= 600, a: 1.25, b: -8.06\n",
            "epochs= 600, a: 1.25, b: -8.06\n",
            "epochs= 600, a: 1.25, b: -8.06\n",
            "epochs= 700, a: 1.32, b: -8.60\n",
            "epochs= 700, a: 1.31, b: -8.60\n",
            "epochs= 700, a: 1.21, b: -8.62\n",
            "epochs= 700, a: 1.31, b: -8.60\n",
            "epochs= 700, a: 1.32, b: -8.60\n",
            "epochs= 700, a: 1.32, b: -8.60\n",
            "epochs= 700, a: 1.32, b: -8.60\n",
            "epochs= 800, a: 1.38, b: -9.08\n",
            "epochs= 800, a: 1.38, b: -9.09\n",
            "epochs= 800, a: 1.29, b: -9.10\n",
            "epochs= 800, a: 1.38, b: -9.09\n",
            "epochs= 800, a: 1.38, b: -9.09\n",
            "epochs= 800, a: 1.38, b: -9.09\n",
            "epochs= 800, a: 1.38, b: -9.09\n",
            "epochs= 900, a: 1.44, b: -9.53\n",
            "epochs= 900, a: 1.44, b: -9.53\n",
            "epochs= 900, a: 1.35, b: -9.55\n",
            "epochs= 900, a: 1.44, b: -9.53\n",
            "epochs= 900, a: 1.44, b: -9.53\n",
            "epochs= 900, a: 1.44, b: -9.53\n",
            "epochs= 900, a: 1.44, b: -9.53\n",
            "epochs=1000, a: 1.50, b: -9.94\n",
            "epochs=1000, a: 1.49, b: -9.94\n",
            "epochs=1000, a: 1.41, b: -9.95\n",
            "epochs=1000, a: 1.49, b: -9.94\n",
            "epochs=1000, a: 1.50, b: -9.94\n",
            "epochs=1000, a: 1.50, b: -9.94\n",
            "epochs=1000, a: 1.50, b: -9.94\n",
            "epochs=1100, a: 1.55, b: -10.32\n",
            "epochs=1100, a: 1.55, b: -10.32\n",
            "epochs=1100, a: 1.47, b: -10.34\n",
            "epochs=1100, a: 1.55, b: -10.33\n",
            "epochs=1100, a: 1.55, b: -10.33\n",
            "epochs=1100, a: 1.55, b: -10.33\n",
            "epochs=1100, a: 1.55, b: -10.33\n",
            "epochs=1200, a: 1.60, b: -10.68\n",
            "epochs=1200, a: 1.59, b: -10.68\n",
            "epochs=1200, a: 1.52, b: -10.69\n",
            "epochs=1200, a: 1.60, b: -10.68\n",
            "epochs=1200, a: 1.60, b: -10.68\n",
            "epochs=1200, a: 1.60, b: -10.68\n",
            "epochs=1200, a: 1.60, b: -10.68\n",
            "epochs=1300, a: 1.64, b: -11.02\n",
            "epochs=1300, a: 1.64, b: -11.02\n",
            "epochs=1300, a: 1.57, b: -11.03\n",
            "epochs=1300, a: 1.64, b: -11.02\n",
            "epochs=1300, a: 1.64, b: -11.02\n",
            "epochs=1300, a: 1.64, b: -11.02\n",
            "epochs=1300, a: 1.64, b: -11.02\n",
            "epochs=1400, a: 1.69, b: -11.33\n",
            "epochs=1400, a: 1.68, b: -11.33\n",
            "epochs=1400, a: 1.62, b: -11.35\n",
            "epochs=1400, a: 1.68, b: -11.34\n",
            "epochs=1400, a: 1.69, b: -11.34\n",
            "epochs=1400, a: 1.69, b: -11.34\n",
            "epochs=1400, a: 1.69, b: -11.34\n",
            "epochs=1500, a: 1.73, b: -11.63\n",
            "epochs=1500, a: 1.73, b: -11.64\n",
            "epochs=1500, a: 1.66, b: -11.65\n",
            "epochs=1500, a: 1.73, b: -11.64\n",
            "epochs=1500, a: 1.73, b: -11.64\n",
            "epochs=1500, a: 1.73, b: -11.64\n",
            "epochs=1500, a: 1.73, b: -11.64\n",
            "epochs=1600, a: 1.77, b: -11.92\n",
            "epochs=1600, a: 1.76, b: -11.92\n",
            "epochs=1600, a: 1.70, b: -11.93\n",
            "epochs=1600, a: 1.76, b: -11.92\n",
            "epochs=1600, a: 1.77, b: -11.92\n",
            "epochs=1600, a: 1.77, b: -11.92\n",
            "epochs=1600, a: 1.77, b: -11.92\n",
            "epochs=1700, a: 1.80, b: -12.20\n",
            "epochs=1700, a: 1.80, b: -12.20\n",
            "epochs=1700, a: 1.74, b: -12.21\n",
            "epochs=1700, a: 1.80, b: -12.20\n",
            "epochs=1700, a: 1.80, b: -12.20\n",
            "epochs=1700, a: 1.80, b: -12.20\n",
            "epochs=1700, a: 1.80, b: -12.20\n",
            "epochs=1800, a: 1.84, b: -12.46\n",
            "epochs=1800, a: 1.84, b: -12.46\n",
            "epochs=1800, a: 1.78, b: -12.47\n",
            "epochs=1800, a: 1.84, b: -12.46\n",
            "epochs=1800, a: 1.84, b: -12.46\n",
            "epochs=1800, a: 1.84, b: -12.46\n",
            "epochs=1800, a: 1.84, b: -12.46\n",
            "epochs=1900, a: 1.87, b: -12.71\n",
            "epochs=1900, a: 1.87, b: -12.71\n",
            "epochs=1900, a: 1.82, b: -12.72\n",
            "epochs=1900, a: 1.87, b: -12.71\n",
            "epochs=1900, a: 1.87, b: -12.71\n",
            "epochs=1900, a: 1.87, b: -12.71\n",
            "epochs=1900, a: 1.87, b: -12.71\n",
            "epochs=2000, a: 1.91, b: -12.95\n",
            "epochs=2000, a: 1.91, b: -12.95\n",
            "epochs=2000, a: 1.85, b: -12.96\n",
            "epochs=2000, a: 1.91, b: -12.95\n",
            "epochs=2000, a: 1.91, b: -12.95\n",
            "epochs=2000, a: 1.91, b: -12.95\n",
            "epochs=2000, a: 1.91, b: -12.95\n"
          ]
        }
      ]
    },
    {
      "cell_type": "code",
      "source": [
        "data = [[2,0],[4,0],[6,0],[8,1],[10,1],[12,1],[14,1]]\n",
        "data\n",
        "\n",
        "x_data=[x_y[0] for x_y in data]\n",
        "y_data=[x_y[1] for x_y in data]"
      ],
      "metadata": {
        "id": "ZNKoipE7P0mM"
      },
      "execution_count": null,
      "outputs": []
    },
    {
      "cell_type": "code",
      "source": [
        "print(\"a: \",a,\"b: \",b)\n",
        "print(\"실제값: \",y_data)"
      ],
      "metadata": {
        "colab": {
          "base_uri": "https://localhost:8080/"
        },
        "id": "nV9njEO6W61c",
        "outputId": "e7c78180-0eb8-4dae-b33b-4788d39d2e0e"
      },
      "execution_count": null,
      "outputs": [
        {
          "output_type": "stream",
          "name": "stdout",
          "text": [
            "a:  1.9068044592233457 b:  -12.951253713260089\n",
            "실제값:  [0, 0, 0, 1, 1, 1, 1]\n"
          ]
        }
      ]
    },
    {
      "cell_type": "code",
      "source": [
        "# 예측값: y_pred = sigmoid(a*x+b)\n",
        "\n",
        "y_pred = [sigmoid(a*i+b) for i in x_data]\n",
        "print(\"a: \",a,\"b: \",b)\n",
        "print(\"실제값: \",y_data)\n",
        "print(\"실제값: \",y_pred)"
      ],
      "metadata": {
        "colab": {
          "base_uri": "https://localhost:8080/"
        },
        "id": "xtk4Z53DXLtB",
        "outputId": "a187fbae-7335-4daa-c7d4-fe5b7a9bb1dd"
      },
      "execution_count": null,
      "outputs": [
        {
          "output_type": "stream",
          "name": "stdout",
          "text": [
            "a:  1.9068044592233457 b:  -12.951253713260089\n",
            "실제값:  [0, 0, 0, 1, 1, 1, 1]\n",
            "실제값:  [0.00010752874730640028, 0.004849415540171216, 0.18087552663081788, 0.9091402249431002, 0.9977993312175377, 0.9999513300357458, 0.9999989258810245]\n"
          ]
        }
      ]
    },
    {
      "cell_type": "code",
      "source": [
        "plt.scatter(x_data, y_data)\n",
        "plt.plot(x_data,y_pred, \"r\")\n",
        "plt.show()"
      ],
      "metadata": {
        "colab": {
          "base_uri": "https://localhost:8080/",
          "height": 265
        },
        "id": "qFPjIludYmbY",
        "outputId": "77acbe8c-9099-45d8-ea03-232336d3302b"
      },
      "execution_count": null,
      "outputs": [
        {
          "output_type": "display_data",
          "data": {
            "text/plain": [
              "<Figure size 432x288 with 1 Axes>"
            ],
            "image/png": "[encoded data removed]"
          },
          "metadata": {
            "needs_background": "light"
          }
        }
      ]
    },
    {
      "cell_type": "code",
      "source": [
        "plt.scatter(x_data,y_data)\n",
        "\n",
        "x_range = np.arange(2,14,0.1)\n",
        "y_range = [sigmoid(a*x+b) for x in x_range]\n",
        "\n",
        "plt.plot(x_range, y_range,\"r\")\n",
        "plt.show()"
      ],
      "metadata": {
        "colab": {
          "base_uri": "https://localhost:8080/",
          "height": 265
        },
        "id": "MidR39k0Zbxp",
        "outputId": "801ca39a-0cae-45a0-dc11-87c9308277c8"
      },
      "execution_count": null,
      "outputs": [
        {
          "output_type": "display_data",
          "data": {
            "text/plain": [
              "<Figure size 432x288 with 1 Axes>"
            ],
            "image/png": "[encoded data removed]"
          },
          "metadata": {
            "needs_background": "light"
          }
        }
      ]
    },
    {
      "cell_type": "markdown",
      "source": [
        "# 텐서플로에서 실행하는 로지스틱 회귀\n"
      ],
      "metadata": {
        "id": "X29IdIFzabLH"
      }
    },
    {
      "cell_type": "code",
      "source": [
        "plt.scatter(x_data,y_data)\n",
        "\n",
        "x_range = np.arange(2,14,0.1)\n",
        "y_range = [sigmoid(a*x+b) for x in x_range]\n",
        "\n",
        "plt.plot(x_range, y_range,\"r\")\n",
        "plt.show()"
      ],
      "metadata": {
        "colab": {
          "base_uri": "https://localhost:8080/",
          "height": 265
        },
        "id": "HI5mHQzWaNbJ",
        "outputId": "a169a658-b034-48c9-bb90-aa00f59c6b01"
      },
      "execution_count": null,
      "outputs": [
        {
          "output_type": "display_data",
          "data": {
            "text/plain": [
              "<Figure size 432x288 with 1 Axes>"
            ],
            "image/png": "[encoded data removed]"
          },
          "metadata": {
            "needs_background": "light"
          }
        }
      ]
    },
    {
      "cell_type": "markdown",
      "source": [
        "# 퍼셉트론\n",
        "- 전위 변화 : 전위가 임계값(theta) 를 넘으면 다음 뉴런으로 신호를 보냄 -> 로지스틱 회귀와 비슷\n",
        "- 다중 선형 회귀와 유사 : a1x1 + a2b2 + b -> y\n",
        "- 내부함수(a1x1 + a2b2 + (가중합 w1x1 + w2x2+ b))-> y"
      ],
      "metadata": {
        "id": "B_X4pgMgbWsg"
      }
    },
    {
      "cell_type": "code",
      "source": [
        "import numpy as np\n",
        "import matplotlib.pyplot as plt\n",
        "\n",
        "x_data =[[0,0],[0,1],[1,0],[1,1]]\n",
        "\n",
        "for x1, x2 in x_data:\n",
        "    print(\"x1:\", x1, \"  x2:\",x2)"
      ],
      "metadata": {
        "colab": {
          "base_uri": "https://localhost:8080/"
        },
        "id": "M4_D-94sbWYv",
        "outputId": "6aeeb14f-226b-4683-f442-19c37eebfb57"
      },
      "execution_count": null,
      "outputs": [
        {
          "output_type": "stream",
          "name": "stdout",
          "text": [
            "x1: 0   x2: 0\n",
            "x1: 0   x2: 1\n",
            "x1: 1   x2: 0\n",
            "x1: 1   x2: 1\n"
          ]
        }
      ]
    },
    {
      "cell_type": "code",
      "source": [
        "w1 = 0.5\n",
        "w2 = 0.5\n",
        "theta = 0.7\n",
        "\n",
        "# w1*x1 + w2*x2\n",
        "print(w1 *0 + w2 * 0)\n",
        "print(w1 *0 + w2 * 0 >= theta)"
      ],
      "metadata": {
        "colab": {
          "base_uri": "https://localhost:8080/"
        },
        "id": "uAcawActdXpy",
        "outputId": "bc69d547-0aa1-4107-a330-188ca1860184"
      },
      "execution_count": null,
      "outputs": [
        {
          "output_type": "stream",
          "name": "stdout",
          "text": [
            "0.0\n",
            "False\n"
          ]
        }
      ]
    },
    {
      "cell_type": "code",
      "source": [
        "print(w1 *0 + w2 * 1)\n",
        "print(w1 *0 + w2 * 1 >= theta)"
      ],
      "metadata": {
        "colab": {
          "base_uri": "https://localhost:8080/"
        },
        "id": "09o0XI4OdvXm",
        "outputId": "24a2f10a-a4c3-4baa-a796-02eb2f858da7"
      },
      "execution_count": null,
      "outputs": [
        {
          "output_type": "stream",
          "name": "stdout",
          "text": [
            "0.5\n",
            "False\n"
          ]
        }
      ]
    },
    {
      "cell_type": "code",
      "source": [
        "print(w1 *1 + w2 * 0)\n",
        "print(w1 *1 + w2 * 0 >= theta)"
      ],
      "metadata": {
        "colab": {
          "base_uri": "https://localhost:8080/"
        },
        "id": "BVMC7ha-d350",
        "outputId": "5a5f61ea-fd53-4742-e4f3-e4fe7d4edff9"
      },
      "execution_count": null,
      "outputs": [
        {
          "output_type": "stream",
          "name": "stdout",
          "text": [
            "0.5\n",
            "False\n"
          ]
        }
      ]
    },
    {
      "cell_type": "code",
      "source": [
        "print(w1 *1 + w2 * 1)\n",
        "print(w1 *1 + w2 * 1 >= theta)"
      ],
      "metadata": {
        "colab": {
          "base_uri": "https://localhost:8080/"
        },
        "id": "FFu7zy-Md9NA",
        "outputId": "61e2deb5-baff-4b41-a8de-0c2d7c2133bd"
      },
      "execution_count": null,
      "outputs": [
        {
          "output_type": "stream",
          "name": "stdout",
          "text": [
            "1.0\n",
            "True\n"
          ]
        }
      ]
    },
    {
      "cell_type": "code",
      "source": [
        "for x1, x2 in x_data:\n",
        "    print(\"x1:\", x1, \"  x2:\",x2, \"  ws:\", (w1 *x1 + w2 * x2))"
      ],
      "metadata": {
        "colab": {
          "base_uri": "https://localhost:8080/"
        },
        "id": "ydeOWk8Vd-jn",
        "outputId": "0ce2bed6-ab41-4845-e453-8a1600d222f3"
      },
      "execution_count": null,
      "outputs": [
        {
          "output_type": "stream",
          "name": "stdout",
          "text": [
            "x1: 0   x2: 0   ws: 0.0\n",
            "x1: 0   x2: 1   ws: 0.5\n",
            "x1: 1   x2: 0   ws: 0.5\n",
            "x1: 1   x2: 1   ws: 1.0\n"
          ]
        }
      ]
    },
    {
      "cell_type": "code",
      "source": [
        "for x1, x2 in x_data:\n",
        "    ws = w1 *x1 + w2 * x2\n",
        "    print(\"x1:\", x1, \"  x2:\",x2, \"  ws:\", (w1 *x1 + w2 * x2), ws >=theta)"
      ],
      "metadata": {
        "colab": {
          "base_uri": "https://localhost:8080/"
        },
        "id": "_S7Z6WcAeQQU",
        "outputId": "6105aa3d-8ec5-40b7-a63f-43bfb0374eac"
      },
      "execution_count": null,
      "outputs": [
        {
          "output_type": "stream",
          "name": "stdout",
          "text": [
            "x1: 0   x2: 0   ws: 0.0 False\n",
            "x1: 0   x2: 1   ws: 0.5 False\n",
            "x1: 1   x2: 0   ws: 0.5 False\n",
            "x1: 1   x2: 1   ws: 1.0 True\n"
          ]
        }
      ]
    },
    {
      "cell_type": "code",
      "source": [
        "def AND(x1, x2):\n",
        "    w1 = 0.5\n",
        "    w2 = 0.5\n",
        "    theta = 0.7\n",
        "\n",
        "    # 가중합\n",
        "    ws = w1 *x1 + w2 * x2\n",
        "\n",
        "    if ws >= theta:\n",
        "        return 1\n",
        "    return 0"
      ],
      "metadata": {
        "id": "OoyQe30Wejp0"
      },
      "execution_count": null,
      "outputs": []
    },
    {
      "cell_type": "code",
      "source": [
        "x_data =[[0,0],[0,1],[1,0],[1,1]]"
      ],
      "metadata": {
        "id": "clIBVDq8e7aD"
      },
      "execution_count": null,
      "outputs": []
    },
    {
      "cell_type": "code",
      "source": [
        "for x1, x2 in x_data:\n",
        "    print(\"AND(%d, %d) = %d\"%(x1,x2,AND(x1,x2)))"
      ],
      "metadata": {
        "colab": {
          "base_uri": "https://localhost:8080/"
        },
        "id": "1OSdx_mLe-7n",
        "outputId": "eaa868d8-6d15-4274-c941-5f6200b35cd1"
      },
      "execution_count": null,
      "outputs": [
        {
          "output_type": "stream",
          "name": "stdout",
          "text": [
            "AND(0, 0) = 0\n",
            "AND(0, 1) = 0\n",
            "AND(1, 0) = 0\n",
            "AND(1, 1) = 1\n"
          ]
        }
      ]
    },
    {
      "cell_type": "markdown",
      "source": [
        "- 지금 만든 코드는 퍼셉트론이다.\n",
        "- 하지만 완성된 가중합은 아니다.\n",
        "\n",
        "- 임계값 theta가 계산식 안으로 들어오면 편향(bias)이다.\n",
        "- 따라서 편향은 -theta\n",
        "\n",
        "- (w1x1 + w2x2) >=theta\n",
        "\n",
        "-theta를 괄호 안에 넣으면 -theta가 된다."
      ],
      "metadata": {
        "id": "sODlPYBcfdL6"
      }
    },
    {
      "cell_type": "code",
      "source": [
        "(w1 *x1 + w2 * x2 - theta) >= 0"
      ],
      "metadata": {
        "colab": {
          "base_uri": "https://localhost:8080/"
        },
        "id": "6nedG7_EfLDT",
        "outputId": "ab3bcc39-b7f8-41dc-81cf-5f0729abef42"
      },
      "execution_count": null,
      "outputs": [
        {
          "output_type": "execute_result",
          "data": {
            "text/plain": [
              "True"
            ]
          },
          "metadata": {},
          "execution_count": 22
        }
      ]
    },
    {
      "cell_type": "code",
      "source": [
        "# 편향을 적용한 AND 함수\n",
        "def AND(x1, x2):\n",
        "    w1 = 0.5\n",
        "    w2 = 0.5\n",
        "    theta = 0.7\n",
        "\n",
        "    # 가중합\n",
        "    ws =  w1 *x1 + w2 * x2- theta\n",
        "\n",
        "    if ws >= 0:\n",
        "        return 1\n",
        "    return 0"
      ],
      "metadata": {
        "id": "4w1EwR9IgMZv"
      },
      "execution_count": null,
      "outputs": []
    },
    {
      "cell_type": "markdown",
      "source": [
        "\n",
        "x1 x2 and or nand\n",
        "\n",
        "===================\n",
        "\n",
        "0  0  0  0  0\n",
        "\n",
        "0  1  0  1  1\n",
        "\n",
        "1  0  0  1  1\n",
        "\n",
        "1  1  1  1  0"
      ],
      "metadata": {
        "id": "vwx_5kXdgnpZ"
      }
    },
    {
      "cell_type": "code",
      "source": [
        "def OR(x1, x2):\n",
        "    w1 = 0.5\n",
        "    w2 = 0.5\n",
        "    theta = 0.2\n",
        "\n",
        "    # 가중합\n",
        "    ws =  w1 *x1 + w2 * x2 - theta\n",
        "    \n",
        "    if ws <= 0:\n",
        "        return 0\n",
        "    return 1"
      ],
      "metadata": {
        "id": "KMCPVSOwgawm"
      },
      "execution_count": null,
      "outputs": []
    },
    {
      "cell_type": "code",
      "source": [
        "for x1, x2 in x_data:\n",
        "    print(\"OR(%d, %d) = %d\"%(x1,x2,OR(x1,x2)))"
      ],
      "metadata": {
        "colab": {
          "base_uri": "https://localhost:8080/"
        },
        "id": "VFWqr3c7hkGh",
        "outputId": "5524b5a4-f005-46f3-dab3-eb6f7c29c8b3"
      },
      "execution_count": null,
      "outputs": [
        {
          "output_type": "stream",
          "name": "stdout",
          "text": [
            "OR(0, 0) = 0\n",
            "OR(0, 1) = 1\n",
            "OR(1, 0) = 1\n",
            "OR(1, 1) = 1\n"
          ]
        }
      ]
    },
    {
      "cell_type": "code",
      "source": [
        "def NAND(x1, x2):\n",
        "    w1 = 0.5\n",
        "    w2 = 0.5\n",
        "    theta = 0.7\n",
        "\n",
        "    # 가중합\n",
        "    ws =  w1 *x1 + w2 * x2 - theta\n",
        "    \n",
        "    if ws <= 0:\n",
        "        return 1\n",
        "    return 0"
      ],
      "metadata": {
        "id": "EJNJdjl6riNM"
      },
      "execution_count": null,
      "outputs": []
    },
    {
      "cell_type": "code",
      "source": [
        "for x1, x2 in x_data:\n",
        "    print(\"NAND(%d, %d) = %d\"%(x1,x2,NAND(x1,x2)))"
      ],
      "metadata": {
        "colab": {
          "base_uri": "https://localhost:8080/"
        },
        "id": "CmD7mTNFrjQj",
        "outputId": "04e3bc3b-f982-47ff-c268-d89fc21e2bed"
      },
      "execution_count": null,
      "outputs": [
        {
          "output_type": "stream",
          "name": "stdout",
          "text": [
            "NAND(0, 0) = 1\n",
            "NAND(0, 1) = 1\n",
            "NAND(1, 0) = 1\n",
            "NAND(1, 1) = 0\n"
          ]
        }
      ]
    },
    {
      "cell_type": "markdown",
      "source": [
        "- 단층퍼셉트론으로 AND, OR, NAND 함수를 구현 (선형 구조만 가능)"
      ],
      "metadata": {
        "id": "7CaoLjK9hl1Z"
      }
    },
    {
      "cell_type": "code",
      "source": [],
      "metadata": {
        "id": "0YXSWRiTh1GS"
      },
      "execution_count": null,
      "outputs": []
    }
  ]
}