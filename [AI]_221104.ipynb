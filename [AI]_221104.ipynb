{
  "nbformat": 4,
  "nbformat_minor": 0,
  "metadata": {
    "colab": {
      "provenance": [],
      "authorship_tag": "ABX9TyMNF/9gC6JaNHGFLA8v6NC6",
      "include_colab_link": true
    },
    "kernelspec": {
      "name": "python3",
      "display_name": "Python 3"
    },
    "language_info": {
      "name": "python"
    }
  },
  "cells": [
    {
      "cell_type": "markdown",
      "metadata": {
        "id": "view-in-github",
        "colab_type": "text"
      },
      "source": [
        "<a href=\"https://colab.research.google.com/github/Park-New-project/2022_AI_Study_Course/blob/main/%5BAI%5D_221104.ipynb\" target=\"_parent\"><img src=\"https://colab.research.google.com/assets/colab-badge.svg\" alt=\"Open In Colab\"/></a>"
      ]
    },
    {
      "cell_type": "markdown",
      "source": [
        "# EFS에 EC2 두 개 연결\n",
        "- sudo yum install -y amazon-efs-utils \n",
        "- sudo mount -t efs -o tls fs-06cb6d629755ab284:/ /mnt/efs/fs1\n",
        "\n",
        "# 붙여넣기\n",
        "- PuTTY 붙여넣기는 우클릭으로 가능\n",
        "\n",
        "# 데이터\n",
        "- 이미지, 텍스트, 동영상\n",
        "\n",
        "# 메타 데이터\n",
        "- 데이터의 내용, 사용 방법, 객체의 크기\n",
        "\n",
        "# 키\n",
        "- 고유한 식별자\n",
        "\n"
      ],
      "metadata": {
        "id": "hQfv7nlUjNV7"
      }
    },
    {
      "cell_type": "markdown",
      "source": [
        "# S3\n",
        "- 웹 서비스 인터페이스 (HTTP)를 이용하여 웹에서 언제 어디든지 원하는 양의 데이터를 저장, 검색 할 수 있는 스토리지\n",
        "- S3 자체는 글로벌 서비스, 버킷은 리전을 선택해야 한다.\n",
        "- 객체는 data와 meta data 로 나뉘고 각자의 고유한 URL 을 가지고 URL로 접근 해야한다.\n",
        "- 이벤트 트리거 기능 제공\n",
        "- Management Console, CLI, SDK (API)\n",
        "\n",
        "# S3 사용사례\n",
        "- 콘텐츠와 미디어 파일 저장 및 배포\n",
        "- 정적 웹 사이트 호스팅\n",
        "- 백업 및 복원\n",
        "- 데이터 레이크과 빅데이터 분석\n",
        "\n"
      ],
      "metadata": {
        "id": "nCRG6TIOlJz6"
      }
    },
    {
      "cell_type": "markdown",
      "source": [
        "# 1. 콘텐츠와 미디어 파일 저장 및 배포\n",
        "- 가상 호스팅 방식 URL 에서 Bucket 이름이 도메인 이름의 일부로 들어간다.\n",
        "- http://[bucket-name].s3-[aws-region].amazonaws.com\n",
        "- 경로 방식의 URL에서 Bucket 이름은 resource path로 들어간다.\n",
        "- http://s3.[aws-region].amazonaws.com/[bucket-name] \n",
        "-https://test-bucket-pmj-20221104.s3.ap-northeast-2.amazonaws.com/test_upload/aws.png\n",
        "\n",
        "# 접근 권한 \n",
        "- 기본 설정 : user에 비공개\n",
        "- 공개 : uesr에 공개\n",
        "- 접근 정책 : 일부 user에 공개\n",
        "\n",
        "# 액세스 포인트\n",
        "- 접근 가능 지점\n",
        "- 각 포인트에 사용자 지정된 이름과 권한 부여\n",
        "- 네트워크 트래픽을 특정 vpc로 제한 가능\n"
      ],
      "metadata": {
        "id": "jxLK-Ueionvo"
      }
    },
    {
      "cell_type": "markdown",
      "source": [
        "# 2. 정적 웹 사이트 호스팅\n",
        "- http://[bucket-name].s3.amazonaws.com\n",
        "\n",
        "# 3. 백업 및 복원\n",
        "\n",
        "# 버전 관리\n",
        "- 기존 객체와 동일한 이름으로 파일 업로드 시 덮어쓰기 한다.\n",
        "- 버전 관리를 활성화 하면 이전 객체를 필요에 따라 사용 가능\n"
      ],
      "metadata": {
        "id": "VQ-Dtsn02HDb"
      }
    },
    {
      "cell_type": "markdown",
      "source": [
        "\n",
        "# 4. 데이터 레이크과 빅데이터 분석\n",
        "\n",
        "# 멀티파트 업로드\n",
        "- 오브젝트 크기가 클 경우 권고.\n",
        "- 쪼개서 병렬적으로 처리\n",
        "\n",
        "# Transfer Acceleration\n",
        "- Edge location (캐시서버)\n",
        "- 가까운 거리의 캐시서버에서 가져와서 사용\n",
        "\n",
        "# 대용량 데이터 이동\n",
        "- Snowball\n",
        "- Snowmobile\n"
      ],
      "metadata": {
        "id": "TM_SiaCY2JGL"
      }
    },
    {
      "cell_type": "markdown",
      "source": [
        "# 스토리지 클래스\n",
        "- Standard : 자주 접근하는 데이터 보관\n",
        "- Standard-IA : 빠른 접근이 필요한 데이터 조관\n",
        "- One Zone-IA : 재생산 가능하고 자주 접근하지 않는 데이터 보관\n",
        "- Glacier : 아카이빙 데이터 장기 보관\n",
        "- Glacier Deep Archive : 가장 저렴하고 자주 접근하지 않는 데이터 보관. 백업.\n",
        "\n",
        "# 수명 주기 정책\n",
        "- Standard -(30일 경과)> Standard-IA\n",
        "- Standard-IA -(90일 경과)> Glacier\n",
        "- Glacier -(365일 경과)> 삭제\n",
        "\n",
        "# Glacier\n",
        "- 장기 백업을 위한 안전하고 내구성이 뛰어난 매우 저렴한 스토리지\n",
        "- 가용 영역에 최소 3개의 자동 분산 저장"
      ],
      "metadata": {
        "id": "_2VDD3sR2MhK"
      }
    },
    {
      "cell_type": "markdown",
      "source": [
        "# 버킷 (Bucket)\n",
        "- 버킷 이름은 중복 불가\n",
        "\n",
        "# ACL\n",
        "- Access Control List\n",
        "- 액세스 제어 목록은 개체에 적용되어 있는 허가 목록"
      ],
      "metadata": {
        "id": "03sEtpf02OOy"
      }
    },
    {
      "cell_type": "markdown",
      "source": [
        "# IAM\n",
        "- IAM -> 사용자 -> 액세스 키 만들기 -> csv 다운로드\n",
        "- AWS CLI 다운로드 -> cmd\n",
        "\n",
        "# AWS CLI\n",
        "- 버전 확인 : aws --version \n",
        "- aws configure -> csv 내용 입력\n",
        "- AWS Access key ID : 다운로드 한 id\n",
        "- AWS Access key : 다운로드 할 key\n",
        "- c:\\backup 에 파일 올린 후\n",
        "- aws s3 sync c:\\backup s3://test-bucket-pmj-20221104/test_backup\n"
      ],
      "metadata": {
        "id": "2H17mahO7Clh"
      }
    }
  ]
}