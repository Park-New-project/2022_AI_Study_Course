{
  "nbformat": 4,
  "nbformat_minor": 0,
  "metadata": {
    "colab": {
      "provenance": [],
      "collapsed_sections": [],
      "authorship_tag": "ABX9TyOWf+1mdFaSmzaFfHeu97XI",
      "include_colab_link": true
    },
    "kernelspec": {
      "name": "python3",
      "display_name": "Python 3"
    },
    "language_info": {
      "name": "python"
    }
  },
  "cells": [
    {
      "cell_type": "markdown",
      "metadata": {
        "id": "view-in-github",
        "colab_type": "text"
      },
      "source": [
        "<a href=\"https://colab.research.google.com/github/Park-New-project/TIL/blob/main/%5BAI%5D_221007.ipynb\" target=\"_parent\"><img src=\"https://colab.research.google.com/assets/colab-badge.svg\" alt=\"Open In Colab\"/></a>"
      ]
    },
    {
      "cell_type": "code",
      "source": [
        "from google.colab import drive\n",
        "drive.mount('/content/gdrive', force_remount=True)"
      ],
      "metadata": {
        "colab": {
          "base_uri": "https://localhost:8080/"
        },
        "id": "91GLbMdfC6eh",
        "outputId": "f51fe750-288e-441b-8ff6-fa70669a8104"
      },
      "execution_count": null,
      "outputs": [
        {
          "output_type": "stream",
          "name": "stdout",
          "text": [
            "Mounted at /content/gdrive\n"
          ]
        }
      ]
    },
    {
      "cell_type": "code",
      "execution_count": null,
      "metadata": {
        "id": "49et6O3_Ql1O",
        "colab": {
          "base_uri": "https://localhost:8080/",
          "height": 282
        },
        "outputId": "66269f71-24ec-4983-e86b-331785514bce"
      },
      "outputs": [
        {
          "output_type": "display_data",
          "data": {
            "text/plain": [
              "<Figure size 432x288 with 1 Axes>"
            ],
            "image/png": "[encoded data removed]"
          },
          "metadata": {}
        }
      ],
      "source": [
        "# 신도림 인구 구조\n",
        "import csv\n",
        "import matplotlib.pyplot as plt\n",
        "\n",
        "fp = open(\"/content/gdrive/MyDrive/Colab/age.csv\", encoding='cp949')\n",
        "data = csv.reader(fp)\n",
        "\n",
        "result =[]\n",
        "\n",
        "for row in data:\n",
        "  if '신도림' in row[0]:\n",
        "    # 형변환\n",
        "    for i in row[3:]:\n",
        "      result.append(int(i))\n",
        "fp.close()\n",
        "\n",
        "plt.style.use('ggplot')\n",
        "plt.title('AGE')\n",
        "plt.plot(result)\n",
        "plt.show()"
      ]
    },
    {
      "cell_type": "code",
      "source": [
        "s = '서울특별시 구로구 신도림동'"
      ],
      "metadata": {
        "id": "_zH4EW8ECUKf"
      },
      "execution_count": null,
      "outputs": []
    },
    {
      "cell_type": "code",
      "source": [
        "'서울특별시' in s"
      ],
      "metadata": {
        "colab": {
          "base_uri": "https://localhost:8080/"
        },
        "id": "EBnBPhxgDnCZ",
        "outputId": "d49a9f55-5624-41fe-b50e-950f4c35590e"
      },
      "execution_count": null,
      "outputs": [
        {
          "output_type": "execute_result",
          "data": {
            "text/plain": [
              "True"
            ]
          },
          "metadata": {},
          "execution_count": 15
        }
      ]
    },
    {
      "cell_type": "code",
      "source": [
        "'신도림' in s"
      ],
      "metadata": {
        "colab": {
          "base_uri": "https://localhost:8080/"
        },
        "id": "b69EgXZ3DxhA",
        "outputId": "d1707c2d-dcdc-48c9-da02-a9f46e370b15"
      },
      "execution_count": null,
      "outputs": [
        {
          "output_type": "execute_result",
          "data": {
            "text/plain": [
              "True"
            ]
          },
          "metadata": {},
          "execution_count": 16
        }
      ]
    },
    {
      "cell_type": "code",
      "source": [
        "'대전' in s"
      ],
      "metadata": {
        "colab": {
          "base_uri": "https://localhost:8080/"
        },
        "id": "plsO6LL2DzzC",
        "outputId": "f1d939c8-c2d7-490f-9764-3691b3bbfe50"
      },
      "execution_count": null,
      "outputs": [
        {
          "output_type": "execute_result",
          "data": {
            "text/plain": [
              "False"
            ]
          },
          "metadata": {},
          "execution_count": 17
        }
      ]
    },
    {
      "cell_type": "code",
      "source": [
        "'()' in s"
      ],
      "metadata": {
        "colab": {
          "base_uri": "https://localhost:8080/"
        },
        "id": "MITZk6edD1nx",
        "outputId": "2ce0dc46-2370-4c3c-e025-ebb38d447917"
      },
      "execution_count": null,
      "outputs": [
        {
          "output_type": "execute_result",
          "data": {
            "text/plain": [
              "False"
            ]
          },
          "metadata": {},
          "execution_count": 19
        }
      ]
    },
    {
      "cell_type": "code",
      "source": [
        "n = '1,206'\n",
        "n"
      ],
      "metadata": {
        "colab": {
          "base_uri": "https://localhost:8080/",
          "height": 35
        },
        "id": "TDMQgKMQFiqA",
        "outputId": "adc05c99-0c7d-46b4-e881-7051a7a92bee"
      },
      "execution_count": null,
      "outputs": [
        {
          "output_type": "execute_result",
          "data": {
            "text/plain": [
              "'1,206'"
            ],
            "application/vnd.google.colaboratory.intrinsic+json": {
              "type": "string"
            }
          },
          "metadata": {},
          "execution_count": 30
        }
      ]
    },
    {
      "cell_type": "code",
      "source": [
        "int(n) # 콤마로 인해 오류"
      ],
      "metadata": {
        "colab": {
          "base_uri": "https://localhost:8080/"
        },
        "id": "52R51uhXFn3w",
        "outputId": "d4eb6618-c057-46b5-d123-6b9ed72f0569"
      },
      "execution_count": null,
      "outputs": [
        {
          "output_type": "execute_result",
          "data": {
            "text/plain": [
              "1206"
            ]
          },
          "metadata": {},
          "execution_count": 36
        }
      ]
    },
    {
      "cell_type": "code",
      "source": [
        "n = n.replace(',','') # 문자열 치환\n",
        "int(n)"
      ],
      "metadata": {
        "colab": {
          "base_uri": "https://localhost:8080/"
        },
        "id": "WVYRQJLsFrSw",
        "outputId": "5c793f2a-933d-478c-eeea-564e24f6ef79"
      },
      "execution_count": null,
      "outputs": [
        {
          "output_type": "execute_result",
          "data": {
            "text/plain": [
              "1206"
            ]
          },
          "metadata": {},
          "execution_count": 37
        }
      ]
    },
    {
      "cell_type": "code",
      "source": [
        "# 신도림 인구 구조\n",
        "import csv\n",
        "import matplotlib.pyplot as plt\n",
        "\n",
        "fp = open(\"/content/gdrive/MyDrive/Colab/age.csv\", encoding='cp949')\n",
        "data = csv.reader(fp)\n",
        "\n",
        "result =[]\n",
        "\n",
        "for row in data:\n",
        "  if '신도림' in row[0]:\n",
        "    # 형변환\n",
        "    for i in row[3:]:\n",
        "      result.append(int(i.replace(',','')))\n",
        "fp.close()\n",
        "\n",
        "plt.style.use('ggplot')\n",
        "plt.title('AGE')\n",
        "plt.plot(result)\n",
        "plt.show()"
      ],
      "metadata": {
        "colab": {
          "base_uri": "https://localhost:8080/",
          "height": 282
        },
        "id": "VBpf48zJD2wT",
        "outputId": "a9e9e7f3-a86c-4207-e8b2-2abb543635a0"
      },
      "execution_count": null,
      "outputs": [
        {
          "output_type": "display_data",
          "data": {
            "text/plain": [
              "<Figure size 432x288 with 1 Axes>"
            ],
            "image/png": "[encoded data removed]"
          },
          "metadata": {}
        }
      ]
    },
    {
      "cell_type": "code",
      "source": [
        "!sudo apt-get install -y fonts-nanum\n",
        "!sudo fc-cache -fv\n",
        "!rm ~/.cache/matplotlib -rf"
      ],
      "metadata": {
        "colab": {
          "base_uri": "https://localhost:8080/"
        },
        "id": "11tZXUM6JmAo",
        "outputId": "847100c6-12a3-40bc-ba8a-0654ee693679"
      },
      "execution_count": null,
      "outputs": [
        {
          "output_type": "stream",
          "name": "stdout",
          "text": [
            "Reading package lists... Done\n",
            "Building dependency tree       \n",
            "Reading state information... Done\n",
            "fonts-nanum is already the newest version (20170925-1).\n",
            "The following package was automatically installed and is no longer required:\n",
            "  libnvidia-common-460\n",
            "Use 'sudo apt autoremove' to remove it.\n",
            "0 upgraded, 0 newly installed, 0 to remove and 22 not upgraded.\n",
            "/usr/share/fonts: caching, new cache contents: 0 fonts, 1 dirs\n",
            "/usr/share/fonts/truetype: caching, new cache contents: 0 fonts, 3 dirs\n",
            "/usr/share/fonts/truetype/humor-sans: caching, new cache contents: 1 fonts, 0 dirs\n",
            "/usr/share/fonts/truetype/liberation: caching, new cache contents: 16 fonts, 0 dirs\n",
            "/usr/share/fonts/truetype/nanum: caching, new cache contents: 10 fonts, 0 dirs\n",
            "/usr/local/share/fonts: caching, new cache contents: 0 fonts, 0 dirs\n",
            "/root/.local/share/fonts: skipping, no such directory\n",
            "/root/.fonts: skipping, no such directory\n",
            "/var/cache/fontconfig: cleaning cache directory\n",
            "/root/.cache/fontconfig: not cleaning non-existent cache directory\n",
            "/root/.fontconfig: not cleaning non-existent cache directory\n",
            "fc-cache: succeeded\n"
          ]
        }
      ]
    },
    {
      "cell_type": "code",
      "source": [
        "# 입력받기 인구 구조\n",
        "import csv\n",
        "import matplotlib.pyplot as plt\n",
        "\n",
        "fp = open(\"/content/gdrive/MyDrive/Colab/age.csv\", encoding='cp949')\n",
        "data = csv.reader(fp)\n",
        "\n",
        "area = input('인구 구조를 확인할 지역을 입력하세요 : ')\n",
        "result =[]\n",
        "\n",
        "for row in data:\n",
        "  if area in row[0]:\n",
        "    # 형변환\n",
        "    for i in row[3:]:\n",
        "      result.append(int(i.replace(',','')))\n",
        "fp.close()\n",
        "\n",
        "plt.style.use('ggplot')\n",
        "plt.rc('font',family='NanumBarunGothic', size=12)\n",
        "plt.title(area)\n",
        "plt.plot(result)\n",
        "plt.show()"
      ],
      "metadata": {
        "id": "2Hcp-2efF4sE",
        "colab": {
          "base_uri": "https://localhost:8080/",
          "height": 304
        },
        "outputId": "676d397a-5a5d-4a5f-8f7e-0fb3ee066855"
      },
      "execution_count": null,
      "outputs": [
        {
          "name": "stdout",
          "output_type": "stream",
          "text": [
            "인구 구조를 확인할 지역을 입력하세요 : 둔산1동\n"
          ]
        },
        {
          "output_type": "display_data",
          "data": {
            "text/plain": [
              "<Figure size 432x288 with 1 Axes>"
            ],
            "image/png": "[encoded data removed]"
          },
          "metadata": {}
        }
      ]
    },
    {
      "cell_type": "code",
      "source": [
        "int('15.4')"
      ],
      "metadata": {
        "colab": {
          "base_uri": "https://localhost:8080/",
          "height": 174
        },
        "id": "YfeRGt0FHt8B",
        "outputId": "8fd41029-870a-4ff0-fb21-8d14a8014623"
      },
      "execution_count": null,
      "outputs": [
        {
          "output_type": "error",
          "ename": "ValueError",
          "evalue": "ignored",
          "traceback": [
            "\u001b[0;31m---------------------------------------------------------------------------\u001b[0m",
            "\u001b[0;31mValueError\u001b[0m                                Traceback (most recent call last)",
            "\u001b[0;32m<ipython-input-7-3b30fb1a6a0c>\u001b[0m in \u001b[0;36m<module>\u001b[0;34m\u001b[0m\n\u001b[0;32m----> 1\u001b[0;31m \u001b[0mint\u001b[0m\u001b[0;34m(\u001b[0m\u001b[0;34m'15.4'\u001b[0m\u001b[0;34m)\u001b[0m\u001b[0;34m\u001b[0m\u001b[0;34m\u001b[0m\u001b[0m\n\u001b[0m",
            "\u001b[0;31mValueError\u001b[0m: invalid literal for int() with base 10: '15.4'"
          ]
        }
      ]
    },
    {
      "cell_type": "code",
      "source": [
        "import matplotlib.pyplot as plt \n",
        "\n",
        "plt.bar([0,1,2,4,6,10],[1,2,3,5,6,7])\n",
        "plt.show()"
      ],
      "metadata": {
        "id": "ccqs0nBYImUZ",
        "colab": {
          "base_uri": "https://localhost:8080/",
          "height": 267
        },
        "outputId": "40209649-5da3-4c95-fbef-ab3046012519"
      },
      "execution_count": null,
      "outputs": [
        {
          "output_type": "display_data",
          "data": {
            "text/plain": [
              "<Figure size 432x288 with 1 Axes>"
            ],
            "image/png": "[encoded data removed]"
          },
          "metadata": {}
        }
      ]
    },
    {
      "cell_type": "code",
      "source": [
        "plt.bar(range(6),[1,2,3,5,6,7])\n",
        "plt.show()"
      ],
      "metadata": {
        "colab": {
          "base_uri": "https://localhost:8080/",
          "height": 267
        },
        "id": "-KRrHqKFO1Mo",
        "outputId": "16919240-7916-492f-e240-9e5a6f60adce"
      },
      "execution_count": null,
      "outputs": [
        {
          "output_type": "display_data",
          "data": {
            "text/plain": [
              "<Figure size 432x288 with 1 Axes>"
            ],
            "image/png": "[encoded data removed]"
          },
          "metadata": {}
        }
      ]
    },
    {
      "cell_type": "code",
      "source": [
        "# 입력받은 인구 구조 바 형태로 시각화\n",
        "import csv\n",
        "import matplotlib.pyplot as plt\n",
        "\n",
        "fp = open(\"/content/gdrive/MyDrive/Colab/age.csv\", encoding='cp949')\n",
        "data = csv.reader(fp)\n",
        "\n",
        "area = input('인구 구조를 확인할 지역을 입력하세요 : ')\n",
        "result =[]\n",
        "\n",
        "for row in data:\n",
        "  if area in row[0]:\n",
        "    # 형변환\n",
        "    for i in row[3:]:\n",
        "      result.append(int(i.replace(',','')))\n",
        "fp.close()\n",
        "\n",
        "plt.style.use('ggplot')\n",
        "plt.rc('font',family='NanumBarunGothic', size=12)\n",
        "plt.title(area)\n",
        "plt.bar(range(101),result)\n",
        "plt.show()"
      ],
      "metadata": {
        "colab": {
          "base_uri": "https://localhost:8080/",
          "height": 304
        },
        "id": "4EV2rdH-P7QY",
        "outputId": "7e0bcb10-3b85-45dd-a32e-7710b6a3bfb4"
      },
      "execution_count": null,
      "outputs": [
        {
          "name": "stdout",
          "output_type": "stream",
          "text": [
            "인구 구조를 확인할 지역을 입력하세요 : 새롬동\n"
          ]
        },
        {
          "output_type": "display_data",
          "data": {
            "text/plain": [
              "<Figure size 432x288 with 1 Axes>"
            ],
            "image/png": "[encoded data removed]"
          },
          "metadata": {}
        }
      ]
    },
    {
      "cell_type": "code",
      "source": [
        "# 성별 인구 구조\n",
        "import csv\n",
        "import matplotlib.pyplot as plt\n",
        "\n",
        "fp = open(\"/content/gdrive/MyDrive/Colab/gender.csv\", encoding='cp949')\n",
        "data = csv.reader(fp)\n",
        "\n",
        "area = input('인구 구조를 확인할 지역을 입력하세요 : ')\n",
        "result =[]\n",
        "\n",
        "for row in data:\n",
        "  if area in row[0]:\n",
        "    # 형변환\n",
        "    for i in row[3:]:\n",
        "      result.append(int(i.replace(',','')))\n",
        "fp.close()\n",
        "\n",
        "plt.style.use('ggplot')\n",
        "plt.rc('font',family='NanumBarunGothic', size=12)\n",
        "plt.title(area)\n",
        "plt.bar(range(101),result)\n",
        "plt.show()"
      ],
      "metadata": {
        "id": "H4aSahhkQJ59"
      },
      "execution_count": null,
      "outputs": []
    },
    {
      "cell_type": "code",
      "source": [
        "# 성별 인구 구조\n",
        "import csv\n",
        "import matplotlib.pyplot as plt\n",
        "\n",
        "fp = open(\"/content/gdrive/MyDrive/Colab/gender.csv\", encoding='cp949')\n",
        "data = csv.reader(fp)\n",
        "\n",
        "area = input('인구 구조를 확인할 지역을 입력하세요 : ')\n",
        "male =[]\n",
        "female=[]\n",
        "\n",
        "for row in data:\n",
        "  if area in row[0]:\n",
        "    # 형변환\n",
        "    for i in range(101):\n",
        "      male.append(-int(row[i+3]))\n",
        "      female.append(int(row[-(i+1)]))\n",
        "\n",
        "female.reverse()\n",
        "fp.close()\n",
        "\n",
        "plt.rc('font',family='NanumBarunGothic', size=12)\n",
        "plt.rcParams['axes.unicode_minus'] = False\n",
        "plt.style.use('ggplot')\n",
        "plt.title(area)\n",
        "plt.barh(range(101),male, color='r',label='남성')\n",
        "plt.barh(range(101),female,color='b',label='여성')\n",
        "plt.legend()\n",
        "plt.show()"
      ],
      "metadata": {
        "colab": {
          "base_uri": "https://localhost:8080/",
          "height": 299
        },
        "id": "1GhUw0hpRzeg",
        "outputId": "42343c67-7547-4b1b-f78d-e1db8c2d046f"
      },
      "execution_count": null,
      "outputs": [
        {
          "name": "stdout",
          "output_type": "stream",
          "text": [
            "인구 구조를 확인할 지역을 입력하세요 : 본리동\n"
          ]
        },
        {
          "output_type": "display_data",
          "data": {
            "text/plain": [
              "<Figure size 432x288 with 1 Axes>"
            ],
            "image/png": "[encoded data removed]"
          },
          "metadata": {}
        }
      ]
    },
    {
      "cell_type": "code",
      "source": [
        "import matplotlib.pyplot as plt\n",
        "\n",
        "plt.title('pie')\n",
        "plt.pie([10,20])\n",
        "plt.show()"
      ],
      "metadata": {
        "colab": {
          "base_uri": "https://localhost:8080/",
          "height": 264
        },
        "id": "CFEkvi3EUok8",
        "outputId": "c508058b-31ab-4c62-c368-92f45de84b1e"
      },
      "execution_count": null,
      "outputs": [
        {
          "output_type": "display_data",
          "data": {
            "text/plain": [
              "<Figure size 432x288 with 1 Axes>"
            ],
            "image/png": "[encoded data removed]"
          },
          "metadata": {}
        }
      ]
    },
    {
      "cell_type": "code",
      "source": [
        "import matplotlib.pyplot as plt\n",
        "\n",
        "size = [2441,2312,1031,1233]\n",
        "\n",
        "plt.title('pie')\n",
        "plt.axis('equal')\n",
        "\n",
        "plt.pie(size)\n",
        "plt.show()"
      ],
      "metadata": {
        "colab": {
          "base_uri": "https://localhost:8080/",
          "height": 264
        },
        "id": "LcnXbz0CYJ0E",
        "outputId": "4c7bccc4-26c6-4527-da9d-2165e08ab301"
      },
      "execution_count": null,
      "outputs": [
        {
          "output_type": "display_data",
          "data": {
            "text/plain": [
              "<Figure size 432x288 with 1 Axes>"
            ],
            "image/png": "[encoded data removed]"
          },
          "metadata": {}
        }
      ]
    },
    {
      "cell_type": "code",
      "source": [
        "import matplotlib.pyplot as plt\n",
        "\n",
        "size = [2441,2312,1031,1233]\n",
        "\n",
        "label = ['A형','B형', 'O형', 'AB형']\n",
        "\n",
        "plt.title('pie')\n",
        "plt.axis('equal')\n",
        "plt.pie(size, labels = label)\n",
        "plt.show()"
      ],
      "metadata": {
        "colab": {
          "base_uri": "https://localhost:8080/",
          "height": 264
        },
        "id": "g0VajZa9i6_m",
        "outputId": "a4938b13-5f04-415b-e00c-6f7261e57539"
      },
      "execution_count": null,
      "outputs": [
        {
          "output_type": "display_data",
          "data": {
            "text/plain": [
              "<Figure size 432x288 with 1 Axes>"
            ],
            "image/png": "[encoded data removed]"
          },
          "metadata": {}
        }
      ]
    }
  ]
}