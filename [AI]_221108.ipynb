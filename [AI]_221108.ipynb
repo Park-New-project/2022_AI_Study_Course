{
  "nbformat": 4,
  "nbformat_minor": 0,
  "metadata": {
    "colab": {
      "provenance": [],
      "authorship_tag": "ABX9TyMZU98FLhMtaQcgMpEOwcNO",
      "include_colab_link": true
    },
    "kernelspec": {
      "name": "python3",
      "display_name": "Python 3"
    },
    "language_info": {
      "name": "python"
    }
  },
  "cells": [
    {
      "cell_type": "markdown",
      "metadata": {
        "id": "view-in-github",
        "colab_type": "text"
      },
      "source": [
        "<a href=\"https://colab.research.google.com/github/Park-New-project/2022_AI_Study_Course/blob/main/%5BAI%5D_221108.ipynb\" target=\"_parent\"><img src=\"https://colab.research.google.com/assets/colab-badge.svg\" alt=\"Open In Colab\"/></a>"
      ]
    },
    {
      "cell_type": "markdown",
      "source": [
        "# DynamoDB\n",
        "- 빠르고 일관된 응답시간\n",
        "- 완전 관리형 비관계형 데이터베이스\n",
        "- 여러 가용 영역에 자동 복제\n",
        "- 서버리스\n",
        "- 요청 증가시 자동으로 수평확장\n",
        "- NoSQL 방식으로 스키마는 필요 없지만 기본키(primary key)를 지정해야한다.\n",
        "- partition key 방식 / partition key + sort key 방식\n",
        "- partition 안에서 sort key로 빠른 질의 가능\n",
        "\n",
        "# 비관계형 데이터베이스\n",
        "\n",
        "# DynamoDB 실습\n",
        "- 표항목 탐색 -> 항목 생성\n"
      ],
      "metadata": {
        "id": "y4gnaonasP2Q"
      }
    },
    {
      "cell_type": "markdown",
      "source": [
        "# DynamoDB 글로벌 테이블\n",
        "\n",
        "# DynamoDB 높은 일관성\n",
        "- 여러 가용 영역에 복사본 저장\n",
        "\n",
        "# DynamoDB Accelerator\n",
        "- 완전 관리형의 메모리 캐시\n",
        "- 응답시간 빠르고 일관적\n",
        "\n",
        "# DynamoDB ElasticCache\n",
        "- 완전 관리형의 메모리 캐시\n",
        "- Redis or Memcached\n",
        "\n",
        "# Memcached 특징 \n",
        "- cluster로 구성\n",
        "- cluster 내에는 node가 존재\n",
        "- 인 메모리 캐시로서의 역할을 담당한다\n",
        "- 각 node는 type별로 메모리를 보유하여 서비스를 제공 \n",
        "- 필요시 node를 늘려 용량 향상\n",
        "- 각 node별로 AZ를 따로 둘 수는 있지만 장애조치 (failover)가 불가능하고 복제본을 둘 수 없음\n",
        "\n",
        "# Redis\n",
        "- 기본적으로 cluster로 구성 되지 않지만 cluster로 구성이 가능\n",
        "- shard와 node를 가짐\n",
        "- shard는 여러개의 node를 가짐\n",
        "- 하나의 node는 읽기/쓰기를 담당하고 나머지 node는 복제본 역할을 수행\n",
        "- cluster로 구성되지 않는 Redis는 하나의 shard만 가지지만 cluster로 구성할 경우 다수의 shard를 가짐\n",
        "- 복제본을 가지므로 장애조치가 가능하고 다중 Multi-AZ 기능을 지원\n",
        "\n",
        "# DynamoDB GSI (인덱스)\n",
        "- 인덱스 생성 -> 쿼리에서 인덱스 기반 검색가능"
      ],
      "metadata": {
        "id": "3H99dRD5v-AO"
      }
    },
    {
      "cell_type": "markdown",
      "source": [
        "# VPC\n",
        "- 가상의 전용 사설망\n",
        "- 논리적으로 격리된 가상 네트워크\n",
        "- VPC에는 각종 리소스 (EC2, RDS, ELB)를 시작할 수 있으며 다른 네트워크와 논리적으로 분리되어있다.\n",
        "- S3, Cloudfront 등은 VPC 내에 생성되지 않는다.\n",
        "- 각 region 별로 VPC가 여러개 존재\n",
        "- VPC는 하나의 IP 대역을 보유하고 서브넷을 생성하고 IP대역 일부를 나누어 쓴다.\n",
        "- VPC에 CIDR 범위를 지정\n",
        "- VPC에 접근하는 트래픽에 대해 Inbound(SSH, NFS), Outbound Access 규칙을 적용\n",
        "\n",
        "- S3 : 완전관리형 비VPC (글로벌)\n",
        "- EFS : 완전관리형 VPC (region)\n",
        "\n",
        "# Multi Account 패턴\n",
        "- 다수의 계정이 AWS 계정을 사용하는 패턴\n",
        "- 담당자는 자신이 관리하는 AWS 리소스만 표시\n",
        "- 개발 VPC, 테스트 VPC, ...\n",
        "\n",
        "\n"
      ],
      "metadata": {
        "id": "XPHiFEtazoVv"
      }
    },
    {
      "cell_type": "markdown",
      "source": [
        "#IPv4\n",
        "-32bit\n",
        "\n",
        "# Classful Addressing (<->Classless)\n",
        "- 32bit 분할\n",
        "- NetID 8 + HostID 24\n",
        "- NetID 16 + HostID 16\n",
        "- NetID 24 + HostID 8\n",
        "\n",
        "# IPv4 Addressing\n",
        "- CIDR : /숫자형식\n",
        "- CIDR IP주소\n",
        "- /16 : 65538개\n",
        "- /17 : 32768개\n",
        "- ...\n",
        "- /28 : 16개\n",
        "\n",
        "- 10.0.0.0/16 -> 10.0.0.0 ~ 10.0.255.255\n",
        "- 10.0.0.0/24 -> 10.0.0.0 ~ 10.0.0.255\n",
        "- 10.0.1.100/32 -> 10.0.1.100"
      ],
      "metadata": {
        "id": "R-1rtBfR8PH5"
      }
    },
    {
      "cell_type": "markdown",
      "source": [
        "\n",
        "# Subnet\n",
        "- VPC를 Subnet으로 분할하여 사용\n",
        "- Subnet은 하나의 가용영역 안에 위치\n",
        "- 하나의 가용영역 안에 다수의 Subnet이 포함\n",
        "- Subnet 마다 5개의 IP주소는 예약\n",
        "\n",
        "# Subnet 예시\n",
        "- ex) 172.16.1.0/24\n",
        "- 172.16.1.0 : NetID\n",
        "- 172.16.1.1 : VPC를 Router (Gateway)\n",
        "- 172.16.1.2 : DNS 서버 주소\n",
        "- 172.16.1.3 : 예약된 주소\n",
        "- 172.16.1.255 : 네트워크 Broadcast 주소\n",
        "\n",
        "# Subnet 특징\n",
        "- 기본적으로 서브넷은 인터넷이 아님 (나가는 경로가 따로 필요)\n",
        "- VPC 내에 분리된 네트워크로 하나의 서브넷은 하나의 AZ에 연결\n",
        "- VPC가 가지고있는 사설 IP 범윈 내에서 쪼개서 사용\n",
        "- 리소스들은 서브넷에 생성이 되고 사설 IP를 할당 받음\n",
        "- 필요에 따라 공인IP(EIP)를 할당 받음\n",
        "- 하나의 서브넷은 하나의 라우팅 테이블과 하나의 NACL (네트워크 ACL)를 갖는다.\n",
        "- 서브넷에서 생성되는 리소스에 공인 IP 자동 할당 여부를 설정 가능\n",
        "- 이 기능으로 public subnet, private subnet을 만들 수 있다.\n",
        "- 서브넷 트래픽이 인터넷 게이트웨이(IGW)로 라우팅 되는 경우 -> public subnet, 아니면 -> private subnet"
      ],
      "metadata": {
        "id": "fsKzMXSO8LOS"
      }
    },
    {
      "cell_type": "markdown",
      "source": [
        "# 라우팅 테이블\n",
        "- VPC 내부 경로 정보를 갖는 디폴트 라우팅 테이블이 존재 -> Subnet마다 라우팅 테이블이 연결되어 있어야 한다. \n",
        "\n",
        "# 인터넷 게이트웨이 (IGW)\n",
        "- VPC 내부 리소스와 인터엣 사이 통신을 가능하게 하는 게이트웨이\n",
        "\n",
        "# Public Subnet\n",
        "- IGW에 대한 경로를 갖음\n",
        "\n",
        "# Private Subnet\n",
        "- VPC 내부 리소스에 직접 접근 불가\n",
        "- 외부에서 접근시 NAT gateway(private 전용 창구)로 public과 연결\n"
      ],
      "metadata": {
        "id": "urG75fUd8RHC"
      }
    },
    {
      "cell_type": "markdown",
      "source": [
        "\n",
        "# ENI(Elastic Network Interface)\n",
        "- 인스턴스에 연결할 수 있는 가상 네트워크 인터페이스\n",
        "- 동일 가용영역의 다른 인스턴스로 이동 가능\n",
        "\n",
        "# EIP (Elastic IP address)\n",
        "- Public Subnet 인스턴스에 할당시 기본적으로 동적IP주소 연결\n",
        "- 리전 당 5개 제한\n",
        "- 실행중인 인스턴스에 연결된 EIP 하나는 무료로 사용\n",
        "\n",
        "# SG (보안 그룹)\n",
        "- 가상서버에 대한 Inbound 및 Outbound 트래픽을 제어하는 가상 방화벽 역할\n",
        "- Inbound : 모든 트래픽 차단\n",
        "- Outbound : 모든 트래픽 허용\n",
        "\n",
        "# NACL (네트워크 ACL, Network Access Control List)\n",
        "- 서브넷 경계의 방화벽 역할을 수행\n",
        "- Inbound, Outbound 다 허용\n",
        "- Stateless 방화벽 동작\n",
        "\n",
        "# 보안그룹 vs ACL\n",
        "\n",
        "# 보안그룹\n",
        "- 인스턴스 레벨에서 운영\n",
        "- 허용 규칙만 지원\n",
        "- 상태저장 (Stateful) -> 규칙에 관계없이 반환 트래픽이 자동으로 허용\n",
        "- 트래픽 허용 여부를 결정하기 전에 모든 규칙을 평가\n",
        "- 인스턴스 시작시 누군가 보안그룹을 지정하거나 나중에 보안그룹을 인스턴스와 연결하는 경우에만 인스턴스에 적용\n",
        "\n",
        "# ACL\n",
        "- 서브넷 레벨에서 운영\n",
        "- 허용과 거부 규칙 지원\n",
        "- 상태 비저장(Stateless) -> 반환 트래픽이 규칙에 의해 명시적으로 허용되어야 함\n",
        "- 트래픽 허용 여부를 결정할 때 번호가 낮은 순서대로 규칙을 처리 (우선순위)\n",
        "- 연결된 서브넷의 모든 인스턴스에 자동으로 적용 (보안그룹 규칙이 지나치게 허용일 경우 추가 보안 계층 제공)\n",
        "\n",
        "\n"
      ],
      "metadata": {
        "id": "_ccijg_WR7RY"
      }
    }
  ]
}