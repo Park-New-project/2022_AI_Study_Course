{
  "nbformat": 4,
  "nbformat_minor": 0,
  "metadata": {
    "colab": {
      "provenance": [],
      "authorship_tag": "ABX9TyN+vinIcOM5KmCKbh82iijq",
      "include_colab_link": true
    },
    "kernelspec": {
      "name": "python3",
      "display_name": "Python 3"
    },
    "language_info": {
      "name": "python"
    }
  },
  "cells": [
    {
      "cell_type": "markdown",
      "metadata": {
        "id": "view-in-github",
        "colab_type": "text"
      },
      "source": [
        "<a href=\"https://colab.research.google.com/github/Park-New-project/2022_AI_Study_Course/blob/main/%5BAI%5D_221103.ipynb\" target=\"_parent\"><img src=\"https://colab.research.google.com/assets/colab-badge.svg\" alt=\"Open In Colab\"/></a>"
      ]
    },
    {
      "cell_type": "markdown",
      "source": [
        "# 인스턴스 스토어\n",
        "- 물리적으로 연결되어있는 디스크에 위치\n",
        "- 종료 시 데이터가 손실 (휘발성)\n",
        "- 임시 콘텐츠 처럼 자주 변경되는 정보\n",
        "\n",
        "# EBS\n",
        "- 네트워크 연결 블록 스토리지\n",
        "- 독립적인 데이터 생명주기\n",
        "- 연결 해제 후 다른 인스턴스 연결 가능 (같은 리전 내)\n",
        "- 인스턴스 당 다중 볼륨 연결 가능\n",
        "- EBS 볼륨은 특정 가용 영역(2a,2b,2c,2d) 내에 위치 (자동 복제)\n",
        "- 볼륨 백업이 가능 : snapshot (다른 리전으로 복사 가능)\n",
        "\n",
        "# 특징\n",
        "- 여러 볼륨 마운트 가능\n",
        "- 사용 중에 볼륨 유형과 사이즈 확대 가능, 사이즈 축소, 언마운트 불가,\n",
        "- 동일한 가용영역(AZ) 내에서 다른 인스턴스에 연결 가능\n",
        "- 인스턴스 스토어 볼륨과 달리 EBS 기반 인스턴스는 중지, 재시작 가능\n",
        "\n",
        "# 스냅샷 (Snapshot)\n",
        "- 각각의 EBS Volume을 백업\n",
        "- 다른 리전으로 복사 가능\n",
        "- AMI 생성 : EC2에 연결된 모든 EBS Volume 한 번에 백업 (다른 리전으로 복사 가능)\n",
        "\n",
        "\n"
      ],
      "metadata": {
        "id": "KGIp1u2rDwSa"
      }
    },
    {
      "cell_type": "markdown",
      "source": [
        "# EFS & EBS & S3\n",
        "\n",
        "# EFS \n",
        "- File Storage. \n",
        "- 주차타워에 비유.\n",
        "- OS 단에서 동작.\n",
        "- 폴더와 파일로 이루어지는 계층구조. \n",
        "- 캐비넷 별 저장. 어느 캐비넷에 있는지 알아야함. \n",
        "- 한 개의 경로.\n",
        "\n",
        "\n",
        "# EBS \n",
        "- Block Storage. \n",
        "- 주차공간에 비유. \n",
        "- OS 단에서 동작.\n",
        "- SQL 칼럼 별로 저장할 데이터 설정. \n",
        "- 맨 처음 설정한 값 범위 안에서 저장. \n",
        "- 여러 경로.\n",
        "\n",
        "# S3 \n",
        "- Object Storage.\n",
        "- 발렛에 비유.\n",
        "- 어플리케이션 단에서 동작.\n",
        "- 논리적인 단위의 스토리지. 물리적 제약이 없다. 무제한.\n"
      ],
      "metadata": {
        "id": "6auVK2nmGfhS"
      }
    },
    {
      "cell_type": "markdown",
      "source": [
        "# 볼륨 인식 및 제거\n",
        "- df -h : Mounted 되어있는 거 보여줌\n",
        "- sudo mkfs -t ext4 /dev/sdf\n",
        "- mkfs : make file system\n",
        "- ext4 : file system format\n",
        "- sudo mount /dev/sdf /mnt\n",
        "- /mnt : 저장 공간으로 사용 가능"
      ],
      "metadata": {
        "id": "tCdnMxPkKGFr"
      }
    },
    {
      "cell_type": "markdown",
      "source": [
        "# 스냅샷 생성\n",
        "- 볼륨 > 작업 > 스냅샷 생성\n",
        "- 복구 : 스냅샷 > 작업 > 스냅샷에서 볼륨 생성 (서버 없으면 복구 후 접속 불가)\n",
        "- 이미지 : 스냅샷 > 작업 > 스냅샷에서 이미지 생성\n",
        "\n",
        "- 스냅샷의 특정버전으로 인스턴스를 만들 수 있게 가공한 것이 AMI (목적이 다르다)"
      ],
      "metadata": {
        "id": "XdMnoURjMrGj"
      }
    },
    {
      "cell_type": "markdown",
      "source": [
        "# EFS\n",
        "- 간단하고 확장이 가능하고 탄력적인 완전 관리형 탄력적 NFS 파일 시스템을 제공\n",
        "- 온 디맨드 방식으로 엄청 크게 확장 가능 (자동 확장 축소)\n",
        "- 완전 관리형: SaaS <-> EC2 : IaaS\n",
        "- 여러 가용 영역(AZ)에서 액세스 가능\n",
        "- 여러 가용 영역에 중복저장 되기 때문에 하나의 가용영역이 파괴 되더라도 안정적으로 서비스 제공 가능\n",
        "\n",
        "# NFS\n",
        "- 네트워크 상에서 파일 시스템 공유\n",
        "\n",
        "# VPC\n",
        "- 가상 사설망\n",
        "\n",
        "# 보안 그룹\n",
        "- 인바운드 규칙추가 -> EFS -> 네트워크 관리\n",
        "- -> 기존 보안 그룹 삭제 -> 교체"
      ],
      "metadata": {
        "id": "8LmaWY3kQsxr"
      }
    }
  ]
}