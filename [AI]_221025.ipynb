{
  "nbformat": 4,
  "nbformat_minor": 0,
  "metadata": {
    "colab": {
      "provenance": [],
      "authorship_tag": "ABX9TyO8uzOFas2u2+r9ukqrTd0m",
      "include_colab_link": true
    },
    "kernelspec": {
      "name": "python3",
      "display_name": "Python 3"
    },
    "language_info": {
      "name": "python"
    }
  },
  "cells": [
    {
      "cell_type": "markdown",
      "metadata": {
        "id": "view-in-github",
        "colab_type": "text"
      },
      "source": [
        "<a href=\"https://colab.research.google.com/github/Park-New-project/2022_AI_Study_Course/blob/main/%5BAI%5D_221025.ipynb\" target=\"_parent\"><img src=\"https://colab.research.google.com/assets/colab-badge.svg\" alt=\"Open In Colab\"/></a>"
      ]
    },
    {
      "cell_type": "markdown",
      "source": [
        "# 퍼셉트론의 한계\n",
        "- 간단한 XOR 문제도 해결할 수 없음.\n",
        "- 단층 퍼셉트론 -> 비선형 문제 해결 어려움 \n",
        "- -> 차원을 달리함 -> 다층 퍼셉트론\n",
        "\n",
        "- 은닉층에서 두 개의 퍼셉트론으로 XOR 문제 해결\n",
        "- AND(NAND(x1,x2), OR(x1,x2)) -> XOR\n",
        "- AND(1110, 0111) -> 0110\n",
        "\n",
        "\n",
        "# 다층 퍼셉트론\n",
        "- 인공신경망의 구조와 같음\n",
        "- 인공 신경망은 아님\n",
        "- 차이점 : 다층 퍼셉트론은 임의의 a,b 를 경사하강법으로 찾음\n",
        "- 병렬 처리에 사용"
      ],
      "metadata": {
        "id": "UHv8_gsrrBkt"
      }
    },
    {
      "cell_type": "code",
      "execution_count": null,
      "metadata": {
        "id": "49et6O3_Ql1O"
      },
      "outputs": [],
      "source": [
        "# AND, OR, NAND 게이트를 통해 XOR 문제를 해결하기\n",
        "\n",
        "def AND(x1, x2):\n",
        "    w1 = 0.5\n",
        "    w2 = 0.5\n",
        "    b = 0.7\n",
        "\n",
        "    ws =  w1 *x1 + w2 * x2- b\n",
        "\n",
        "    if ws >= 0:\n",
        "        return 1\n",
        "    return 0\n",
        "\n",
        "def OR(x1, x2):\n",
        "    w1 = 0.5\n",
        "    w2 = 0.5\n",
        "    b = 0.2\n",
        "\n",
        "    ws =  w1 *x1 + w2 * x2 - b\n",
        "    \n",
        "    if ws <= 0:\n",
        "        return 0\n",
        "    return 1\n",
        "\n",
        "def NAND(x1, x2):\n",
        "    w1 = 0.5\n",
        "    w2 = 0.5\n",
        "    b = 0.7\n",
        "\n",
        "    ws =  w1 *x1 + w2 * x2 - b\n",
        "    \n",
        "    if ws <= 0:\n",
        "        return 1\n",
        "    return 0"
      ]
    },
    {
      "cell_type": "code",
      "source": [
        "import numpy as np\n",
        "\n",
        "x_data = np.array([[0,0],[0,1],[1,0],[1,1]])\n",
        "\n",
        "for x1, x2 in x_data:\n",
        "    print(\"XOR(%d, %d) = %d\"%(x1,x2,AND(NAND(x1, x2),OR(x1,x2))))"
      ],
      "metadata": {
        "colab": {
          "base_uri": "https://localhost:8080/"
        },
        "id": "dd_OM5DYuaia",
        "outputId": "62ae862f-2fe8-4b99-ac3b-1b86a2f64a50"
      },
      "execution_count": null,
      "outputs": [
        {
          "output_type": "stream",
          "name": "stdout",
          "text": [
            "XOR(0, 0) = 0\n",
            "XOR(0, 1) = 1\n",
            "XOR(1, 0) = 1\n",
            "XOR(1, 1) = 0\n"
          ]
        }
      ]
    },
    {
      "cell_type": "code",
      "source": [
        "# AND, OR, NAND 게이트를 통해 XOR 문제를 해결하기\n",
        "\n",
        "def AND(x):\n",
        "    w = np.array([0.5, 0.5])\n",
        "    b = 0.7\n",
        "\n",
        "    ws =  (w*x).sum()- b\n",
        "\n",
        "    if ws >= 0:\n",
        "        return 1\n",
        "    return 0\n",
        "\n",
        "def OR(x):\n",
        "    w = np.array([0.5, 0.5])\n",
        "    b = 0.2\n",
        "\n",
        "    ws =  (w*x).sum()- b\n",
        "    \n",
        "    if ws <= 0:\n",
        "        return 0\n",
        "    return 1\n",
        "\n",
        "def NAND(x):\n",
        "    w = np.array([0.5, 0.5])\n",
        "    b = 0.7\n",
        "\n",
        "    ws =  (w*x).sum() - b\n",
        "    \n",
        "    if ws <= 0:\n",
        "        return 1\n",
        "    return 0"
      ],
      "metadata": {
        "id": "luHuhCdDudER"
      },
      "execution_count": null,
      "outputs": []
    },
    {
      "cell_type": "code",
      "source": [
        "import numpy as np\n",
        "\n",
        "x_data = np.array([[0,0],[0,1],[1,0],[1,1]])\n",
        "\n",
        "for x in x_data:\n",
        "    n1 = NAND(x)\n",
        "    n2 = OR(x)\n",
        "\n",
        "    n = np.array([n1, n2])\n",
        "    y_out=AND(n)\n",
        "    \n",
        "    print(\"XOR(%d, %d) = %d\"%(x[0],x[1],y_out))"
      ],
      "metadata": {
        "colab": {
          "base_uri": "https://localhost:8080/"
        },
        "id": "Kb6sUo_ZvdJd",
        "outputId": "69f75924-5086-4fa2-9d53-da7c7d93b288"
      },
      "execution_count": null,
      "outputs": [
        {
          "output_type": "stream",
          "name": "stdout",
          "text": [
            "XOR(0, 0) = 0\n",
            "XOR(0, 1) = 1\n",
            "XOR(1, 0) = 1\n",
            "XOR(1, 1) = 0\n"
          ]
        }
      ]
    },
    {
      "cell_type": "markdown",
      "source": [
        "- 다층 퍼셉트론처럼 만들었지만 다층 퍼셉트론은 아니다.\n",
        "- 위의 3개의 각 함수 내의 w와 b를 지우면 함수 내용이 동일하다.\n",
        "- 단층 퍼셉트론 3개를 이용해서 XOR 연산을 수행한다."
      ],
      "metadata": {
        "id": "GaBt_NTtwW91"
      }
    },
    {
      "cell_type": "code",
      "source": [
        "# AND, OR, NAND 함수를 통합하는 GATE 함수를 생성하고 XOR 연산을 수행\n",
        "# 다층 퍼셉트론에서 공통 함수 => 활성화 함수\n",
        "# 은닉층에서 츨력층에 사용하는 함수 => GATE 함수\n",
        "\n",
        "def GATE(x,w,b):\n",
        "    ws =  (w*x).sum() + b\n",
        "    if ws >= 0:\n",
        "        return 1\n",
        "    return 0"
      ],
      "metadata": {
        "id": "sjFKgGWBveiP"
      },
      "execution_count": null,
      "outputs": []
    },
    {
      "cell_type": "markdown",
      "source": [
        "- 하나의 계층 안의 노드는 반드시 하나의 '활성화 함수'를 가져야 한다."
      ],
      "metadata": {
        "id": "Ja1ReySKyUON"
      }
    },
    {
      "cell_type": "code",
      "source": [
        "x_data = np.array([[0,0],[0,1],[1,0],[1,1]])\n",
        "w = np.array([0.5, 0.5])\n",
        "b = -0.7\n",
        "\n",
        "for x in x_data:\n",
        "    print(\"AND(%d, %d) = %d\"%(x[0],x[1],GATE(x,w,b)))"
      ],
      "metadata": {
        "colab": {
          "base_uri": "https://localhost:8080/"
        },
        "id": "FStZDch_xtC0",
        "outputId": "cc3313ad-7289-49a9-f037-06ab7df161fe"
      },
      "execution_count": null,
      "outputs": [
        {
          "output_type": "stream",
          "name": "stdout",
          "text": [
            "AND(0, 0) = 0\n",
            "AND(0, 1) = 0\n",
            "AND(1, 0) = 0\n",
            "AND(1, 1) = 1\n"
          ]
        }
      ]
    },
    {
      "cell_type": "code",
      "source": [
        "x_data = np.array([[0,0],[0,1],[1,0],[1,1]])\n",
        "w1 = np.array([[-0.5, -0.5],[0.5, 0.5]]) # NAND의 가중치, OR의 가중치\n",
        "b1 = np.array([0.7,-0.2])\n",
        "\n",
        "w2 = np.array([0.5, 0.5]) # AND의 가중치\n",
        "b2 = np.array([-0.7])\n",
        "\n",
        "for x in x_data:\n",
        "    n1 = GATE(x, w1[0], b1[0])\n",
        "    n2 = GATE(x, w1[1], b1[1])\n",
        "    \n",
        "    n = np.array([n1, n2])\n",
        "    y_out=GATE(n,w2,b2)\n",
        "    \n",
        "    print(\"XOR(%d, %d) = %d\"%(x[0],x[1],y_out)) # GATE(x,w,b)"
      ],
      "metadata": {
        "colab": {
          "base_uri": "https://localhost:8080/"
        },
        "id": "OOAhfXFXyw2_",
        "outputId": "8bfd2fb0-376a-4f21-81af-201c1f7e12c6"
      },
      "execution_count": null,
      "outputs": [
        {
          "output_type": "stream",
          "name": "stdout",
          "text": [
            "XOR(0, 0) = 0\n",
            "XOR(0, 1) = 1\n",
            "XOR(1, 0) = 1\n",
            "XOR(1, 1) = 0\n"
          ]
        }
      ]
    },
    {
      "cell_type": "markdown",
      "source": [
        "# 오차 역전파\n",
        "- 은닉층에 포함된 가중치를 업데이트 하는 방법\n",
        "- 경사하강법을 인공신경망에 적용\n",
        "- 스스로 가중치를 조절하는 학습을 실현"
      ],
      "metadata": {
        "id": "9RJvgC0S2HpQ"
      }
    }
  ]
}