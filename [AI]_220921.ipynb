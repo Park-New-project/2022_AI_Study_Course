{
  "nbformat": 4,
  "nbformat_minor": 0,
  "metadata": {
    "colab": {
      "provenance": [],
      "collapsed_sections": [],
      "include_colab_link": true
    },
    "kernelspec": {
      "name": "python3",
      "display_name": "Python 3"
    },
    "language_info": {
      "name": "python"
    }
  },
  "cells": [
    {
      "cell_type": "markdown",
      "metadata": {
        "id": "view-in-github",
        "colab_type": "text"
      },
      "source": [
        "<a href=\"https://colab.research.google.com/github/Park-New-project/TIL/blob/main/%5BAI%5D_220921.ipynb\" target=\"_parent\"><img src=\"https://colab.research.google.com/assets/colab-badge.svg\" alt=\"Open In Colab\"/></a>"
      ]
    },
    {
      "cell_type": "code",
      "execution_count": null,
      "metadata": {
        "id": "bI1NQPtUVXcZ",
        "colab": {
          "base_uri": "https://localhost:8080/"
        },
        "outputId": "2b085cd8-1a1f-4dc1-ba77-2d29043184be"
      },
      "outputs": [
        {
          "output_type": "stream",
          "name": "stdout",
          "text": [
            "5050\n"
          ]
        }
      ],
      "source": [
        "sum = 0\n",
        "num = 1\n",
        "\n",
        "while num <= 100:\n",
        "  sum = sum + num\n",
        "  num = num + 1\n",
        "\n",
        "print(sum)"
      ]
    },
    {
      "cell_type": "code",
      "source": [
        "num = 1\n",
        "\n",
        "while num < 10:\n",
        "  print(num)\n",
        "  num = num + 1"
      ],
      "metadata": {
        "colab": {
          "base_uri": "https://localhost:8080/"
        },
        "id": "K2WoH7ZZ-sjm",
        "outputId": "135afbb5-97ec-4ffd-c233-86933883a657"
      },
      "execution_count": null,
      "outputs": [
        {
          "output_type": "stream",
          "name": "stdout",
          "text": [
            "1\n",
            "2\n",
            "3\n",
            "4\n",
            "5\n",
            "6\n",
            "7\n",
            "8\n",
            "9\n"
          ]
        }
      ]
    },
    {
      "cell_type": "code",
      "source": [
        "10 / 5 # 나누기"
      ],
      "metadata": {
        "colab": {
          "base_uri": "https://localhost:8080/"
        },
        "id": "XblyxZqr-_gV",
        "outputId": "e2deda24-4ef8-4360-c0f1-0131702f6643"
      },
      "execution_count": null,
      "outputs": [
        {
          "output_type": "execute_result",
          "data": {
            "text/plain": [
              "2.0"
            ]
          },
          "metadata": {},
          "execution_count": 10
        }
      ]
    },
    {
      "cell_type": "code",
      "source": [
        "10 % 5 # 나머지"
      ],
      "metadata": {
        "colab": {
          "base_uri": "https://localhost:8080/"
        },
        "id": "3hVw6Q3i_D1H",
        "outputId": "fa88e141-1ddf-4b9d-b7c7-eb1dd63d521d"
      },
      "execution_count": null,
      "outputs": [
        {
          "output_type": "execute_result",
          "data": {
            "text/plain": [
              "0"
            ]
          },
          "metadata": {},
          "execution_count": 11
        }
      ]
    },
    {
      "cell_type": "code",
      "source": [
        "10 // 5 # 몫"
      ],
      "metadata": {
        "colab": {
          "base_uri": "https://localhost:8080/"
        },
        "id": "cbIxdjUd_IZu",
        "outputId": "3f9f74bb-bec0-4198-89d7-2d90bd0e80b7"
      },
      "execution_count": null,
      "outputs": [
        {
          "output_type": "execute_result",
          "data": {
            "text/plain": [
              "2"
            ]
          },
          "metadata": {},
          "execution_count": 12
        }
      ]
    },
    {
      "cell_type": "markdown",
      "source": [
        "# break 문\n",
        "- 반복의 조건과 관계 없이 반복문 탈출\n",
        "\n",
        "# continue 문\n",
        "- 현재 수행중인 반복의 나머지 명령 중단하고 다음 단계 반복 진행\n",
        "\n",
        "# else 문\n",
        "- while 문의 아래에 else 문 사용\n",
        "- break 로 탈출시 else 문 실행되지 않음"
      ],
      "metadata": {
        "id": "4lf6ibxP_nxc"
      }
    },
    {
      "cell_type": "code",
      "source": [
        "num = 1\n",
        "\n",
        "while num < 10:\n",
        "  print(num)\n",
        "  if num % 5 ==0:\n",
        "    break\n",
        "  num = num + 1\n",
        "  \n",
        "print(\"end\")"
      ],
      "metadata": {
        "colab": {
          "base_uri": "https://localhost:8080/"
        },
        "id": "Ddhh98Nd_Jpi",
        "outputId": "40c53b88-d3fe-4a53-b3e8-34dc56e6ed40"
      },
      "execution_count": null,
      "outputs": [
        {
          "output_type": "stream",
          "name": "stdout",
          "text": [
            "1\n",
            "2\n",
            "3\n",
            "4\n",
            "5\n",
            "end\n"
          ]
        }
      ]
    },
    {
      "cell_type": "code",
      "source": [
        "num = 0\n",
        "\n",
        "while num < 10:\n",
        "  num = num + 1\n",
        "  if num % 3 == 0 or num % 5 == 0 :\n",
        "    continue\n",
        "  print(num)"
      ],
      "metadata": {
        "colab": {
          "base_uri": "https://localhost:8080/"
        },
        "id": "Mo_SCvlv_ect",
        "outputId": "ae7b0bc0-6a32-4adb-d221-d31654bae7a9"
      },
      "execution_count": null,
      "outputs": [
        {
          "output_type": "stream",
          "name": "stdout",
          "text": [
            "1\n",
            "2\n",
            "4\n",
            "7\n",
            "8\n"
          ]
        }
      ]
    },
    {
      "cell_type": "code",
      "source": [
        "num = 1\n",
        "\n",
        "while num < 6:\n",
        "  print(num)\n",
        "  num = num + 1\n",
        "\n",
        "else:\n",
        "  print(\"반복문 종료\")"
      ],
      "metadata": {
        "colab": {
          "base_uri": "https://localhost:8080/"
        },
        "id": "UtIU0J9NCY7G",
        "outputId": "ba391116-7133-411f-e9d4-db43456914eb"
      },
      "execution_count": null,
      "outputs": [
        {
          "output_type": "stream",
          "name": "stdout",
          "text": [
            "1\n",
            "2\n",
            "3\n",
            "4\n",
            "5\n",
            "반복문 종료\n"
          ]
        }
      ]
    },
    {
      "cell_type": "markdown",
      "source": [
        "# 인증\n",
        "- break 와 else의 조합"
      ],
      "metadata": {
        "id": "NgKgBC5FDYM9"
      }
    },
    {
      "cell_type": "code",
      "source": [
        "num = 0\n",
        "while num < 3 :\n",
        "  pswd = input(\"비밀번호 입력 : \")\n",
        "  if pswd == \"1234\":\n",
        "    print(\"로그인 성공\")\n",
        "    break\n",
        "  num += 1\n",
        "\n",
        "else:\n",
        "  print(\"입력 횟수 초과로 로그인 실패\")"
      ],
      "metadata": {
        "colab": {
          "base_uri": "https://localhost:8080/"
        },
        "id": "ipWV5MZxDRXd",
        "outputId": "113550bc-1767-42d7-b9dd-35b62c0eb689"
      },
      "execution_count": null,
      "outputs": [
        {
          "output_type": "stream",
          "name": "stdout",
          "text": [
            "비밀번호 입력 : 1242\n",
            "비밀번호 입력 : 5323\n",
            "비밀번호 입력 : 2131\n",
            "입력 횟수 초과로 로그인 실패\n"
          ]
        }
      ]
    },
    {
      "cell_type": "code",
      "source": [
        "d = int(input(\"단 입력 : \"))\n",
        "n = 1\n",
        "\n",
        "while n < 10 :\n",
        "  print(d,\"*\", n, \"=\", d*n)\n",
        "  n += 1"
      ],
      "metadata": {
        "colab": {
          "base_uri": "https://localhost:8080/"
        },
        "id": "xDOJPFLCEJ4y",
        "outputId": "b30d9ed4-5fec-4d89-bf12-3f5ae920607a"
      },
      "execution_count": null,
      "outputs": [
        {
          "output_type": "stream",
          "name": "stdout",
          "text": [
            "단 입력 : 5\n",
            "5 * 1 = 5\n",
            "5 * 2 = 10\n",
            "5 * 3 = 15\n",
            "5 * 4 = 20\n",
            "5 * 5 = 25\n",
            "5 * 6 = 30\n",
            "5 * 7 = 35\n",
            "5 * 8 = 40\n",
            "5 * 9 = 45\n"
          ]
        }
      ]
    },
    {
      "cell_type": "markdown",
      "source": [
        "# for 문\n",
        "- 시퀀스에 포함된 항목 순서대로 반복문 수행\n",
        "\n",
        "# 시퀀스 (Sequence)\n",
        "- 여러 항목을 저장하며 순서를 갖는 자료구조 \n",
        "- 인덱스로 참조할 수 있다\n",
        "- 항목의 데이터 타입이 다를 수 있다\n",
        "- 연속적인 RDT (\n",
        "  \n",
        "### list\n",
        "- 형태로 저장, 항목 수정 가능\n",
        "\n",
        "### tuple\n",
        "- 형태로 저장, 항목 수정 불가\n",
        "\n",
        "### string\n",
        "- 문자의 모임"
      ],
      "metadata": {
        "id": "oq6tZfbGGHHc"
      }
    },
    {
      "cell_type": "code",
      "source": [
        "list1 = [10, 20, 30, 40]\n",
        "\n",
        "print(list1)\n",
        "print(list1[0])\n",
        "print(list1[2])\n",
        "\n",
        "print(\"===============================\")\n",
        "\n",
        "print(type(list1))\n",
        "print(type(list1[0]))\n"
      ],
      "metadata": {
        "colab": {
          "base_uri": "https://localhost:8080/"
        },
        "id": "yDZOCzvlEwCB",
        "outputId": "29687216-f1e9-4140-bb3c-8e24e81d8c6b"
      },
      "execution_count": null,
      "outputs": [
        {
          "output_type": "stream",
          "name": "stdout",
          "text": [
            "[10, 20, 30, 40]\n",
            "10\n",
            "30\n",
            "===============================\n",
            "<class 'list'>\n",
            "<class 'int'>\n"
          ]
        }
      ]
    },
    {
      "cell_type": "code",
      "source": [
        "a = [10, 100.647, \"kim\"]\n",
        "print (a, \"   \", type(a))\n",
        "print (a[0], \"                     \", type(a[0]))\n",
        "print (a[1], \"                \", type(a[1]))\n",
        "print (a[2], \"                    \", type(a[2]))"
      ],
      "metadata": {
        "colab": {
          "base_uri": "https://localhost:8080/"
        },
        "id": "oj-AomPUHYOJ",
        "outputId": "8247c094-f993-45b7-e437-eb0ccabbcf3d"
      },
      "execution_count": null,
      "outputs": [
        {
          "output_type": "stream",
          "name": "stdout",
          "text": [
            "[10, 100.647, 'kim']     <class 'list'>\n",
            "10                       <class 'int'>\n",
            "100.647                  <class 'float'>\n",
            "kim                      <class 'str'>\n"
          ]
        }
      ]
    },
    {
      "cell_type": "code",
      "source": [
        "b= [10, 20, 30]\n",
        "print(b)\n",
        "\n",
        "b[0] = 100\n",
        "b[2] = \"Park\"\n",
        "\n",
        "print(b)"
      ],
      "metadata": {
        "colab": {
          "base_uri": "https://localhost:8080/"
        },
        "id": "GXcPtJ_IH1yt",
        "outputId": "0d273a6c-c4ad-4779-f019-17dfdda7fc7c"
      },
      "execution_count": null,
      "outputs": [
        {
          "output_type": "stream",
          "name": "stdout",
          "text": [
            "[10, 20, 30]\n",
            "[100, 20, 'Park']\n"
          ]
        }
      ]
    },
    {
      "cell_type": "markdown",
      "source": [
        "# in 연산자, not in 연산자\n",
        "- 항목이 sequence에 포함되는지 검사하는 연산\n",
        "\n"
      ],
      "metadata": {
        "id": "TDqaMhXNIjZt"
      }
    },
    {
      "cell_type": "code",
      "source": [
        "x = [\"apple\", \"banana\"]\n",
        "\"banana\" in x"
      ],
      "metadata": {
        "colab": {
          "base_uri": "https://localhost:8080/"
        },
        "id": "3ZnjdFgRIWe5",
        "outputId": "90ef1586-1a68-41b2-8646-aacf4f479404"
      },
      "execution_count": null,
      "outputs": [
        {
          "output_type": "execute_result",
          "data": {
            "text/plain": [
              "True"
            ]
          },
          "metadata": {},
          "execution_count": 67
        }
      ]
    },
    {
      "cell_type": "code",
      "source": [
        "fruits = ['사과', '바나나', '포도', '체리', '수박']\n",
        "\n",
        "print(len(fruits))\n",
        "for x in fruits:\n",
        "  print(x)"
      ],
      "metadata": {
        "id": "R4VAlLq-I-f-",
        "colab": {
          "base_uri": "https://localhost:8080/"
        },
        "outputId": "ce70bb41-00b2-4e85-b57b-bf348e412d13"
      },
      "execution_count": null,
      "outputs": [
        {
          "output_type": "stream",
          "name": "stdout",
          "text": [
            "5\n",
            "사과\n",
            "바나나\n",
            "포도\n",
            "체리\n",
            "수박\n"
          ]
        }
      ]
    },
    {
      "cell_type": "code",
      "source": [
        "t1 = (\"사과\",2,\"hello\")\n",
        "t1\n",
        "\n",
        "#변수명 없이도 사용 가능"
      ],
      "metadata": {
        "colab": {
          "base_uri": "https://localhost:8080/"
        },
        "id": "UJT8VxZuEr5X",
        "outputId": "764080be-449a-4292-bb9f-97af04647654"
      },
      "execution_count": null,
      "outputs": [
        {
          "output_type": "execute_result",
          "data": {
            "text/plain": [
              "('사과', 2, 'hello')"
            ]
          },
          "metadata": {},
          "execution_count": 4
        }
      ]
    },
    {
      "cell_type": "code",
      "source": [
        "t1[0]"
      ],
      "metadata": {
        "colab": {
          "base_uri": "https://localhost:8080/",
          "height": 35
        },
        "id": "xIJl84kFGErA",
        "outputId": "532542ee-bd81-4622-b785-6edc75f18254"
      },
      "execution_count": null,
      "outputs": [
        {
          "output_type": "execute_result",
          "data": {
            "text/plain": [
              "'사과'"
            ],
            "application/vnd.google.colaboratory.intrinsic+json": {
              "type": "string"
            }
          },
          "metadata": {},
          "execution_count": 7
        }
      ]
    },
    {
      "cell_type": "code",
      "source": [
        "t1[0] = '포도' #튜플 내용은 수정 불가"
      ],
      "metadata": {
        "colab": {
          "base_uri": "https://localhost:8080/",
          "height": 174
        },
        "id": "VSez7Pr9GTl6",
        "outputId": "44fcc4f7-78ea-4628-8c04-6baec6833a19"
      },
      "execution_count": null,
      "outputs": [
        {
          "output_type": "error",
          "ename": "TypeError",
          "evalue": "ignored",
          "traceback": [
            "\u001b[0;31m---------------------------------------------------------------------------\u001b[0m",
            "\u001b[0;31mTypeError\u001b[0m                                 Traceback (most recent call last)",
            "\u001b[0;32m<ipython-input-11-63c5861020e3>\u001b[0m in \u001b[0;36m<module>\u001b[0;34m\u001b[0m\n\u001b[0;32m----> 1\u001b[0;31m \u001b[0mt1\u001b[0m\u001b[0;34m[\u001b[0m\u001b[0;36m0\u001b[0m\u001b[0;34m]\u001b[0m \u001b[0;34m=\u001b[0m \u001b[0;34m'포도'\u001b[0m \u001b[0;31m#튜플 내용은 수정 불가\u001b[0m\u001b[0;34m\u001b[0m\u001b[0;34m\u001b[0m\u001b[0m\n\u001b[0m",
            "\u001b[0;31mTypeError\u001b[0m: 'tuple' object does not support item assignment"
          ]
        }
      ]
    },
    {
      "cell_type": "code",
      "source": [
        "(100, 20, 30)"
      ],
      "metadata": {
        "colab": {
          "base_uri": "https://localhost:8080/"
        },
        "id": "u_4oRlh2GLGC",
        "outputId": "0b97d8da-45b9-4c44-849c-09895f87ff42"
      },
      "execution_count": null,
      "outputs": [
        {
          "output_type": "execute_result",
          "data": {
            "text/plain": [
              "(100, 20, 30)"
            ]
          },
          "metadata": {},
          "execution_count": 6
        }
      ]
    },
    {
      "cell_type": "code",
      "source": [
        "sum = 0\n",
        "t = (1,2,3,4,5,6,7)\n",
        "\n",
        "for i in t:\n",
        "  sum += i\n",
        "  print(sum)\n",
        "\n",
        "print(\"합 :\", sum)"
      ],
      "metadata": {
        "colab": {
          "base_uri": "https://localhost:8080/"
        },
        "id": "sVNH2K8qGN53",
        "outputId": "2df8e423-579a-4629-f28e-0b17078ad1b3"
      },
      "execution_count": null,
      "outputs": [
        {
          "output_type": "stream",
          "name": "stdout",
          "text": [
            "1\n",
            "3\n",
            "6\n",
            "10\n",
            "15\n",
            "21\n",
            "28\n",
            "합 : 28\n"
          ]
        }
      ]
    },
    {
      "cell_type": "code",
      "source": [
        "#string\n",
        "\n",
        "s = \"hello\"\n",
        "print(s)\n",
        "print(len(s))\n",
        "print(s[0])"
      ],
      "metadata": {
        "colab": {
          "base_uri": "https://localhost:8080/"
        },
        "id": "eC1XBGGBGphj",
        "outputId": "1b54e924-2fc5-4426-a703-a28040d8b04f"
      },
      "execution_count": null,
      "outputs": [
        {
          "output_type": "stream",
          "name": "stdout",
          "text": [
            "hello\n",
            "5\n",
            "h\n"
          ]
        }
      ]
    },
    {
      "cell_type": "code",
      "source": [
        "s = \"hello\"\n",
        "\n",
        "for ch in s:\n",
        "  print(ch, end = \" \")"
      ],
      "metadata": {
        "colab": {
          "base_uri": "https://localhost:8080/"
        },
        "id": "VlKv4XtGHC4u",
        "outputId": "b3b9cb25-86b6-4094-b9a5-80f8bd1e8404"
      },
      "execution_count": null,
      "outputs": [
        {
          "output_type": "stream",
          "name": "stdout",
          "text": [
            "h e l l o "
          ]
        }
      ]
    },
    {
      "cell_type": "markdown",
      "source": [
        "# range() 함수 \n",
        "- 정수의 시퀀스를 생성하는 함수\n",
        "- range(stop)\n",
        "- range(start, stop)\n",
        "- range(start, stop, step)\n"
      ],
      "metadata": {
        "id": "S6gKcdR6H2tq"
      }
    },
    {
      "cell_type": "code",
      "source": [
        "# range()\n",
        "\n",
        "print(range(5))\n",
        "\n",
        "print(list(range(5)))"
      ],
      "metadata": {
        "colab": {
          "base_uri": "https://localhost:8080/"
        },
        "id": "OHYjusPGHZcG",
        "outputId": "2736f036-2aa1-4901-b3de-d4b0e222cab3"
      },
      "execution_count": null,
      "outputs": [
        {
          "output_type": "stream",
          "name": "stdout",
          "text": [
            "range(0, 5)\n",
            "[0, 1, 2, 3, 4]\n"
          ]
        }
      ]
    },
    {
      "cell_type": "code",
      "source": [
        "print(range(1,11))\n",
        "\n",
        "print(list(range(1,11)))"
      ],
      "metadata": {
        "colab": {
          "base_uri": "https://localhost:8080/"
        },
        "id": "U__vKu-9IQYu",
        "outputId": "f0f3c33c-57b8-4b5a-ee7a-7de2d8ef17d3"
      },
      "execution_count": null,
      "outputs": [
        {
          "output_type": "stream",
          "name": "stdout",
          "text": [
            "range(1, 11)\n",
            "[1, 2, 3, 4, 5, 6, 7, 8, 9, 10]\n"
          ]
        }
      ]
    },
    {
      "cell_type": "code",
      "source": [
        "print(range(10, 100, 25))\n",
        "\n",
        "print(list(range(10, 100, 25)))"
      ],
      "metadata": {
        "colab": {
          "base_uri": "https://localhost:8080/"
        },
        "id": "5plRkdUCIdxK",
        "outputId": "805b76e3-6ff9-4ad9-fc45-0c534efafb1d"
      },
      "execution_count": null,
      "outputs": [
        {
          "output_type": "stream",
          "name": "stdout",
          "text": [
            "range(10, 100, 25)\n",
            "[10, 35, 60, 85]\n"
          ]
        }
      ]
    },
    {
      "cell_type": "code",
      "source": [
        "list(range(0,-10, -1))"
      ],
      "metadata": {
        "colab": {
          "base_uri": "https://localhost:8080/"
        },
        "id": "aDvsn-TAIriT",
        "outputId": "30384f8a-158d-4ba8-cb4a-224ea84e9f1c"
      },
      "execution_count": null,
      "outputs": [
        {
          "output_type": "execute_result",
          "data": {
            "text/plain": [
              "[0, -1, -2, -3, -4, -5, -6, -7, -8, -9]"
            ]
          },
          "metadata": {},
          "execution_count": 30
        }
      ]
    },
    {
      "cell_type": "code",
      "source": [
        "for x in range(0,10, 2):\n",
        "  print(x)"
      ],
      "metadata": {
        "colab": {
          "base_uri": "https://localhost:8080/"
        },
        "id": "DVMvfv8yIwLx",
        "outputId": "e7748320-4017-458f-d0a8-d31fef1f5168"
      },
      "execution_count": null,
      "outputs": [
        {
          "output_type": "stream",
          "name": "stdout",
          "text": [
            "0\n",
            "2\n",
            "4\n",
            "6\n",
            "8\n"
          ]
        }
      ]
    },
    {
      "cell_type": "code",
      "source": [
        "n = int(input(\"양의 정수 입력 : \"))\n",
        "sum = 0\n",
        "\n",
        "for num in range(1,n+1):\n",
        "  sum += num\n",
        "  print (num,\" \" , sum)"
      ],
      "metadata": {
        "colab": {
          "base_uri": "https://localhost:8080/"
        },
        "id": "eymYx_hsJXpO",
        "outputId": "5b580b94-36eb-4b4d-b866-f310a6ce870e"
      },
      "execution_count": null,
      "outputs": [
        {
          "output_type": "stream",
          "name": "stdout",
          "text": [
            "양의 정수 입력 : 100\n",
            "1   1\n",
            "2   3\n",
            "3   6\n",
            "4   10\n",
            "5   15\n",
            "6   21\n",
            "7   28\n",
            "8   36\n",
            "9   45\n",
            "10   55\n",
            "11   66\n",
            "12   78\n",
            "13   91\n",
            "14   105\n",
            "15   120\n",
            "16   136\n",
            "17   153\n",
            "18   171\n",
            "19   190\n",
            "20   210\n",
            "21   231\n",
            "22   253\n",
            "23   276\n",
            "24   300\n",
            "25   325\n",
            "26   351\n",
            "27   378\n",
            "28   406\n",
            "29   435\n",
            "30   465\n",
            "31   496\n",
            "32   528\n",
            "33   561\n",
            "34   595\n",
            "35   630\n",
            "36   666\n",
            "37   703\n",
            "38   741\n",
            "39   780\n",
            "40   820\n",
            "41   861\n",
            "42   903\n",
            "43   946\n",
            "44   990\n",
            "45   1035\n",
            "46   1081\n",
            "47   1128\n",
            "48   1176\n",
            "49   1225\n",
            "50   1275\n",
            "51   1326\n",
            "52   1378\n",
            "53   1431\n",
            "54   1485\n",
            "55   1540\n",
            "56   1596\n",
            "57   1653\n",
            "58   1711\n",
            "59   1770\n",
            "60   1830\n",
            "61   1891\n",
            "62   1953\n",
            "63   2016\n",
            "64   2080\n",
            "65   2145\n",
            "66   2211\n",
            "67   2278\n",
            "68   2346\n",
            "69   2415\n",
            "70   2485\n",
            "71   2556\n",
            "72   2628\n",
            "73   2701\n",
            "74   2775\n",
            "75   2850\n",
            "76   2926\n",
            "77   3003\n",
            "78   3081\n",
            "79   3160\n",
            "80   3240\n",
            "81   3321\n",
            "82   3403\n",
            "83   3486\n",
            "84   3570\n",
            "85   3655\n",
            "86   3741\n",
            "87   3828\n",
            "88   3916\n",
            "89   4005\n",
            "90   4095\n",
            "91   4186\n",
            "92   4278\n",
            "93   4371\n",
            "94   4465\n",
            "95   4560\n",
            "96   4656\n",
            "97   4753\n",
            "98   4851\n",
            "99   4950\n",
            "100   5050\n"
          ]
        }
      ]
    },
    {
      "cell_type": "code",
      "source": [
        "my_list = [1,2,3,4,5]\n",
        "\n",
        "print(len(my_list))\n",
        "\n",
        "for i in range(len(my_list)):\n",
        "  my_list[i] *= 10\n",
        "\n",
        "print(my_list)"
      ],
      "metadata": {
        "colab": {
          "base_uri": "https://localhost:8080/"
        },
        "id": "Ahn-POu7JnoL",
        "outputId": "96484c43-a7f2-498d-bd94-c299003ddb44"
      },
      "execution_count": null,
      "outputs": [
        {
          "output_type": "stream",
          "name": "stdout",
          "text": [
            "5\n",
            "[10, 20, 30, 40, 50]\n"
          ]
        }
      ]
    },
    {
      "cell_type": "code",
      "source": [],
      "metadata": {
        "id": "36bKXS7MKK_q"
      },
      "execution_count": null,
      "outputs": []
    }
  ]
}