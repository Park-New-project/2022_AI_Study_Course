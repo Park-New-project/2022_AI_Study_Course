{
  "nbformat": 4,
  "nbformat_minor": 0,
  "metadata": {
    "colab": {
      "provenance": [],
      "authorship_tag": "ABX9TyMa+bNbyzebcaRv7iw/soI5",
      "include_colab_link": true
    },
    "kernelspec": {
      "name": "python3",
      "display_name": "Python 3"
    },
    "language_info": {
      "name": "python"
    }
  },
  "cells": [
    {
      "cell_type": "markdown",
      "metadata": {
        "id": "view-in-github",
        "colab_type": "text"
      },
      "source": [
        "<a href=\"https://colab.research.google.com/github/Park-New-project/TIL/blob/main/%5BAI%5D_221109.ipynb\" target=\"_parent\"><img src=\"https://colab.research.google.com/assets/colab-badge.svg\" alt=\"Open In Colab\"/></a>"
      ]
    },
    {
      "cell_type": "markdown",
      "source": [
        "# VPC 실습\n",
        "1. VPC 마법사 생성\n",
        "\n",
        "\n",
        "2. VPC 수동 생성\n",
        "- 서브넷 생성\n",
        "- 인터넷 게이트웨이 생성\n",
        "- NAT 게이트웨이 생성\n",
        "- 라우팅 테이블 생성\n",
        "- Pulbic에 서브넷, 인터넷 게이트 웨이 연결\n",
        "- Private에 NAT 게이트웨이 연결"
      ],
      "metadata": {
        "id": "PUvJA6w1nEOo"
      }
    },
    {
      "cell_type": "markdown",
      "source": [
        "# VPC Peering \n",
        "- 백본 네트워크를 통해 통신\n",
        "- IGW 와 VGW 필요없음\n",
        "- 연결되는 각 VPC는 서로 다른 IP 대역 사용\n",
        "\n",
        "# VPC Peering 실습\n",
        "- 서울 리전과 오레곤 리전의 통합네트워크 환경 구축\n",
        "- 피어링 연결 \n",
        "- 라우팅 테이블 오레곤 피어링 연결\n",
        "- 라우팅 테이블 서울 피어링 연결\n",
        "\n",
        "# VPC Peering : EC2 생성\n",
        "- EC2 생성 -> 네트워크 설정 편집 -> VPC \n",
        "- IP 자동할당\n",
        "- 보안 그룹규칙 추가 -> 모든 트래픽 -> 원본 : 20.0.0.0/16"
      ],
      "metadata": {
        "id": "zI-MW8qHrzUw"
      }
    },
    {
      "cell_type": "markdown",
      "source": [
        "# Route 53\n",
        "- DNS 서비스\n",
        "- 도메인 구매\n",
        "- 단순 라우팅 : 동일한 레코드 내의 다수의 IP를 지정해서 라우팅 가능\n",
        "- 가중치 기반 : 리전별로 부하분산 각 가중치를 가진 동일한 이름의 A레코드를 만들어서 IP를 다르게 줌\n",
        "- 지리적 위치 : 각 지역을 기반을 가장 가까운 리전으로 쿼리를 수행\n",
        "- 지연 시간 : 지연 시간이 가장적은 곳으로 쿼리를 요청\n",
        "- 장애 조치 : AS 설정에서 사용. Main, DR로 나누어 Main 장애시 DR로 쿼리\n",
        "- 다중 값 응답 : 다중 IP를 지정 (Failover 시 자동으로 장애 조치를 수행)"
      ],
      "metadata": {
        "id": "DrF0gYdjzwLo"
      }
    }
  ]
}