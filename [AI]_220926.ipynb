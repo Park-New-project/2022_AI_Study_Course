{
  "nbformat": 4,
  "nbformat_minor": 0,
  "metadata": {
    "colab": {
      "provenance": [],
      "collapsed_sections": [
        "vGQOyo9lcTji",
        "7Xbq3ZYMePOh",
        "chBI22CyexhZ"
      ],
      "include_colab_link": true
    },
    "kernelspec": {
      "name": "python3",
      "display_name": "Python 3"
    },
    "language_info": {
      "name": "python"
    }
  },
  "cells": [
    {
      "cell_type": "markdown",
      "metadata": {
        "id": "view-in-github",
        "colab_type": "text"
      },
      "source": [
        "<a href=\"https://colab.research.google.com/github/Park-New-project/TIL/blob/main/%5BAI%5D_220926.ipynb\" target=\"_parent\"><img src=\"https://colab.research.google.com/assets/colab-badge.svg\" alt=\"Open In Colab\"/></a>"
      ]
    },
    {
      "cell_type": "code",
      "execution_count": null,
      "metadata": {
        "id": "ALe7zCtSNyfF"
      },
      "outputs": [],
      "source": [
        "# 함수의 정의\n",
        "def test():\n",
        "    print(\"test...\")\n",
        "    print(\"=============================================\")\n",
        "    print(\"이름 나이 주소 국어 영어 수학 총점 평균 학점\")\n",
        "    print(\"=============================================\")"
      ]
    },
    {
      "cell_type": "code",
      "source": [
        "# 함수의 호출\n",
        "test()"
      ],
      "metadata": {
        "colab": {
          "base_uri": "https://localhost:8080/"
        },
        "id": "Brau-drvbYFJ",
        "outputId": "ec3e0bb2-9043-4540-e05b-9787f05ce6d7"
      },
      "execution_count": null,
      "outputs": [
        {
          "output_type": "stream",
          "name": "stdout",
          "text": [
            "test...\n",
            "=============================================\n",
            "이름 나이 주소 국어 영어 수학 총점 평균 학점\n",
            "=============================================\n"
          ]
        }
      ]
    },
    {
      "cell_type": "code",
      "source": [
        "def test2(name):\n",
        "  print(name, \"hello...\")"
      ],
      "metadata": {
        "id": "OeLSzBWdbbMz"
      },
      "execution_count": null,
      "outputs": []
    },
    {
      "cell_type": "code",
      "source": [
        "test2(\"kim\")"
      ],
      "metadata": {
        "colab": {
          "base_uri": "https://localhost:8080/"
        },
        "id": "iYe1KEPMbqdT",
        "outputId": "b46d9c2c-b826-4321-eecc-9d07e31b8066"
      },
      "execution_count": null,
      "outputs": [
        {
          "output_type": "stream",
          "name": "stdout",
          "text": [
            "kim hello...\n"
          ]
        }
      ]
    },
    {
      "cell_type": "code",
      "source": [
        "def test3(i):\n",
        "  i+=1\n",
        "  return i"
      ],
      "metadata": {
        "id": "cQPabx2HbrfM"
      },
      "execution_count": null,
      "outputs": []
    },
    {
      "cell_type": "code",
      "source": [
        "index= test3(10)\n",
        "print(index)"
      ],
      "metadata": {
        "colab": {
          "base_uri": "https://localhost:8080/"
        },
        "id": "oAIjaanfb5lg",
        "outputId": "892135e5-25b5-4084-843c-20f9288f8b03"
      },
      "execution_count": null,
      "outputs": [
        {
          "output_type": "stream",
          "name": "stdout",
          "text": [
            "11\n"
          ]
        }
      ]
    },
    {
      "cell_type": "markdown",
      "source": [
        "# 주의할 점\n",
        "- 파이썬 인터프리터는 함수 정의 시 즉시 실행하지 않는다.\n",
        "- 함수 정의 후 실행해야 한다.\n",
        "\n",
        "# 디폴트 인수\n",
        "- 매개변수가 기본 값을 가질 수 있다."
      ],
      "metadata": {
        "id": "vGQOyo9lcTji"
      }
    },
    {
      "cell_type": "code",
      "source": [
        "# 디폴트 인수\n",
        "# 함수의 정의\n",
        "\n",
        "def greet(name, msg):\n",
        "  print(\"안녕하세요!\")\n",
        "  print(name, \"님!\")\n",
        "  print(msg)"
      ],
      "metadata": {
        "id": "OFSpx9k9b8xJ"
      },
      "execution_count": null,
      "outputs": []
    },
    {
      "cell_type": "code",
      "source": [
        "greet(\"kim\") # 인수 개수가 맞지 않아 오류"
      ],
      "metadata": {
        "colab": {
          "base_uri": "https://localhost:8080/",
          "height": 174
        },
        "id": "G93KYu8mdLpu",
        "outputId": "1e6b9e97-be95-40c8-98cb-76be5dfed0df"
      },
      "execution_count": null,
      "outputs": [
        {
          "output_type": "error",
          "ename": "TypeError",
          "evalue": "ignored",
          "traceback": [
            "\u001b[0;31m---------------------------------------------------------------------------\u001b[0m",
            "\u001b[0;31mTypeError\u001b[0m                                 Traceback (most recent call last)",
            "\u001b[0;32m<ipython-input-28-f0b81400e5fc>\u001b[0m in \u001b[0;36m<module>\u001b[0;34m\u001b[0m\n\u001b[0;32m----> 1\u001b[0;31m \u001b[0mgreet\u001b[0m\u001b[0;34m(\u001b[0m\u001b[0;34m\"kim\"\u001b[0m\u001b[0;34m)\u001b[0m \u001b[0;31m# 인수 개수가 맞지 않아 오류\u001b[0m\u001b[0;34m\u001b[0m\u001b[0;34m\u001b[0m\u001b[0m\n\u001b[0m",
            "\u001b[0;31mTypeError\u001b[0m: greet() missing 1 required positional argument: 'msg'"
          ]
        }
      ]
    },
    {
      "cell_type": "code",
      "source": [
        "# 디폴트 인수\n",
        "# 함수의 정의\n",
        "\n",
        "def greet(name, msg=\"별일 없죠?\"):\n",
        "  print(\"안녕하세요!\")\n",
        "  print(name, \"님!\")\n",
        "  print(msg)"
      ],
      "metadata": {
        "id": "chhHIhoadNnT"
      },
      "execution_count": null,
      "outputs": []
    },
    {
      "cell_type": "code",
      "source": [
        "greet(\"kim\") # 디폴트 인수"
      ],
      "metadata": {
        "colab": {
          "base_uri": "https://localhost:8080/"
        },
        "id": "XdBGRjV-dW0h",
        "outputId": "4c6dfbc2-fad0-4af7-e0a6-227882c6af9d"
      },
      "execution_count": null,
      "outputs": [
        {
          "output_type": "stream",
          "name": "stdout",
          "text": [
            "안녕하세요!\n",
            "kim 님!\n",
            "별일 없죠?\n"
          ]
        }
      ]
    },
    {
      "cell_type": "code",
      "source": [
        "def greet2(name, msg=\"별일 없죠?\", age): #디폴트 인수는 제일 오른쪽\n",
        "  print(\"안녕하세요!\")\n",
        "  print(name, \"님!\")\n",
        "  print(msg)"
      ],
      "metadata": {
        "colab": {
          "base_uri": "https://localhost:8080/",
          "height": 137
        },
        "id": "tsG3SHbadZJd",
        "outputId": "928c3a0f-3a81-441d-b835-0e12fd2f80a0"
      },
      "execution_count": null,
      "outputs": [
        {
          "output_type": "error",
          "ename": "SyntaxError",
          "evalue": "ignored",
          "traceback": [
            "\u001b[0;36m  File \u001b[0;32m\"<ipython-input-31-aa789ed36107>\"\u001b[0;36m, line \u001b[0;32m1\u001b[0m\n\u001b[0;31m    def greet2(name, msg=\"별일 없죠?\", age): #디폴트 인수는 제일 오른쪽\u001b[0m\n\u001b[0m              ^\u001b[0m\n\u001b[0;31mSyntaxError\u001b[0m\u001b[0;31m:\u001b[0m non-default argument follows default argument\n"
          ]
        }
      ]
    },
    {
      "cell_type": "code",
      "source": [
        "def greet2(name, age=0, msg=\"별일 없죠?\"):\n",
        "  print(\"안녕하세요!\")\n",
        "  print(name, \"님!\")\n",
        "  print(msg)"
      ],
      "metadata": {
        "id": "HvWYKzExdktY"
      },
      "execution_count": null,
      "outputs": []
    },
    {
      "cell_type": "code",
      "source": [
        "greet2(\"kim\")"
      ],
      "metadata": {
        "colab": {
          "base_uri": "https://localhost:8080/"
        },
        "id": "RW-ylAn0drGA",
        "outputId": "bc3107b6-bcd9-45c1-9fe2-3c777bac429d"
      },
      "execution_count": null,
      "outputs": [
        {
          "output_type": "stream",
          "name": "stdout",
          "text": [
            "안녕하세요!\n",
            "kim 님!\n",
            "별일 없죠?\n"
          ]
        }
      ]
    },
    {
      "cell_type": "code",
      "source": [
        "greet2(\"kim\", age=10)"
      ],
      "metadata": {
        "colab": {
          "base_uri": "https://localhost:8080/"
        },
        "id": "3icFG__Gd8nE",
        "outputId": "7c59c5ab-29c5-47ca-9027-0ee95b940b4c"
      },
      "execution_count": null,
      "outputs": [
        {
          "output_type": "stream",
          "name": "stdout",
          "text": [
            "안녕하세요!\n",
            "kim 님!\n",
            "별일 없죠?\n"
          ]
        }
      ]
    },
    {
      "cell_type": "markdown",
      "source": [
        "# 키워드 인수\n",
        "- 인수들이 위치가 아니라 키워드에 의해 함수로 전달되는 방식"
      ],
      "metadata": {
        "id": "7Xbq3ZYMePOh"
      }
    },
    {
      "cell_type": "code",
      "source": [
        "# 키워드 인수\n",
        "\n",
        "def calc(x,y,z):\n",
        "  return x+y+z"
      ],
      "metadata": {
        "id": "Aj6Epf7gd__K"
      },
      "execution_count": null,
      "outputs": []
    },
    {
      "cell_type": "code",
      "source": [
        "calc(10,20,30)"
      ],
      "metadata": {
        "colab": {
          "base_uri": "https://localhost:8080/"
        },
        "id": "oGur1r2oej1K",
        "outputId": "a077c5e7-6623-40fe-c6ac-7d0999ebbca4"
      },
      "execution_count": null,
      "outputs": [
        {
          "output_type": "execute_result",
          "data": {
            "text/plain": [
              "60"
            ]
          },
          "metadata": {},
          "execution_count": 37
        }
      ]
    },
    {
      "cell_type": "code",
      "source": [
        "calc(x=10,y=20,z=30)"
      ],
      "metadata": {
        "colab": {
          "base_uri": "https://localhost:8080/"
        },
        "id": "g9aCvoHFemHH",
        "outputId": "90955083-8b4d-4216-d2c6-064e1cf3f2d6"
      },
      "execution_count": null,
      "outputs": [
        {
          "output_type": "execute_result",
          "data": {
            "text/plain": [
              "60"
            ]
          },
          "metadata": {},
          "execution_count": 38
        }
      ]
    },
    {
      "cell_type": "code",
      "source": [
        "calc(y=10,x=30,z=20)"
      ],
      "metadata": {
        "colab": {
          "base_uri": "https://localhost:8080/"
        },
        "id": "YZG4ZITkeq_O",
        "outputId": "d7ce895b-42ba-4094-f31d-548d6acd27bd"
      },
      "execution_count": null,
      "outputs": [
        {
          "output_type": "execute_result",
          "data": {
            "text/plain": [
              "60"
            ]
          },
          "metadata": {},
          "execution_count": 40
        }
      ]
    },
    {
      "cell_type": "markdown",
      "source": [
        "# 참조에 의한 인수 전달\n",
        "- call-by-value\n",
        "- call-by-reference"
      ],
      "metadata": {
        "id": "chBI22CyexhZ"
      }
    },
    {
      "cell_type": "code",
      "source": [
        "# call-by-value\n",
        "def modify_v(s):\n",
        "  s+=\" To You\"\n",
        "\n",
        "  print(\"modify_v 내부:\", s)"
      ],
      "metadata": {
        "id": "B3zSPeZAet3t"
      },
      "execution_count": null,
      "outputs": []
    },
    {
      "cell_type": "code",
      "source": [
        "msg = \"Happy Birthday\"\n",
        "print(msg)\n",
        "print()\n",
        "\n",
        "modify_v(msg) # return 하지 않으면 지역변수 사라지므로 값에 영향을 주지 않음\n",
        "print(\"modify_v :\", msg)"
      ],
      "metadata": {
        "colab": {
          "base_uri": "https://localhost:8080/"
        },
        "id": "E_jWSFsyfVRQ",
        "outputId": "c786de15-ec65-490d-ccfd-644bc5ff401a"
      },
      "execution_count": null,
      "outputs": [
        {
          "output_type": "stream",
          "name": "stdout",
          "text": [
            "Happy Birthday\n",
            "\n",
            "modify_v 내부: Happy Birthday To You\n",
            "modify_v : Happy Birthday\n"
          ]
        }
      ]
    },
    {
      "cell_type": "code",
      "source": [
        "# call-by-reference\n",
        "def modify_r(li):\n",
        "  li += [100,200]"
      ],
      "metadata": {
        "id": "o5x7llUffilW"
      },
      "execution_count": null,
      "outputs": []
    },
    {
      "cell_type": "code",
      "source": [
        "list1 = [1,2,3,4,5]\n",
        "print(list1)\n",
        "print()\n",
        "\n",
        "modify_r(list1) \n",
        "print(\"modify_r :\",list1)"
      ],
      "metadata": {
        "colab": {
          "base_uri": "https://localhost:8080/"
        },
        "id": "pyI_XC9Jf3VC",
        "outputId": "656a3fc9-cfb5-48ff-e40a-099faa5f35f2"
      },
      "execution_count": null,
      "outputs": [
        {
          "output_type": "stream",
          "name": "stdout",
          "text": [
            "[1, 2, 3, 4, 5]\n",
            "\n",
            "modify_r : [1, 2, 3, 4, 5, 100, 200]\n"
          ]
        }
      ]
    },
    {
      "cell_type": "markdown",
      "source": [
        "# 지역 변수\n",
        "- 함수 내부에 있는 변수\n",
        "- 함수 외부에 영향을 주지 않는다\n",
        "- 함수 종료 시 소멸\n",
        "\n",
        "# 전역 변수\n",
        "- 함수 외부에 있는 변수\n",
        "- 전역변수를 함수 안에서 사용하려면 global 키워드"
      ],
      "metadata": {
        "id": "E_8BXPJWhIsr"
      }
    },
    {
      "cell_type": "code",
      "source": [
        "# 지역변수\n",
        "def sub():\n",
        "  s = \"banana\" # 지역변수\n",
        "  print(\"함수 안 :\",s)"
      ],
      "metadata": {
        "id": "LP1WvUJFiAZj"
      },
      "execution_count": null,
      "outputs": []
    },
    {
      "cell_type": "code",
      "source": [
        "sub()"
      ],
      "metadata": {
        "colab": {
          "base_uri": "https://localhost:8080/"
        },
        "id": "xp3VqkC9iCwl",
        "outputId": "38a27484-0be7-4a3b-ab89-6f80d35086e2"
      },
      "execution_count": null,
      "outputs": [
        {
          "output_type": "stream",
          "name": "stdout",
          "text": [
            "함수 안 : banana\n"
          ]
        }
      ]
    },
    {
      "cell_type": "code",
      "source": [
        "# 전역변수\n",
        "def sub2():\n",
        "  print(\"함수 안 :\",s)"
      ],
      "metadata": {
        "id": "Tb6EvF03iDpE"
      },
      "execution_count": null,
      "outputs": []
    },
    {
      "cell_type": "code",
      "source": [
        "s = \"apple\"\n",
        "sub2()"
      ],
      "metadata": {
        "colab": {
          "base_uri": "https://localhost:8080/"
        },
        "id": "wPSY-3JuiK6_",
        "outputId": "924dab9a-11ac-46e6-c998-4df5e3bb8c4d"
      },
      "execution_count": null,
      "outputs": [
        {
          "output_type": "stream",
          "name": "stdout",
          "text": [
            "함수 안 : apple\n"
          ]
        }
      ]
    },
    {
      "cell_type": "code",
      "source": [
        "def sub3():\n",
        "  s = \"banana\"\n",
        "  print(\"함수 안 :\", s)"
      ],
      "metadata": {
        "id": "wTgpbI_CiM6L"
      },
      "execution_count": null,
      "outputs": []
    },
    {
      "cell_type": "code",
      "source": [
        "s = \"apple\"\n",
        "sub3()\n",
        "print(\"함수 밖 :\", s)"
      ],
      "metadata": {
        "colab": {
          "base_uri": "https://localhost:8080/"
        },
        "id": "6u32V3UBiiTg",
        "outputId": "977d0b0a-ae20-46a8-b3db-4c9845103b68"
      },
      "execution_count": null,
      "outputs": [
        {
          "output_type": "stream",
          "name": "stdout",
          "text": [
            "함수 안 : banana\n",
            "함수 밖 : apple\n"
          ]
        }
      ]
    },
    {
      "cell_type": "code",
      "source": [
        "def sub4():\n",
        "  global s # s를 전역변수로 쓰겠다\n",
        "  print(\"함수 안 global:\", s)\n",
        "  s= \"banana\"\n",
        "  print(\"함수 안 s 값 변경:\", s)"
      ],
      "metadata": {
        "id": "Bjel1id_imtW"
      },
      "execution_count": null,
      "outputs": []
    },
    {
      "cell_type": "code",
      "source": [
        "s=\"apple\" # 전역변수\n",
        "sub4()\n",
        "print(\"함수 밖 :\", s) # sub3 과 달리 s 값 바뀜"
      ],
      "metadata": {
        "colab": {
          "base_uri": "https://localhost:8080/"
        },
        "id": "hUSeUUxGjNk-",
        "outputId": "80f9237c-fb14-446a-f2d1-009aa9233063"
      },
      "execution_count": null,
      "outputs": [
        {
          "output_type": "stream",
          "name": "stdout",
          "text": [
            "함수 안 global: apple\n",
            "함수 안 s 값 변경: banana\n",
            "함수 밖 : banana\n"
          ]
        }
      ]
    },
    {
      "cell_type": "code",
      "source": [
        "def sub5(x,y):\n",
        "  global a    # 전역변수\n",
        "  \n",
        "  a= 7\n",
        "  x, y = y, x # 지역변수\n",
        "  b= 3        # 지역변수\n",
        "\n",
        "  print(\"함수 안 :\",a,b,x,y)"
      ],
      "metadata": {
        "id": "pExYupqFjXL2"
      },
      "execution_count": null,
      "outputs": []
    },
    {
      "cell_type": "code",
      "source": [
        "a,b,x,y = 1,2,3,4\n",
        "\n",
        "sub5(x,y) \n",
        "\n",
        "print(\"함수 밖 :\",a,b,x,y)\n",
        "\n",
        "# 예상 결과 \n",
        "# 함수 안 : 7 3 4 3\n",
        "# 함수 밖 : 7 2 3 4"
      ],
      "metadata": {
        "colab": {
          "base_uri": "https://localhost:8080/"
        },
        "id": "w6Snbk0akMq2",
        "outputId": "8b9c6f28-031f-4683-bb5a-29de143d68cf"
      },
      "execution_count": null,
      "outputs": [
        {
          "output_type": "stream",
          "name": "stdout",
          "text": [
            "함수 안 : 7 3 4 3\n",
            "함수 밖 : 7 2 3 4\n"
          ]
        }
      ]
    },
    {
      "cell_type": "markdown",
      "source": [
        "# 여러 개의 값 반환 하기"
      ],
      "metadata": {
        "id": "imIO_sNyk7Gr"
      }
    },
    {
      "cell_type": "code",
      "source": [
        "# return에 여러 개의 값을 반환\n",
        "def sub6():\n",
        "  return 1,2,3"
      ],
      "metadata": {
        "id": "-JLcusa_ktzZ"
      },
      "execution_count": null,
      "outputs": []
    },
    {
      "cell_type": "code",
      "source": [
        "t1 = (10, 20, 30)\n",
        "t2 = 10, 20, 30\n",
        "\n",
        "a,b,c = t1\n",
        "print(\"t1 : \", a,b,c)\n",
        "print(\"t1 type: \", type(t1))\n",
        "\n",
        "a,b,c = t2\n",
        "print(\"t2 : \", a,b,c)\n",
        "print(\"t2 type: \", type(t2))"
      ],
      "metadata": {
        "colab": {
          "base_uri": "https://localhost:8080/"
        },
        "id": "foQcYFc-lWxR",
        "outputId": "102f48db-15a1-45de-a9ae-9662d8a30150"
      },
      "execution_count": null,
      "outputs": [
        {
          "output_type": "stream",
          "name": "stdout",
          "text": [
            "t1 :  10 20 30\n",
            "t1 type:  <class 'tuple'>\n",
            "t2 :  10 20 30\n",
            "t2 type:  <class 'tuple'>\n"
          ]
        }
      ]
    },
    {
      "cell_type": "code",
      "source": [
        "sub6()"
      ],
      "metadata": {
        "colab": {
          "base_uri": "https://localhost:8080/"
        },
        "id": "F3_cQHGOlKvu",
        "outputId": "b0118e85-9f56-4841-8295-0af76ceb2fde"
      },
      "execution_count": null,
      "outputs": [
        {
          "output_type": "execute_result",
          "data": {
            "text/plain": [
              "(1, 2, 3)"
            ]
          },
          "metadata": {},
          "execution_count": 127
        }
      ]
    },
    {
      "cell_type": "code",
      "source": [
        "print(\"sub6 type: \", type(sub6()))"
      ],
      "metadata": {
        "colab": {
          "base_uri": "https://localhost:8080/"
        },
        "id": "xX8dY579lRdI",
        "outputId": "ebab4141-583f-4a26-e696-e7e0dc46e112"
      },
      "execution_count": null,
      "outputs": [
        {
          "output_type": "stream",
          "name": "stdout",
          "text": [
            "sub6 type:  <class 'tuple'>\n"
          ]
        }
      ]
    },
    {
      "cell_type": "code",
      "source": [
        "a,b,c = sub6()\n",
        "print(a,b,c)"
      ],
      "metadata": {
        "colab": {
          "base_uri": "https://localhost:8080/"
        },
        "id": "B4yooi9mlUb4",
        "outputId": "07417e14-e417-405a-8f6a-7abe3207d563"
      },
      "execution_count": null,
      "outputs": [
        {
          "output_type": "stream",
          "name": "stdout",
          "text": [
            "1 2 3\n"
          ]
        }
      ]
    },
    {
      "cell_type": "markdown",
      "source": [
        "# 무명 함수\n",
        "- 이름은 없고 몸체만 있는 함수이다. (lambda)"
      ],
      "metadata": {
        "id": "IXOTkfrEmB56"
      }
    },
    {
      "cell_type": "code",
      "source": [
        "# 람다 함수의 정의\n",
        "sum = lambda x,y:x+y"
      ],
      "metadata": {
        "id": "rtStTKVGmM2C"
      },
      "execution_count": null,
      "outputs": []
    },
    {
      "cell_type": "code",
      "source": [
        "# 람다 함수의 호출\n",
        "sum(100,200)"
      ],
      "metadata": {
        "colab": {
          "base_uri": "https://localhost:8080/"
        },
        "id": "TdIOab02mPej",
        "outputId": "2c004f1c-fe9a-4859-d3d9-fa90a30f2a41"
      },
      "execution_count": null,
      "outputs": [
        {
          "output_type": "execute_result",
          "data": {
            "text/plain": [
              "300"
            ]
          },
          "metadata": {},
          "execution_count": 132
        }
      ]
    },
    {
      "cell_type": "markdown",
      "source": [
        "# 모듈\n",
        "- 함수나 변수를 모아놓은 파일\n",
        "- 폴더, 패키지, 라이브러리(API)"
      ],
      "metadata": {
        "id": "UuKU2-z3mi10"
      }
    },
    {
      "cell_type": "code",
      "source": [
        "from google.colab import drive\n",
        "drive.mount('/content/gdrive', force_remount=True)"
      ],
      "metadata": {
        "colab": {
          "base_uri": "https://localhost:8080/"
        },
        "id": "IaO7DDLNqW-K",
        "outputId": "f726a06b-f1e9-4768-c752-d2d761311e47"
      },
      "execution_count": null,
      "outputs": [
        {
          "output_type": "stream",
          "name": "stdout",
          "text": [
            "Mounted at /content/gdrive\n"
          ]
        }
      ]
    },
    {
      "cell_type": "code",
      "source": [
        "import sys\n",
        "sys.path.append('/content/gdrive/MyDrive/Colab')"
      ],
      "metadata": {
        "id": "NqL0q2aaNuXl"
      },
      "execution_count": null,
      "outputs": []
    },
    {
      "cell_type": "code",
      "source": [
        "print(sys.path)"
      ],
      "metadata": {
        "colab": {
          "base_uri": "https://localhost:8080/"
        },
        "id": "f_kqyPf6OI8V",
        "outputId": "b0efa041-cdcc-45c6-c84a-28f1476e98ef"
      },
      "execution_count": null,
      "outputs": [
        {
          "output_type": "stream",
          "name": "stdout",
          "text": [
            "['/content', '/env/python', '/usr/lib/python37.zip', '/usr/lib/python3.7', '/usr/lib/python3.7/lib-dynload', '', '/usr/local/lib/python3.7/dist-packages', '/usr/lib/python3/dist-packages', '/usr/local/lib/python3.7/dist-packages/IPython/extensions', '/root/.ipython', '/content/gdrive/MyDrive/Colab']\n"
          ]
        }
      ]
    },
    {
      "cell_type": "code",
      "source": [
        "import testA\n",
        "\n",
        "testA.addTest(10,20)"
      ],
      "metadata": {
        "id": "q6slQXDInn9i",
        "colab": {
          "base_uri": "https://localhost:8080/"
        },
        "outputId": "ecd8a672-52ef-4a4b-aba8-52e89f7c18c2"
      },
      "execution_count": null,
      "outputs": [
        {
          "output_type": "execute_result",
          "data": {
            "text/plain": [
              "30"
            ]
          },
          "metadata": {},
          "execution_count": 34
        }
      ]
    },
    {
      "cell_type": "code",
      "source": [
        "from testA import *\n",
        "\n",
        "addTest(100, 200)"
      ],
      "metadata": {
        "colab": {
          "base_uri": "https://localhost:8080/"
        },
        "id": "5gthVAQfnv1L",
        "outputId": "cb529a90-e1ba-4529-94eb-f7a706922882"
      },
      "execution_count": null,
      "outputs": [
        {
          "output_type": "execute_result",
          "data": {
            "text/plain": [
              "300"
            ]
          },
          "metadata": {},
          "execution_count": 35
        }
      ]
    },
    {
      "cell_type": "code",
      "source": [
        "from fun import *\n",
        "\n",
        "subTest(100, 200)"
      ],
      "metadata": {
        "colab": {
          "base_uri": "https://localhost:8080/"
        },
        "id": "SLEGyoNW9N_n",
        "outputId": "1f96ab0a-f7da-4821-a0bc-935e4c4690ea"
      },
      "execution_count": null,
      "outputs": [
        {
          "output_type": "execute_result",
          "data": {
            "text/plain": [
              "-100"
            ]
          },
          "metadata": {},
          "execution_count": 36
        }
      ]
    },
    {
      "cell_type": "code",
      "source": [
        "from fun import *\n",
        "\n",
        "mulTest(100, 200)"
      ],
      "metadata": {
        "colab": {
          "base_uri": "https://localhost:8080/"
        },
        "id": "D0awR0tg-KEm",
        "outputId": "d4082fbe-25a2-4429-bf0f-f131f8a9b1e7"
      },
      "execution_count": null,
      "outputs": [
        {
          "output_type": "execute_result",
          "data": {
            "text/plain": [
              "20000"
            ]
          },
          "metadata": {},
          "execution_count": 37
        }
      ]
    },
    {
      "cell_type": "code",
      "source": [
        "from fun import *\n",
        "\n",
        "divTest(100, 200)"
      ],
      "metadata": {
        "colab": {
          "base_uri": "https://localhost:8080/"
        },
        "id": "h-8uKYe9-NT5",
        "outputId": "0d8f3b4c-afa2-4b6d-f1b0-786f8baf9182"
      },
      "execution_count": null,
      "outputs": [
        {
          "output_type": "execute_result",
          "data": {
            "text/plain": [
              "0.5"
            ]
          },
          "metadata": {},
          "execution_count": 38
        }
      ]
    },
    {
      "cell_type": "markdown",
      "source": [
        "# OOP (객체지향 프로그래밍)\n",
        "- 캡슐화 (Encapsulation)\n",
        "- 상속 (Inheritance)\n",
        "- 다형성 (Polymorphism)\n",
        "\n",
        "# 객체 (Object)\n",
        "- 상태와 동작을 갖는다.\n",
        "- 상태 : 속성 (변수)\n",
        "- 동작 : 기능 (함수)\n",
        "- 객체 = 필드 + 메소드\n",
        "\n",
        "# 클래스 (Class)\n",
        "- 객체에 대한 설계도\n",
        "- 인스턴스 : 클래스로 만들어지는 객체\n",
        "- 사용자 정의 자료형\n",
        "- 첫 글자 대문자\n",
        "\n",
        "# 캡슐화\n",
        "- 데이터(변수)와 알고리즘(함수)을 하나로 묶어 공용 인터페이스를 제공하고 세부 사항을 감춘다. (은닉화)\n",
        "\n",
        "# 생성자 함수\n",
        "- 클래스명()\n",
        "- 객체를 메모리에 로딩\n",
        "\n",
        "# 인스턴스 변수\n",
        "- 클래스의 메소드 아래에서 사용\n",
        "- self.변수명\n",
        "- 힙에 메모리 잡힌다.\n"
      ],
      "metadata": {
        "id": "zofV9ibF_eEb"
      }
    },
    {
      "cell_type": "code",
      "source": [
        "class Counter:\n",
        "  # 메서드\n",
        "  def reset(self):\n",
        "    self.count = 0 # 인스턴스 변수 (Heap)\n",
        "    x = 10 # 지역변수 (Stack)"
      ],
      "metadata": {
        "id": "B6W7zZChBB30"
      },
      "execution_count": null,
      "outputs": []
    },
    {
      "cell_type": "code",
      "source": [
        "a = Counter()\n",
        "print(a) # main.Counter 주소\n",
        "print(type(a)) # main.Counter 사용자 정의 자료형"
      ],
      "metadata": {
        "colab": {
          "base_uri": "https://localhost:8080/"
        },
        "id": "dVo_3jJ2BDb0",
        "outputId": "335fe293-5780-4457-f719-e91182c44c6a"
      },
      "execution_count": null,
      "outputs": [
        {
          "output_type": "stream",
          "name": "stdout",
          "text": [
            "<__main__.Counter object at 0x7f354d70dfd0>\n",
            "<class '__main__.Counter'>\n"
          ]
        }
      ]
    },
    {
      "cell_type": "code",
      "source": [],
      "metadata": {
        "id": "W1ITUtpYCKSu"
      },
      "execution_count": null,
      "outputs": []
    }
  ]
}