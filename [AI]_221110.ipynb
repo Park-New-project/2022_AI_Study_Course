{
  "nbformat": 4,
  "nbformat_minor": 0,
  "metadata": {
    "colab": {
      "provenance": [],
      "authorship_tag": "ABX9TyPypoq7deRm8SEF8X2qPkJn",
      "include_colab_link": true
    },
    "kernelspec": {
      "name": "python3",
      "display_name": "Python 3"
    },
    "language_info": {
      "name": "python"
    }
  },
  "cells": [
    {
      "cell_type": "markdown",
      "metadata": {
        "id": "view-in-github",
        "colab_type": "text"
      },
      "source": [
        "<a href=\"https://colab.research.google.com/github/Park-New-project/2022_AI_Study_Course/blob/main/%5BAI%5D_221110.ipynb\" target=\"_parent\"><img src=\"https://colab.research.google.com/assets/colab-badge.svg\" alt=\"Open In Colab\"/></a>"
      ]
    },
    {
      "cell_type": "markdown",
      "source": [
        "# Route 53 실습 - S3\n",
        "- 도메인과 S3 연결하기\n",
        "- S3 -> 버킷 만들기 -> 정적 웹사이트 호스팅\n",
        "- -> ACL을 이용한 퍼블릭 설정\n",
        "- Route 53 -> 호스팅 영역\n",
        "- 레코드 추가 -> A 레코드 -> 별칭\n",
        "- 레코드 추가 -> CNAME 레코드 -> www\n",
        " "
      ],
      "metadata": {
        "id": "u-p8dHj15fe4"
      }
    },
    {
      "cell_type": "markdown",
      "source": [
        " # ELB (Elastic Load Balancer)\n",
        "- 둘 이상의 가용영역에서 EC2 인스턴스등 여러대상에 걸쳐 수신되는 트래픽을 분산\n",
        "- ELB에 등록된 대상의 상태를 모니터링하여 정상상태인 대상으로만 트래픽을 라우팅\n",
        "- 완전관리형 서비스\n",
        "\n",
        "# ELB 종류\n",
        "\n",
        "# ALB (Application Load Balancer) \n",
        "- HTTP, 1~65535 TCP 포트, Lambda 호출등을 사용하는 로드밸런싱 지원\n",
        "- 리디렉션, 고정응답, 인증 및 전달을 위해 호스트의 헤더, 경로, HTTP 헤더, 방법, 쿼리 매개변수 및 IP CIDR 규칙을 정할 수 있다.\n",
        "- 시간당 사용된 ALB 용량 단위, 시간에 대해 요금 부과\n",
        "\n",
        "# NLB (Network Load Balancer)\n",
        "- IP 프로토콜 데이터 기반으로 VPC 내의 대상으로 연결을 라우팅\n",
        "- TCP UDP 트래픽을 매우 짧은 대기 시간으로 유지\n",
        "- 가용영역당 단일 고정 IP 주소를 사용하여 변동성이 큰 트래픽 패턴 처리에 최적화\n",
        "- Auto Scaling, CloudFoarmation 및 다른 AWS 서비스와 통합 가능\n",
        "- Web socket 유형의 어플리케이션에 장기간 연결 지원\n",
        "- 단일만 지원\n",
        "- 시간당 사용된 NLB 용량 단위, 시간에 대해 요금 부과\n",
        "\n",
        "# GLB (Gateway Load Balancer)\n",
        "- 타사 어플리언스를 쉽게 배포확장가능\n",
        "- 서드 파티 가상 어플리언스를 통해 모든 계층 3 트래픽을 투명하게 전달\n",
        "- AWS PrivateLink 기술을 기반으로 새로운 유형의 VPC의 엔드포인트(QWLB)를 사용하고 트래픽을 안전하게 교환하는 방법을 간소화\n",
        "- 시간당 사용된 GLB 용량 단위, 시간에 대해 요금 부과\n",
        "\n",
        "# CLB (Classic Load Balancer)\n",
        "- 여러 EC2 인스턴스에서 기본 로드밸런싱을제공하고 요청 수준과 연결 수준에서 모두 작동\n",
        "- EC 네트워크 내에 구축된 어플리케이션을 HTTP포트(80)나 HTTPs포트(443)에 단일 매핑\n",
        "- CLB 가 실행된 각 시간 한시간 미만, 또는 GB 단위 데이터에 비용 청구\n"
      ],
      "metadata": {
        "id": "ELKRKnCl-QIg"
      }
    },
    {
      "cell_type": "markdown",
      "source": [
        "\n",
        "# 고가용성\n",
        "- 안정성은 장애가 발생하는 것을 예방하거나 신속히 복구하는 능력\n",
        "- 가용성은 안정성 기준을 측정가능하도록 계량화 한 성능 지표\n",
        "- 가용성을 높이기 위해 단일 장애지점을 제거\n",
        "- 2개 가용영역을 사용하면 더 높은 가용성을 얻을 수 있다.\n",
        "\n",
        "# 탄력성\n",
        "- 온프레미스 환경에서 용량 추정이 어렵다\n",
        "- AWS 클라우드 환경에서 탄력성을 제공\n",
        "\n",
        "# 웹계층 캐싱\n",
        "- 트래픽 분산 처리시 사용자 세션 정보가 없는 서버로 라우팅 가능\n",
        "- ALB Sticky Session(고정 세션)을 사용해 특정 서버로 전달\n",
        "- AutoScaling 으로 Scale Out/Scale In 수행시 문제 발생 가능\n",
        "- 세션 정보를 서버가 아닌 외부 저장 공간에 캐싱"
      ],
      "metadata": {
        "id": "YUWp8_zkGDOY"
      }
    },
    {
      "cell_type": "markdown",
      "source": [
        "# 알고리즘\n",
        "\n",
        "# 라운드 로빈 방식\n",
        "- 클라이언트로부터 받은 요청을 로드밸런싱 대상 서버에 순서대로 할당\n",
        "- 첫번째 요청 -> 첫번째 서버, 두번째 요청 -> 두번째 서버\n",
        "- 서버의 성능이 동일하고 처리시간이 짧은 어플리케니션은 균등하게 분산처리를 한다.\n",
        "\n",
        "\n",
        "# 가중 라운드 로빈 방식\n",
        "- 서버에 다른 처리 용량을 지정\n",
        "- 각 서버에 가중치(우선순위)를 부여\n",
        "\n",
        "# 최소 연결 방식\n",
        "- 서버 연결수가 가장 적은 서버에 연결\n",
        "- 동적인 분산 알고리즘\n",
        "- 각 서버에 대해서 동적으로 카운트를 할 수 있음\n",
        "- 동적으로 변하는 요청에 대한 부하분산을 시킬 수 있다.\n",
        "\n",
        "# 교차영역 로드밸런싱\n",
        "- 기존 ELB는 가용영역별로 비율을 나눔(그룹에 등록된 EC2 인스턴스 별로 적절히 부하분산을 하는 것이 아님)\n",
        "- 교차 영역이 2개라면 각 가용영역에 50프로 전달\n",
        "- A 가용영역 -> 2개 50% < 부하가 심해짐\n",
        "- B 가용영역 -> 8개 50%\n",
        "- 교차영역을 활성화하고 AZ 영역별이 아닌 EC2 인스턴스 개수로 계산해 부하 분산 처리\n"
      ],
      "metadata": {
        "id": "sNhk8icFGNJH"
      }
    }
  ]
}