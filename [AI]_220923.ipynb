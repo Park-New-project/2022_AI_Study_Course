{
  "nbformat": 4,
  "nbformat_minor": 0,
  "metadata": {
    "colab": {
      "provenance": [],
      "collapsed_sections": [],
      "include_colab_link": true
    },
    "kernelspec": {
      "name": "python3",
      "display_name": "Python 3"
    },
    "language_info": {
      "name": "python"
    }
  },
  "cells": [
    {
      "cell_type": "markdown",
      "metadata": {
        "id": "view-in-github",
        "colab_type": "text"
      },
      "source": [
        "<a href=\"https://colab.research.google.com/github/Park-New-project/TIL/blob/main/%5BAI%5D_220923.ipynb\" target=\"_parent\"><img src=\"https://colab.research.google.com/assets/colab-badge.svg\" alt=\"Open In Colab\"/></a>"
      ]
    },
    {
      "cell_type": "markdown",
      "source": [
        "# tuple\n",
        "- 튜플은 , 없으면 단일 요소와 같음\n",
        "- 괄호 생략 가능\n",
        "- 인덱스로 참조 가능"
      ],
      "metadata": {
        "id": "jUEEmrHA2IA4"
      }
    },
    {
      "cell_type": "code",
      "execution_count": null,
      "metadata": {
        "id": "TjTHMzz0V3fF",
        "colab": {
          "base_uri": "https://localhost:8080/"
        },
        "outputId": "aca8252d-77f3-4582-c9c6-508379cb447d"
      },
      "outputs": [
        {
          "output_type": "stream",
          "name": "stdout",
          "text": [
            "5\n",
            "<class 'int'>\n"
          ]
        }
      ],
      "source": [
        "t=(5)\n",
        "print(t)\n",
        "print(type(t))"
      ]
    },
    {
      "cell_type": "code",
      "source": [
        "t=(5,)\n",
        "print(t)\n",
        "print(type(t))"
      ],
      "metadata": {
        "colab": {
          "base_uri": "https://localhost:8080/"
        },
        "id": "-nDHp9702tgt",
        "outputId": "4942bfca-0d37-4867-ab2a-1c98068c90b9"
      },
      "execution_count": null,
      "outputs": [
        {
          "output_type": "stream",
          "name": "stdout",
          "text": [
            "(5,)\n",
            "<class 'tuple'>\n"
          ]
        }
      ]
    },
    {
      "cell_type": "code",
      "source": [
        "t= (5,7,9)\n",
        "print(t)\n",
        "print(type(t))"
      ],
      "metadata": {
        "colab": {
          "base_uri": "https://localhost:8080/"
        },
        "id": "M-UZPEJ-3C__",
        "outputId": "ce5197df-fae9-48df-c692-952471028e21"
      },
      "execution_count": null,
      "outputs": [
        {
          "output_type": "stream",
          "name": "stdout",
          "text": [
            "(5, 7, 9)\n",
            "<class 'tuple'>\n"
          ]
        }
      ]
    },
    {
      "cell_type": "code",
      "source": [
        "t= 5,7,9\n",
        "print(t)\n",
        "print(type(t))"
      ],
      "metadata": {
        "colab": {
          "base_uri": "https://localhost:8080/"
        },
        "id": "5DcJj9d33HHY",
        "outputId": "e5b1b731-b34a-4301-ef90-620b8283f268"
      },
      "execution_count": null,
      "outputs": [
        {
          "output_type": "stream",
          "name": "stdout",
          "text": [
            "(5, 7, 9)\n",
            "<class 'tuple'>\n"
          ]
        }
      ]
    },
    {
      "cell_type": "code",
      "source": [
        "a,b,c = 1,2,3\n",
        "print(a, \" \", b, \" \",c)"
      ],
      "metadata": {
        "colab": {
          "base_uri": "https://localhost:8080/"
        },
        "id": "N50X3oB83Lbt",
        "outputId": "6052da70-d7f4-493c-9cb3-e055f909c1d6"
      },
      "execution_count": null,
      "outputs": [
        {
          "output_type": "stream",
          "name": "stdout",
          "text": [
            "1   2   3\n"
          ]
        }
      ]
    },
    {
      "cell_type": "code",
      "source": [
        "t[0]"
      ],
      "metadata": {
        "colab": {
          "base_uri": "https://localhost:8080/"
        },
        "id": "ZaZQAIlb3kHm",
        "outputId": "a0bc0c00-d816-4c54-a5e3-233a6e32ae0b"
      },
      "execution_count": null,
      "outputs": [
        {
          "output_type": "execute_result",
          "data": {
            "text/plain": [
              "5"
            ]
          },
          "metadata": {},
          "execution_count": 13
        }
      ]
    },
    {
      "cell_type": "code",
      "source": [
        "t[1] = 10 #튜플은 값 변경 불가능"
      ],
      "metadata": {
        "colab": {
          "base_uri": "https://localhost:8080/",
          "height": 174
        },
        "id": "HgUxG5xA3pGR",
        "outputId": "3dd15593-54bd-49ac-cc91-8c13fa8e32c3"
      },
      "execution_count": null,
      "outputs": [
        {
          "output_type": "error",
          "ename": "TypeError",
          "evalue": "ignored",
          "traceback": [
            "\u001b[0;31m---------------------------------------------------------------------------\u001b[0m",
            "\u001b[0;31mTypeError\u001b[0m                                 Traceback (most recent call last)",
            "\u001b[0;32m<ipython-input-14-5a9388635924>\u001b[0m in \u001b[0;36m<module>\u001b[0;34m\u001b[0m\n\u001b[0;32m----> 1\u001b[0;31m \u001b[0mt\u001b[0m\u001b[0;34m[\u001b[0m\u001b[0;36m1\u001b[0m\u001b[0;34m]\u001b[0m \u001b[0;34m=\u001b[0m \u001b[0;36m10\u001b[0m\u001b[0;34m\u001b[0m\u001b[0;34m\u001b[0m\u001b[0m\n\u001b[0m",
            "\u001b[0;31mTypeError\u001b[0m: 'tuple' object does not support item assignment"
          ]
        }
      ]
    },
    {
      "cell_type": "markdown",
      "source": [
        "# 부분 튜플 (슬라이싱)\n",
        "- 리스트와 동일\n",
        "- testTuple[i]\n",
        "- testTuple[start:]\n",
        "- testTuple[:stop]\n",
        "- testTuple[start:stop]\n",
        "- 전체 : testTuple[:] \n",
        "- 새로운 부분 튜플 만드는 원리"
      ],
      "metadata": {
        "id": "RiFJEybU4CyX"
      }
    },
    {
      "cell_type": "markdown",
      "source": [
        "# 튜플 연결\n",
        "- +: 튜플 연결 (합집합)\n",
        "\n",
        "# 튜플 패킹, 언패킹\n",
        "- testTuple = 1, 2, 3\n",
        "- a, b, c = testTuple\n",
        "\n",
        "# 튜플 메소드 \n",
        "- index(x) 매개변수와 일치하는 첫번째 요소 인덱스 리턴 없으면 valueError\n",
        "\n",
        "# 튜플 메소드 \n",
        "- count(x) : 매개변수와 일치하는 요소 있으면 개수 리턴, 없으면 0"
      ],
      "metadata": {
        "id": "DcS5OveB5Y6H"
      }
    },
    {
      "cell_type": "code",
      "source": [
        "t = (1,3,5,7,9,11,13,15)\n",
        "\n",
        "print(t)\n",
        "print(t[:])"
      ],
      "metadata": {
        "colab": {
          "base_uri": "https://localhost:8080/"
        },
        "id": "3akRio3J33AO",
        "outputId": "905a09a2-445a-4d4d-f8ca-5a657cd8450c"
      },
      "execution_count": null,
      "outputs": [
        {
          "output_type": "stream",
          "name": "stdout",
          "text": [
            "(1, 3, 5, 7, 9, 11, 13, 15)\n",
            "(1, 3, 5, 7, 9, 11, 13, 15)\n"
          ]
        }
      ]
    },
    {
      "cell_type": "code",
      "source": [
        "print(t[3:])\n",
        "print(t[:5])\n",
        "print(t[2:6])"
      ],
      "metadata": {
        "colab": {
          "base_uri": "https://localhost:8080/"
        },
        "id": "Gyun2K9V5XXc",
        "outputId": "3cd08466-a832-4313-eff7-d8f8c50cc039"
      },
      "execution_count": null,
      "outputs": [
        {
          "output_type": "stream",
          "name": "stdout",
          "text": [
            "(7, 9, 11, 13, 15)\n",
            "(1, 3, 5, 7, 9)\n",
            "(5, 7, 9, 11)\n"
          ]
        }
      ]
    },
    {
      "cell_type": "code",
      "source": [
        "t1 = (1, 2, 3)\n",
        "t2 = 4, 5, 6\n",
        "t1 + t2"
      ],
      "metadata": {
        "colab": {
          "base_uri": "https://localhost:8080/"
        },
        "id": "8WKnGSif50SS",
        "outputId": "fc608300-71e8-4ced-e0f5-c32605fc455f"
      },
      "execution_count": null,
      "outputs": [
        {
          "output_type": "execute_result",
          "data": {
            "text/plain": [
              "(1, 2, 3, 4, 5, 6)"
            ]
          },
          "metadata": {},
          "execution_count": 23
        }
      ]
    },
    {
      "cell_type": "code",
      "source": [
        "# packing & unpacking\n",
        "\n",
        "t= 1, 2, 3\n",
        "print(t)\n",
        "\n",
        "a, b, c = t\n",
        "print(a, \" \", b, \" \", c)"
      ],
      "metadata": {
        "colab": {
          "base_uri": "https://localhost:8080/"
        },
        "id": "L-GNdzZQ6J3s",
        "outputId": "bdd0688b-e21c-4cc0-dcc6-097f98336c95"
      },
      "execution_count": null,
      "outputs": [
        {
          "output_type": "stream",
          "name": "stdout",
          "text": [
            "(1, 2, 3)\n",
            "1   2   3\n"
          ]
        }
      ]
    },
    {
      "cell_type": "code",
      "source": [
        "t= (1,2,3,4,1,2,3,4)\n",
        "print(t)"
      ],
      "metadata": {
        "colab": {
          "base_uri": "https://localhost:8080/"
        },
        "id": "PePpU84j6V1X",
        "outputId": "113b9931-25a7-4c03-fa2b-bbf2a34e1ab1"
      },
      "execution_count": null,
      "outputs": [
        {
          "output_type": "stream",
          "name": "stdout",
          "text": [
            "(1, 2, 3, 4, 1, 2, 3, 4)\n"
          ]
        }
      ]
    },
    {
      "cell_type": "code",
      "source": [
        "t.index(4)"
      ],
      "metadata": {
        "colab": {
          "base_uri": "https://localhost:8080/"
        },
        "id": "cUah9Plm6kJX",
        "outputId": "899ba777-071a-42f8-a8dd-7e902c1a548f"
      },
      "execution_count": null,
      "outputs": [
        {
          "output_type": "execute_result",
          "data": {
            "text/plain": [
              "3"
            ]
          },
          "metadata": {},
          "execution_count": 27
        }
      ]
    },
    {
      "cell_type": "code",
      "source": [
        "t.count(4)"
      ],
      "metadata": {
        "colab": {
          "base_uri": "https://localhost:8080/"
        },
        "id": "IbAXQt1g6mz9",
        "outputId": "a3e4089b-07f5-4d8a-c143-2b8165cfb7b1"
      },
      "execution_count": null,
      "outputs": [
        {
          "output_type": "execute_result",
          "data": {
            "text/plain": [
              "2"
            ]
          },
          "metadata": {},
          "execution_count": 29
        }
      ]
    },
    {
      "cell_type": "code",
      "source": [
        "t.count(5)"
      ],
      "metadata": {
        "colab": {
          "base_uri": "https://localhost:8080/"
        },
        "id": "QWTmWzgw619w",
        "outputId": "9995010a-2d55-4374-fae1-8d38bd894711"
      },
      "execution_count": null,
      "outputs": [
        {
          "output_type": "execute_result",
          "data": {
            "text/plain": [
              "0"
            ]
          },
          "metadata": {},
          "execution_count": 30
        }
      ]
    },
    {
      "cell_type": "markdown",
      "source": [
        "# 집합 (set)\n",
        "- 집합에 관련된 기능을 쉽게 하기 위해 만들어진 자료형이다\n",
        "- 집합은 중복된 데이터가 존재하지 않는다.\n",
        "- 집합 내의 요소들의 순서가 없다.\n",
        "\n",
        "# 집합 생성\n",
        "- 빈집합 s = set()\n",
        "- 리스트 이용 s=set([1,2,3,4,5,6,7])\n",
        "- 문자열을 이용한 집합생성 s=set(\"안녕하세요\")\n",
        "\n",
        "# 집합 요소 접근\n",
        "- 인덱스로 접근하려면 리스트나 튜플로 형변환 해야한다.\n"
      ],
      "metadata": {
        "id": "JRAdtLpI8AlX"
      }
    },
    {
      "cell_type": "code",
      "source": [
        "#Set\n",
        "s= set()\n",
        "s"
      ],
      "metadata": {
        "colab": {
          "base_uri": "https://localhost:8080/"
        },
        "id": "_qEho_BE8AX_",
        "outputId": "170c048e-6f3e-4299-e3f4-9aa846e5ad35"
      },
      "execution_count": null,
      "outputs": [
        {
          "output_type": "execute_result",
          "data": {
            "text/plain": [
              "set()"
            ]
          },
          "metadata": {},
          "execution_count": 33
        }
      ]
    },
    {
      "cell_type": "code",
      "source": [
        "s = set([1,2,3,4,1,2,3]) # 중복 제거\n",
        "s"
      ],
      "metadata": {
        "colab": {
          "base_uri": "https://localhost:8080/"
        },
        "id": "CwAaoUL17r6x",
        "outputId": "e3c4571e-b849-41c4-b543-3ba5ae7fe0ba"
      },
      "execution_count": null,
      "outputs": [
        {
          "output_type": "execute_result",
          "data": {
            "text/plain": [
              "{1, 2, 3, 4}"
            ]
          },
          "metadata": {},
          "execution_count": 38
        }
      ]
    },
    {
      "cell_type": "code",
      "source": [
        "s = set(\"안녕하세요. 고객님\")\n",
        "s"
      ],
      "metadata": {
        "colab": {
          "base_uri": "https://localhost:8080/"
        },
        "id": "cjVHSRFy9FRL",
        "outputId": "f6f44529-b8b6-4cea-e98c-ffdfb5a49ad1"
      },
      "execution_count": null,
      "outputs": [
        {
          "output_type": "execute_result",
          "data": {
            "text/plain": [
              "{' ', '.', '객', '고', '녕', '님', '세', '안', '요', '하'}"
            ]
          },
          "metadata": {},
          "execution_count": 39
        }
      ]
    },
    {
      "cell_type": "code",
      "source": [
        "s =set([1,2,3,4,5])\n",
        "print(s)"
      ],
      "metadata": {
        "colab": {
          "base_uri": "https://localhost:8080/"
        },
        "id": "tjsOUkx59KMF",
        "outputId": "8b4951de-8b93-40ca-d719-3e5c6855382a"
      },
      "execution_count": null,
      "outputs": [
        {
          "output_type": "stream",
          "name": "stdout",
          "text": [
            "{1, 2, 3, 4, 5}\n"
          ]
        }
      ]
    },
    {
      "cell_type": "code",
      "source": [
        "s[0] # 인덱스 참조 불가"
      ],
      "metadata": {
        "colab": {
          "base_uri": "https://localhost:8080/",
          "height": 174
        },
        "id": "G7cvKrD99SY4",
        "outputId": "38a643db-1e4a-4479-ac7f-ad7777e72cfb"
      },
      "execution_count": null,
      "outputs": [
        {
          "output_type": "error",
          "ename": "TypeError",
          "evalue": "ignored",
          "traceback": [
            "\u001b[0;31m---------------------------------------------------------------------------\u001b[0m",
            "\u001b[0;31mTypeError\u001b[0m                                 Traceback (most recent call last)",
            "\u001b[0;32m<ipython-input-41-beaf3deb3242>\u001b[0m in \u001b[0;36m<module>\u001b[0;34m\u001b[0m\n\u001b[0;32m----> 1\u001b[0;31m \u001b[0ms\u001b[0m\u001b[0;34m[\u001b[0m\u001b[0;36m0\u001b[0m\u001b[0;34m]\u001b[0m \u001b[0;31m# 인덱스 참조 불가\u001b[0m\u001b[0;34m\u001b[0m\u001b[0;34m\u001b[0m\u001b[0m\n\u001b[0m",
            "\u001b[0;31mTypeError\u001b[0m: 'set' object is not subscriptable"
          ]
        }
      ]
    },
    {
      "cell_type": "code",
      "source": [
        "list_s= list(s)\n",
        "list_s"
      ],
      "metadata": {
        "colab": {
          "base_uri": "https://localhost:8080/"
        },
        "id": "meLig1Us9WfL",
        "outputId": "762bf169-2491-41bc-93d7-b27d1a58254f"
      },
      "execution_count": null,
      "outputs": [
        {
          "output_type": "execute_result",
          "data": {
            "text/plain": [
              "[1, 2, 3, 4, 5]"
            ]
          },
          "metadata": {},
          "execution_count": 54
        }
      ]
    },
    {
      "cell_type": "code",
      "source": [
        "list_s[0]= 100\n",
        "print(list_s[0]) # 형변환을 통해 인덱스 참조"
      ],
      "metadata": {
        "colab": {
          "base_uri": "https://localhost:8080/"
        },
        "id": "kodhFRO09dVb",
        "outputId": "8e320809-a831-4434-a44d-667bc2bfad2d"
      },
      "execution_count": null,
      "outputs": [
        {
          "output_type": "stream",
          "name": "stdout",
          "text": [
            "100\n"
          ]
        }
      ]
    },
    {
      "cell_type": "code",
      "source": [
        "tuple_s= tuple(s)\n",
        "tuple_s"
      ],
      "metadata": {
        "colab": {
          "base_uri": "https://localhost:8080/"
        },
        "id": "mWIad1A2-GyP",
        "outputId": "24628a3a-decf-4e2b-daec-a0c0b99ae790"
      },
      "execution_count": null,
      "outputs": [
        {
          "output_type": "execute_result",
          "data": {
            "text/plain": [
              "(1, 2, 3, 4, 5)"
            ]
          },
          "metadata": {},
          "execution_count": 56
        }
      ]
    },
    {
      "cell_type": "code",
      "source": [
        "tuple_s[0]"
      ],
      "metadata": {
        "colab": {
          "base_uri": "https://localhost:8080/"
        },
        "id": "2g7qQiPE-QOf",
        "outputId": "ffeb27f9-8117-415c-ad68-e1a255c001f3"
      },
      "execution_count": null,
      "outputs": [
        {
          "output_type": "execute_result",
          "data": {
            "text/plain": [
              "1"
            ]
          },
          "metadata": {},
          "execution_count": 57
        }
      ]
    },
    {
      "cell_type": "code",
      "source": [
        "name = \"hello\"\n",
        "print(name)\n",
        "\n",
        "list(name)"
      ],
      "metadata": {
        "colab": {
          "base_uri": "https://localhost:8080/"
        },
        "id": "nR3ekf2w90mP",
        "outputId": "86581760-89cb-43a7-dcc2-6f6e6e8b8b4d"
      },
      "execution_count": null,
      "outputs": [
        {
          "output_type": "stream",
          "name": "stdout",
          "text": [
            "hello\n"
          ]
        },
        {
          "output_type": "execute_result",
          "data": {
            "text/plain": [
              "['h', 'e', 'l', 'l', 'o']"
            ]
          },
          "metadata": {},
          "execution_count": 51
        }
      ]
    },
    {
      "cell_type": "markdown",
      "source": [
        "# 집합 연산\n",
        "- 합집합 | union()\n",
        "- 교집합 & intersection()\n",
        "- 차집합 - difference()\n",
        "\n",
        "# 집합 메소드 \n",
        "- add() : 집합 원소 한 개 추가\n",
        "\n",
        "# 집합 메소드 \n",
        "- update() : 집합 원소 여러 개 추가\n",
        "\n",
        "# 집합 메소드 \n",
        "- remove(x) : 특정 원소 제거"
      ],
      "metadata": {
        "id": "UzQENl6d-V3I"
      }
    },
    {
      "cell_type": "code",
      "source": [
        "s1 = set([1,3,5,7,9,11,12])\n",
        "s2 = set([2,4,6,8,10,11,12])\n",
        "print(s1)\n",
        "print(s2)"
      ],
      "metadata": {
        "colab": {
          "base_uri": "https://localhost:8080/"
        },
        "id": "wi4wC8TA-EIK",
        "outputId": "3f67c23f-f602-407e-80ae-641a0f9d22bc"
      },
      "execution_count": null,
      "outputs": [
        {
          "output_type": "stream",
          "name": "stdout",
          "text": [
            "{1, 3, 5, 7, 9, 11, 12}\n",
            "{2, 4, 6, 8, 10, 11, 12}\n"
          ]
        }
      ]
    },
    {
      "cell_type": "code",
      "source": [
        "s1 | s2"
      ],
      "metadata": {
        "colab": {
          "base_uri": "https://localhost:8080/"
        },
        "id": "04W42A4g_cMN",
        "outputId": "964cd72e-6901-4166-c74d-0d09b10070df"
      },
      "execution_count": null,
      "outputs": [
        {
          "output_type": "execute_result",
          "data": {
            "text/plain": [
              "{1, 2, 3, 4, 5, 6, 7, 8, 9, 10, 11, 12}"
            ]
          },
          "metadata": {},
          "execution_count": 59
        }
      ]
    },
    {
      "cell_type": "code",
      "source": [
        "s1.union(s2)"
      ],
      "metadata": {
        "colab": {
          "base_uri": "https://localhost:8080/"
        },
        "id": "rbcSxHja_dfq",
        "outputId": "41b1e5b0-8e57-4aae-b6d6-b2e55aed363c"
      },
      "execution_count": null,
      "outputs": [
        {
          "output_type": "execute_result",
          "data": {
            "text/plain": [
              "{1, 2, 3, 4, 5, 6, 7, 8, 9, 10, 11, 12}"
            ]
          },
          "metadata": {},
          "execution_count": 60
        }
      ]
    },
    {
      "cell_type": "code",
      "source": [
        "s1 & s2"
      ],
      "metadata": {
        "colab": {
          "base_uri": "https://localhost:8080/"
        },
        "id": "-TVmvXGB_faw",
        "outputId": "5ab3c9c2-92f1-4452-e802-4058976bf949"
      },
      "execution_count": null,
      "outputs": [
        {
          "output_type": "execute_result",
          "data": {
            "text/plain": [
              "{11, 12}"
            ]
          },
          "metadata": {},
          "execution_count": 61
        }
      ]
    },
    {
      "cell_type": "code",
      "source": [
        "s1.intersection(s2)"
      ],
      "metadata": {
        "colab": {
          "base_uri": "https://localhost:8080/"
        },
        "id": "HSJ_KGS4Ap13",
        "outputId": "60d26ffd-a6dd-47be-8a54-64a50628385c"
      },
      "execution_count": null,
      "outputs": [
        {
          "output_type": "execute_result",
          "data": {
            "text/plain": [
              "{11, 12}"
            ]
          },
          "metadata": {},
          "execution_count": 63
        }
      ]
    },
    {
      "cell_type": "code",
      "source": [
        "s1-s2"
      ],
      "metadata": {
        "colab": {
          "base_uri": "https://localhost:8080/"
        },
        "id": "TdrSagJa_hNK",
        "outputId": "0446e79c-dc61-4553-c9c4-e7ad531da904"
      },
      "execution_count": null,
      "outputs": [
        {
          "output_type": "execute_result",
          "data": {
            "text/plain": [
              "{1, 3, 5, 7, 9}"
            ]
          },
          "metadata": {},
          "execution_count": 62
        }
      ]
    },
    {
      "cell_type": "code",
      "source": [
        "s1 = set([1,3,5,7,9,11,12])\n",
        "print(s1)\n",
        "\n",
        "s1.add(13)\n",
        "print(s1)"
      ],
      "metadata": {
        "colab": {
          "base_uri": "https://localhost:8080/"
        },
        "id": "BYomaeXg_h3l",
        "outputId": "f8d864b6-7069-40ea-c176-827d89c5a1ae"
      },
      "execution_count": null,
      "outputs": [
        {
          "output_type": "stream",
          "name": "stdout",
          "text": [
            "{1, 3, 5, 7, 9, 11, 12}\n",
            "{1, 3, 5, 7, 9, 11, 12, 13}\n"
          ]
        }
      ]
    },
    {
      "cell_type": "code",
      "source": [
        "s1. update([20,30,40])\n",
        "print(s1)"
      ],
      "metadata": {
        "colab": {
          "base_uri": "https://localhost:8080/"
        },
        "id": "dTO_SEVDA3hd",
        "outputId": "51b6e1b0-e0eb-43b3-aed2-d9b3ebcb50a9"
      },
      "execution_count": null,
      "outputs": [
        {
          "output_type": "stream",
          "name": "stdout",
          "text": [
            "{1, 3, 5, 7, 40, 9, 11, 12, 13, 20, 30}\n"
          ]
        }
      ]
    },
    {
      "cell_type": "code",
      "source": [
        "print(s1)\n",
        "s1.remove(13)\n",
        "print(s1)"
      ],
      "metadata": {
        "colab": {
          "base_uri": "https://localhost:8080/"
        },
        "id": "1K8QW9t3A-Em",
        "outputId": "93974bde-94a6-4bb1-e7b4-16225b8293aa"
      },
      "execution_count": null,
      "outputs": [
        {
          "output_type": "stream",
          "name": "stdout",
          "text": [
            "{1, 3, 5, 7, 40, 9, 11, 12, 13, 20, 30}\n",
            "{1, 3, 5, 7, 40, 9, 11, 12, 20, 30}\n"
          ]
        }
      ]
    },
    {
      "cell_type": "markdown",
      "source": [
        "# Dictionary (딕셔너리)\n",
        "- key, value (hashTable 같음)\n",
        "- key 에는 정수, 실수, 문자열 등이 사용\n",
        " 가능하다.\n",
        "\n",
        "# keys()\n",
        "- Dictionary의 key 리스트 출력\n",
        "- 반복문에 사용\n",
        "\n",
        "# values()\n",
        "- Dictionary의 value 리스트 출력 \n",
        "- 반복문에 사용\n",
        "\n",
        "# items()\n",
        "- Dictionary의 key, value 튜플로 동시 출력\n",
        "- 반복문에 사용\n",
        "\n",
        "# get()\n",
        "- get(key, default_val)\n",
        "- 값이 없을 경우 default_val 출력\n",
        "\n",
        "# setdefault()\n",
        "- Dictionary의 특정 key의 value 값을 처음 한 번만 설정\n",
        "- 기존 value 값이 존재하면 기존 값을 유지한다"
      ],
      "metadata": {
        "id": "Ci8rJyvWBfaw"
      }
    },
    {
      "cell_type": "code",
      "source": [
        "#dic\n",
        "\n",
        "myDic = {\"apple\":\"사과\", \"dog\":\"개\",\"cat\":\"고양이\"}\n",
        "print(myDic)\n",
        "print(type(myDic))"
      ],
      "metadata": {
        "colab": {
          "base_uri": "https://localhost:8080/"
        },
        "id": "SCGjpC_UBQk5",
        "outputId": "3e7383d4-d253-48dc-e7ab-de21c10ead69"
      },
      "execution_count": null,
      "outputs": [
        {
          "output_type": "stream",
          "name": "stdout",
          "text": [
            "{'apple': '사과', 'dog': '개', 'cat': '고양이'}\n",
            "<class 'dict'>\n"
          ]
        }
      ]
    },
    {
      "cell_type": "code",
      "source": [
        "myDic[\"apple\"]"
      ],
      "metadata": {
        "colab": {
          "base_uri": "https://localhost:8080/",
          "height": 35
        },
        "id": "5EpL9jspP50x",
        "outputId": "e09c32f7-9700-463f-9a2a-1adfccf27166"
      },
      "execution_count": null,
      "outputs": [
        {
          "output_type": "execute_result",
          "data": {
            "text/plain": [
              "'사과'"
            ],
            "application/vnd.google.colaboratory.intrinsic+json": {
              "type": "string"
            }
          },
          "metadata": {},
          "execution_count": 75
        }
      ]
    },
    {
      "cell_type": "code",
      "source": [
        "myDic[\"cat\"]"
      ],
      "metadata": {
        "colab": {
          "base_uri": "https://localhost:8080/",
          "height": 35
        },
        "id": "49_tSVz-Q-eM",
        "outputId": "9eeb3e68-4ca3-42ee-cd23-bd5988859692"
      },
      "execution_count": null,
      "outputs": [
        {
          "output_type": "execute_result",
          "data": {
            "text/plain": [
              "'고양이'"
            ],
            "application/vnd.google.colaboratory.intrinsic+json": {
              "type": "string"
            }
          },
          "metadata": {},
          "execution_count": 76
        }
      ]
    },
    {
      "cell_type": "code",
      "source": [
        "myDic.values()"
      ],
      "metadata": {
        "colab": {
          "base_uri": "https://localhost:8080/"
        },
        "id": "Ow9IHdMMQ_-L",
        "outputId": "66a88438-8407-4360-ab86-de6cdca2855a"
      },
      "execution_count": null,
      "outputs": [
        {
          "output_type": "execute_result",
          "data": {
            "text/plain": [
              "dict_values(['사과', '개', '고양이'])"
            ]
          },
          "metadata": {},
          "execution_count": 77
        }
      ]
    },
    {
      "cell_type": "code",
      "source": [
        "for value in myDic.values():\n",
        "  print(value)"
      ],
      "metadata": {
        "colab": {
          "base_uri": "https://localhost:8080/"
        },
        "id": "SojhRS2iSJB9",
        "outputId": "a27d2452-2877-4b80-dd93-edc4d5bb6830"
      },
      "execution_count": null,
      "outputs": [
        {
          "output_type": "stream",
          "name": "stdout",
          "text": [
            "사과\n",
            "개\n",
            "고양이\n"
          ]
        }
      ]
    },
    {
      "cell_type": "code",
      "source": [
        "myDic"
      ],
      "metadata": {
        "colab": {
          "base_uri": "https://localhost:8080/"
        },
        "id": "wTNhFL0dSa_3",
        "outputId": "1dc2e93b-7ac0-4ff2-f7c2-285ba76ad008"
      },
      "execution_count": null,
      "outputs": [
        {
          "output_type": "execute_result",
          "data": {
            "text/plain": [
              "{'apple': '사과', 'dog': '개', 'cat': '고양이'}"
            ]
          },
          "metadata": {},
          "execution_count": 79
        }
      ]
    },
    {
      "cell_type": "code",
      "source": [
        "myDic.keys()"
      ],
      "metadata": {
        "colab": {
          "base_uri": "https://localhost:8080/"
        },
        "id": "_e-4UjUYTX2R",
        "outputId": "5ddf1270-f63c-4347-a5ee-4d513d49c6e9"
      },
      "execution_count": null,
      "outputs": [
        {
          "output_type": "execute_result",
          "data": {
            "text/plain": [
              "dict_keys(['apple', 'dog', 'cat'])"
            ]
          },
          "metadata": {},
          "execution_count": 80
        }
      ]
    },
    {
      "cell_type": "code",
      "source": [
        "for key in myDic.keys():\n",
        "  print(key)"
      ],
      "metadata": {
        "colab": {
          "base_uri": "https://localhost:8080/"
        },
        "id": "HUyumQ8nTaG2",
        "outputId": "9dedec23-d4c5-47ec-df30-db2b8811e78a"
      },
      "execution_count": null,
      "outputs": [
        {
          "output_type": "stream",
          "name": "stdout",
          "text": [
            "apple\n",
            "dog\n",
            "cat\n"
          ]
        }
      ]
    },
    {
      "cell_type": "code",
      "source": [
        "for key in myDic.keys():\n",
        "  print(myDic[key])"
      ],
      "metadata": {
        "colab": {
          "base_uri": "https://localhost:8080/"
        },
        "id": "FnWdxmU9TgZ2",
        "outputId": "27843ba0-9ff2-4446-cb70-d1868dd1b71b"
      },
      "execution_count": null,
      "outputs": [
        {
          "output_type": "stream",
          "name": "stdout",
          "text": [
            "사과\n",
            "개\n",
            "고양이\n"
          ]
        }
      ]
    },
    {
      "cell_type": "code",
      "source": [
        "myDic"
      ],
      "metadata": {
        "colab": {
          "base_uri": "https://localhost:8080/"
        },
        "id": "KiRxEC8TTktm",
        "outputId": "f6826096-f6a1-4632-9a25-3ca613b7400f"
      },
      "execution_count": null,
      "outputs": [
        {
          "output_type": "execute_result",
          "data": {
            "text/plain": [
              "{'apple': '사과', 'dog': '개', 'cat': '고양이'}"
            ]
          },
          "metadata": {},
          "execution_count": 84
        }
      ]
    },
    {
      "cell_type": "code",
      "source": [
        "myDic.items()"
      ],
      "metadata": {
        "colab": {
          "base_uri": "https://localhost:8080/"
        },
        "id": "aeVAurtmTyja",
        "outputId": "4bae2eb1-c600-4f82-edd2-052216037e83"
      },
      "execution_count": null,
      "outputs": [
        {
          "output_type": "execute_result",
          "data": {
            "text/plain": [
              "dict_items([('apple', '사과'), ('dog', '개'), ('cat', '고양이')])"
            ]
          },
          "metadata": {},
          "execution_count": 86
        }
      ]
    },
    {
      "cell_type": "code",
      "source": [
        "for item in myDic.items():\n",
        "  print(item)"
      ],
      "metadata": {
        "colab": {
          "base_uri": "https://localhost:8080/"
        },
        "id": "V4STsJ1DT0Vo",
        "outputId": "7ecf060b-57a9-4f62-e840-d3d05803ec40"
      },
      "execution_count": null,
      "outputs": [
        {
          "output_type": "stream",
          "name": "stdout",
          "text": [
            "('apple', '사과')\n",
            "('dog', '개')\n",
            "('cat', '고양이')\n"
          ]
        }
      ]
    },
    {
      "cell_type": "code",
      "source": [
        "\"cat\" in myDic.keys()"
      ],
      "metadata": {
        "colab": {
          "base_uri": "https://localhost:8080/"
        },
        "id": "b4dhE_AXT6gU",
        "outputId": "6bd9d514-39f5-4226-8f7b-423073d4d07e"
      },
      "execution_count": null,
      "outputs": [
        {
          "output_type": "execute_result",
          "data": {
            "text/plain": [
              "True"
            ]
          },
          "metadata": {},
          "execution_count": 89
        }
      ]
    },
    {
      "cell_type": "code",
      "source": [
        "\"lion\" in myDic.keys()"
      ],
      "metadata": {
        "colab": {
          "base_uri": "https://localhost:8080/"
        },
        "id": "AwmPtz4PUBA8",
        "outputId": "5a58e08d-9168-4d02-d600-da6dc13e437d"
      },
      "execution_count": null,
      "outputs": [
        {
          "output_type": "execute_result",
          "data": {
            "text/plain": [
              "False"
            ]
          },
          "metadata": {},
          "execution_count": 90
        }
      ]
    },
    {
      "cell_type": "code",
      "source": [
        "\"사과\" in myDic.values()"
      ],
      "metadata": {
        "colab": {
          "base_uri": "https://localhost:8080/"
        },
        "id": "bhbIt-mUUMHH",
        "outputId": "ed00d535-949c-40b3-eb2e-22b13202be0f"
      },
      "execution_count": null,
      "outputs": [
        {
          "output_type": "execute_result",
          "data": {
            "text/plain": [
              "True"
            ]
          },
          "metadata": {},
          "execution_count": 91
        }
      ]
    },
    {
      "cell_type": "code",
      "source": [
        "\"사자\" in myDic.values()"
      ],
      "metadata": {
        "colab": {
          "base_uri": "https://localhost:8080/"
        },
        "id": "eNmz7Jo8UPut",
        "outputId": "627665fb-05a7-4922-9451-49b52b9407d5"
      },
      "execution_count": null,
      "outputs": [
        {
          "output_type": "execute_result",
          "data": {
            "text/plain": [
              "False"
            ]
          },
          "metadata": {},
          "execution_count": 92
        }
      ]
    },
    {
      "cell_type": "code",
      "source": [
        "myDic.get(\"apple\", \"없음\")"
      ],
      "metadata": {
        "colab": {
          "base_uri": "https://localhost:8080/",
          "height": 35
        },
        "id": "vy-SXcnHUSHW",
        "outputId": "abbb175c-82d0-460e-a985-193b3be582d4"
      },
      "execution_count": null,
      "outputs": [
        {
          "output_type": "execute_result",
          "data": {
            "text/plain": [
              "'사과'"
            ],
            "application/vnd.google.colaboratory.intrinsic+json": {
              "type": "string"
            }
          },
          "metadata": {},
          "execution_count": 94
        }
      ]
    },
    {
      "cell_type": "code",
      "source": [
        "myDic.get(\"lion\", \"없음\")"
      ],
      "metadata": {
        "colab": {
          "base_uri": "https://localhost:8080/",
          "height": 35
        },
        "id": "jSsnPxMjUuPL",
        "outputId": "ec6a527d-b6f2-4b2f-d4bb-f54741555321"
      },
      "execution_count": null,
      "outputs": [
        {
          "output_type": "execute_result",
          "data": {
            "text/plain": [
              "'없음'"
            ],
            "application/vnd.google.colaboratory.intrinsic+json": {
              "type": "string"
            }
          },
          "metadata": {},
          "execution_count": 95
        }
      ]
    },
    {
      "cell_type": "code",
      "source": [
        "myDic.setdefault(\"lion\", \"사자\")\n",
        "myDic"
      ],
      "metadata": {
        "colab": {
          "base_uri": "https://localhost:8080/"
        },
        "id": "mus4pq7SUzbH",
        "outputId": "67ee7d01-671e-4c2e-c0c3-a63d5f3482eb"
      },
      "execution_count": null,
      "outputs": [
        {
          "output_type": "execute_result",
          "data": {
            "text/plain": [
              "{'apple': '사과', 'dog': '개', 'cat': '고양이', 'lion': '사자'}"
            ]
          },
          "metadata": {},
          "execution_count": 100
        }
      ]
    },
    {
      "cell_type": "code",
      "source": [
        "myDic.setdefault(\"dog\", \"강아지\") # 바뀌지 않음\n",
        "myDic"
      ],
      "metadata": {
        "colab": {
          "base_uri": "https://localhost:8080/"
        },
        "id": "xeOzU2F6VHy1",
        "outputId": "41f1a064-5a9e-43cd-abae-d5135d7becf0"
      },
      "execution_count": null,
      "outputs": [
        {
          "output_type": "execute_result",
          "data": {
            "text/plain": [
              "{'apple': '사과', 'dog': '개', 'cat': '고양이', 'lion': '사자'}"
            ]
          },
          "metadata": {},
          "execution_count": 102
        }
      ]
    },
    {
      "cell_type": "code",
      "source": [
        "myDic[\"dog\"] = \"강아지\" # 바뀜\n",
        "myDic"
      ],
      "metadata": {
        "colab": {
          "base_uri": "https://localhost:8080/"
        },
        "id": "JI6Gvl1KVNR_",
        "outputId": "efcc0ab9-758f-40ef-a021-7b5255452561"
      },
      "execution_count": null,
      "outputs": [
        {
          "output_type": "execute_result",
          "data": {
            "text/plain": [
              "{'apple': '사과', 'dog': '강아지', 'cat': '고양이', 'lion': '사자'}"
            ]
          },
          "metadata": {},
          "execution_count": 105
        }
      ]
    },
    {
      "cell_type": "markdown",
      "source": [
        "# Dictionary 값 삭제\n",
        "- del myDic[\"apple\"]\n",
        "\n",
        "# Dictionary 전체 비우기\n",
        "- myDic.clear()"
      ],
      "metadata": {
        "id": "bC22KQO0V0QB"
      }
    },
    {
      "cell_type": "code",
      "source": [
        "del myDic[\"apple\"]\n",
        "myDic"
      ],
      "metadata": {
        "colab": {
          "base_uri": "https://localhost:8080/"
        },
        "id": "P2BY-2j1VY4B",
        "outputId": "5bf83c0b-9035-4258-9e6a-d260686df861"
      },
      "execution_count": null,
      "outputs": [
        {
          "output_type": "execute_result",
          "data": {
            "text/plain": [
              "{'dog': '강아지', 'cat': '고양이', 'lion': '사자'}"
            ]
          },
          "metadata": {},
          "execution_count": 106
        }
      ]
    },
    {
      "cell_type": "code",
      "source": [
        "del myDic[\"lion\"]\n",
        "myDic"
      ],
      "metadata": {
        "colab": {
          "base_uri": "https://localhost:8080/"
        },
        "id": "4sKHRdNaWHwi",
        "outputId": "98f57841-7867-48f6-f6a3-46ba612eba6d"
      },
      "execution_count": null,
      "outputs": [
        {
          "output_type": "execute_result",
          "data": {
            "text/plain": [
              "{'dog': '강아지', 'cat': '고양이'}"
            ]
          },
          "metadata": {},
          "execution_count": 107
        }
      ]
    },
    {
      "cell_type": "code",
      "source": [
        "myDic.clear()\n",
        "myDic"
      ],
      "metadata": {
        "colab": {
          "base_uri": "https://localhost:8080/"
        },
        "id": "94mTCdQgWKAN",
        "outputId": "e53131d0-eb10-4ab8-b200-ecccfb5c46a0"
      },
      "execution_count": null,
      "outputs": [
        {
          "output_type": "execute_result",
          "data": {
            "text/plain": [
              "{}"
            ]
          },
          "metadata": {},
          "execution_count": 109
        }
      ]
    },
    {
      "cell_type": "code",
      "source": [
        "list1 = [1,2,3]\n",
        "list1"
      ],
      "metadata": {
        "colab": {
          "base_uri": "https://localhost:8080/"
        },
        "id": "9QQ62DsJWMA1",
        "outputId": "be66d7e4-0868-4d12-b56c-7306443c1279"
      },
      "execution_count": null,
      "outputs": [
        {
          "output_type": "execute_result",
          "data": {
            "text/plain": [
              "[1, 2, 3]"
            ]
          },
          "metadata": {},
          "execution_count": 110
        }
      ]
    },
    {
      "cell_type": "code",
      "source": [
        "list1=[]\n",
        "list1"
      ],
      "metadata": {
        "colab": {
          "base_uri": "https://localhost:8080/"
        },
        "id": "JtLA5t3PWX3m",
        "outputId": "d060e1fe-8ef5-4341-81b1-b3eba8f4e26d"
      },
      "execution_count": null,
      "outputs": [
        {
          "output_type": "execute_result",
          "data": {
            "text/plain": [
              "[]"
            ]
          },
          "metadata": {},
          "execution_count": 116
        }
      ]
    },
    {
      "cell_type": "code",
      "source": [
        "list[0]=1 # 인덱스 에러 발생 (메모리 크기 없다. 튜플과 다름)"
      ],
      "metadata": {
        "colab": {
          "base_uri": "https://localhost:8080/",
          "height": 174
        },
        "id": "UJkBhSnkWb6L",
        "outputId": "4d2a752c-0066-4949-d234-33519593199d"
      },
      "execution_count": null,
      "outputs": [
        {
          "output_type": "error",
          "ename": "TypeError",
          "evalue": "ignored",
          "traceback": [
            "\u001b[0;31m---------------------------------------------------------------------------\u001b[0m",
            "\u001b[0;31mTypeError\u001b[0m                                 Traceback (most recent call last)",
            "\u001b[0;32m<ipython-input-117-a1a450fe9a7b>\u001b[0m in \u001b[0;36m<module>\u001b[0;34m\u001b[0m\n\u001b[0;32m----> 1\u001b[0;31m \u001b[0mlist\u001b[0m\u001b[0;34m[\u001b[0m\u001b[0;36m0\u001b[0m\u001b[0;34m]\u001b[0m\u001b[0;34m=\u001b[0m\u001b[0;36m1\u001b[0m \u001b[0;31m# 인덱스 에러 발생 (메모리 크기 없다. 튜플과 다름)\u001b[0m\u001b[0;34m\u001b[0m\u001b[0;34m\u001b[0m\u001b[0m\n\u001b[0m",
            "\u001b[0;31mTypeError\u001b[0m: 'type' object does not support item assignment"
          ]
        }
      ]
    },
    {
      "cell_type": "code",
      "source": [
        "list1.append(10)\n",
        "list1"
      ],
      "metadata": {
        "colab": {
          "base_uri": "https://localhost:8080/"
        },
        "id": "Z1c-koZgWdae",
        "outputId": "6d80ad7b-17a4-44df-cb2a-4a473ea3e996"
      },
      "execution_count": null,
      "outputs": [
        {
          "output_type": "execute_result",
          "data": {
            "text/plain": [
              "[10]"
            ]
          },
          "metadata": {},
          "execution_count": 118
        }
      ]
    },
    {
      "cell_type": "code",
      "source": [
        "list1.append(\"kim\")\n",
        "list1"
      ],
      "metadata": {
        "colab": {
          "base_uri": "https://localhost:8080/"
        },
        "id": "Pn2EPwFlWo9N",
        "outputId": "ba1e592d-4e90-4e5f-b99c-96098301fa2c"
      },
      "execution_count": null,
      "outputs": [
        {
          "output_type": "execute_result",
          "data": {
            "text/plain": [
              "[10, 'kim']"
            ]
          },
          "metadata": {},
          "execution_count": 120
        }
      ]
    },
    {
      "cell_type": "code",
      "source": [
        "list1.append(100.56)\n",
        "list1"
      ],
      "metadata": {
        "colab": {
          "base_uri": "https://localhost:8080/"
        },
        "id": "G9PQChu2Wx5I",
        "outputId": "3ee3c2cb-274e-4221-9893-44721ce00c99"
      },
      "execution_count": null,
      "outputs": [
        {
          "output_type": "execute_result",
          "data": {
            "text/plain": [
              "[10, 'kim', 100.56]"
            ]
          },
          "metadata": {},
          "execution_count": 121
        }
      ]
    },
    {
      "cell_type": "markdown",
      "source": [
        "# 함수\n",
        "- 특정한 작업을 수행하는 명령어의 모음\n",
        "- 데이터를 전달받을 수 있으며 호출자에게 반환\n",
        "- 내장함수 (print(), input(), len(), ...)\n",
        "- 사용자 정의 함수\n",
        "\n",
        "# 함수 사용의 장점\n",
        "- 중복 코드 제거\n",
        "- 작업을 간단한 작업으로 분해 가능\n",
        "- 재사용 가능\n",
        "- 가독성 증대\n",
        "- 유지보수 용이\n",
        "\n",
        "# 매개변수 (parameter)\n",
        "- 넘길 값(input)\n",
        "- 인수(argument)\n",
        "\n",
        "# : (범위 연산자) "
      ],
      "metadata": {
        "id": "J3X8zTirXCnT"
      }
    },
    {
      "cell_type": "code",
      "source": [
        "# 함수의 정의\n",
        "\n",
        "def say_hello(name):\n",
        "  print(\"안녕하세요!\")\n",
        "  print(name + \"님!\")"
      ],
      "metadata": {
        "id": "YcgZRphgW4gh"
      },
      "execution_count": null,
      "outputs": []
    },
    {
      "cell_type": "code",
      "source": [
        "# 함수의 호출\n",
        "\n",
        "say_hello(\"Park\")"
      ],
      "metadata": {
        "colab": {
          "base_uri": "https://localhost:8080/"
        },
        "id": "ia1x07bHYOb6",
        "outputId": "7449a84c-abae-48eb-c65f-99bcb00786e7"
      },
      "execution_count": null,
      "outputs": [
        {
          "output_type": "stream",
          "name": "stdout",
          "text": [
            "안녕하세요!\n",
            "Park님!\n"
          ]
        }
      ]
    },
    {
      "cell_type": "code",
      "source": [
        "say_hello (\"철수\")"
      ],
      "metadata": {
        "colab": {
          "base_uri": "https://localhost:8080/"
        },
        "id": "1la6nSfqYTZe",
        "outputId": "a78ac810-78c2-49ff-9ad9-8757e3a60baa"
      },
      "execution_count": null,
      "outputs": [
        {
          "output_type": "stream",
          "name": "stdout",
          "text": [
            "안녕하세요!\n",
            "철수님!\n"
          ]
        }
      ]
    },
    {
      "cell_type": "code",
      "source": [
        "say_hello (\"영희\")"
      ],
      "metadata": {
        "colab": {
          "base_uri": "https://localhost:8080/"
        },
        "id": "sqwtLAuYYaV-",
        "outputId": "b91fd637-28cb-45bd-9825-1dd351b4293b"
      },
      "execution_count": null,
      "outputs": [
        {
          "output_type": "stream",
          "name": "stdout",
          "text": [
            "안녕하세요!\n",
            "영희님!\n"
          ]
        }
      ]
    },
    {
      "cell_type": "code",
      "source": [
        "# 함수의 정의\n",
        "\n",
        "def say_hello2(name, msg):\n",
        "  print(\"안녕하세요~\")\n",
        "  print(name, \"님!\")\n",
        "  print(msg)"
      ],
      "metadata": {
        "id": "cTpPH1swYdJr"
      },
      "execution_count": null,
      "outputs": []
    },
    {
      "cell_type": "code",
      "source": [
        "say_hello2(\"Park\",\"오늘도 화이팅!!!\")"
      ],
      "metadata": {
        "colab": {
          "base_uri": "https://localhost:8080/"
        },
        "id": "NQy1k8C3Yt-z",
        "outputId": "b5d54240-b3fa-48aa-9761-22621066cbf5"
      },
      "execution_count": null,
      "outputs": [
        {
          "output_type": "stream",
          "name": "stdout",
          "text": [
            "안녕하세요~\n",
            "Park 님!\n",
            "오늘도 화이팅!!!\n"
          ]
        }
      ]
    },
    {
      "cell_type": "code",
      "source": [
        "say_hello2(100,\"오늘도 화이팅!!!\") # +의 경우 int+str 불가 (이경우 ,로 바꾸거나 형변환 필요)"
      ],
      "metadata": {
        "colab": {
          "base_uri": "https://localhost:8080/"
        },
        "id": "GKJbuhDtY74y",
        "outputId": "65fe5d6f-2711-4fdd-c2f1-ea7ec9d34c15"
      },
      "execution_count": null,
      "outputs": [
        {
          "output_type": "stream",
          "name": "stdout",
          "text": [
            "안녕하세요~\n",
            "100 님!\n",
            "오늘도 화이팅!!!\n"
          ]
        }
      ]
    },
    {
      "cell_type": "code",
      "source": [
        "def get_sum(start, end):\n",
        "  sum = 0\n",
        "\n",
        "  for i in range(start, end+1):\n",
        "    sum += i\n",
        "\n",
        "  print(sum)\n"
      ],
      "metadata": {
        "id": "MKGqKU3eY9V2"
      },
      "execution_count": null,
      "outputs": []
    },
    {
      "cell_type": "code",
      "source": [
        "get_sum(1,10)"
      ],
      "metadata": {
        "colab": {
          "base_uri": "https://localhost:8080/"
        },
        "id": "6vjlooj-ZehE",
        "outputId": "e6ec8e98-7755-408b-b90c-fc57116fe461"
      },
      "execution_count": null,
      "outputs": [
        {
          "output_type": "stream",
          "name": "stdout",
          "text": [
            "55\n"
          ]
        }
      ]
    },
    {
      "cell_type": "code",
      "source": [
        "def get_sum(start, end):\n",
        "  sum = 0 # 지역변수\n",
        "\n",
        "  for i in range(start, end+1):\n",
        "    sum += i\n",
        "\n",
        "  return sum # 지역변수 값이 내부에서 사라지기 전에 return"
      ],
      "metadata": {
        "id": "ZoJcbx-jZgyZ"
      },
      "execution_count": null,
      "outputs": []
    },
    {
      "cell_type": "code",
      "source": [
        "value = get_sum(1,10)\n",
        "value"
      ],
      "metadata": {
        "colab": {
          "base_uri": "https://localhost:8080/"
        },
        "id": "-XS3xAA9Z097",
        "outputId": "96579fad-9033-43ee-a086-5ee930fc3252"
      },
      "execution_count": null,
      "outputs": [
        {
          "output_type": "execute_result",
          "data": {
            "text/plain": [
              "55"
            ]
          },
          "metadata": {},
          "execution_count": 152
        }
      ]
    },
    {
      "cell_type": "code",
      "source": [
        "get_sum(1,20)"
      ],
      "metadata": {
        "colab": {
          "base_uri": "https://localhost:8080/"
        },
        "id": "Y2StjYAwZ59b",
        "outputId": "7df12055-c47d-4d4a-fe28-bc7a3fae3622"
      },
      "execution_count": null,
      "outputs": [
        {
          "output_type": "execute_result",
          "data": {
            "text/plain": [
              "210"
            ]
          },
          "metadata": {},
          "execution_count": 153
        }
      ]
    },
    {
      "cell_type": "markdown",
      "source": [
        "# 함수의 이름\n",
        "- 동사 or 동사+명사\n",
        "- 카멜 표기법 (SetName()) ... VB\n",
        "- 파스칼 표기법 (setName()) ... Java\n"
      ],
      "metadata": {
        "id": "H5MNMrR4aYV5"
      }
    }
  ]
}