{
  "nbformat": 4,
  "nbformat_minor": 0,
  "metadata": {
    "colab": {
      "provenance": [],
      "authorship_tag": "ABX9TyNtOk+4titpTYlGm9V0Q35G",
      "include_colab_link": true
    },
    "kernelspec": {
      "name": "python3",
      "display_name": "Python 3"
    },
    "language_info": {
      "name": "python"
    }
  },
  "cells": [
    {
      "cell_type": "markdown",
      "metadata": {
        "id": "view-in-github",
        "colab_type": "text"
      },
      "source": [
        "<a href=\"https://colab.research.google.com/github/Park-New-project/2022_AI_Study_Course/blob/main/%5BAI%5D_221020.ipynb\" target=\"_parent\"><img src=\"https://colab.research.google.com/assets/colab-badge.svg\" alt=\"Open In Colab\"/></a>"
      ]
    },
    {
      "cell_type": "markdown",
      "source": [
        "# 로그 함수\n",
        "- 지수 함수, 로그 함수 관계\n",
        "- y = loga(x)\n",
        "- y = -loga(x)\n",
        "- 두 그래프는 반전\n",
        "\n",
        "# 로그 함수\n",
        "- y = -loga(-x)\n",
        "- y = -loga(1-x)\n",
        "\n",
        "\n",
        "# 오차 그래프\n",
        "- 2진 분류 시 오차를 평가하는 그래프\n",
        "\n",
        "# y = -loga(x) 오차 그래프\n",
        "- 실제값 1 - 예측 1 : 오차 0\n",
        "- 실제값 1 - 예측 0 : 오차 무한대\n",
        "\n",
        "# y = -loga(1-x) 오차 그래프\n",
        "- 실제 값 0 - 예측 0 : 오차 0\n",
        "- 실제 값 0 - 예측 1 : 오차 무한대\n",
        "\n",
        "# 오차 함수\n",
        "- 2진 분류에서 model 하나 뽑아서 예측 값을 평가하는 함수"
      ],
      "metadata": {
        "id": "9iFIWgRAcvCE"
      }
    },
    {
      "cell_type": "markdown",
      "source": [
        "- 독립변수 x, 종속변수 y\n",
        "\n",
        "# 선형회귀\n",
        "- 단순선형회귀\n",
        "- 다중선형회귀\n",
        "\n",
        "# 가장 훌륭한 예측선\n",
        "- 최소한의 오차를 포함하는 예측선\n",
        "\n",
        "\n",
        "# 최소 제곱법\n",
        "- 기울기 a = (x-x평균)(y-y평균)의 합 / (x-x평균)^2 의 합\n",
        "- y절편 b = Y평균 - x평균 *a "
      ],
      "metadata": {
        "id": "BHfSHo-7cxBL"
      }
    },
    {
      "cell_type": "code",
      "execution_count": null,
      "metadata": {
        "id": "49et6O3_Ql1O",
        "colab": {
          "base_uri": "https://localhost:8080/"
        },
        "outputId": "06f74111-269e-4e87-f940-cd0185c8e0a5"
      },
      "outputs": [
        {
          "output_type": "stream",
          "name": "stdout",
          "text": [
            "X_mean 5.0\n",
            "Y_mean 90.5\n",
            "기울기 2.3\n"
          ]
        }
      ],
      "source": [
        "# X,Y를 이용하여 최소 제곱법으로 기울기 a 구하기\n",
        "\n",
        "import numpy as np\n",
        "\n",
        "X = np.array([2,4,6,8])\n",
        "Y = np.array([81,93,91,97])\n",
        "\n",
        "X_mean = X.mean()\n",
        "print(\"X_mean\", X_mean)\n",
        "Y_mean = Y.mean()\n",
        "print(\"Y_mean\", Y_mean)\n",
        "\n",
        "a = sum((X-X_mean)*(Y-Y_mean))/sum((X-X_mean)**2)\n",
        "print(\"기울기\", a)"
      ]
    },
    {
      "cell_type": "code",
      "source": [
        "b = Y_mean - X_mean *a\n",
        "print(\"y절편\",b)"
      ],
      "metadata": {
        "colab": {
          "base_uri": "https://localhost:8080/"
        },
        "id": "w1mDb7unflhZ",
        "outputId": "a3252faa-f54d-4733-e2a2-4fd7f29666b9"
      },
      "execution_count": null,
      "outputs": [
        {
          "output_type": "stream",
          "name": "stdout",
          "text": [
            "y절편 79.0\n"
          ]
        }
      ]
    },
    {
      "cell_type": "code",
      "source": [
        "import matplotlib.pyplot as plt\n",
        "\n",
        "plt.scatter(X,Y)\n",
        "plt.show()"
      ],
      "metadata": {
        "colab": {
          "base_uri": "https://localhost:8080/",
          "height": 265
        },
        "id": "nW_-uQS3h2QV",
        "outputId": "6b1ed8dd-a3ee-415d-9180-a231a8db1844"
      },
      "execution_count": null,
      "outputs": [
        {
          "output_type": "display_data",
          "data": {
            "text/plain": [
              "<Figure size 432x288 with 1 Axes>"
            ],
            "image/png": "[encoded data removed]"
          },
          "metadata": {
            "needs_background": "light"
          }
        }
      ]
    },
    {
      "cell_type": "code",
      "source": [
        "# 예측값 구하기\n",
        "# y = ax + b\n",
        "Y_pred = a * X + b\n",
        "Y_pred"
      ],
      "metadata": {
        "colab": {
          "base_uri": "https://localhost:8080/"
        },
        "id": "uGYFRhwIiTwY",
        "outputId": "04f704a9-24e4-4913-a452-94b2276a7fcb"
      },
      "execution_count": null,
      "outputs": [
        {
          "output_type": "execute_result",
          "data": {
            "text/plain": [
              "array([83.6, 88.2, 92.8, 97.4])"
            ]
          },
          "metadata": {},
          "execution_count": 24
        }
      ]
    },
    {
      "cell_type": "code",
      "source": [
        "import matplotlib.pyplot as plt\n",
        "\n",
        "plt.scatter(X,Y)\n",
        "plt.scatter(X, Y_pred)\n",
        "plt.show()"
      ],
      "metadata": {
        "colab": {
          "base_uri": "https://localhost:8080/",
          "height": 265
        },
        "id": "VqI0B1k6i0sH",
        "outputId": "a7f245d5-4771-477e-c9a9-d6c9b73892d3"
      },
      "execution_count": null,
      "outputs": [
        {
          "output_type": "display_data",
          "data": {
            "text/plain": [
              "<Figure size 432x288 with 1 Axes>"
            ],
            "image/png": "[encoded data removed]"
          },
          "metadata": {
            "needs_background": "light"
          }
        }
      ]
    },
    {
      "cell_type": "code",
      "source": [
        "import matplotlib.pyplot as plt\n",
        "\n",
        "plt.scatter(X,Y)\n",
        "plt.plot(X, Y_pred, c='orange')\n",
        "plt.show()"
      ],
      "metadata": {
        "colab": {
          "base_uri": "https://localhost:8080/",
          "height": 265
        },
        "id": "I74OzSp0i9UD",
        "outputId": "cb72127f-36ab-4d94-8252-aecec104c057"
      },
      "execution_count": null,
      "outputs": [
        {
          "output_type": "display_data",
          "data": {
            "text/plain": [
              "<Figure size 432x288 with 1 Axes>"
            ],
            "image/png": "[encoded data removed]"
          },
          "metadata": {
            "needs_background": "light"
          }
        }
      ]
    },
    {
      "cell_type": "markdown",
      "source": [
        "# 평균 제곱 오차 (MSE)\n",
        "- 주어진 선의 오차를 평가\n",
        "- 오차의 합을 n 으로 나눈 것\n",
        "- 단순한 데이터가 아니므로 최소 제곱법에 한계가 있으므로 사용\n",
        "- 오차가 줄어드는 방향으로 a, b 값 부여\n",
        "- 경사하강법"
      ],
      "metadata": {
        "id": "GDpSk6g8jZ0N"
      }
    },
    {
      "cell_type": "code",
      "source": [
        "# X,Y를 이용하여 평균 제곱 오차를 구하기\n",
        "\n",
        "import numpy as np\n",
        "\n",
        "X = np.array([2,4,6,8])\n",
        "Y = np.array([81,93,91,97])\n",
        "\n",
        "a= 3\n",
        "b= 76\n",
        "\n",
        "Y_pred = a * X + b\n",
        "n=len(X)\n",
        "\n",
        "MSE = 1/n*((Y-Y_pred)**2).sum()\n",
        "print(\"MSE\", MSE)"
      ],
      "metadata": {
        "colab": {
          "base_uri": "https://localhost:8080/"
        },
        "id": "8Z20M6D7jP4A",
        "outputId": "fb9a4b3b-07a0-4b33-94b7-e7e9e462eab8"
      },
      "execution_count": null,
      "outputs": [
        {
          "output_type": "stream",
          "name": "stdout",
          "text": [
            "MSE 11.0\n"
          ]
        }
      ]
    },
    {
      "cell_type": "markdown",
      "source": [
        "# 경사하강법\n",
        "- 최솟값 : 꼭짓점 -> 기울기 0 -> 편미분\n",
        "- 오차함수\n",
        "- 전부 미분하면 시간이 많이 걸리니까 편미분\n",
        "\n",
        "# 학습률\n",
        "- 기울기가 0이 아니면 오차가 있다\n",
        "- 반복적으로 기울기 a를 변화시켜 m을 찾아냄\n",
        "- 학습률이 너무 크면 반대로 치솟음 (수렴하지않고 발산함)\n",
        "- 적절한 학습률 찾아야함"
      ],
      "metadata": {
        "id": "1Bv3xOFllnld"
      }
    },
    {
      "cell_type": "code",
      "source": [
        "import numpy as np\n",
        "\n",
        "# 리스트 컴프레이션\n",
        "data = [[2,81],[4,93],[6,91],[8,97]]\n",
        "data"
      ],
      "metadata": {
        "colab": {
          "base_uri": "https://localhost:8080/"
        },
        "id": "cXuma7YZlJ-x",
        "outputId": "3dcbb97e-219a-4551-b60d-e53e26f3dc06"
      },
      "execution_count": null,
      "outputs": [
        {
          "output_type": "execute_result",
          "data": {
            "text/plain": [
              "[[2, 81], [4, 93], [6, 91], [8, 97]]"
            ]
          },
          "metadata": {},
          "execution_count": 50
        }
      ]
    },
    {
      "cell_type": "code",
      "source": [
        "x_data = [i[0] for i in data] # 리스트 컴프레이션\n",
        "print(x_data)\n",
        "y_data = [i[1] for i in data] # 리스트 컴프레이션\n",
        "print(y_data)"
      ],
      "metadata": {
        "colab": {
          "base_uri": "https://localhost:8080/"
        },
        "id": "2TRgNQcqtHYs",
        "outputId": "28dd8335-6e76-475d-f090-e77f5c84c673"
      },
      "execution_count": null,
      "outputs": [
        {
          "output_type": "stream",
          "name": "stdout",
          "text": [
            "[2, 4, 6, 8]\n",
            "[81, 93, 91, 97]\n"
          ]
        }
      ]
    },
    {
      "cell_type": "code",
      "source": [
        "X = np.array(x_data)\n",
        "Y = np.array(y_data)\n",
        "print(X)\n",
        "print(Y)"
      ],
      "metadata": {
        "colab": {
          "base_uri": "https://localhost:8080/"
        },
        "id": "NkDVlbf5tMsv",
        "outputId": "57257851-aaac-452a-977d-93fade0fd6be"
      },
      "execution_count": null,
      "outputs": [
        {
          "output_type": "stream",
          "name": "stdout",
          "text": [
            "[2 4 6 8]\n",
            "[81 93 91 97]\n"
          ]
        }
      ]
    },
    {
      "cell_type": "code",
      "source": [
        "a=0\n",
        "b=0\n",
        "lr = 0.03 # 보폭 learning_rate\n",
        "epochs = 2001 # 반복횟수"
      ],
      "metadata": {
        "id": "8s8wTBK4tpAS"
      },
      "execution_count": null,
      "outputs": []
    },
    {
      "cell_type": "code",
      "source": [
        "# 경사하강법\n",
        "for i in range(epochs):\n",
        "    # y = ax+b\n",
        "    Y_pred = a * X +b\n",
        "\n",
        "    # 오차 : 실제값 - 예측값\n",
        "    error = Y - Y_pred\n",
        "\n",
        "    # 오차 함수를 a로 편미분\n",
        "    a_diff = -(2/len(X)) * sum(X * error)\n",
        "    \n",
        "    # 오차 함수를 b로 편미분\n",
        "    b_diff = -(2/len(X)) * sum(error)\n",
        "\n",
        "    # 새로운 a, b 적용\n",
        "    a = a - lr * a_diff\n",
        "    b = b - lr * b_diff\n",
        "\n",
        "    if i % 100 ==0:\n",
        "        print(\"epochs = %.f, 기울기 = %.04f, 절편 = %.04f\"%(i,a,b))"
      ],
      "metadata": {
        "colab": {
          "base_uri": "https://localhost:8080/"
        },
        "id": "G47x_xDruAL9",
        "outputId": "82ae3e9f-e5ca-48d6-867b-6c3249e30789"
      },
      "execution_count": null,
      "outputs": [
        {
          "output_type": "stream",
          "name": "stdout",
          "text": [
            "epochs = 0, 기울기 = 27.8400, 절편 = 5.4300\n",
            "epochs = 100, 기울기 = 7.0739, 절편 = 50.5117\n",
            "epochs = 200, 기울기 = 4.0960, 절편 = 68.2822\n",
            "epochs = 300, 기울기 = 2.9757, 절편 = 74.9678\n",
            "epochs = 400, 기울기 = 2.5542, 절편 = 77.4830\n",
            "epochs = 500, 기울기 = 2.3956, 절편 = 78.4293\n",
            "epochs = 600, 기울기 = 2.3360, 절편 = 78.7853\n",
            "epochs = 700, 기울기 = 2.3135, 절편 = 78.9192\n",
            "epochs = 800, 기울기 = 2.3051, 절편 = 78.9696\n",
            "epochs = 900, 기울기 = 2.3019, 절편 = 78.9886\n",
            "epochs = 1000, 기울기 = 2.3007, 절편 = 78.9957\n",
            "epochs = 1100, 기울기 = 2.3003, 절편 = 78.9984\n",
            "epochs = 1200, 기울기 = 2.3001, 절편 = 78.9994\n",
            "epochs = 1300, 기울기 = 2.3000, 절편 = 78.9998\n",
            "epochs = 1400, 기울기 = 2.3000, 절편 = 78.9999\n",
            "epochs = 1500, 기울기 = 2.3000, 절편 = 79.0000\n",
            "epochs = 1600, 기울기 = 2.3000, 절편 = 79.0000\n",
            "epochs = 1700, 기울기 = 2.3000, 절편 = 79.0000\n",
            "epochs = 1800, 기울기 = 2.3000, 절편 = 79.0000\n",
            "epochs = 1900, 기울기 = 2.3000, 절편 = 79.0000\n",
            "epochs = 2000, 기울기 = 2.3000, 절편 = 79.0000\n"
          ]
        }
      ]
    },
    {
      "cell_type": "code",
      "source": [
        "Y_pred = a * X +b\n",
        "\n",
        "import matplotlib.pyplot as plt\n",
        "\n",
        "plt.scatter(X,Y,c=\"red\")\n",
        "plt.scatter(X,Y_pred,c=\"blue\")\n",
        "plt.plot(X,Y_pred,c=\"green\")\n",
        "\n",
        "plt.show()"
      ],
      "metadata": {
        "colab": {
          "base_uri": "https://localhost:8080/",
          "height": 265
        },
        "id": "7dnCrIHhvQdM",
        "outputId": "67bf926b-30f5-4de1-9aae-982777d0a10f"
      },
      "execution_count": null,
      "outputs": [
        {
          "output_type": "display_data",
          "data": {
            "text/plain": [
              "<Figure size 432x288 with 1 Axes>"
            ],
            "image/png": "[encoded data removed]"
          },
          "metadata": {
            "needs_background": "light"
          }
        }
      ]
    },
    {
      "cell_type": "markdown",
      "source": [
        "# 다중 선형 회귀\n",
        "- y = a1x1+a2x2+b\n"
      ],
      "metadata": {
        "id": "YiVbwW1owZMR"
      }
    },
    {
      "cell_type": "code",
      "source": [
        "import numpy as np\n",
        "\n",
        "x1 = np.array([2,4,6,8])\n",
        "x2 = np.array([0,4,2,3])\n",
        "y = np.array([81,93,91,97])"
      ],
      "metadata": {
        "id": "0H84UyJCwIcV"
      },
      "execution_count": null,
      "outputs": []
    },
    {
      "cell_type": "code",
      "source": [
        "import matplotlib.pyplot as plt\n",
        "from mpl_toolkits import mplot3d\n",
        "\n",
        "ax = plt.axes(projection = '3d')\n",
        "ax.set_xlabel('study_hours')\n",
        "ax.set_ylabel('private_class')\n",
        "ax.set_zlabel('score')\n",
        "\n",
        "ax.scatter(x1,x2,y)"
      ],
      "metadata": {
        "colab": {
          "base_uri": "https://localhost:8080/",
          "height": 266
        },
        "id": "SybwFQlGxAF8",
        "outputId": "a2d59844-b2fd-4a36-9320-127f07518df6"
      },
      "execution_count": null,
      "outputs": [
        {
          "output_type": "execute_result",
          "data": {
            "text/plain": [
              "<mpl_toolkits.mplot3d.art3d.Path3DCollection at 0x7f2b63d210d0>"
            ]
          },
          "metadata": {},
          "execution_count": 60
        },
        {
          "output_type": "display_data",
          "data": {
            "text/plain": [
              "<Figure size 432x288 with 1 Axes>"
            ],
            "image/png": "[encoded data removed]"
          },
          "metadata": {
            "needs_background": "light"
          }
        }
      ]
    }
  ]
}